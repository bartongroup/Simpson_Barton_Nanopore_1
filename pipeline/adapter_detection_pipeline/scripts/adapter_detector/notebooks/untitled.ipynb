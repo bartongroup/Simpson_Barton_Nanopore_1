{
 "cells": [
  {
   "cell_type": "code",
   "execution_count": 1,
   "metadata": {},
   "outputs": [
    {
     "data": {
      "image/png": "[encoded data removed]",
      "text/plain": [
       "<Figure size 360x72 with 1 Axes>"
      ]
     },
     "metadata": {},
     "output_type": "display_data"
    }
   ],
   "source": [
    "import sys\n",
    "import re\n",
    "import os\n",
    "from glob import glob\n",
    "import random\n",
    "\n",
    "import numpy as np\n",
    "import pandas as pd\n",
    "import matplotlib.pyplot as plt\n",
    "from matplotlib.colors import ListedColormap\n",
    "import seaborn as sns\n",
    "\n",
    "## Default plotting params\n",
    "\n",
    "%matplotlib inline\n",
    "sns.set(font='Arial')\n",
    "plt.rcParams['svg.fonttype'] = 'none'\n",
    "style = sns.axes_style('white')\n",
    "style.update(sns.axes_style('ticks'))\n",
    "style['xtick.major.size'] = 2\n",
    "style['ytick.major.size'] = 2\n",
    "sns.set(font_scale=2, style=style)\n",
    "pal = sns.color_palette(['#0072b2', '#d55e00', '#009e73', '#f0e442', '#cc79a7'])\n",
    "cmap = ListedColormap(pal.as_hex())\n",
    "sns.set_palette(pal)\n",
    "sns.palplot(pal)\n",
    "plt.show()"
   ]
  },
  {
   "cell_type": "code",
   "execution_count": null,
   "metadata": {},
   "outputs": [],
   "source": [
    "%%bash\n",
    "nanopolish/nanopolish eventalign --help"
   ]
  }
 ],
 "metadata": {
  "kernelspec": {
   "display_name": "Python [conda env:r35py36]",
   "language": "python",
   "name": "conda-env-r35py36-py"
  },
  "language_info": {
   "codemirror_mode": {
    "name": "ipython",
    "version": 3
   },
   "file_extension": ".py",
   "mimetype": "text/x-python",
   "name": "python",
   "nbconvert_exporter": "python",
   "pygments_lexer": "ipython3",
   "version": "3.6.7"
  }
 },
 "nbformat": 4,
 "nbformat_minor": 2
}
