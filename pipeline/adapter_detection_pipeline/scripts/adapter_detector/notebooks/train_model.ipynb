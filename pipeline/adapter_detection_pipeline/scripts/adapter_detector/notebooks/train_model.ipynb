{
 "cells": [
  {
   "cell_type": "markdown",
   "metadata": {},
   "source": []
  },
  {
   "cell_type": "code",
   "execution_count": 6,
   "metadata": {},
   "outputs": [
    {
     "name": "stdout",
     "output_type": "stream",
     "text": [
      "env: KERAS_BACKEND=tensorflow\n"
     ]
    },
    {
     "data": {
      "image/png": "[encoded data removed]",
      "text/plain": [
       "<Figure size 360x72 with 1 Axes>"
      ]
     },
     "metadata": {},
     "output_type": "display_data"
    }
   ],
   "source": [
    "import sys\n",
    "import os\n",
    "from glob import glob\n",
    "import random\n",
    "\n",
    "import numpy as np\n",
    "import pandas as pd\n",
    "from scipy import stats\n",
    "import matplotlib.pyplot as plt\n",
    "from matplotlib.colors import ListedColormap\n",
    "import seaborn as sns\n",
    "\n",
    "import pysam\n",
    "import h5py\n",
    "from joblib import Parallel, delayed\n",
    "\n",
    "%env KERAS_BACKEND tensorflow\n",
    "import tensorflow as tf\n",
    "from keras import (\n",
    "    models, layers, activations,\n",
    "    optimizers, losses, callbacks\n",
    ")\n",
    "import keras.backend as K\n",
    "import keras\n",
    "\n",
    "from sklearn.metrics import (\n",
    "    roc_curve, precision_recall_curve, roc_auc_score\n",
    ")\n",
    "from sklearn.model_selection import KFold, train_test_split\n",
    "from sklearn.utils import shuffle\n",
    "\n",
    "from adapter_detector.utils import (\n",
    "    get_fast5_read_id_mapping\n",
    ")\n",
    "from adapter_detector.signal import (\n",
    "    get_fast5_fiveprime\n",
    ")\n",
    "from adapter_detector.train import (\n",
    "    generate_training_data,\n",
    "    build_model, train_model,\n",
    "    SquiggleSequence\n",
    ")\n",
    "\n",
    "## Default plotting params\n",
    "\n",
    "%matplotlib inline\n",
    "sns.set(font='Arial')\n",
    "plt.rcParams['svg.fonttype'] = 'none'\n",
    "style = sns.axes_style('white')\n",
    "style.update(sns.axes_style('ticks'))\n",
    "style['xtick.major.size'] = 2\n",
    "style['ytick.major.size'] = 2\n",
    "sns.set(font_scale=2, style=style)\n",
    "pal = sns.color_palette(['#0072b2', '#d55e00', '#009e73', '#f0e442', '#cc79a7'])\n",
    "cmap = ListedColormap(pal.as_hex())\n",
    "sns.set_palette(pal)\n",
    "sns.palplot(pal)\n",
    "plt.show()"
   ]
  },
  {
   "cell_type": "code",
   "execution_count": 8,
   "metadata": {},
   "outputs": [
    {
     "data": {
      "text/plain": [
       "'2.2.4'"
      ]
     },
     "execution_count": 8,
     "metadata": {},
     "output_type": "execute_result"
    }
   ],
   "source": [
    "keras.__version__"
   ]
  },
  {
   "cell_type": "code",
   "execution_count": 9,
   "metadata": {},
   "outputs": [
    {
     "data": {
      "text/plain": [
       "'1.10.0'"
      ]
     },
     "execution_count": 9,
     "metadata": {},
     "output_type": "execute_result"
    }
   ],
   "source": [
    "tf.__version__"
   ]
  },
  {
   "cell_type": "markdown",
   "metadata": {},
   "source": [
    "First we need to create the mapping between read ids and Fast5 files so that we can pair full length reads from the bam files with the signal that they originated from. This information is present in the sequencing summaries file:"
   ]
  },
  {
   "cell_type": "code",
   "execution_count": 3,
   "metadata": {},
   "outputs": [],
   "source": [
    "read_id_filemap = get_fast5_read_id_mapping(\n",
    "    '/cluster/ggs_lab/mtparker/analysis_notebooks/fiveprime_adapter_identification/data/201804_col0_5adapterLIG/5prime_adapter_rebasecalled/',\n",
    "    '/cluster/ggs_lab/mtparker/analysis_notebooks/fiveprime_adapter_identification/data/201804_col0_5adapterLIG/5prime_adapter_fast5s/'\n",
    ")"
   ]
  },
  {
   "cell_type": "code",
   "execution_count": 2,
   "metadata": {},
   "outputs": [],
   "source": [
    "positive_bam_fn = '/cluster/gjb_lab/nschurch/git/NS_Nanopore_paper/manuscript/supplementary/fulllength_data/201902_col0_2916_5adapter_exp2_fulllength.bam'\n",
    "negative_bam_fn = '/cluster/gjb_lab/nschurch/git/NS_Nanopore_paper/manuscript/supplementary/fulllength_data/201902_col0_2916_5adapter_exp2_short_relaxed.bam'\n"
   ]
  },
  {
   "cell_type": "code",
   "execution_count": 3,
   "metadata": {},
   "outputs": [
    {
     "name": "stdout",
     "output_type": "stream",
     "text": [
      "72083\n"
     ]
    }
   ],
   "source": [
    "with pysam.AlignmentFile(positive_bam_fn) as p:\n",
    "    print(p.mapped)"
   ]
  },
  {
   "cell_type": "code",
   "execution_count": 4,
   "metadata": {},
   "outputs": [
    {
     "name": "stdout",
     "output_type": "stream",
     "text": [
      "151289\n"
     ]
    }
   ],
   "source": [
    "with pysam.AlignmentFile(negative_bam_fn) as n:\n",
    "    print(n.mapped)"
   ]
  },
  {
   "cell_type": "code",
   "execution_count": 5,
   "metadata": {},
   "outputs": [
    {
     "ename": "NameError",
     "evalue": "name 'keras' is not defined",
     "output_type": "error",
     "traceback": [
      "\u001b[0;31m---------------------------------------------------------------------------\u001b[0m",
      "\u001b[0;31mNameError\u001b[0m                                 Traceback (most recent call last)",
      "\u001b[0;32m<ipython-input-5-5e6394314284>\u001b[0m in \u001b[0;36m<module>\u001b[0;34m\u001b[0m\n\u001b[0;32m----> 1\u001b[0;31m \u001b[0mkeras\u001b[0m\u001b[0;34m\u001b[0m\u001b[0;34m\u001b[0m\u001b[0m\n\u001b[0m",
      "\u001b[0;31mNameError\u001b[0m: name 'keras' is not defined"
     ]
    }
   ],
   "source": [
    "keras"
   ]
  },
  {
   "cell_type": "markdown",
   "metadata": {},
   "source": [
    "Now we can extract the 5' end signals (last 3000 signal measurements) from each Fast5 file. We also extract a bunch of internal signals to use as negative examples as well"
   ]
  },
  {
   "cell_type": "code",
   "execution_count": 6,
   "metadata": {},
   "outputs": [
    {
     "name": "stderr",
     "output_type": "stream",
     "text": [
      "/cluster/ggs_lab/mtparker/.conda/envs/adapter_pipeline/lib/python3.6/site-packages/joblib/externals/loky/process_executor.py:706: UserWarning: A worker stopped while some jobs were given to the executor. This can be caused by a too short worker timeout or by a memory leak.\n",
      "  \"timeout or by a memory leak.\", UserWarning\n",
      "/cluster/ggs_lab/mtparker/.conda/envs/adapter_pipeline/lib/python3.6/site-packages/joblib/externals/loky/process_executor.py:706: UserWarning: A worker stopped while some jobs were given to the executor. This can be caused by a too short worker timeout or by a memory leak.\n",
      "  \"timeout or by a memory leak.\", UserWarning\n",
      "/cluster/ggs_lab/mtparker/.conda/envs/adapter_pipeline/lib/python3.6/site-packages/joblib/externals/loky/process_executor.py:706: UserWarning: A worker stopped while some jobs were given to the executor. This can be caused by a too short worker timeout or by a memory leak.\n",
      "  \"timeout or by a memory leak.\", UserWarning\n",
      "/cluster/ggs_lab/mtparker/.conda/envs/adapter_pipeline/lib/python3.6/site-packages/joblib/externals/loky/process_executor.py:706: UserWarning: A worker stopped while some jobs were given to the executor. This can be caused by a too short worker timeout or by a memory leak.\n",
      "  \"timeout or by a memory leak.\", UserWarning\n",
      "/cluster/ggs_lab/mtparker/.conda/envs/adapter_pipeline/lib/python3.6/site-packages/joblib/externals/loky/process_executor.py:706: UserWarning: A worker stopped while some jobs were given to the executor. This can be caused by a too short worker timeout or by a memory leak.\n",
      "  \"timeout or by a memory leak.\", UserWarning\n",
      "/cluster/ggs_lab/mtparker/.conda/envs/adapter_pipeline/lib/python3.6/site-packages/joblib/externals/loky/process_executor.py:706: UserWarning: A worker stopped while some jobs were given to the executor. This can be caused by a too short worker timeout or by a memory leak.\n",
      "  \"timeout or by a memory leak.\", UserWarning\n"
     ]
    }
   ],
   "source": [
    "def get_fiveprime_for_reads_in_bam(bam_fn, read_id_filemap, size=3000, internal=False):\n",
    "    with pysam.AlignmentFile(bam_fn) as bam:\n",
    "        signals = Parallel(n_jobs=16)(\n",
    "            delayed(get_fast5_fiveprime)(\n",
    "                r.query_name, read_id_filemap[r.query_name], size, internal)\n",
    "            for r in bam.fetch()\n",
    "        )\n",
    "    if internal:\n",
    "        read_ids, sig_lens, fiveprime_signals, internal_signals = zip(*signals)\n",
    "        internal_signals = [x for x in internal_signals if x is not None and len(x) == size]\n",
    "        return np.asarray(fiveprime_signals), np.asarray(internal_signals)\n",
    "    else:\n",
    "        read_ids, sig_lens, fiveprime_signals = zip(*signals)\n",
    "        return np.asarray(fiveprime_signals)\n",
    "\n",
    "pos_signals = get_fiveprime_for_reads_in_bam(\n",
    "    positive_bam_fn, read_id_filemap, size=3000, internal=False)\n",
    "neg_signals, neg_signals_internal = get_fiveprime_for_reads_in_bam(\n",
    "    negative_bam_fn, read_id_filemap, size=3000, internal=True)"
   ]
  },
  {
   "cell_type": "code",
   "execution_count": 9,
   "metadata": {},
   "outputs": [],
   "source": [
    "def write_to_hdf5(h5_fn, pos_signals, neg_signals, neg_signals_internal):\n",
    "    with h5py.File(h5_fn, 'w') as f:\n",
    "        f.create_dataset('pos_signals', data=pos_signals)\n",
    "        f.create_dataset('neg_signals', data=neg_signals)\n",
    "        f.create_dataset('neg_internal_signals', data=neg_signals_internal)"
   ]
  },
  {
   "cell_type": "code",
   "execution_count": 8,
   "metadata": {},
   "outputs": [],
   "source": [
    "write_to_hdf5(\n",
    "    'data/training_data_round1.h5',\n",
    "    pos_signals, neg_signals, neg_signals_internal\n",
    ")"
   ]
  },
  {
   "cell_type": "code",
   "execution_count": 2,
   "metadata": {},
   "outputs": [
    {
     "name": "stdout",
     "output_type": "stream",
     "text": [
      "Reading in HDF data\n",
      "Splitting training and test datasets\n",
      "Building Sequence generators\n"
     ]
    }
   ],
   "source": [
    "EPOCHS = 100\n",
    "BATCH_SIZE = 128\n",
    "STEPS_PER_EPOCH = 100\n",
    "VAL_STEPS_PER_EPOCH = 20\n",
    "\n",
    "train_gen, val_gen, test_data, _ = generate_training_data(\n",
    "    'data/training_data_round1.h5',\n",
    "    batch_size=BATCH_SIZE,\n",
    "    steps_per_epoch=STEPS_PER_EPOCH,\n",
    "    val_steps_per_epoch=VAL_STEPS_PER_EPOCH\n",
    ")"
   ]
  },
  {
   "cell_type": "code",
   "execution_count": 3,
   "metadata": {},
   "outputs": [
    {
     "name": "stdout",
     "output_type": "stream",
     "text": [
      "Epoch 1/100\n",
      " - 28s - loss: 0.6617 - val_loss: 0.5381\n",
      "Epoch 2/100\n",
      " - 23s - loss: 0.4670 - val_loss: 0.3693\n",
      "Epoch 3/100\n",
      " - 24s - loss: 0.3580 - val_loss: 0.3059\n",
      "Epoch 4/100\n",
      " - 24s - loss: 0.3151 - val_loss: 0.3837\n",
      "Epoch 5/100\n",
      " - 24s - loss: 0.2955 - val_loss: 0.2756\n",
      "Epoch 6/100\n",
      " - 25s - loss: 0.2622 - val_loss: 0.2450\n",
      "Epoch 7/100\n",
      " - 24s - loss: 0.2575 - val_loss: 0.2204\n",
      "Epoch 8/100\n",
      " - 25s - loss: 0.2550 - val_loss: 0.2049\n",
      "Epoch 9/100\n",
      " - 25s - loss: 0.2428 - val_loss: 0.2220\n",
      "Epoch 10/100\n",
      " - 25s - loss: 0.2398 - val_loss: 0.5926\n",
      "Epoch 11/100\n",
      " - 25s - loss: 0.2211 - val_loss: 0.1985\n",
      "Epoch 12/100\n",
      " - 25s - loss: 0.2301 - val_loss: 0.1986\n",
      "Epoch 13/100\n",
      " - 25s - loss: 0.2088 - val_loss: 0.2183\n",
      "Epoch 14/100\n",
      " - 26s - loss: 0.2146 - val_loss: 0.2813\n",
      "Epoch 15/100\n",
      " - 26s - loss: 0.2164 - val_loss: 0.2068\n",
      "Epoch 16/100\n",
      " - 26s - loss: 0.2099 - val_loss: 0.1782\n",
      "Epoch 17/100\n",
      " - 26s - loss: 0.2070 - val_loss: 0.1644\n",
      "Epoch 18/100\n",
      " - 26s - loss: 0.2100 - val_loss: 0.1821\n",
      "Epoch 19/100\n",
      " - 26s - loss: 0.1938 - val_loss: 0.1737\n",
      "Epoch 20/100\n",
      " - 26s - loss: 0.2001 - val_loss: 0.1784\n",
      "Epoch 21/100\n",
      " - 26s - loss: 0.2091 - val_loss: 0.1756\n",
      "Epoch 22/100\n",
      " - 26s - loss: 0.2050 - val_loss: 0.1917\n"
     ]
    }
   ],
   "source": [
    "model, history = train_model(\n",
    "    model, train_gen, val_gen,\n",
    "    epochs=EPOCHS,\n",
    "    steps_per_epoch=STEPS_PER_EPOCH,\n",
    "    val_steps_per_epoch=VAL_STEPS_PER_EPOCH\n",
    ")"
   ]
  },
  {
   "cell_type": "code",
   "execution_count": 4,
   "metadata": {},
   "outputs": [],
   "source": [
    "X_test, y_test = test_data\n",
    "y_pred = model.predict(X_test)"
   ]
  },
  {
   "cell_type": "code",
   "execution_count": 5,
   "metadata": {},
   "outputs": [
    {
     "name": "stdout",
     "output_type": "stream",
     "text": [
      "0.89993083 0.033291718684977115 0.7541961437092524\n"
     ]
    },
    {
     "data": {
      "image/png": "[encoded data removed]",
      "text/plain": [
       "<Figure size 360x360 with 1 Axes>"
      ]
     },
     "metadata": {
      "needs_background": "light"
     },
     "output_type": "display_data"
    }
   ],
   "source": [
    "fpr, tpr, thresh = roc_curve(y_test, y_pred)\n",
    "i = len(thresh) - np.searchsorted(thresh[::-1], 0.9)\n",
    "print(thresh[i], fpr[i], tpr[i])\n",
    "fig, ax = plt.subplots(figsize=(5, 5))\n",
    "ax.plot(fpr, tpr, color=pal[0], lw=2, label='AUC={:.3f}'.format(roc_auc_score(y_test, y_pred)))\n",
    "ax.plot([0, 1], [0, 1], color='#555555', ls='--')\n",
    "plt.legend()\n",
    "plt.show()"
   ]
  },
  {
   "cell_type": "code",
   "execution_count": 6,
   "metadata": {},
   "outputs": [
    {
     "data": {
      "image/png": "[encoded data removed]",
      "text/plain": [
       "<Figure size 576x360 with 1 Axes>"
      ]
     },
     "metadata": {
      "needs_background": "light"
     },
     "output_type": "display_data"
    }
   ],
   "source": [
    "fig, ax = plt.subplots(figsize=(8, 5))\n",
    "ax.hist(y_pred[y_test == 1], bins=np.linspace(0, 1, 101), color=pal[0], alpha=0.5)\n",
    "ax.hist(y_pred[y_test == 0], bins=np.linspace(0, 1, 101), color=pal[1], alpha=0.5)\n",
    "plt.show()"
   ]
  },
  {
   "cell_type": "code",
   "execution_count": 7,
   "metadata": {},
   "outputs": [],
   "source": [
    "# use the existing model to remove false negatives from BLAST\n",
    "\n",
    "with h5py.File('data/training_data_round1.h5') as f:\n",
    "    pos_signals = f['pos_signals'][:]\n",
    "    neg_signals = f['neg_signals'][:]\n",
    "    neg_signals_internal = f['neg_internal_signals'][:]\n",
    "    \n",
    "preds = model.predict(neg_signals.reshape(-1, 3000, 1)).squeeze()\n",
    "neg_signals_filt = neg_signals[preds < 0.5]"
   ]
  },
  {
   "cell_type": "code",
   "execution_count": 10,
   "metadata": {},
   "outputs": [],
   "source": [
    "write_to_hdf5(\n",
    "    'data/training_data_round2.h5',\n",
    "    pos_signals, neg_signals_filt, neg_signals_internal\n",
    ")"
   ]
  },
  {
   "cell_type": "code",
   "execution_count": 12,
   "metadata": {},
   "outputs": [
    {
     "name": "stdout",
     "output_type": "stream",
     "text": [
      "(72083, 3000)\n",
      "(123739, 3000)\n"
     ]
    }
   ],
   "source": [
    "with h5py.File('data/training_data_round2.h5') as f:\n",
    "    print(f['pos_signals'].shape)\n",
    "    print(f['neg_signals'].shape)"
   ]
  },
  {
   "cell_type": "code",
   "execution_count": 11,
   "metadata": {},
   "outputs": [
    {
     "name": "stdout",
     "output_type": "stream",
     "text": [
      "Reading in HDF data\n",
      "Splitting training and test datasets\n",
      "Building Sequence generators\n",
      "Epoch 1/100\n",
      " - 33s - loss: 0.5769 - val_loss: 0.4159\n",
      "Epoch 2/100\n",
      " - 26s - loss: 0.3923 - val_loss: 0.3292\n",
      "Epoch 3/100\n",
      " - 26s - loss: 0.2839 - val_loss: 0.2378\n",
      "Epoch 4/100\n",
      " - 26s - loss: 0.2272 - val_loss: 0.2264\n",
      "Epoch 5/100\n",
      " - 26s - loss: 0.1843 - val_loss: 0.2926\n",
      "Epoch 6/100\n",
      " - 26s - loss: 0.1446 - val_loss: 0.2128\n",
      "Epoch 7/100\n",
      " - 25s - loss: 0.1355 - val_loss: 0.1220\n",
      "Epoch 8/100\n",
      " - 26s - loss: 0.1289 - val_loss: 0.1180\n",
      "Epoch 9/100\n",
      " - 26s - loss: 0.1106 - val_loss: 0.1059\n",
      "Epoch 10/100\n",
      " - 26s - loss: 0.1182 - val_loss: 0.1946\n",
      "Epoch 11/100\n",
      " - 25s - loss: 0.1023 - val_loss: 0.1340\n",
      "Epoch 12/100\n",
      " - 26s - loss: 0.1017 - val_loss: 0.0999\n",
      "Epoch 13/100\n",
      " - 26s - loss: 0.0948 - val_loss: 0.1006\n",
      "Epoch 14/100\n",
      " - 26s - loss: 0.0946 - val_loss: 0.0981\n",
      "Epoch 15/100\n",
      " - 26s - loss: 0.0876 - val_loss: 0.0974\n",
      "Epoch 16/100\n",
      " - 26s - loss: 0.0897 - val_loss: 0.0802\n",
      "Epoch 17/100\n",
      " - 26s - loss: 0.0862 - val_loss: 0.1037\n",
      "Epoch 18/100\n",
      " - 27s - loss: 0.0826 - val_loss: 0.0840\n",
      "Epoch 19/100\n",
      " - 27s - loss: 0.0822 - val_loss: 0.0802\n",
      "Epoch 20/100\n",
      " - 27s - loss: 0.0742 - val_loss: 0.0755\n",
      "Epoch 21/100\n",
      " - 26s - loss: 0.0636 - val_loss: 0.0649\n",
      "Epoch 22/100\n",
      " - 27s - loss: 0.0753 - val_loss: 0.0837\n",
      "Epoch 23/100\n",
      " - 27s - loss: 0.0685 - val_loss: 0.0539\n",
      "Epoch 24/100\n",
      " - 26s - loss: 0.0745 - val_loss: 0.0613\n",
      "Epoch 25/100\n",
      " - 27s - loss: 0.0735 - val_loss: 0.0752\n",
      "Epoch 26/100\n",
      " - 27s - loss: 0.0663 - val_loss: 0.0651\n",
      "Epoch 27/100\n",
      " - 27s - loss: 0.0798 - val_loss: 0.0589\n",
      "Epoch 28/100\n",
      " - 27s - loss: 0.0686 - val_loss: 0.0592\n"
     ]
    }
   ],
   "source": [
    "train_gen, val_gen, test_data, _ = generate_training_data(\n",
    "    'data/training_data_round2.h5',\n",
    "    batch_size=BATCH_SIZE,\n",
    "    steps_per_epoch=STEPS_PER_EPOCH,\n",
    "    val_steps_per_epoch=VAL_STEPS_PER_EPOCH\n",
    ")\n",
    "model = build_model(3000)\n",
    "model, history = train_model(\n",
    "    model, train_gen, val_gen,\n",
    "    epochs=EPOCHS,\n",
    "    steps_per_epoch=STEPS_PER_EPOCH,\n",
    "    val_steps_per_epoch=VAL_STEPS_PER_EPOCH\n",
    ")"
   ]
  },
  {
   "cell_type": "code",
   "execution_count": 12,
   "metadata": {},
   "outputs": [],
   "source": [
    "X_test, y_test = test_data\n",
    "y_pred = model.predict(X_test)"
   ]
  },
  {
   "cell_type": "code",
   "execution_count": 13,
   "metadata": {},
   "outputs": [
    {
     "name": "stdout",
     "output_type": "stream",
     "text": [
      "0.8993835 0.004993757802746567 0.9429879317519767\n"
     ]
    },
    {
     "data": {
      "image/png": "[encoded data removed]",
      "text/plain": [
       "<Figure size 360x360 with 1 Axes>"
      ]
     },
     "metadata": {
      "needs_background": "light"
     },
     "output_type": "display_data"
    }
   ],
   "source": [
    "fpr, tpr, thresh = roc_curve(y_test, y_pred)\n",
    "i = len(thresh) - np.searchsorted(thresh[::-1], 0.9)\n",
    "print(thresh[i], fpr[i], tpr[i])\n",
    "fig, ax = plt.subplots(figsize=(5, 5))\n",
    "ax.plot(fpr, tpr, color=pal[0], lw=2, label='AUC={:.3f}'.format(roc_auc_score(y_test, y_pred)))\n",
    "ax.plot([0, 1], [0, 1], color='#555555', ls='--')\n",
    "plt.legend()\n",
    "plt.show()"
   ]
  },
  {
   "cell_type": "code",
   "execution_count": 14,
   "metadata": {},
   "outputs": [
    {
     "data": {
      "image/png": "[encoded data removed]",
      "text/plain": [
       "<Figure size 576x360 with 1 Axes>"
      ]
     },
     "metadata": {
      "needs_background": "light"
     },
     "output_type": "display_data"
    }
   ],
   "source": [
    "fig, ax = plt.subplots(figsize=(8, 5))\n",
    "ax.hist(y_pred[y_test == 1], bins=np.linspace(0, 1, 101), color=pal[0], alpha=0.5)\n",
    "ax.hist(y_pred[y_test == 0], bins=np.linspace(0, 1, 101), color=pal[1], alpha=0.5)\n",
    "plt.show()"
   ]
  },
  {
   "cell_type": "code",
   "execution_count": 15,
   "metadata": {},
   "outputs": [],
   "source": [
    "model.save('data/model_weights_070319.h5')"
   ]
  },
  {
   "cell_type": "markdown",
   "metadata": {},
   "source": [
    "Use K Fold cross validation to do proper model evaluation:"
   ]
  },
  {
   "cell_type": "code",
   "execution_count": 19,
   "metadata": {},
   "outputs": [
    {
     "name": "stdout",
     "output_type": "stream",
     "text": [
      "Epoch 1/100\n",
      " - 34s - loss: 0.6771 - val_loss: 0.5476\n",
      "Epoch 2/100\n",
      " - 26s - loss: 0.4113 - val_loss: 0.3822\n",
      "Epoch 3/100\n",
      " - 27s - loss: 0.3050 - val_loss: 0.3674\n",
      "Epoch 4/100\n",
      " - 26s - loss: 0.2376 - val_loss: 0.2558\n",
      "Epoch 5/100\n",
      " - 27s - loss: 0.1894 - val_loss: 0.2954\n",
      "Epoch 6/100\n",
      " - 26s - loss: 0.1637 - val_loss: 0.1519\n",
      "Epoch 7/100\n",
      " - 26s - loss: 0.1442 - val_loss: 0.1723\n",
      "Epoch 8/100\n",
      " - 26s - loss: 0.1421 - val_loss: 0.1069\n",
      "Epoch 9/100\n",
      " - 27s - loss: 0.1399 - val_loss: 0.1168\n",
      "Epoch 10/100\n",
      " - 27s - loss: 0.1310 - val_loss: 0.2195\n",
      "Epoch 11/100\n",
      " - 27s - loss: 0.1163 - val_loss: 0.1435\n",
      "Epoch 12/100\n",
      " - 26s - loss: 0.1121 - val_loss: 0.1124\n",
      "Epoch 13/100\n",
      " - 26s - loss: 0.1100 - val_loss: 0.0796\n",
      "Epoch 14/100\n",
      " - 26s - loss: 0.1042 - val_loss: 0.0674\n",
      "Epoch 15/100\n",
      " - 27s - loss: 0.1025 - val_loss: 0.0763\n",
      "Epoch 16/100\n",
      " - 27s - loss: 0.1033 - val_loss: 0.0758\n",
      "Epoch 17/100\n",
      " - 26s - loss: 0.1080 - val_loss: 0.0926\n",
      "Epoch 18/100\n",
      " - 27s - loss: 0.1038 - val_loss: 0.0775\n",
      "Epoch 19/100\n",
      " - 27s - loss: 0.1004 - val_loss: 0.0788\n",
      "Epoch 1/100\n",
      " - 36s - loss: 0.5487 - val_loss: 0.2985\n",
      "Epoch 2/100\n",
      " - 27s - loss: 0.2739 - val_loss: 0.2894\n",
      "Epoch 3/100\n",
      " - 26s - loss: 0.1975 - val_loss: 0.2062\n",
      "Epoch 4/100\n",
      " - 27s - loss: 0.1729 - val_loss: 0.1463\n",
      "Epoch 5/100\n",
      " - 27s - loss: 0.1555 - val_loss: 0.1316\n",
      "Epoch 6/100\n",
      " - 27s - loss: 0.1383 - val_loss: 0.1598\n",
      "Epoch 7/100\n",
      " - 27s - loss: 0.1330 - val_loss: 0.1043\n",
      "Epoch 8/100\n",
      " - 27s - loss: 0.1275 - val_loss: 0.1275\n",
      "Epoch 9/100\n",
      " - 27s - loss: 0.1130 - val_loss: 0.0964\n",
      "Epoch 10/100\n",
      " - 27s - loss: 0.1078 - val_loss: 0.1029\n",
      "Epoch 11/100\n",
      " - 28s - loss: 0.1081 - val_loss: 0.1129\n",
      "Epoch 12/100\n",
      " - 27s - loss: 0.0938 - val_loss: 0.1099\n",
      "Epoch 13/100\n",
      " - 27s - loss: 0.0977 - val_loss: 0.0650\n",
      "Epoch 14/100\n",
      " - 27s - loss: 0.0918 - val_loss: 0.0630\n",
      "Epoch 15/100\n",
      " - 27s - loss: 0.0852 - val_loss: 0.0856\n",
      "Epoch 16/100\n",
      " - 27s - loss: 0.0943 - val_loss: 0.0723\n",
      "Epoch 17/100\n",
      " - 27s - loss: 0.0861 - val_loss: 0.0689\n",
      "Epoch 18/100\n",
      " - 27s - loss: 0.0874 - val_loss: 0.0929\n",
      "Epoch 19/100\n",
      " - 28s - loss: 0.0869 - val_loss: 0.0622\n",
      "Epoch 20/100\n",
      " - 27s - loss: 0.0891 - val_loss: 0.0507\n",
      "Epoch 21/100\n",
      " - 27s - loss: 0.0852 - val_loss: 0.0834\n",
      "Epoch 22/100\n",
      " - 27s - loss: 0.0848 - val_loss: 0.0587\n",
      "Epoch 23/100\n",
      " - 27s - loss: 0.0844 - val_loss: 0.0689\n",
      "Epoch 24/100\n",
      " - 27s - loss: 0.0913 - val_loss: 0.0596\n",
      "Epoch 25/100\n",
      " - 27s - loss: 0.0861 - val_loss: 0.0575\n",
      "Epoch 1/100\n",
      " - 36s - loss: 0.6098 - val_loss: 0.4303\n",
      "Epoch 2/100\n",
      " - 28s - loss: 0.3522 - val_loss: 0.3689\n",
      "Epoch 3/100\n",
      " - 27s - loss: 0.2481 - val_loss: 0.2387\n",
      "Epoch 4/100\n",
      " - 27s - loss: 0.2018 - val_loss: 0.1792\n",
      "Epoch 5/100\n",
      " - 27s - loss: 0.1848 - val_loss: 0.1841\n",
      "Epoch 6/100\n",
      " - 27s - loss: 0.1599 - val_loss: 0.1457\n",
      "Epoch 7/100\n",
      " - 27s - loss: 0.1469 - val_loss: 0.1079\n",
      "Epoch 8/100\n",
      " - 27s - loss: 0.1384 - val_loss: 0.1467\n",
      "Epoch 9/100\n",
      " - 28s - loss: 0.1248 - val_loss: 0.1565\n",
      "Epoch 10/100\n",
      " - 27s - loss: 0.1213 - val_loss: 0.1109\n",
      "Epoch 11/100\n",
      " - 27s - loss: 0.1155 - val_loss: 0.1090\n",
      "Epoch 12/100\n",
      " - 27s - loss: 0.1062 - val_loss: 0.0939\n",
      "Epoch 13/100\n",
      " - 27s - loss: 0.1140 - val_loss: 0.0976\n",
      "Epoch 14/100\n",
      " - 27s - loss: 0.1142 - val_loss: 0.1106\n",
      "Epoch 15/100\n",
      " - 27s - loss: 0.1045 - val_loss: 0.0990\n",
      "Epoch 16/100\n",
      " - 27s - loss: 0.1040 - val_loss: 0.0980\n",
      "Epoch 17/100\n",
      " - 27s - loss: 0.0959 - val_loss: 0.0897\n",
      "Epoch 18/100\n",
      " - 27s - loss: 0.1080 - val_loss: 0.0936\n",
      "Epoch 19/100\n",
      " - 28s - loss: 0.1020 - val_loss: 0.1019\n",
      "Epoch 20/100\n",
      " - 27s - loss: 0.1012 - val_loss: 0.0989\n",
      "Epoch 21/100\n",
      " - 27s - loss: 0.1083 - val_loss: 0.0915\n",
      "Epoch 22/100\n",
      " - 27s - loss: 0.0967 - val_loss: 0.1059\n",
      "Epoch 1/100\n",
      " - 38s - loss: 0.5909 - val_loss: 0.8534\n",
      "Epoch 2/100\n",
      " - 27s - loss: 0.4025 - val_loss: 0.7024\n",
      "Epoch 3/100\n",
      " - 27s - loss: 0.2857 - val_loss: 0.2429\n",
      "Epoch 4/100\n",
      " - 28s - loss: 0.2017 - val_loss: 0.2018\n",
      "Epoch 5/100\n",
      " - 28s - loss: 0.1813 - val_loss: 0.2395\n",
      "Epoch 6/100\n",
      " - 28s - loss: 0.1538 - val_loss: 0.1248\n",
      "Epoch 7/100\n",
      " - 27s - loss: 0.1474 - val_loss: 0.1233\n",
      "Epoch 8/100\n",
      " - 28s - loss: 0.1351 - val_loss: 0.1424\n",
      "Epoch 9/100\n",
      " - 27s - loss: 0.1313 - val_loss: 0.1048\n",
      "Epoch 10/100\n",
      " - 28s - loss: 0.1247 - val_loss: 0.1706\n",
      "Epoch 11/100\n",
      " - 28s - loss: 0.1085 - val_loss: 0.1310\n",
      "Epoch 12/100\n",
      " - 28s - loss: 0.1088 - val_loss: 0.0662\n",
      "Epoch 13/100\n",
      " - 27s - loss: 0.1092 - val_loss: 0.1036\n",
      "Epoch 14/100\n",
      " - 27s - loss: 0.0965 - val_loss: 0.0953\n",
      "Epoch 15/100\n",
      " - 27s - loss: 0.0969 - val_loss: 0.1428\n",
      "Epoch 16/100\n",
      " - 27s - loss: 0.0954 - val_loss: 0.0853\n",
      "Epoch 17/100\n",
      " - 28s - loss: 0.0880 - val_loss: 0.0836\n",
      "Epoch 1/100\n",
      " - 38s - loss: 0.6790 - val_loss: 0.5461\n",
      "Epoch 2/100\n",
      " - 28s - loss: 0.4620 - val_loss: 0.6654\n",
      "Epoch 3/100\n",
      " - 27s - loss: 0.2882 - val_loss: 0.2457\n",
      "Epoch 4/100\n",
      " - 28s - loss: 0.2059 - val_loss: 0.1629\n",
      "Epoch 5/100\n",
      " - 28s - loss: 0.1841 - val_loss: 0.1702\n",
      "Epoch 6/100\n",
      " - 27s - loss: 0.1529 - val_loss: 0.1445\n",
      "Epoch 7/100\n",
      " - 28s - loss: 0.1382 - val_loss: 0.1186\n",
      "Epoch 8/100\n",
      " - 27s - loss: 0.1148 - val_loss: 0.1139\n",
      "Epoch 9/100\n",
      " - 28s - loss: 0.1206 - val_loss: 0.2487\n",
      "Epoch 10/100\n",
      " - 28s - loss: 0.1067 - val_loss: 0.1383\n",
      "Epoch 11/100\n",
      " - 28s - loss: 0.1103 - val_loss: 0.1092\n",
      "Epoch 12/100\n",
      " - 27s - loss: 0.1013 - val_loss: 0.0920\n",
      "Epoch 13/100\n",
      " - 27s - loss: 0.0994 - val_loss: 0.1221\n",
      "Epoch 14/100\n",
      " - 28s - loss: 0.0908 - val_loss: 0.3778\n",
      "Epoch 15/100\n",
      " - 27s - loss: 0.0922 - val_loss: 0.1333\n",
      "Epoch 16/100\n",
      " - 27s - loss: 0.0850 - val_loss: 0.0801\n",
      "Epoch 17/100\n",
      " - 28s - loss: 0.0879 - val_loss: 0.0635\n",
      "Epoch 18/100\n",
      " - 28s - loss: 0.0826 - val_loss: 0.0631\n",
      "Epoch 19/100\n",
      " - 28s - loss: 0.0830 - val_loss: 0.0622\n",
      "Epoch 20/100\n",
      " - 28s - loss: 0.0860 - val_loss: 0.0605\n",
      "Epoch 21/100\n",
      " - 27s - loss: 0.0708 - val_loss: 0.0660\n",
      "Epoch 22/100\n",
      " - 28s - loss: 0.0834 - val_loss: 0.0563\n",
      "Epoch 23/100\n",
      " - 28s - loss: 0.0758 - val_loss: 0.0749\n",
      "Epoch 24/100\n",
      " - 27s - loss: 0.0804 - val_loss: 0.0741\n",
      "Epoch 25/100\n",
      " - 28s - loss: 0.0782 - val_loss: 0.0473\n",
      "Epoch 26/100\n",
      " - 28s - loss: 0.0820 - val_loss: 0.0592\n",
      "Epoch 27/100\n",
      " - 28s - loss: 0.0783 - val_loss: 0.0746\n",
      "Epoch 28/100\n",
      " - 28s - loss: 0.0691 - val_loss: 0.0662\n",
      "Epoch 29/100\n",
      " - 28s - loss: 0.0761 - val_loss: 0.0676\n",
      "Epoch 30/100\n",
      " - 28s - loss: 0.0766 - val_loss: 0.0739\n"
     ]
    }
   ],
   "source": [
    "def get_data(h5_fn):\n",
    "    with h5py.File(h5_fn) as h5_file:\n",
    "        pos = h5_file['pos_signals'][:]\n",
    "        neg = np.concatenate([\n",
    "            h5_file['neg_signals'][:],\n",
    "            h5_file['neg_internal_signals'][:]\n",
    "        ])\n",
    "    return pos, neg\n",
    "\n",
    "pos_data, neg_data = get_data('data/training_data_round2.h5')\n",
    "pos_kf = KFold(n_splits=5, shuffle=False).split(pos_data)\n",
    "neg_kf = KFold(n_splits=5, shuffle=False).split(neg_data)\n",
    "pos_pred = []\n",
    "neg_pred = []\n",
    "\n",
    "for (pos_train_idx, pos_test_idx), (neg_train_idx, neg_test_idx) in zip(pos_kf, neg_kf):\n",
    "    pos_train = pos_data[pos_train_idx]\n",
    "    pos_test = pos_data[pos_test_idx]\n",
    "    neg_train = neg_data[neg_train_idx]\n",
    "    neg_test = neg_data[neg_test_idx]\n",
    "    pos_train, pos_val = train_test_split(pos_train, test_size=0.1)\n",
    "    neg_train, neg_val = train_test_split(neg_train, test_size=0.1)\n",
    "    train_gen = SquiggleSequence(\n",
    "        pos_train, neg_train,\n",
    "        batch_size=128, steps_per_epoch=100,\n",
    "    )\n",
    "    val_gen = SquiggleSequence(\n",
    "        pos_val, neg_val,\n",
    "        batch_size=128, steps_per_epoch=20,\n",
    "    )\n",
    "    model = build_model(3000)\n",
    "    model, history = train_model(\n",
    "        model, train_gen, val_gen,\n",
    "        epochs=100,\n",
    "        steps_per_epoch=100,\n",
    "        val_steps_per_epoch=20\n",
    "    )\n",
    "    pos_pred.append(model.predict(pos_test.reshape(-1, 3000, 1)).squeeze())\n",
    "    neg_pred.append(model.predict(neg_test.reshape(-1, 3000, 1)).squeeze())\n",
    "\n",
    "pos_pred = np.concatenate(pos_pred)\n",
    "neg_pred = np.concatenate(neg_pred)"
   ]
  },
  {
   "cell_type": "code",
   "execution_count": 45,
   "metadata": {},
   "outputs": [
    {
     "name": "stdout",
     "output_type": "stream",
     "text": [
      "0.8999793 0.0055848859025262884 0.9163880526615152\n"
     ]
    },
    {
     "data": {
      "image/png": "[encoded data removed]",
      "text/plain": [
       "<Figure size 720x360 with 2 Axes>"
      ]
     },
     "metadata": {},
     "output_type": "display_data"
    }
   ],
   "source": [
    "y_pred = np.concatenate([pos_pred, neg_pred])\n",
    "y_true = np.concatenate([[1] * len(pos_pred), [0] * len(neg_pred)])\n",
    "\n",
    "fpr, tpr, thresh = roc_curve(y_true, y_pred)\n",
    "prec, rec, pr_thresh = precision_recall_curve(y_true, y_pred)\n",
    "i = len(thresh) - np.searchsorted(thresh[::-1], 0.9)\n",
    "print(thresh[i], fpr[i], tpr[i])\n",
    "fig, axes = plt.subplots(figsize=(10, 5), ncols=2)\n",
    "axes[0].plot(fpr, tpr, color=pal[0], lw=2)\n",
    "axes[0].plot([0, 1], [0, 1], color='#555555', ls='--')\n",
    "axes[0].set_xlabel('False Positive Rate')\n",
    "axes[0].set_ylabel('True Positive Rate')\n",
    "axes[1].plot(rec, prec)\n",
    "axes[1].plot([0, 1], [prec[1], prec[1]], color='#555555', ls='--')\n",
    "axes[1].set_xlabel('Recall')\n",
    "axes[1].set_ylabel('Precision')\n",
    "axes[1].set_ylim(0, 1.05)\n",
    "plt.tight_layout()\n",
    "plt.savefig('figures/roc_pr_curve.svg')\n",
    "plt.show()"
   ]
  },
  {
   "cell_type": "code",
   "execution_count": null,
   "metadata": {},
   "outputs": [],
   "source": []
  },
  {
   "cell_type": "code",
   "execution_count": null,
   "metadata": {},
   "outputs": [],
   "source": []
  },
  {
   "cell_type": "code",
   "execution_count": null,
   "metadata": {},
   "outputs": [],
   "source": []
  },
  {
   "cell_type": "code",
   "execution_count": null,
   "metadata": {},
   "outputs": [],
   "source": []
  },
  {
   "cell_type": "code",
   "execution_count": null,
   "metadata": {},
   "outputs": [],
   "source": []
  },
  {
   "cell_type": "code",
   "execution_count": null,
   "metadata": {},
   "outputs": [],
   "source": []
  },
  {
   "cell_type": "code",
   "execution_count": null,
   "metadata": {},
   "outputs": [],
   "source": []
  },
  {
   "cell_type": "code",
   "execution_count": null,
   "metadata": {},
   "outputs": [],
   "source": []
  },
  {
   "cell_type": "code",
   "execution_count": null,
   "metadata": {},
   "outputs": [],
   "source": []
  },
  {
   "cell_type": "code",
   "execution_count": null,
   "metadata": {},
   "outputs": [],
   "source": []
  },
  {
   "cell_type": "code",
   "execution_count": null,
   "metadata": {},
   "outputs": [],
   "source": []
  },
  {
   "cell_type": "code",
   "execution_count": null,
   "metadata": {},
   "outputs": [],
   "source": []
  },
  {
   "cell_type": "code",
   "execution_count": null,
   "metadata": {},
   "outputs": [],
   "source": []
  },
  {
   "cell_type": "code",
   "execution_count": null,
   "metadata": {},
   "outputs": [],
   "source": []
  },
  {
   "cell_type": "code",
   "execution_count": null,
   "metadata": {},
   "outputs": [],
   "source": []
  },
  {
   "cell_type": "code",
   "execution_count": null,
   "metadata": {},
   "outputs": [],
   "source": []
  },
  {
   "cell_type": "code",
   "execution_count": null,
   "metadata": {},
   "outputs": [],
   "source": []
  },
  {
   "cell_type": "code",
   "execution_count": null,
   "metadata": {},
   "outputs": [],
   "source": []
  },
  {
   "cell_type": "code",
   "execution_count": null,
   "metadata": {},
   "outputs": [],
   "source": []
  },
  {
   "cell_type": "code",
   "execution_count": null,
   "metadata": {},
   "outputs": [],
   "source": []
  },
  {
   "cell_type": "code",
   "execution_count": null,
   "metadata": {},
   "outputs": [],
   "source": []
  },
  {
   "cell_type": "code",
   "execution_count": null,
   "metadata": {},
   "outputs": [],
   "source": []
  },
  {
   "cell_type": "code",
   "execution_count": null,
   "metadata": {},
   "outputs": [],
   "source": []
  },
  {
   "cell_type": "code",
   "execution_count": null,
   "metadata": {},
   "outputs": [],
   "source": []
  },
  {
   "cell_type": "code",
   "execution_count": null,
   "metadata": {},
   "outputs": [],
   "source": []
  }
 ],
 "metadata": {
  "kernelspec": {
   "display_name": "Python [conda env:adapter_pipeline]",
   "language": "python",
   "name": "conda-env-adapter_pipeline-py"
  },
  "language_info": {
   "codemirror_mode": {
    "name": "ipython",
    "version": 3
   },
   "file_extension": ".py",
   "mimetype": "text/x-python",
   "name": "python",
   "nbconvert_exporter": "python",
   "pygments_lexer": "ipython3",
   "version": "3.6.7"
  }
 },
 "nbformat": 4,
 "nbformat_minor": 2
}
