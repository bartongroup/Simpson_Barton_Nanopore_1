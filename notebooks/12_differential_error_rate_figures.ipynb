{
 "cells": [
  {
   "cell_type": "markdown",
   "metadata": {},
   "source": [
    "# Differential Error Rate analysis\n",
    "\n",
    "This notebook generates some of the figures and stats from the m6A section of the nanopore paper"
   ]
  },
  {
   "cell_type": "code",
   "execution_count": 1,
   "metadata": {},
   "outputs": [
    {
     "data": {
      "image/png": "[encoded data removed]",
      "text/plain": [
       "<Figure size 360x72 with 1 Axes>"
      ]
     },
     "metadata": {},
     "output_type": "display_data"
    }
   ],
   "source": [
    "import sys\n",
    "import re\n",
    "import os\n",
    "from glob import glob\n",
    "import random\n",
    "from collections import Counter\n",
    "\n",
    "import numpy as np\n",
    "import pandas as pd\n",
    "from scipy import stats, signal\n",
    "import matplotlib.pyplot as plt\n",
    "import matplotlib_venn as vn\n",
    "from matplotlib.colors import ListedColormap\n",
    "import seaborn as sns\n",
    "\n",
    "import pybedtools as pybt\n",
    "import pyBigWig as pybw\n",
    "import pysam\n",
    "\n",
    "\n",
    "## Default plotting params\n",
    "\n",
    "%matplotlib inline\n",
    "sns.set(font='Arial')\n",
    "plt.rcParams['svg.fonttype'] = 'none'\n",
    "style = sns.axes_style('white')\n",
    "style.update(sns.axes_style('ticks'))\n",
    "style['xtick.major.size'] = 2\n",
    "style['ytick.major.size'] = 2\n",
    "sns.set(font_scale=1.4, style=style)\n",
    "pal = sns.color_palette(['#0072b2', '#d55e00', '#009e73', '#f0e442', '#cc79a7'])\n",
    "cmap = ListedColormap(pal.as_hex())\n",
    "sns.set_palette(pal)\n",
    "sns.palplot(pal)\n",
    "plt.show()"
   ]
  },
  {
   "cell_type": "markdown",
   "metadata": {},
   "source": [
    "Make gzipped versions of the thresholded DER sites and miCLIP peaks for random access (used by metaplot functions)\n"
   ]
  },
  {
   "cell_type": "code",
   "execution_count": 4,
   "metadata": {},
   "outputs": [],
   "source": [
    "%%bash\n",
    "cat ../vir1_VIRc_guppy/der_analysis/der_sites_thresholded.bed | bgzip > vir1_VIRc_der_sites_thresholded.bed.gz\n",
    "tabix -p bed vir1_VIRc_der_sites_thresholded.bed.gz\n",
    "\n",
    "cat ../../miCLIP_pipeline/peaks/idr/miCLIP_expt1.CLIP_1_vs_miCLIP_expt2.CLIP_2.peaks.bed |\n",
    "awk -v OFS='\\t' '{print $1, $2, $3, \"peak\", $5, $6}' |\n",
    "sort -k1,1 -k2,2n | bgzip > miclip_peaks.bed.gz\n",
    "tabix -p bed miclip_peaks.bed.gz"
   ]
  },
  {
   "cell_type": "code",
   "execution_count": 5,
   "metadata": {},
   "outputs": [],
   "source": [
    "def to_df(bt, colnames):\n",
    "    return bt.to_dataframe(\n",
    "        disable_auto_names=True,\n",
    "        header=None,\n",
    "        names=colnames\n",
    "    )"
   ]
  },
  {
   "cell_type": "markdown",
   "metadata": {},
   "source": [
    "### Log odds ratio histogram\n",
    "\n",
    "plots of change in mismatches compared to reference base in vir-1 vs VIRc\n",
    "\n",
    "Use all DER sites (unthresholded)"
   ]
  },
  {
   "cell_type": "code",
   "execution_count": 6,
   "metadata": {},
   "outputs": [
    {
     "data": {
      "text/plain": [
       "21016"
      ]
     },
     "execution_count": 6,
     "metadata": {},
     "output_type": "execute_result"
    }
   ],
   "source": [
    "vir1_VIRc = pybt.BedTool('../vir1_VIRc_guppy/der_analysis/der_sites_with_logodds.bed')\n",
    "len(vir1_VIRc)"
   ]
  },
  {
   "cell_type": "code",
   "execution_count": 9,
   "metadata": {},
   "outputs": [
    {
     "data": {
      "text/html": [
       "<div>\n",
       "<style scoped>\n",
       "    .dataframe tbody tr th:only-of-type {\n",
       "        vertical-align: middle;\n",
       "    }\n",
       "\n",
       "    .dataframe tbody tr th {\n",
       "        vertical-align: top;\n",
       "    }\n",
       "\n",
       "    .dataframe thead th {\n",
       "        text-align: right;\n",
       "    }\n",
       "</style>\n",
       "<table border=\"1\" class=\"dataframe\">\n",
       "  <thead>\n",
       "    <tr style=\"text-align: right;\">\n",
       "      <th></th>\n",
       "      <th>chrom</th>\n",
       "      <th>start</th>\n",
       "      <th>end</th>\n",
       "      <th>name1</th>\n",
       "      <th>der_score</th>\n",
       "      <th>strand</th>\n",
       "      <th>mm_logodds</th>\n",
       "      <th>der_g</th>\n",
       "      <th>der_pval</th>\n",
       "      <th>der_fdr</th>\n",
       "      <th>a_g</th>\n",
       "      <th>a_p</th>\n",
       "      <th>b_g</th>\n",
       "      <th>b_p</th>\n",
       "    </tr>\n",
       "  </thead>\n",
       "  <tbody>\n",
       "    <tr>\n",
       "      <th>0</th>\n",
       "      <td>1</td>\n",
       "      <td>31295</td>\n",
       "      <td>31296</td>\n",
       "      <td>DER_site</td>\n",
       "      <td>2.0</td>\n",
       "      <td>-</td>\n",
       "      <td>1.54</td>\n",
       "      <td>23.85</td>\n",
       "      <td>4.57</td>\n",
       "      <td>1.78</td>\n",
       "      <td>3.54</td>\n",
       "      <td>0.74</td>\n",
       "      <td>3.78</td>\n",
       "      <td>0.93</td>\n",
       "    </tr>\n",
       "    <tr>\n",
       "      <th>1</th>\n",
       "      <td>1</td>\n",
       "      <td>45417</td>\n",
       "      <td>45418</td>\n",
       "      <td>DER_site</td>\n",
       "      <td>13.0</td>\n",
       "      <td>-</td>\n",
       "      <td>2.21</td>\n",
       "      <td>81.91</td>\n",
       "      <td>16.92</td>\n",
       "      <td>13.35</td>\n",
       "      <td>15.03</td>\n",
       "      <td>0.09</td>\n",
       "      <td>10.29</td>\n",
       "      <td>0.33</td>\n",
       "    </tr>\n",
       "    <tr>\n",
       "      <th>2</th>\n",
       "      <td>1</td>\n",
       "      <td>45463</td>\n",
       "      <td>45464</td>\n",
       "      <td>DER_site</td>\n",
       "      <td>8.0</td>\n",
       "      <td>-</td>\n",
       "      <td>2.08</td>\n",
       "      <td>61.00</td>\n",
       "      <td>11.75</td>\n",
       "      <td>8.41</td>\n",
       "      <td>7.35</td>\n",
       "      <td>0.60</td>\n",
       "      <td>6.82</td>\n",
       "      <td>0.87</td>\n",
       "    </tr>\n",
       "    <tr>\n",
       "      <th>3</th>\n",
       "      <td>1</td>\n",
       "      <td>47576</td>\n",
       "      <td>47577</td>\n",
       "      <td>DER_site</td>\n",
       "      <td>11.0</td>\n",
       "      <td>-</td>\n",
       "      <td>1.97</td>\n",
       "      <td>75.01</td>\n",
       "      <td>14.70</td>\n",
       "      <td>11.23</td>\n",
       "      <td>7.10</td>\n",
       "      <td>0.31</td>\n",
       "      <td>12.45</td>\n",
       "      <td>0.41</td>\n",
       "    </tr>\n",
       "    <tr>\n",
       "      <th>4</th>\n",
       "      <td>1</td>\n",
       "      <td>47577</td>\n",
       "      <td>47578</td>\n",
       "      <td>DER_site</td>\n",
       "      <td>25.0</td>\n",
       "      <td>-</td>\n",
       "      <td>2.60</td>\n",
       "      <td>141.64</td>\n",
       "      <td>28.90</td>\n",
       "      <td>25.00</td>\n",
       "      <td>7.23</td>\n",
       "      <td>0.30</td>\n",
       "      <td>8.99</td>\n",
       "      <td>0.70</td>\n",
       "    </tr>\n",
       "  </tbody>\n",
       "</table>\n",
       "</div>"
      ],
      "text/plain": [
       "   chrom  start    end     name1  der_score strand  mm_logodds   der_g  \\\n",
       "0      1  31295  31296  DER_site        2.0      -        1.54   23.85   \n",
       "1      1  45417  45418  DER_site       13.0      -        2.21   81.91   \n",
       "2      1  45463  45464  DER_site        8.0      -        2.08   61.00   \n",
       "3      1  47576  47577  DER_site       11.0      -        1.97   75.01   \n",
       "4      1  47577  47578  DER_site       25.0      -        2.60  141.64   \n",
       "\n",
       "   der_pval  der_fdr    a_g   a_p    b_g   b_p  \n",
       "0      4.57     1.78   3.54  0.74   3.78  0.93  \n",
       "1     16.92    13.35  15.03  0.09  10.29  0.33  \n",
       "2     11.75     8.41   7.35  0.60   6.82  0.87  \n",
       "3     14.70    11.23   7.10  0.31  12.45  0.41  \n",
       "4     28.90    25.00   7.23  0.30   8.99  0.70  "
      ]
     },
     "execution_count": 9,
     "metadata": {},
     "output_type": "execute_result"
    }
   ],
   "source": [
    "vir1_VIRc_df = to_df(\n",
    "    vir1_VIRc,\n",
    "    colnames=['chrom', 'start', 'end', 'name1', 'der_score', 'strand',\n",
    "              'mm_logodds', 'der_g', 'der_pval', 'der_fdr', 'a_g', 'a_p', 'b_g', 'b_p']\n",
    ")\n",
    "vir1_VIRc_df.head()"
   ]
  },
  {
   "cell_type": "code",
   "execution_count": 10,
   "metadata": {},
   "outputs": [
    {
     "data": {
      "image/png": "[encoded data removed]",
      "text/plain": [
       "<Figure size 576x360 with 1 Axes>"
      ]
     },
     "metadata": {
      "needs_background": "light"
     },
     "output_type": "display_data"
    }
   ],
   "source": [
    "fig, ax = plt.subplots(figsize=(8, 5))\n",
    "ax.hist(vir1_VIRc_df.mm_logodds, bins=np.linspace(-3, 7, 51), color=pal[0])\n",
    "ax.axvline(-1, ls='--', color='#555555', lw=3)\n",
    "ax.axvline(0, ls='--', color='#555555', lw=3)\n",
    "ax.axvline(1, ls='--', color='#555555', lw=3)\n",
    "ax.axvspan(-1, -3, color=pal[1], alpha=0.25, zorder=-1)\n",
    "ax.axvspan(1, 7, color=pal[2], alpha=0.25, zorder=-1)\n",
    "ax.set_xlim(-3, 7)\n",
    "ax.annotate(s=f'n={sum(vir1_VIRc_df.mm_logodds < -1)}', xy=(-2.9, 1600), color=pal[1])\n",
    "ax.annotate(s=f'n={sum(vir1_VIRc_df.mm_logodds > 1)}', xy=(4.3, 1600), color=pal[2])\n",
    "ax.set_xlabel('LogFC in Mismatch Fraction\\n(VIRc vs vir1)')\n",
    "ax.set_ylabel('Error site frequency')\n",
    "plt.tight_layout()\n",
    "plt.savefig('figures/der_site_effect_size_histogram.svg')\n",
    "plt.show()"
   ]
  },
  {
   "cell_type": "markdown",
   "metadata": {},
   "source": [
    "Switch back to sites thresholded at logFC > 1 for rest of figures"
   ]
  },
  {
   "cell_type": "code",
   "execution_count": 11,
   "metadata": {},
   "outputs": [
    {
     "data": {
      "text/plain": [
       "17491"
      ]
     },
     "execution_count": 11,
     "metadata": {},
     "output_type": "execute_result"
    }
   ],
   "source": [
    "vir1_VIRc = pybt.BedTool('../vir1_VIRc_guppy/der_analysis/der_sites_thresholded.bed')\n",
    "vir1_VIRc_df = to_df(\n",
    "    vir1_VIRc,\n",
    "    colnames=['chrom', 'start', 'end', 'name1', 'der_score', 'strand',\n",
    "              'mm_logodds', 'der_g', 'der_pval', 'der_fdr', 'a_g', 'a_p', 'b_g', 'b_p']\n",
    ")\n",
    "len(vir1_VIRc)"
   ]
  },
  {
   "cell_type": "code",
   "execution_count": 13,
   "metadata": {},
   "outputs": [],
   "source": [
    "%%bash\n",
    "grep \"protein_coding\" /cluster/ggs_lab/mtparker/Arabidopsis_annotations/Araport/v11/201606/Araport11_GFF3_genes_transposons.201606.gff |\n",
    "awk \\\n",
    "  -v FS=\"[\\t;]\" -v OFS=\"\\t\" \\\n",
    "  '$3 == \"gene\" {print $1, $4 - 1, $5, $9, \".\", $7}' | \\\n",
    "  sed -e 's/[\";]//g' -e 's/^Chr//' -e 's/ID=//' \\\n",
    "> araport_genes.bed"
   ]
  },
  {
   "cell_type": "code",
   "execution_count": 14,
   "metadata": {},
   "outputs": [],
   "source": [
    "%%bash\n",
    "cat /cluster/ggs_lab/mtparker/Arabidopsis_annotations/Araport/v11/201606/Araport11_GFF3_genes_transposons.201606.gff |\n",
    "gawk \\\n",
    "  -v FS=\"\\t\" -v OFS=\"\\t\" \\\n",
    "  '$3 == \"gene\" {match($9, /locus_type=(\\w*);?/, biotype); print $1, $4 - 1, $5, biotype[1], \".\", $7}' | \\\n",
    "  sed -e 's/[\";]//g' -e 's/^Chr//' -e 's/ID=//' \\\n",
    "> araport_biotypes.bed"
   ]
  },
  {
   "cell_type": "code",
   "execution_count": 15,
   "metadata": {},
   "outputs": [],
   "source": [
    "genes = pybt.BedTool('araport_genes.bed')\n",
    "biotypes = pybt.BedTool('araport_biotypes.bed')"
   ]
  },
  {
   "cell_type": "code",
   "execution_count": 17,
   "metadata": {},
   "outputs": [],
   "source": [
    "miclip = pybt.BedTool('miclip_peaks.bed.gz')"
   ]
  },
  {
   "cell_type": "code",
   "execution_count": 18,
   "metadata": {},
   "outputs": [
    {
     "data": {
      "text/plain": [
       "93046"
      ]
     },
     "execution_count": 18,
     "metadata": {},
     "output_type": "execute_result"
    }
   ],
   "source": [
    "len(miclip)"
   ]
  },
  {
   "cell_type": "code",
   "execution_count": 19,
   "metadata": {},
   "outputs": [
    {
     "data": {
      "text/plain": [
       "(5097, 22558, 5540, 17390, 101, 5115)"
      ]
     },
     "execution_count": 19,
     "metadata": {},
     "output_type": "execute_result"
    }
   ],
   "source": [
    "der_genes = genes.intersect(vir1_VIRc, s=True, u=True)\n",
    "non_der_genes = genes.intersect(vir1_VIRc, s=True, v=True)\n",
    "der_sites_in_genes =vir1_VIRc.intersect(der_genes, s=True, u=True)\n",
    "der_not_in_genes = vir1_VIRc.intersect(der_genes, s=True, v=True)\n",
    "der_biotypes = biotypes.intersect(vir1_VIRc, s=True, u=True)\n",
    "miclip_genes = genes.intersect(miclip, s=True, u=True)\n",
    "len(der_genes), len(non_der_genes), len(miclip_genes), len(der_sites_in_genes), len(der_not_in_genes), len(der_biotypes)"
   ]
  },
  {
   "cell_type": "markdown",
   "metadata": {},
   "source": [
    "## Distance from DER sites to nearest miCLIP figures"
   ]
  },
  {
   "cell_type": "code",
   "execution_count": 21,
   "metadata": {},
   "outputs": [
    {
     "name": "stderr",
     "output_type": "stream",
     "text": [
      "/cluster/ggs_lab/mtparker/.conda/envs/r35py36/lib/python3.6/site-packages/pandas/io/parsers.py:678: UserWarning: Duplicate names specified. This will raise an error in the future.\n",
      "  return _read(filepath_or_buffer, kwds)\n"
     ]
    },
    {
     "data": {
      "text/html": [
       "<div>\n",
       "<style scoped>\n",
       "    .dataframe tbody tr th:only-of-type {\n",
       "        vertical-align: middle;\n",
       "    }\n",
       "\n",
       "    .dataframe tbody tr th {\n",
       "        vertical-align: top;\n",
       "    }\n",
       "\n",
       "    .dataframe thead th {\n",
       "        text-align: right;\n",
       "    }\n",
       "</style>\n",
       "<table border=\"1\" class=\"dataframe\">\n",
       "  <thead>\n",
       "    <tr style=\"text-align: right;\">\n",
       "      <th></th>\n",
       "      <th>chrom</th>\n",
       "      <th>der_start</th>\n",
       "      <th>der_end</th>\n",
       "      <th>name1</th>\n",
       "      <th>der_score</th>\n",
       "      <th>strand</th>\n",
       "      <th>mm_logodds</th>\n",
       "      <th>der_g</th>\n",
       "      <th>der_pval</th>\n",
       "      <th>der_fdr</th>\n",
       "      <th>...</th>\n",
       "      <th>a_p</th>\n",
       "      <th>b_g</th>\n",
       "      <th>b_p</th>\n",
       "      <th>chrom2</th>\n",
       "      <th>miCLIP_start</th>\n",
       "      <th>miCLIP_end</th>\n",
       "      <th>name2</th>\n",
       "      <th>miCLIP_cov</th>\n",
       "      <th>strand.1</th>\n",
       "      <th>dist</th>\n",
       "    </tr>\n",
       "  </thead>\n",
       "  <tbody>\n",
       "    <tr>\n",
       "      <th>0</th>\n",
       "      <td>1</td>\n",
       "      <td>31295</td>\n",
       "      <td>31296</td>\n",
       "      <td>DER_site</td>\n",
       "      <td>2.0</td>\n",
       "      <td>-</td>\n",
       "      <td>1.54</td>\n",
       "      <td>23.85</td>\n",
       "      <td>4.57</td>\n",
       "      <td>1.78</td>\n",
       "      <td>...</td>\n",
       "      <td>0.74</td>\n",
       "      <td>3.78</td>\n",
       "      <td>0.93</td>\n",
       "      <td>1</td>\n",
       "      <td>31295</td>\n",
       "      <td>31296</td>\n",
       "      <td>peak</td>\n",
       "      <td>853</td>\n",
       "      <td>-</td>\n",
       "      <td>0</td>\n",
       "    </tr>\n",
       "    <tr>\n",
       "      <th>1</th>\n",
       "      <td>1</td>\n",
       "      <td>45417</td>\n",
       "      <td>45418</td>\n",
       "      <td>DER_site</td>\n",
       "      <td>13.0</td>\n",
       "      <td>-</td>\n",
       "      <td>2.21</td>\n",
       "      <td>81.91</td>\n",
       "      <td>16.92</td>\n",
       "      <td>13.35</td>\n",
       "      <td>...</td>\n",
       "      <td>0.09</td>\n",
       "      <td>10.29</td>\n",
       "      <td>0.33</td>\n",
       "      <td>1</td>\n",
       "      <td>45461</td>\n",
       "      <td>45462</td>\n",
       "      <td>peak</td>\n",
       "      <td>618</td>\n",
       "      <td>-</td>\n",
       "      <td>-44</td>\n",
       "    </tr>\n",
       "    <tr>\n",
       "      <th>2</th>\n",
       "      <td>1</td>\n",
       "      <td>45463</td>\n",
       "      <td>45464</td>\n",
       "      <td>DER_site</td>\n",
       "      <td>8.0</td>\n",
       "      <td>-</td>\n",
       "      <td>2.08</td>\n",
       "      <td>61.00</td>\n",
       "      <td>11.75</td>\n",
       "      <td>8.41</td>\n",
       "      <td>...</td>\n",
       "      <td>0.60</td>\n",
       "      <td>6.82</td>\n",
       "      <td>0.87</td>\n",
       "      <td>1</td>\n",
       "      <td>45461</td>\n",
       "      <td>45462</td>\n",
       "      <td>peak</td>\n",
       "      <td>618</td>\n",
       "      <td>-</td>\n",
       "      <td>2</td>\n",
       "    </tr>\n",
       "    <tr>\n",
       "      <th>3</th>\n",
       "      <td>1</td>\n",
       "      <td>47576</td>\n",
       "      <td>47577</td>\n",
       "      <td>DER_site</td>\n",
       "      <td>11.0</td>\n",
       "      <td>-</td>\n",
       "      <td>1.97</td>\n",
       "      <td>75.01</td>\n",
       "      <td>14.70</td>\n",
       "      <td>11.23</td>\n",
       "      <td>...</td>\n",
       "      <td>0.31</td>\n",
       "      <td>12.45</td>\n",
       "      <td>0.41</td>\n",
       "      <td>1</td>\n",
       "      <td>47576</td>\n",
       "      <td>47577</td>\n",
       "      <td>peak</td>\n",
       "      <td>866</td>\n",
       "      <td>-</td>\n",
       "      <td>0</td>\n",
       "    </tr>\n",
       "    <tr>\n",
       "      <th>4</th>\n",
       "      <td>1</td>\n",
       "      <td>47577</td>\n",
       "      <td>47578</td>\n",
       "      <td>DER_site</td>\n",
       "      <td>25.0</td>\n",
       "      <td>-</td>\n",
       "      <td>2.60</td>\n",
       "      <td>141.64</td>\n",
       "      <td>28.90</td>\n",
       "      <td>25.00</td>\n",
       "      <td>...</td>\n",
       "      <td>0.30</td>\n",
       "      <td>8.99</td>\n",
       "      <td>0.70</td>\n",
       "      <td>1</td>\n",
       "      <td>47576</td>\n",
       "      <td>47577</td>\n",
       "      <td>peak</td>\n",
       "      <td>866</td>\n",
       "      <td>-</td>\n",
       "      <td>1</td>\n",
       "    </tr>\n",
       "  </tbody>\n",
       "</table>\n",
       "<p>5 rows × 21 columns</p>\n",
       "</div>"
      ],
      "text/plain": [
       "   chrom  der_start  der_end     name1  der_score strand  mm_logodds   der_g  \\\n",
       "0      1      31295    31296  DER_site        2.0      -        1.54   23.85   \n",
       "1      1      45417    45418  DER_site       13.0      -        2.21   81.91   \n",
       "2      1      45463    45464  DER_site        8.0      -        2.08   61.00   \n",
       "3      1      47576    47577  DER_site       11.0      -        1.97   75.01   \n",
       "4      1      47577    47578  DER_site       25.0      -        2.60  141.64   \n",
       "\n",
       "   der_pval  der_fdr ...    a_p    b_g   b_p  chrom2  miCLIP_start  \\\n",
       "0      4.57     1.78 ...   0.74   3.78  0.93       1         31295   \n",
       "1     16.92    13.35 ...   0.09  10.29  0.33       1         45461   \n",
       "2     11.75     8.41 ...   0.60   6.82  0.87       1         45461   \n",
       "3     14.70    11.23 ...   0.31  12.45  0.41       1         47576   \n",
       "4     28.90    25.00 ...   0.30   8.99  0.70       1         47576   \n",
       "\n",
       "   miCLIP_end  name2 miCLIP_cov  strand.1 dist  \n",
       "0       31296   peak        853         -    0  \n",
       "1       45462   peak        618         -  -44  \n",
       "2       45462   peak        618         -    2  \n",
       "3       47577   peak        866         -    0  \n",
       "4       47577   peak        866         -    1  \n",
       "\n",
       "[5 rows x 21 columns]"
      ]
     },
     "execution_count": 21,
     "metadata": {},
     "output_type": "execute_result"
    }
   ],
   "source": [
    "distance_to_miclip = to_df(\n",
    "    vir1_VIRc.sort().closest(miclip.sort(), D=\"a\", s=True),\n",
    "    colnames=['chrom', 'der_start', 'der_end', 'name1', 'der_score', 'strand',\n",
    "              'mm_logodds', 'der_g', 'der_pval', 'der_fdr', 'a_g', 'a_p', 'b_g', 'b_p',\n",
    "              'chrom2', 'miCLIP_start', 'miCLIP_end', 'name2', 'miCLIP_cov', 'strand',\n",
    "              'dist'])\n",
    "distance_to_miclip.head()"
   ]
  },
  {
   "cell_type": "code",
   "execution_count": 22,
   "metadata": {},
   "outputs": [
    {
     "data": {
      "text/plain": [
       "0.6567329529718052"
      ]
     },
     "execution_count": 22,
     "metadata": {},
     "output_type": "execute_result"
    }
   ],
   "source": [
    "sum(np.abs(distance_to_miclip.dist) <= 5) / len(distance_to_miclip)"
   ]
  },
  {
   "cell_type": "code",
   "execution_count": 23,
   "metadata": {},
   "outputs": [
    {
     "data": {
      "text/plain": [
       "2.0"
      ]
     },
     "execution_count": 23,
     "metadata": {},
     "output_type": "execute_result"
    }
   ],
   "source": [
    "np.median(np.abs(distance_to_miclip.dist))"
   ]
  },
  {
   "cell_type": "code",
   "execution_count": 24,
   "metadata": {},
   "outputs": [
    {
     "data": {
      "image/png": "[encoded data removed]",
      "text/plain": [
       "<Figure size 396x360 with 1 Axes>"
      ]
     },
     "metadata": {
      "needs_background": "light"
     },
     "output_type": "display_data"
    }
   ],
   "source": [
    "fig, ax = plt.subplots(figsize=(5.5, 5))\n",
    "ax.hist(distance_to_miclip.dist,\n",
    "        bins=np.linspace(-50, 50, 50),\n",
    "        color=pal[0])\n",
    "ax.set_xticks([-50, -25, 0, 25, 50])\n",
    "ax.set_xlabel('Dist. to nearest miCLIP peak')\n",
    "ax.set_ylabel('Error site freq.')\n",
    "plt.tight_layout()\n",
    "plt.savefig('figures/miclip_distance_to_der_site.svg')\n",
    "plt.show()"
   ]
  },
  {
   "cell_type": "markdown",
   "metadata": {},
   "source": [
    "## Motif found underneath error sties"
   ]
  },
  {
   "cell_type": "code",
   "execution_count": 26,
   "metadata": {},
   "outputs": [
    {
     "data": {
      "image/png": "[encoded data removed]",
      "text/plain": [
       "<IPython.core.display.Image object>"
      ]
     },
     "execution_count": 26,
     "metadata": {},
     "output_type": "execute_result"
    }
   ],
   "source": [
    "from IPython.display import display, Image\n",
    "\n",
    "Image('../vir1_VIRc_guppy/motif_detection/motifs.meme/logo1.png')"
   ]
  },
  {
   "cell_type": "markdown",
   "metadata": {},
   "source": [
    "## DER motif figures\n",
    "\n",
    "The der motifs file contains all motifs found under error sites. There are some duplications where there are multiple error sites per m6A site"
   ]
  },
  {
   "cell_type": "code",
   "execution_count": 27,
   "metadata": {},
   "outputs": [
    {
     "data": {
      "text/plain": [
       "4749"
      ]
     },
     "execution_count": 27,
     "metadata": {},
     "output_type": "execute_result"
    }
   ],
   "source": [
    "der_motifs = pybt.BedTool('../vir1_VIRc_guppy/motif_detection/der_motifs.gtf')\n",
    "len(der_motifs)"
   ]
  },
  {
   "cell_type": "code",
   "execution_count": 28,
   "metadata": {},
   "outputs": [
    {
     "name": "stdout",
     "output_type": "stream",
     "text": [
      "1\tfimo\tnucleotide_motif\t47575\t47581\t27.4\t-\t.\tName=DARACWW_1:47570-47585(-)+;Alias=MEME-1;ID=DARACWW-MEME-1-1-1:47570-47585(-);pvalue=0.0018;qvalue=0.0746;sequence=TAAACTA;\n",
      " 1\tfimo\tnucleotide_motif\t50188\t50194\t24\t-\t.\tName=DARACWW_1:50184-50197(-)+;Alias=MEME-1;ID=DARACWW-MEME-1-1-1:50184-50197(-);pvalue=0.00402;qvalue=0.0901;sequence=AGGACTA;\n",
      " 1\tfimo\tnucleotide_motif\t50238\t50244\t29.7\t-\t.\tName=DARACWW_1:50232-50252(-)+;Alias=MEME-1;ID=DARACWW-MEME-1-1-1:50232-50252(-);pvalue=0.00108;qvalue=0.0664;sequence=GAGACTA;\n",
      " 1\tfimo\tnucleotide_motif\t121170\t121176\t28.2\t-\t.\tName=DARACWW_1:121166-121179(-)+;Alias=MEME-1;ID=DARACWW-MEME-1-1-1:121166-121179(-);pvalue=0.00151;qvalue=0.0732;sequence=TAAACAT;\n",
      " 1\tfimo\tnucleotide_motif\t121205\t121211\t25.5\t-\t.\tName=DARACWW_1:121199-121212(-)+;Alias=MEME-1;ID=DARACWW-MEME-1-1-1:121199-121212(-);pvalue=0.00281;qvalue=0.0801;sequence=TGGACAT;\n",
      " 1\tfimo\tnucleotide_motif\t121205\t121211\t25.5\t-\t.\tName=DARACWW_1:121201-121215(-)+;Alias=MEME-1;ID=DARACWW-MEME-1-1-1:121201-121215(-);pvalue=0.00281;qvalue=0.0801;sequence=TGGACAT;\n",
      " 1\tfimo\tnucleotide_motif\t137999\t138005\t26.5\t+\t.\tName=DARACWW_1:137992-138005(+)+;Alias=MEME-1;ID=DARACWW-MEME-1-1-1:137992-138005(+);pvalue=0.00222;qvalue=0.0769;sequence=AAAACTA;\n",
      " 1\tfimo\tnucleotide_motif\t180304\t180310\t41.1\t-\t.\tName=DARACWW_1:180302-180315(-)+;Alias=MEME-1;ID=DARACWW-MEME-1-1-1:180302-180315(-);pvalue=7.71e-05;qvalue=0.0467;sequence=TAGACTT;\n",
      " 1\tfimo\tnucleotide_motif\t180322\t180328\t23.3\t-\t.\tName=DARACWW_1:180318-180331(-)+;Alias=MEME-1;ID=DARACWW-MEME-1-1-1:180318-180331(-);pvalue=0.00471;qvalue=0.0905;sequence=GAAACAA;\n",
      " 1\tfimo\tnucleotide_motif\t189927\t189933\t24.6\t+\t.\tName=DARACWW_1:189923-189936(+)+;Alias=MEME-1;ID=DARACWW-MEME-1-1-1:189923-189936(+);pvalue=0.00348;qvalue=0.0846;sequence=GAGACAC;\n",
      " "
     ]
    }
   ],
   "source": [
    "der_motifs.head()"
   ]
  },
  {
   "cell_type": "code",
   "execution_count": 32,
   "metadata": {},
   "outputs": [],
   "source": [
    "# filter to remove duplicates\n",
    "\n",
    "motif_sites = set()\n",
    "motif_seqs = []\n",
    "for motif in der_motifs:\n",
    "    motif_site = (motif.chrom, motif.start, motif.end, motif.strand)\n",
    "    if motif_site not in motif_sites:\n",
    "        motif_seqs.append(motif.attrs['sequence'][1:-1])\n",
    "        motif_sites.add(motif_site)"
   ]
  },
  {
   "cell_type": "code",
   "execution_count": 33,
   "metadata": {},
   "outputs": [
    {
     "data": {
      "text/plain": [
       "(3871, 12)"
      ]
     },
     "execution_count": 33,
     "metadata": {},
     "output_type": "execute_result"
    }
   ],
   "source": [
    "len(motif_seqs), len(set(motif_seqs))"
   ]
  },
  {
   "cell_type": "code",
   "execution_count": 34,
   "metadata": {},
   "outputs": [
    {
     "data": {
      "image/png": "[encoded data removed]",
      "text/plain": [
       "<Figure size 576x324 with 1 Axes>"
      ]
     },
     "metadata": {
      "needs_background": "light"
     },
     "output_type": "display_data"
    }
   ],
   "source": [
    "motif_seq_counts = pd.DataFrame(\n",
    "    Counter(motif_seqs).most_common(),\n",
    "    columns=['seq', 'count']\n",
    ")\n",
    "\n",
    "fig, ax = plt.subplots(figsize=(8, 4.5))\n",
    "\n",
    "sns.barplot(\n",
    "    x='seq',\n",
    "    y='count',\n",
    "    data=motif_seq_counts,\n",
    "    color=pal[0],\n",
    "    ax=ax\n",
    ")\n",
    "ax.set_xlabel('Motif Sequence')\n",
    "ax.set_ylabel('Frequency')\n",
    "plt.setp(ax.get_xticklabels(), rotation=30, ha='right')\n",
    "plt.tight_layout()\n",
    "plt.savefig('figures/motif_sequences.svg')\n",
    "plt.show()"
   ]
  },
  {
   "cell_type": "markdown",
   "metadata": {},
   "source": [
    "Most of these have multiple adenosines i.e. would not be predicted by epinano:"
   ]
  },
  {
   "cell_type": "code",
   "execution_count": 135,
   "metadata": {},
   "outputs": [
    {
     "data": {
      "text/plain": [
       "91.5525703952467"
      ]
     },
     "execution_count": 135,
     "metadata": {},
     "output_type": "execute_result"
    }
   ],
   "source": [
    "has_multi_as = Counter([seq.count('A') > 1 for seq in  motif_seqs])\n",
    "100 - (has_multi_as[False] / (len(motif_seqs)) * 100)"
   ]
  },
  {
   "cell_type": "markdown",
   "metadata": {},
   "source": [
    "also at least one non canonical motif:"
   ]
  },
  {
   "cell_type": "code",
   "execution_count": 136,
   "metadata": {},
   "outputs": [
    {
     "data": {
      "text/plain": [
       "187"
      ]
     },
     "execution_count": 136,
     "metadata": {},
     "output_type": "execute_result"
    }
   ],
   "source": [
    "Counter(motif_seqs)['AGATT']"
   ]
  },
  {
   "cell_type": "code",
   "execution_count": 137,
   "metadata": {},
   "outputs": [
    {
     "data": {
      "text/plain": [
       "4.830793076724361"
      ]
     },
     "execution_count": 137,
     "metadata": {},
     "output_type": "execute_result"
    }
   ],
   "source": [
    "Counter(motif_seqs)['AGATT'] / len(motif_seqs) * 100"
   ]
  },
  {
   "cell_type": "code",
   "execution_count": 138,
   "metadata": {},
   "outputs": [
    {
     "data": {
      "text/plain": [
       "4.830793076724361"
      ]
     },
     "execution_count": 138,
     "metadata": {},
     "output_type": "execute_result"
    }
   ],
   "source": [
    "is_drach = Counter()\n",
    "for seq in motif_seqs:\n",
    "    if re.match('[AGT][AG]AC[ACT]', seq):\n",
    "        is_drach[True] += 1\n",
    "    else:\n",
    "        is_drach[False] += 1\n",
    "(is_drach[False] / (len(motif_seqs)) * 100)"
   ]
  },
  {
   "cell_type": "code",
   "execution_count": 35,
   "metadata": {},
   "outputs": [
    {
     "data": {
      "text/html": [
       "<div>\n",
       "<style scoped>\n",
       "    .dataframe tbody tr th:only-of-type {\n",
       "        vertical-align: middle;\n",
       "    }\n",
       "\n",
       "    .dataframe tbody tr th {\n",
       "        vertical-align: top;\n",
       "    }\n",
       "\n",
       "    .dataframe thead th {\n",
       "        text-align: right;\n",
       "    }\n",
       "</style>\n",
       "<table border=\"1\" class=\"dataframe\">\n",
       "  <thead>\n",
       "    <tr style=\"text-align: right;\">\n",
       "      <th></th>\n",
       "      <th>chrom</th>\n",
       "      <th>source</th>\n",
       "      <th>biotype</th>\n",
       "      <th>start</th>\n",
       "      <th>end</th>\n",
       "      <th>score</th>\n",
       "      <th>strand</th>\n",
       "      <th>frame</th>\n",
       "      <th>attrb</th>\n",
       "      <th>der_count</th>\n",
       "    </tr>\n",
       "  </thead>\n",
       "  <tbody>\n",
       "    <tr>\n",
       "      <th>0</th>\n",
       "      <td>1</td>\n",
       "      <td>fimo</td>\n",
       "      <td>nucleotide_motif</td>\n",
       "      <td>47574</td>\n",
       "      <td>47582</td>\n",
       "      <td>27.4</td>\n",
       "      <td>-</td>\n",
       "      <td>.</td>\n",
       "      <td>Name=DARACWW_1:47570-47585(-)+;Alias=MEME-1;ID...</td>\n",
       "      <td>3</td>\n",
       "    </tr>\n",
       "    <tr>\n",
       "      <th>1</th>\n",
       "      <td>1</td>\n",
       "      <td>fimo</td>\n",
       "      <td>nucleotide_motif</td>\n",
       "      <td>50187</td>\n",
       "      <td>50195</td>\n",
       "      <td>24.0</td>\n",
       "      <td>-</td>\n",
       "      <td>.</td>\n",
       "      <td>Name=DARACWW_1:50184-50197(-)+;Alias=MEME-1;ID...</td>\n",
       "      <td>1</td>\n",
       "    </tr>\n",
       "    <tr>\n",
       "      <th>2</th>\n",
       "      <td>1</td>\n",
       "      <td>fimo</td>\n",
       "      <td>nucleotide_motif</td>\n",
       "      <td>50237</td>\n",
       "      <td>50245</td>\n",
       "      <td>29.7</td>\n",
       "      <td>-</td>\n",
       "      <td>.</td>\n",
       "      <td>Name=DARACWW_1:50232-50252(-)+;Alias=MEME-1;ID...</td>\n",
       "      <td>7</td>\n",
       "    </tr>\n",
       "    <tr>\n",
       "      <th>3</th>\n",
       "      <td>1</td>\n",
       "      <td>fimo</td>\n",
       "      <td>nucleotide_motif</td>\n",
       "      <td>121169</td>\n",
       "      <td>121177</td>\n",
       "      <td>28.2</td>\n",
       "      <td>-</td>\n",
       "      <td>.</td>\n",
       "      <td>Name=DARACWW_1:121166-121179(-)+;Alias=MEME-1;...</td>\n",
       "      <td>1</td>\n",
       "    </tr>\n",
       "    <tr>\n",
       "      <th>4</th>\n",
       "      <td>1</td>\n",
       "      <td>fimo</td>\n",
       "      <td>nucleotide_motif</td>\n",
       "      <td>121204</td>\n",
       "      <td>121212</td>\n",
       "      <td>25.5</td>\n",
       "      <td>-</td>\n",
       "      <td>.</td>\n",
       "      <td>Name=DARACWW_1:121199-121212(-)+;Alias=MEME-1;...</td>\n",
       "      <td>3</td>\n",
       "    </tr>\n",
       "  </tbody>\n",
       "</table>\n",
       "</div>"
      ],
      "text/plain": [
       "   chrom source           biotype   start     end  score strand frame  \\\n",
       "0      1   fimo  nucleotide_motif   47574   47582   27.4      -     .   \n",
       "1      1   fimo  nucleotide_motif   50187   50195   24.0      -     .   \n",
       "2      1   fimo  nucleotide_motif   50237   50245   29.7      -     .   \n",
       "3      1   fimo  nucleotide_motif  121169  121177   28.2      -     .   \n",
       "4      1   fimo  nucleotide_motif  121204  121212   25.5      -     .   \n",
       "\n",
       "                                               attrb  der_count  \n",
       "0  Name=DARACWW_1:47570-47585(-)+;Alias=MEME-1;ID...          3  \n",
       "1  Name=DARACWW_1:50184-50197(-)+;Alias=MEME-1;ID...          1  \n",
       "2  Name=DARACWW_1:50232-50252(-)+;Alias=MEME-1;ID...          7  \n",
       "3  Name=DARACWW_1:121166-121179(-)+;Alias=MEME-1;...          1  \n",
       "4  Name=DARACWW_1:121199-121212(-)+;Alias=MEME-1;...          3  "
      ]
     },
     "execution_count": 35,
     "metadata": {},
     "output_type": "execute_result"
    }
   ],
   "source": [
    "g = '/cluster/ggs_lab/mtparker/Arabidopsis_annotations/TAIR10/ensembl/release_35/Arabidopsis_thaliana.TAIR10.chrom.sizes'\n",
    "der_motif_site_count = to_df(\n",
    "    der_motifs.slop(b=1, g=g).intersect(vir1_VIRc, c=True),\n",
    "    colnames=['chrom', 'source', 'biotype', 'start', 'end', 'score', 'strand', 'frame', 'attrb', 'der_count']\n",
    ").drop_duplicates(subset=['chrom', 'start', 'end'])\n",
    "der_motif_site_count.head()"
   ]
  },
  {
   "cell_type": "code",
   "execution_count": 36,
   "metadata": {},
   "outputs": [
    {
     "data": {
      "text/plain": [
       "1.0"
      ]
     },
     "execution_count": 36,
     "metadata": {},
     "output_type": "execute_result"
    }
   ],
   "source": [
    "np.median(der_motif_site_count.der_count)"
   ]
  },
  {
   "cell_type": "code",
   "execution_count": 37,
   "metadata": {},
   "outputs": [
    {
     "data": {
      "text/plain": [
       "array([1., 4.])"
      ]
     },
     "execution_count": 37,
     "metadata": {},
     "output_type": "execute_result"
    }
   ],
   "source": [
    "np.percentile(der_motif_site_count.der_count, (2.5, 97.5))"
   ]
  },
  {
   "cell_type": "markdown",
   "metadata": {},
   "source": [
    "## DER site and miCLIP peak genic features barplots and stop codon metagene profiles"
   ]
  },
  {
   "cell_type": "code",
   "execution_count": 41,
   "metadata": {},
   "outputs": [],
   "source": [
    "def parse_exons_introns_flank(record, flanksize=200):\n",
    "    start = int(record[1])\n",
    "    end = int(record[2])\n",
    "    exstarts = np.fromstring(record[11], sep=',') + start\n",
    "    exends = exstarts + np.fromstring(record[10], sep=',')\n",
    "    exons = np.dstack([exstarts, exends])[0]\n",
    "    left_flank = np.array([[max(0, start - flanksize), start]])\n",
    "    right_flank = np.array([[end, end + flanksize]])\n",
    "    if len(exons) > 1:\n",
    "        introns = np.dstack([exons[:-1, 1], exons[1:, 0]])[0]\n",
    "    else:\n",
    "        introns = np.array([])\n",
    "    return exons, introns, left_flank, right_flank\n",
    "\n",
    "\n",
    "def split_intervals(invs, pos, side='left'):\n",
    "    idx = np.searchsorted(invs.ravel(), pos)\n",
    "    split = np.insert(invs.ravel(), idx, [pos, pos]).reshape(-1, 2)\n",
    "    split_idx = (idx + 1) // 2\n",
    "    return split[:split_idx], split[split_idx:]\n",
    "\n",
    "\n",
    "def parse_cds_utr_introns_flank(record, flanksize):\n",
    "    exons, introns, left_flank, right_flank = parse_exons_introns_flank(record, flanksize)\n",
    "    cds_start = int(record[6])\n",
    "    cds_end = int(record[7])\n",
    "    utr1, cds = split_intervals(exons, cds_start)\n",
    "    cds, utr2 = split_intervals(cds, cds_end)\n",
    "    return utr1, cds, utr2, introns, left_flank, right_flank, exons\n",
    "\n",
    "\n",
    "def parse_features(record, flanksize=200):\n",
    "    features = {}\n",
    "    invs = {}\n",
    "    features['chrom'] = record[0].replace('Chr', '')\n",
    "    features['strand'] = record[5]\n",
    "    utr1, invs['cds'], utr2, invs['introns'], left_flank, right_flank, invs['exons'] = parse_cds_utr_introns_flank(record, flanksize)\n",
    "    if features['strand'] == '+':\n",
    "        invs['5utr'] = utr1\n",
    "        invs['3utr'] = utr2\n",
    "        invs['upstream'] = left_flank\n",
    "        invs['downstream'] = right_flank\n",
    "    else:\n",
    "        invs['5utr'] = utr2\n",
    "        invs['3utr'] = utr1\n",
    "        invs['upstream'] = right_flank\n",
    "        invs['downstream'] = left_flank\n",
    "    features['invs'] = invs\n",
    "    return features\n",
    "\n",
    "genes_bed = '/cluster/ggs_lab/mtparker/Arabidopsis_annotations/Araport/v11/201606/Araport11_protein_coding.201606.bed'\n",
    "\n",
    "\n",
    "def get_lengths_for_norm():\n",
    "    feat_lengths = Counter()\n",
    "    with open(genes_bed) as bed:\n",
    "        for record in bed:\n",
    "            record = parse_features(record.split())\n",
    "            if record['chrom'] in ['C', 'M']:\n",
    "                continue\n",
    "            for feat_type, invs in record['invs'].items():\n",
    "                for inv in invs:\n",
    "                    feat_lengths[feat_type] += (inv[1] - inv[0])\n",
    "    return pd.Series(feat_lengths) / 1000\n",
    "\n",
    "\n",
    "def count_mismatches_in_features(der_fn, use_strand=True):\n",
    "    feature_counts = Counter()\n",
    "    feat_lengths = get_lengths_for_norm()\n",
    "    n_records = 0\n",
    "    with open(genes_bed) as bed, pysam.TabixFile(der_fn) as tabix:\n",
    "        for record in bed:\n",
    "            record = parse_features(record.split())\n",
    "            if record['chrom'] in ['C', 'M']:\n",
    "                continue\n",
    "            n_records += 1\n",
    "            for feat_type, invs in record['invs'].items():\n",
    "                for inv in invs:\n",
    "                    if not inv[0] == inv[1]:\n",
    "                        for mm in tabix.fetch(record['chrom'], *inv):\n",
    "                            mm = mm.split('\\t')\n",
    "                            if use_strand:\n",
    "                                if mm[5] == record['strand']:\n",
    "                                    feature_counts[feat_type] += 1\n",
    "                            else:\n",
    "                                feature_counts[feat_type] += 1\n",
    "    feature_counts = pd.Series(feature_counts) / feat_lengths\n",
    "    return feature_counts, n_records"
   ]
  },
  {
   "cell_type": "code",
   "execution_count": 42,
   "metadata": {},
   "outputs": [
    {
     "data": {
      "text/plain": [
       "3utr          2.361561\n",
       "5utr          0.002310\n",
       "cds           0.009127\n",
       "downstream    0.086191\n",
       "exons         0.371992\n",
       "dtype: float64"
      ]
     },
     "execution_count": 42,
     "metadata": {},
     "output_type": "execute_result"
    }
   ],
   "source": [
    "vir1_VIRc_feature_counts, n_records_der = count_mismatches_in_features(\n",
    "    'vir1_VIRc_der_sites_thresholded.bed.gz',\n",
    ")\n",
    "miCLIP_feature_counts, n_records_miclip = count_mismatches_in_features(\n",
    "    'miclip_peaks.bed.gz'\n",
    ")\n",
    "vir1_VIRc_feature_counts.head()"
   ]
  },
  {
   "cell_type": "code",
   "execution_count": 45,
   "metadata": {},
   "outputs": [
    {
     "data": {
      "image/png": "[encoded data removed]",
      "text/plain": [
       "<Figure size 360x360 with 1 Axes>"
      ]
     },
     "metadata": {
      "needs_background": "light"
     },
     "output_type": "display_data"
    }
   ],
   "source": [
    "fig, ax = plt.subplots(figsize=(5, 5))\n",
    "sns.barplot(\n",
    "    x='index',\n",
    "    y=0,\n",
    "    data=vir1_VIRc_feature_counts.reset_index(),\n",
    "    color=pal[0],\n",
    "    order=['upstream', '5utr', 'cds', '3utr', 'downstream'],\n",
    "    ax=ax\n",
    ")\n",
    "plt.setp(ax.get_xticklabels(), rotation=35, ha='right')\n",
    "ax.set_xlabel('')\n",
    "ax.set_xticklabels(['Upstream', '5\\'UTR', 'CDS', '3\\'UTR', 'Downstream'])\n",
    "ax.set_ylabel('Error sites per kb')\n",
    "plt.tight_layout()\n",
    "plt.savefig('figures/der_site_features.svg')\n",
    "plt.show()"
   ]
  },
  {
   "cell_type": "code",
   "execution_count": 46,
   "metadata": {},
   "outputs": [
    {
     "data": {
      "image/png": "[encoded data removed]",
      "text/plain": [
       "<Figure size 360x360 with 1 Axes>"
      ]
     },
     "metadata": {
      "needs_background": "light"
     },
     "output_type": "display_data"
    }
   ],
   "source": [
    "fig, ax = plt.subplots(figsize=(5, 5))\n",
    "sns.barplot(\n",
    "    x='index',\n",
    "    y=0,\n",
    "    data=miCLIP_feature_counts.reset_index(),\n",
    "    color=pal[0],\n",
    "    order=['upstream', '5utr', 'cds', '3utr', 'downstream'],\n",
    "    ax=ax\n",
    ")\n",
    "plt.setp(ax.get_xticklabels(), rotation=35, ha='right')\n",
    "ax.set_xlabel('')\n",
    "ax.set_xticklabels(['Upstream', '5\\'UTR', 'CDS', '3\\'UTR', 'Downstream'])\n",
    "ax.set_ylabel('miCLIP peaks per kb')\n",
    "plt.tight_layout()\n",
    "plt.savefig('figures/miclip_site_features.svg')\n",
    "plt.show()"
   ]
  },
  {
   "cell_type": "code",
   "execution_count": 47,
   "metadata": {},
   "outputs": [],
   "source": [
    "def get_cds_region(bed, chrom, stop_pos, gene_strand, use_score=False, use_strand=True):\n",
    "    region = np.zeros(1000, dtype=np.int32)\n",
    "    try:\n",
    "        bed_iter = bed.fetch(chrom, stop_pos - 500, stop_pos + 500)\n",
    "    except ValueError:\n",
    "        # no mismatches on Mt or Pt\n",
    "        return region\n",
    "    for record in bed_iter:\n",
    "        record = record.split()\n",
    "        pos = int(record[1])\n",
    "        if pos > (stop_pos - 500) and pos < (stop_pos + 500):\n",
    "            strand = record[5]\n",
    "            if use_strand:\n",
    "                if strand == gene_strand:\n",
    "                    idx = pos - stop_pos + 500\n",
    "                    region[idx] += float(record[4]) if use_score else 1\n",
    "            else:\n",
    "                idx = pos - stop_pos + 500\n",
    "                region[idx] += float(record[4]) if use_score else 1\n",
    "    return region\n",
    "\n",
    "def get_stop_profiles(tabix_file, use_score=False, use_strand=True):\n",
    "    stop_profiles = []\n",
    "    mismatches = pysam.TabixFile(tabix_file)\n",
    "    n_records = 0\n",
    "    with open(genes_bed) as bed:\n",
    "        for record in bed:\n",
    "            record = record.split()\n",
    "            chrom = record[0].replace('Chr', '')\n",
    "            if chrom in 'MC':\n",
    "                continue\n",
    "            strand = record[5]\n",
    "            cds_end = int(record[7]) if strand == '+' else int(record[6])\n",
    "            stop_prof = get_cds_region(mismatches, chrom, cds_end, strand, use_score=use_score, use_strand=use_strand)\n",
    "            if strand == '-':\n",
    "                stop_prof = stop_prof[::-1]\n",
    "            n_records += 1\n",
    "            stop_profiles.append(stop_prof)\n",
    "    mismatches.close()\n",
    "    return stop_profiles, n_records"
   ]
  },
  {
   "cell_type": "code",
   "execution_count": 48,
   "metadata": {},
   "outputs": [],
   "source": [
    "der_site_stop_profiles, n_records_der = get_stop_profiles('vir1_VIRc_der_sites_thresholded.bed.gz')\n",
    "miclip_stop_profiles, n_records_miclip = get_stop_profiles('miclip_peaks.bed.gz')"
   ]
  },
  {
   "cell_type": "code",
   "execution_count": 49,
   "metadata": {},
   "outputs": [
    {
     "data": {
      "image/png": "[encoded data removed]",
      "text/plain": [
       "<Figure size 648x324 with 2 Axes>"
      ]
     },
     "metadata": {
      "needs_background": "light"
     },
     "output_type": "display_data"
    }
   ],
   "source": [
    "fig, ax = plt.subplots(figsize=(9, 4.5))\n",
    "ax.plot(np.sum(der_site_stop_profiles, axis=0), color=pal[0], lw=2, zorder=1)\n",
    "ax2 = ax.twinx()\n",
    "ax2.plot(np.sum(miclip_stop_profiles, axis=0), color=pal[1], lw=2, zorder=0)\n",
    "ax.axvline(500, color='#555555', ls='--', lw=3, zorder=-1)\n",
    "ax.set_xticks([250, 500, 750])\n",
    "plt.setp(ax2.get_yticklabels(), color=pal[1])\n",
    "plt.setp(ax.get_yticklabels(), color=pal[0])\n",
    "ax.set_xticklabels(['-250nt', 'Stop\\nCodon', '+250nt'])\n",
    "ax2.set_ylabel('miCLIP peaks (frequency)', color=pal[1])\n",
    "ax.set_ylabel('Error sites (frequency)', color=pal[0])\n",
    "ax.set_xlim(200, 800)\n",
    "plt.tight_layout()\n",
    "plt.savefig('figures/stop_codon_metaplot.svg')\n",
    "plt.show()"
   ]
  },
  {
   "cell_type": "markdown",
   "metadata": {},
   "source": [
    "## Relationship between DER sites and 3' ends (in vir and VIRc)"
   ]
  },
  {
   "cell_type": "code",
   "execution_count": 50,
   "metadata": {},
   "outputs": [],
   "source": [
    "class MultiBW(object):\n",
    "\n",
    "    def __init__(self, fns):\n",
    "        self._fns = fns\n",
    "        self._handles = [pybw.open(fn) for fn in fns]\n",
    "\n",
    "    def values(self, chrom, start, end, **kwargs):\n",
    "        kwargs['numpy'] = True\n",
    "        vals = np.zeros(shape=(end - start,))\n",
    "        for bw in self._handles:\n",
    "            vals += bw.values(chrom, start, end, **kwargs)\n",
    "        return vals\n",
    "\n",
    "    def close(self):\n",
    "        for bw in self._handles:\n",
    "            bw.close()\n",
    "\n",
    "\n",
    "def tpp(pos_bw, neg_bw, chrom, start, end, strand):\n",
    "    bw = pos_bw if strand == '+' else neg_bw\n",
    "    vals = bw.values(chrom, start, end, numpy=True)\n",
    "    vals[np.isnan(vals)] = 0.0\n",
    "    if strand == '-':\n",
    "        vals = vals[::-1]\n",
    "    dists = np.repeat(np.arange(len(vals)), vals.astype('i'))\n",
    "    return dists\n",
    "\n",
    "\n",
    "def get_three_prime_end_profiles(der_motifs_fn, pos_bw_fns, neg_bw_fns, flank=200):\n",
    "    pos_bw = MultiBW(pos_bw_fns)\n",
    "    neg_bw = MultiBW(neg_bw_fns)\n",
    "    dist_to_three_prime = []\n",
    "    with open(der_motifs_fn) as der_motifs:\n",
    "        for record in der_motifs:\n",
    "            record = record.split()\n",
    "            chrom = record[0]\n",
    "            start = int(record[1])\n",
    "            end = int(record[2])\n",
    "            strand = record[5]\n",
    "            dists = tpp(pos_bw, neg_bw, chrom, start - flank, start + flank, strand)\n",
    "            dist_to_three_prime.append(dists)\n",
    "    dist_to_three_prime = np.concatenate(dist_to_three_prime) - flank\n",
    "    return dist_to_three_prime"
   ]
  },
  {
   "cell_type": "code",
   "execution_count": 51,
   "metadata": {},
   "outputs": [],
   "source": [
    "VIRc_profiles = get_three_prime_end_profiles(\n",
    "    '../vir1_VIRc_guppy/der_analysis/der_sites_thresholded.bed',\n",
    "    glob('/cluster/ggs_lab/mtparker/ONT_guppy_pipeline_runs/*VIR*/aligned_data/TAIR10/*_fwd_three-prime.bigwig'),\n",
    "    glob('/cluster/ggs_lab/mtparker/ONT_guppy_pipeline_runs/*VIR*/aligned_data/TAIR10/*_rev_three-prime.bigwig'),\n",
    ")\n",
    "vir1_profiles = get_three_prime_end_profiles(\n",
    "    '../vir1_VIRc_guppy/der_analysis/der_sites_thresholded.bed',\n",
    "    glob('/cluster/ggs_lab/mtparker/ONT_guppy_pipeline_runs/*vir*/aligned_data/TAIR10/*_fwd_three-prime.bigwig'),\n",
    "    glob('/cluster/ggs_lab/mtparker/ONT_guppy_pipeline_runs/*vir*/aligned_data/TAIR10/*_rev_three-prime.bigwig')\n",
    ")\n"
   ]
  },
  {
   "cell_type": "code",
   "execution_count": 52,
   "metadata": {},
   "outputs": [
    {
     "data": {
      "image/png": "[encoded data removed]",
      "text/plain": [
       "<Figure size 576x360 with 1 Axes>"
      ]
     },
     "metadata": {
      "needs_background": "light"
     },
     "output_type": "display_data"
    }
   ],
   "source": [
    "fig, ax = plt.subplots(figsize=(8, 5))\n",
    "\n",
    "ax.hist(\n",
    "    VIRc_profiles,\n",
    "    bins=np.linspace(-100, 200, 76),\n",
    "    density=True, alpha=0.5, color=pal[2],\n",
    "    label='VIRc'\n",
    ")\n",
    "ax.hist(\n",
    "    vir1_profiles,\n",
    "    bins=np.linspace(-100, 200, 76),\n",
    "    density=True, alpha=0.5, color=pal[1],\n",
    "    label='vir-1'\n",
    ")\n",
    "ax.set_xlim(-100, 200)\n",
    "ax.set_xticks([-100, 0, 100, 200])\n",
    "ax.set_xlabel('Distance from Error Site (nt)')\n",
    "ax.set_ylabel('Read 3\\' ends (Density)')\n",
    "plt.legend()\n",
    "plt.tight_layout()\n",
    "plt.savefig('figures/error_site_to_three_prime_distance.svg')\n",
    "\n",
    "plt.show()"
   ]
  },
  {
   "cell_type": "code",
   "execution_count": 53,
   "metadata": {},
   "outputs": [
    {
     "data": {
      "text/plain": [
       "(-10, 40)"
      ]
     },
     "execution_count": 53,
     "metadata": {},
     "output_type": "execute_result"
    },
    {
     "data": {
      "image/png": "[encoded data removed]",
      "text/plain": [
       "<Figure size 432x288 with 1 Axes>"
      ]
     },
     "metadata": {
      "needs_background": "light"
     },
     "output_type": "display_data"
    }
   ],
   "source": [
    "bins = np.linspace(-200, 200, 201)\n",
    "diff = np.histogram(vir1_profiles, bins=bins, density=True)[0] - \\\n",
    "       np.histogram(VIRc_profiles, bins=bins, density=True)[0]\n",
    "fig, ax = plt.subplots()\n",
    "plt.plot(bins[:-1], diff)\n",
    "ax.axhline(0)\n",
    "ax.set_xlim(-10, 40)"
   ]
  },
  {
   "cell_type": "markdown",
   "metadata": {},
   "source": [
    "## Expression analysis"
   ]
  },
  {
   "cell_type": "code",
   "execution_count": 62,
   "metadata": {},
   "outputs": [
    {
     "data": {
      "text/html": [
       "<div>\n",
       "<style scoped>\n",
       "    .dataframe tbody tr th:only-of-type {\n",
       "        vertical-align: middle;\n",
       "    }\n",
       "\n",
       "    .dataframe tbody tr th {\n",
       "        vertical-align: top;\n",
       "    }\n",
       "\n",
       "    .dataframe thead th {\n",
       "        text-align: right;\n",
       "    }\n",
       "</style>\n",
       "<table border=\"1\" class=\"dataframe\">\n",
       "  <thead>\n",
       "    <tr style=\"text-align: right;\">\n",
       "      <th></th>\n",
       "      <th>chrom</th>\n",
       "      <th>start</th>\n",
       "      <th>end</th>\n",
       "      <th>gene_id</th>\n",
       "      <th>score</th>\n",
       "      <th>strand</th>\n",
       "    </tr>\n",
       "  </thead>\n",
       "  <tbody>\n",
       "    <tr>\n",
       "      <th>0</th>\n",
       "      <td>1</td>\n",
       "      <td>31169</td>\n",
       "      <td>33171</td>\n",
       "      <td>AT1G01050</td>\n",
       "      <td>.</td>\n",
       "      <td>-</td>\n",
       "    </tr>\n",
       "    <tr>\n",
       "      <th>1</th>\n",
       "      <td>1</td>\n",
       "      <td>44969</td>\n",
       "      <td>47059</td>\n",
       "      <td>AT1G01080</td>\n",
       "      <td>.</td>\n",
       "      <td>-</td>\n",
       "    </tr>\n",
       "    <tr>\n",
       "      <th>2</th>\n",
       "      <td>1</td>\n",
       "      <td>47233</td>\n",
       "      <td>49304</td>\n",
       "      <td>AT1G01090</td>\n",
       "      <td>.</td>\n",
       "      <td>-</td>\n",
       "    </tr>\n",
       "    <tr>\n",
       "      <th>3</th>\n",
       "      <td>1</td>\n",
       "      <td>49908</td>\n",
       "      <td>51210</td>\n",
       "      <td>AT1G01100</td>\n",
       "      <td>.</td>\n",
       "      <td>-</td>\n",
       "    </tr>\n",
       "    <tr>\n",
       "      <th>4</th>\n",
       "      <td>1</td>\n",
       "      <td>72338</td>\n",
       "      <td>74096</td>\n",
       "      <td>AT1G01160</td>\n",
       "      <td>.</td>\n",
       "      <td>+</td>\n",
       "    </tr>\n",
       "  </tbody>\n",
       "</table>\n",
       "</div>"
      ],
      "text/plain": [
       "   chrom  start    end    gene_id score strand\n",
       "0      1  31169  33171  AT1G01050     .      -\n",
       "1      1  44969  47059  AT1G01080     .      -\n",
       "2      1  47233  49304  AT1G01090     .      -\n",
       "3      1  49908  51210  AT1G01100     .      -\n",
       "4      1  72338  74096  AT1G01160     .      +"
      ]
     },
     "execution_count": 62,
     "metadata": {},
     "output_type": "execute_result"
    }
   ],
   "source": [
    "der_genes_df = to_df(der_genes, colnames=['chrom', 'start', 'end', 'gene_id', 'score', 'strand'])\n",
    "der_genes_df.head()"
   ]
  },
  {
   "cell_type": "code",
   "execution_count": 55,
   "metadata": {},
   "outputs": [
    {
     "data": {
      "text/html": [
       "<div>\n",
       "<style scoped>\n",
       "    .dataframe tbody tr th:only-of-type {\n",
       "        vertical-align: middle;\n",
       "    }\n",
       "\n",
       "    .dataframe tbody tr th {\n",
       "        vertical-align: top;\n",
       "    }\n",
       "\n",
       "    .dataframe thead th {\n",
       "        text-align: right;\n",
       "    }\n",
       "</style>\n",
       "<table border=\"1\" class=\"dataframe\">\n",
       "  <thead>\n",
       "    <tr style=\"text-align: right;\">\n",
       "      <th></th>\n",
       "      <th>logFC</th>\n",
       "      <th>logCPM</th>\n",
       "      <th>PValue</th>\n",
       "      <th>FDR</th>\n",
       "    </tr>\n",
       "    <tr>\n",
       "      <th>gene_id</th>\n",
       "      <th></th>\n",
       "      <th></th>\n",
       "      <th></th>\n",
       "      <th></th>\n",
       "    </tr>\n",
       "  </thead>\n",
       "  <tbody>\n",
       "    <tr>\n",
       "      <th>AT1G67105</th>\n",
       "      <td>8.679788</td>\n",
       "      <td>8.790894</td>\n",
       "      <td>1.257789e-220</td>\n",
       "      <td>2.485140e-216</td>\n",
       "    </tr>\n",
       "    <tr>\n",
       "      <th>AT2G01422</th>\n",
       "      <td>10.198674</td>\n",
       "      <td>5.840274</td>\n",
       "      <td>3.073371e-92</td>\n",
       "      <td>3.036183e-88</td>\n",
       "    </tr>\n",
       "    <tr>\n",
       "      <th>AT4G12480</th>\n",
       "      <td>4.763961</td>\n",
       "      <td>6.409932</td>\n",
       "      <td>7.175015e-85</td>\n",
       "      <td>4.725465e-81</td>\n",
       "    </tr>\n",
       "    <tr>\n",
       "      <th>AT1G53480</th>\n",
       "      <td>5.986196</td>\n",
       "      <td>5.295662</td>\n",
       "      <td>2.499343e-60</td>\n",
       "      <td>1.234551e-56</td>\n",
       "    </tr>\n",
       "    <tr>\n",
       "      <th>AT3G05685</th>\n",
       "      <td>-4.577826</td>\n",
       "      <td>5.003789</td>\n",
       "      <td>3.999775e-48</td>\n",
       "      <td>1.580551e-44</td>\n",
       "    </tr>\n",
       "  </tbody>\n",
       "</table>\n",
       "</div>"
      ],
      "text/plain": [
       "               logFC    logCPM         PValue            FDR\n",
       "gene_id                                                     \n",
       "AT1G67105   8.679788  8.790894  1.257789e-220  2.485140e-216\n",
       "AT2G01422  10.198674  5.840274   3.073371e-92   3.036183e-88\n",
       "AT4G12480   4.763961  6.409932   7.175015e-85   4.725465e-81\n",
       "AT1G53480   5.986196  5.295662   2.499343e-60   1.234551e-56\n",
       "AT3G05685  -4.577826  5.003789   3.999775e-48   1.580551e-44"
      ]
     },
     "execution_count": 55,
     "metadata": {},
     "output_type": "execute_result"
    }
   ],
   "source": [
    "de_analysis = pd.read_excel(\n",
    "    '/cluster/ggs_lab/mtparker/nanopore_differential_expression/vir1_de_analysis/vir1_vs_VIRc_nanopore_differential_expression.xlsx',\n",
    "    index_col=0,\n",
    "    usecols=[0, 1, 2, 4, 5])\n",
    "de_analysis.columns = ['logFC', 'logCPM', 'PValue', 'FDR']\n",
    "de_analysis.head()"
   ]
  },
  {
   "cell_type": "code",
   "execution_count": 63,
   "metadata": {},
   "outputs": [
    {
     "data": {
      "text/html": [
       "<div>\n",
       "<style scoped>\n",
       "    .dataframe tbody tr th:only-of-type {\n",
       "        vertical-align: middle;\n",
       "    }\n",
       "\n",
       "    .dataframe tbody tr th {\n",
       "        vertical-align: top;\n",
       "    }\n",
       "\n",
       "    .dataframe thead th {\n",
       "        text-align: right;\n",
       "    }\n",
       "</style>\n",
       "<table border=\"1\" class=\"dataframe\">\n",
       "  <thead>\n",
       "    <tr style=\"text-align: right;\">\n",
       "      <th></th>\n",
       "      <th>logFC</th>\n",
       "      <th>logCPM</th>\n",
       "      <th>LR</th>\n",
       "      <th>PValue</th>\n",
       "      <th>FDR</th>\n",
       "      <th>VIR_GFP_1</th>\n",
       "      <th>VIR_GFP_2</th>\n",
       "      <th>VIR_GFP_3</th>\n",
       "      <th>VIR_GFP_4</th>\n",
       "      <th>VIR_GFP_5</th>\n",
       "      <th>VIR_GFP_6</th>\n",
       "      <th>vir1_1</th>\n",
       "      <th>vir1_2</th>\n",
       "      <th>vir1_3</th>\n",
       "      <th>vir1_4</th>\n",
       "      <th>vir1_5</th>\n",
       "      <th>vir1_6</th>\n",
       "    </tr>\n",
       "    <tr>\n",
       "      <th>gene_id</th>\n",
       "      <th></th>\n",
       "      <th></th>\n",
       "      <th></th>\n",
       "      <th></th>\n",
       "      <th></th>\n",
       "      <th></th>\n",
       "      <th></th>\n",
       "      <th></th>\n",
       "      <th></th>\n",
       "      <th></th>\n",
       "      <th></th>\n",
       "      <th></th>\n",
       "      <th></th>\n",
       "      <th></th>\n",
       "      <th></th>\n",
       "      <th></th>\n",
       "      <th></th>\n",
       "    </tr>\n",
       "  </thead>\n",
       "  <tbody>\n",
       "    <tr>\n",
       "      <th>AT1G01010</th>\n",
       "      <td>0.790845</td>\n",
       "      <td>2.361813</td>\n",
       "      <td>25.876753</td>\n",
       "      <td>3.639256e-07</td>\n",
       "      <td>1.518096e-06</td>\n",
       "      <td>2.269714</td>\n",
       "      <td>1.561109</td>\n",
       "      <td>2.163393</td>\n",
       "      <td>1.818121</td>\n",
       "      <td>1.652585</td>\n",
       "      <td>1.679491</td>\n",
       "      <td>2.682190</td>\n",
       "      <td>2.940875</td>\n",
       "      <td>2.450672</td>\n",
       "      <td>2.597384</td>\n",
       "      <td>2.686535</td>\n",
       "      <td>2.931528</td>\n",
       "    </tr>\n",
       "    <tr>\n",
       "      <th>AT1G01020</th>\n",
       "      <td>-0.140449</td>\n",
       "      <td>3.672068</td>\n",
       "      <td>1.234412</td>\n",
       "      <td>2.665507e-01</td>\n",
       "      <td>3.365443e-01</td>\n",
       "      <td>3.547301</td>\n",
       "      <td>4.072477</td>\n",
       "      <td>3.652994</td>\n",
       "      <td>3.903416</td>\n",
       "      <td>3.384997</td>\n",
       "      <td>3.426883</td>\n",
       "      <td>3.546279</td>\n",
       "      <td>3.661962</td>\n",
       "      <td>3.562402</td>\n",
       "      <td>3.744076</td>\n",
       "      <td>3.615279</td>\n",
       "      <td>3.788169</td>\n",
       "    </tr>\n",
       "    <tr>\n",
       "      <th>AT1G01030</th>\n",
       "      <td>0.891376</td>\n",
       "      <td>3.037784</td>\n",
       "      <td>26.356156</td>\n",
       "      <td>2.839125e-07</td>\n",
       "      <td>1.207498e-06</td>\n",
       "      <td>2.530996</td>\n",
       "      <td>2.891722</td>\n",
       "      <td>2.496387</td>\n",
       "      <td>2.453620</td>\n",
       "      <td>2.492353</td>\n",
       "      <td>1.900039</td>\n",
       "      <td>3.376404</td>\n",
       "      <td>3.567747</td>\n",
       "      <td>3.420286</td>\n",
       "      <td>2.895583</td>\n",
       "      <td>3.789888</td>\n",
       "      <td>3.470110</td>\n",
       "    </tr>\n",
       "    <tr>\n",
       "      <th>AT1G01040</th>\n",
       "      <td>0.844240</td>\n",
       "      <td>5.423772</td>\n",
       "      <td>76.598408</td>\n",
       "      <td>2.095085e-18</td>\n",
       "      <td>4.353242e-17</td>\n",
       "      <td>5.291489</td>\n",
       "      <td>4.855951</td>\n",
       "      <td>4.683981</td>\n",
       "      <td>4.710100</td>\n",
       "      <td>4.825953</td>\n",
       "      <td>4.899644</td>\n",
       "      <td>5.878127</td>\n",
       "      <td>5.756132</td>\n",
       "      <td>5.630622</td>\n",
       "      <td>5.771283</td>\n",
       "      <td>5.937666</td>\n",
       "      <td>5.873470</td>\n",
       "    </tr>\n",
       "    <tr>\n",
       "      <th>AT1G01050</th>\n",
       "      <td>-0.270318</td>\n",
       "      <td>5.265209</td>\n",
       "      <td>9.960478</td>\n",
       "      <td>1.599365e-03</td>\n",
       "      <td>3.485792e-03</td>\n",
       "      <td>5.404978</td>\n",
       "      <td>5.365834</td>\n",
       "      <td>5.357224</td>\n",
       "      <td>5.510981</td>\n",
       "      <td>5.168253</td>\n",
       "      <td>5.383013</td>\n",
       "      <td>5.081752</td>\n",
       "      <td>5.218865</td>\n",
       "      <td>5.038693</td>\n",
       "      <td>5.107933</td>\n",
       "      <td>5.033473</td>\n",
       "      <td>5.412312</td>\n",
       "    </tr>\n",
       "  </tbody>\n",
       "</table>\n",
       "</div>"
      ],
      "text/plain": [
       "              logFC    logCPM         LR        PValue           FDR  \\\n",
       "gene_id                                                                \n",
       "AT1G01010  0.790845  2.361813  25.876753  3.639256e-07  1.518096e-06   \n",
       "AT1G01020 -0.140449  3.672068   1.234412  2.665507e-01  3.365443e-01   \n",
       "AT1G01030  0.891376  3.037784  26.356156  2.839125e-07  1.207498e-06   \n",
       "AT1G01040  0.844240  5.423772  76.598408  2.095085e-18  4.353242e-17   \n",
       "AT1G01050 -0.270318  5.265209   9.960478  1.599365e-03  3.485792e-03   \n",
       "\n",
       "           VIR_GFP_1  VIR_GFP_2  VIR_GFP_3  VIR_GFP_4  VIR_GFP_5  VIR_GFP_6  \\\n",
       "gene_id                                                                       \n",
       "AT1G01010   2.269714   1.561109   2.163393   1.818121   1.652585   1.679491   \n",
       "AT1G01020   3.547301   4.072477   3.652994   3.903416   3.384997   3.426883   \n",
       "AT1G01030   2.530996   2.891722   2.496387   2.453620   2.492353   1.900039   \n",
       "AT1G01040   5.291489   4.855951   4.683981   4.710100   4.825953   4.899644   \n",
       "AT1G01050   5.404978   5.365834   5.357224   5.510981   5.168253   5.383013   \n",
       "\n",
       "             vir1_1    vir1_2    vir1_3    vir1_4    vir1_5    vir1_6  \n",
       "gene_id                                                                \n",
       "AT1G01010  2.682190  2.940875  2.450672  2.597384  2.686535  2.931528  \n",
       "AT1G01020  3.546279  3.661962  3.562402  3.744076  3.615279  3.788169  \n",
       "AT1G01030  3.376404  3.567747  3.420286  2.895583  3.789888  3.470110  \n",
       "AT1G01040  5.878127  5.756132  5.630622  5.771283  5.937666  5.873470  \n",
       "AT1G01050  5.081752  5.218865  5.038693  5.107933  5.033473  5.412312  "
      ]
     },
     "execution_count": 63,
     "metadata": {},
     "output_type": "execute_result"
    }
   ],
   "source": [
    "ill_de_analysis = pd.read_csv(\n",
    "    '/cluster/ggs_lab/mtparker/illumina_rnaseq_pipelines/vir_fpa_35SFPA_rnaseq/differential_expression/edgeR/vir1_vs_VIR_GFP.tsv',\n",
    "    sep='\\t'\n",
    ").set_index('gene_id')\n",
    "ill_de_analysis.head()"
   ]
  },
  {
   "cell_type": "code",
   "execution_count": 64,
   "metadata": {},
   "outputs": [
    {
     "data": {
      "image/png": "[encoded data removed]",
      "text/plain": [
       "<Figure size 576x288 with 1 Axes>"
      ]
     },
     "metadata": {},
     "output_type": "display_data"
    }
   ],
   "source": [
    "sns.set(font_scale=2, style=style)\n",
    "fig, ax = plt.subplots(figsize=(8, 4))\n",
    "sns.distplot(de_analysis[de_analysis.index.isin(der_genes_df.gene_id)].logFC,\n",
    "             bins=np.linspace(-2, 2, 21),\n",
    "             kde_kws={'bw': 0.2},\n",
    "             color=pal[0],\n",
    "             label='Genes with\\nerror sites')\n",
    "sns.distplot(de_analysis[~de_analysis.index.isin(der_genes_df.gene_id)].logFC,\n",
    "             bins=np.linspace(-2, 2, 21),\n",
    "             kde_kws={'bw': 0.2},\n",
    "             color=pal[1],\n",
    "             label='Other genes')\n",
    "ax.set_xlim(-2.5, 2.5)\n",
    "ax.set_ylim(0, 1.25)\n",
    "ax.set_xlabel('vir-1 vs VIRc LogFC (ONT)')\n",
    "ax.set_ylabel('Density')\n",
    "plt.legend(loc=0, fontsize=18)\n",
    "plt.savefig('figures/nanopore_der_exprs.svg')\n",
    "plt.show()"
   ]
  },
  {
   "cell_type": "code",
   "execution_count": 65,
   "metadata": {},
   "outputs": [
    {
     "name": "stdout",
     "output_type": "stream",
     "text": [
      "5083 14675\n"
     ]
    }
   ],
   "source": [
    "print(\n",
    "    len(de_analysis[de_analysis.index.isin(der_genes_df.gene_id)]),\n",
    "    len(de_analysis[~de_analysis.index.isin(der_genes_df.gene_id)])\n",
    ")"
   ]
  },
  {
   "cell_type": "code",
   "execution_count": 66,
   "metadata": {},
   "outputs": [
    {
     "data": {
      "text/plain": [
       "MannwhitneyuResult(statistic=24212339.5, pvalue=2.299381033485119e-305)"
      ]
     },
     "execution_count": 66,
     "metadata": {},
     "output_type": "execute_result"
    }
   ],
   "source": [
    "stats.mannwhitneyu(\n",
    "    de_analysis[de_analysis.index.isin(der_genes_df.gene_id)].logFC,\n",
    "    de_analysis[~de_analysis.index.isin(der_genes_df.gene_id)].logFC\n",
    ")"
   ]
  },
  {
   "cell_type": "code",
   "execution_count": 67,
   "metadata": {},
   "outputs": [
    {
     "data": {
      "image/png": "[encoded data removed]",
      "text/plain": [
       "<Figure size 360x288 with 1 Axes>"
      ]
     },
     "metadata": {},
     "output_type": "display_data"
    }
   ],
   "source": [
    "sns.set(font_scale=2, style=style)\n",
    "fig, ax = plt.subplots(figsize=(5, 4))\n",
    "sns.distplot(ill_de_analysis[ill_de_analysis.index.isin(der_genes_df.gene_id)].logFC,\n",
    "             bins=np.linspace(-2, 2, 21),\n",
    "             kde_kws={'bw': 0.2},\n",
    "             color=pal[0],\n",
    "             label='Genes with\\nerror sites')\n",
    "sns.distplot(ill_de_analysis[~ill_de_analysis.index.isin(der_genes_df.gene_id)].logFC,\n",
    "             bins=np.linspace(-2, 2, 21),\n",
    "             kde_kws={'bw': 0.2},\n",
    "             color=pal[1],\n",
    "             label='Other Genes')\n",
    "ax.set_xlim(-2.5, 3)\n",
    "ax.set_xlabel('vir-1 vs VIRc LogFC (ILL)')\n",
    "ax.set_ylabel('Density')\n",
    "plt.legend(loc=0, fontsize=12)\n",
    "plt.savefig('figures/illumina_der_exprs.svg')\n",
    "plt.show()"
   ]
  },
  {
   "cell_type": "code",
   "execution_count": 68,
   "metadata": {},
   "outputs": [
    {
     "name": "stdout",
     "output_type": "stream",
     "text": [
      "5095 14686\n"
     ]
    }
   ],
   "source": [
    "print(\n",
    "    len(ill_de_analysis[ill_de_analysis.index.isin(der_genes_df.gene_id)]),\n",
    "    len(ill_de_analysis[~ill_de_analysis.index.isin(der_genes_df.gene_id)])\n",
    ")"
   ]
  }
 ],
 "metadata": {
  "kernelspec": {
   "display_name": "Python [conda env:r35py36]",
   "language": "python",
   "name": "conda-env-r35py36-py"
  },
  "language_info": {
   "codemirror_mode": {
    "name": "ipython",
    "version": 3
   },
   "file_extension": ".py",
   "mimetype": "text/x-python",
   "name": "python",
   "nbconvert_exporter": "python",
   "pygments_lexer": "ipython3",
   "version": "3.6.7"
  }
 },
 "nbformat": 4,
 "nbformat_minor": 2
}
