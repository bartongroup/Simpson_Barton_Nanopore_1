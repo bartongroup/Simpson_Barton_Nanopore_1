{
 "cells": [
  {
   "cell_type": "markdown",
   "metadata": {},
   "source": [
    "# Measuring the potential for internal priming in Nanopore reads\n",
    "\n",
    "Does nanopore data suffer from internal priming in the same way as Illumina?"
   ]
  },
  {
   "cell_type": "code",
   "execution_count": 1,
   "metadata": {},
   "outputs": [
    {
     "data": {
      "image/png": "[encoded data removed]",
      "text/plain": [
       "<Figure size 360x72 with 1 Axes>"
      ]
     },
     "metadata": {},
     "output_type": "display_data"
    }
   ],
   "source": [
    "import sys\n",
    "import os\n",
    "import re\n",
    "from glob import glob\n",
    "import random\n",
    "from collections import defaultdict\n",
    "\n",
    "import numpy as np\n",
    "import pandas as pd\n",
    "from scipy import stats\n",
    "import matplotlib.pyplot as plt\n",
    "from matplotlib.colors import ListedColormap\n",
    "import seaborn as sns\n",
    "\n",
    "import pyBigWig as pybw\n",
    "import pysam\n",
    "\n",
    "## Default plotting params\n",
    "\n",
    "%matplotlib inline\n",
    "sns.set(font='Arial')\n",
    "plt.rcParams['svg.fonttype'] = 'none'\n",
    "style = sns.axes_style('white')\n",
    "style.update(sns.axes_style('ticks'))\n",
    "style['xtick.major.size'] = 2\n",
    "style['ytick.major.size'] = 2\n",
    "sns.set(font_scale=2, style=style)\n",
    "pal = sns.color_palette(['#0072b2', '#d55e00', '#009e73', '#f0e442', '#cc79a7'])\n",
    "cmap = ListedColormap(pal.as_hex())\n",
    "sns.set_palette(pal)\n",
    "sns.palplot(pal)\n",
    "plt.show()"
   ]
  },
  {
   "cell_type": "code",
   "execution_count": 2,
   "metadata": {},
   "outputs": [],
   "source": [
    "FASTA = '/cluster/ggs_lab/mtparker/Arabidopsis_annotations/TAIR10/ensembl/release_35/Arabidopsis_thaliana.TAIR10.dna.toplevel.fa'\n",
    "\n",
    "with pysam.FastaFile(FASTA) as fasta, open('polya_sites.bed', 'w') as polya:\n",
    "    for chrom in fasta.references:\n",
    "        seq = fasta.fetch(chrom)\n",
    "        for polya_site in re.finditer('(A{6})|(T{6})', seq):\n",
    "            strand = '+' if polya_site.group(1) else '-'\n",
    "            start = polya_site.start()\n",
    "            end = polya_site.end()\n",
    "            polya.write(f'{chrom}\\t{start}\\t{end}\\tpolya\\t.\\t{strand}\\n')"
   ]
  },
  {
   "cell_type": "code",
   "execution_count": 3,
   "metadata": {},
   "outputs": [
    {
     "name": "stdout",
     "output_type": "stream",
     "text": [
      "1\t194\t200\tpolya\t.\t-\n",
      "1\t630\t636\tpolya\t.\t+\n",
      "1\t691\t697\tpolya\t.\t+\n",
      "1\t754\t760\tpolya\t.\t-\n",
      "1\t1154\t1160\tpolya\t.\t-\n",
      "1\t1198\t1204\tpolya\t.\t+\n",
      "1\t1343\t1349\tpolya\t.\t-\n",
      "1\t1969\t1975\tpolya\t.\t+\n",
      "1\t2082\t2088\tpolya\t.\t-\n",
      "1\t2358\t2364\tpolya\t.\t-\n"
     ]
    }
   ],
   "source": [
    "!head polya_sites.bed"
   ]
  },
  {
   "cell_type": "code",
   "execution_count": 4,
   "metadata": {},
   "outputs": [
    {
     "name": "stdout",
     "output_type": "stream",
     "text": [
      ">1:194-200(-)\n",
      "AAAAAA\n",
      ">1:630-636(+)\n",
      "AAAAAA\n",
      ">1:691-697(+)\n",
      "AAAAAA\n",
      ">1:754-760(-)\n",
      "AAAAAA\n",
      ">1:1154-1160(-)\n",
      "AAAAAA\n"
     ]
    }
   ],
   "source": [
    "!bedtools getfasta -s -fi {FASTA} -bed polya_sites.bed -fo stdout | head"
   ]
  },
  {
   "cell_type": "code",
   "execution_count": 5,
   "metadata": {},
   "outputs": [
    {
     "name": "stdout",
     "output_type": "stream",
     "text": [
      "10116 polya_cds.bed\n"
     ]
    }
   ],
   "source": [
    "%%bash\n",
    "\n",
    "ARAPORT='/cluster/ggs_lab/mtparker/Arabidopsis_annotations/Araport/v11/201606/Araport11_GFF3_genes_transposons.201606.no_chr.gtf'\n",
    "\n",
    "bedtools intersect -s -f 1 -u \\\n",
    "  -a polya_sites.bed \\\n",
    "  -b <(awk '$3 == \"CDS\"' $ARAPORT) |\n",
    "bedtools intersect -v -s \\\n",
    "  -a stdin \\\n",
    "  -b <(awk '$3 == \"3UTR\"' $ARAPORT) > polya_cds.bed\n",
    "wc -l polya_cds.bed"
   ]
  },
  {
   "cell_type": "code",
   "execution_count": 6,
   "metadata": {},
   "outputs": [],
   "source": [
    "def parse_exons(record):\n",
    "    start = int(record[1])\n",
    "    end = int(record[2])\n",
    "    exstarts = np.fromstring(record[11], sep=',') + start\n",
    "    exends = exstarts + np.fromstring(record[10], sep=',')\n",
    "    exons = np.dstack([exstarts, exends])[0]\n",
    "    return exons\n",
    "\n",
    "\n",
    "def get_last_exon(record, flanksize=200):\n",
    "    chrom = record[0].replace('Chr', '')\n",
    "    strand = record[5]\n",
    "    exons = parse_exons(record)\n",
    "    if strand == '+':\n",
    "        last_exon = exons[-1]\n",
    "    else:\n",
    "        last_exon = exons[0]\n",
    "    return chrom, last_exon[0], last_exon[1], strand\n",
    "    "
   ]
  },
  {
   "cell_type": "code",
   "execution_count": 7,
   "metadata": {},
   "outputs": [
    {
     "data": {
      "text/html": [
       "<div>\n",
       "<style scoped>\n",
       "    .dataframe tbody tr th:only-of-type {\n",
       "        vertical-align: middle;\n",
       "    }\n",
       "\n",
       "    .dataframe tbody tr th {\n",
       "        vertical-align: top;\n",
       "    }\n",
       "\n",
       "    .dataframe thead th {\n",
       "        text-align: right;\n",
       "    }\n",
       "</style>\n",
       "<table border=\"1\" class=\"dataframe\">\n",
       "  <thead>\n",
       "    <tr style=\"text-align: right;\">\n",
       "      <th></th>\n",
       "      <th>chrom</th>\n",
       "      <th>start</th>\n",
       "      <th>end</th>\n",
       "      <th>strand</th>\n",
       "    </tr>\n",
       "  </thead>\n",
       "  <tbody>\n",
       "    <tr>\n",
       "      <th>0</th>\n",
       "      <td>1</td>\n",
       "      <td>5438.0</td>\n",
       "      <td>5899.0</td>\n",
       "      <td>+</td>\n",
       "    </tr>\n",
       "    <tr>\n",
       "      <th>1</th>\n",
       "      <td>1</td>\n",
       "      <td>6787.0</td>\n",
       "      <td>7069.0</td>\n",
       "      <td>-</td>\n",
       "    </tr>\n",
       "    <tr>\n",
       "      <th>2</th>\n",
       "      <td>1</td>\n",
       "      <td>6787.0</td>\n",
       "      <td>7069.0</td>\n",
       "      <td>-</td>\n",
       "    </tr>\n",
       "    <tr>\n",
       "      <th>3</th>\n",
       "      <td>1</td>\n",
       "      <td>6787.0</td>\n",
       "      <td>7069.0</td>\n",
       "      <td>-</td>\n",
       "    </tr>\n",
       "    <tr>\n",
       "      <th>4</th>\n",
       "      <td>1</td>\n",
       "      <td>6787.0</td>\n",
       "      <td>7069.0</td>\n",
       "      <td>-</td>\n",
       "    </tr>\n",
       "  </tbody>\n",
       "</table>\n",
       "</div>"
      ],
      "text/plain": [
       "  chrom   start     end strand\n",
       "0     1  5438.0  5899.0      +\n",
       "1     1  6787.0  7069.0      -\n",
       "2     1  6787.0  7069.0      -\n",
       "3     1  6787.0  7069.0      -\n",
       "4     1  6787.0  7069.0      -"
      ]
     },
     "execution_count": 7,
     "metadata": {},
     "output_type": "execute_result"
    }
   ],
   "source": [
    "last_exons = []\n",
    "with open('/cluster/ggs_lab/mtparker/Arabidopsis_annotations/Araport/v11/201606/Araport11_protein_coding.201606.bed') as bed:\n",
    "    for record in bed:\n",
    "        last_exons.append(get_last_exon(record.split()))\n",
    "last_exons = pd.DataFrame(last_exons, columns=['chrom', 'start', 'end', 'strand'])\n",
    "last_exons.head()"
   ]
  },
  {
   "cell_type": "code",
   "execution_count": 8,
   "metadata": {},
   "outputs": [],
   "source": [
    "fwd_bws = [\n",
    "    '/cluster/ggs_lab/mtparker/ONT_guppy_pipeline_runs/20180201_1617_20180201_FAH45730_WT_Col0_2916_regular_seq/aligned_data/TAIR10/201901_col0_2916_fwd_three-prime.bigwig',\n",
    "    '/cluster/ggs_lab/mtparker/ONT_guppy_pipeline_runs/20180413_1558_20180413_FAH77434_mRNA_WT_Col0_2917/aligned_data/TAIR10/201901_col0_2917_fwd_three-prime.bigwig',\n",
    "    '/cluster/ggs_lab/mtparker/ONT_guppy_pipeline_runs/20180416_1534_20180415_FAH83697_mRNA_WT_Col0_2918/aligned_data/TAIR10/201901_col0_2918_fwd_three-prime.bigwig',\n",
    "    '/cluster/ggs_lab/mtparker/ONT_guppy_pipeline_runs/20180418_1428_20180418_FAH83552_mRNA_WT_Col0_2919/aligned_data/TAIR10/201901_col0_2919_fwd_three-prime.bigwig',\n",
    "    '/cluster/ggs_lab/mtparker/ONT_guppy_pipeline_runs/20180405_FAH59362_WT_Col0_2917/aligned_data/TAIR10/201903_col0_2917_exp2_fwd_three-prime.bigwig'\n",
    "]\n",
    "fwd_bws = [pybw.open(fn) for fn in fwd_bws]\n",
    "\n",
    "rev_bws = [\n",
    "    '/cluster/ggs_lab/mtparker/ONT_guppy_pipeline_runs/20180201_1617_20180201_FAH45730_WT_Col0_2916_regular_seq/aligned_data/TAIR10/201901_col0_2916_rev_three-prime.bigwig',\n",
    "    '/cluster/ggs_lab/mtparker/ONT_guppy_pipeline_runs/20180413_1558_20180413_FAH77434_mRNA_WT_Col0_2917/aligned_data/TAIR10/201901_col0_2917_rev_three-prime.bigwig',\n",
    "    '/cluster/ggs_lab/mtparker/ONT_guppy_pipeline_runs/20180416_1534_20180415_FAH83697_mRNA_WT_Col0_2918/aligned_data/TAIR10/201901_col0_2918_rev_three-prime.bigwig',\n",
    "    '/cluster/ggs_lab/mtparker/ONT_guppy_pipeline_runs/20180418_1428_20180418_FAH83552_mRNA_WT_Col0_2919/aligned_data/TAIR10/201901_col0_2919_rev_three-prime.bigwig',\n",
    "    '/cluster/ggs_lab/mtparker/ONT_guppy_pipeline_runs/20180405_FAH59362_WT_Col0_2917/aligned_data/TAIR10/201903_col0_2917_exp2_rev_three-prime.bigwig'\n",
    "]\n",
    "rev_bws = [pybw.open(fn) for fn in rev_bws]"
   ]
  },
  {
   "cell_type": "code",
   "execution_count": 9,
   "metadata": {},
   "outputs": [
    {
     "data": {
      "text/html": [
       "<div>\n",
       "<style scoped>\n",
       "    .dataframe tbody tr th:only-of-type {\n",
       "        vertical-align: middle;\n",
       "    }\n",
       "\n",
       "    .dataframe tbody tr th {\n",
       "        vertical-align: top;\n",
       "    }\n",
       "\n",
       "    .dataframe thead th {\n",
       "        text-align: right;\n",
       "    }\n",
       "</style>\n",
       "<table border=\"1\" class=\"dataframe\">\n",
       "  <thead>\n",
       "    <tr style=\"text-align: right;\">\n",
       "      <th></th>\n",
       "      <th></th>\n",
       "      <th></th>\n",
       "      <th></th>\n",
       "      <th>2916</th>\n",
       "      <th>2918</th>\n",
       "      <th>2919</th>\n",
       "      <th>2917</th>\n",
       "    </tr>\n",
       "  </thead>\n",
       "  <tbody>\n",
       "    <tr>\n",
       "      <th rowspan=\"5\" valign=\"top\">1</th>\n",
       "      <th>5035</th>\n",
       "      <th>5041</th>\n",
       "      <th>+</th>\n",
       "      <td>0.0</td>\n",
       "      <td>0.0</td>\n",
       "      <td>0.0</td>\n",
       "      <td>0.0</td>\n",
       "    </tr>\n",
       "    <tr>\n",
       "      <th>27813</th>\n",
       "      <th>27819</th>\n",
       "      <th>+</th>\n",
       "      <td>0.0</td>\n",
       "      <td>0.0</td>\n",
       "      <td>0.0</td>\n",
       "      <td>0.0</td>\n",
       "    </tr>\n",
       "    <tr>\n",
       "      <th>35743</th>\n",
       "      <th>35749</th>\n",
       "      <th>-</th>\n",
       "      <td>0.0</td>\n",
       "      <td>0.0</td>\n",
       "      <td>0.0</td>\n",
       "      <td>0.0</td>\n",
       "    </tr>\n",
       "    <tr>\n",
       "      <th>39233</th>\n",
       "      <th>39239</th>\n",
       "      <th>-</th>\n",
       "      <td>0.0</td>\n",
       "      <td>0.0</td>\n",
       "      <td>0.0</td>\n",
       "      <td>0.0</td>\n",
       "    </tr>\n",
       "    <tr>\n",
       "      <th>100812</th>\n",
       "      <th>100818</th>\n",
       "      <th>+</th>\n",
       "      <td>0.0</td>\n",
       "      <td>0.0</td>\n",
       "      <td>0.0</td>\n",
       "      <td>0.0</td>\n",
       "    </tr>\n",
       "  </tbody>\n",
       "</table>\n",
       "</div>"
      ],
      "text/plain": [
       "                   2916  2918  2919  2917\n",
       "1 5035   5041   +   0.0   0.0   0.0   0.0\n",
       "  27813  27819  +   0.0   0.0   0.0   0.0\n",
       "  35743  35749  -   0.0   0.0   0.0   0.0\n",
       "  39233  39239  -   0.0   0.0   0.0   0.0\n",
       "  100812 100818 +   0.0   0.0   0.0   0.0"
      ]
     },
     "execution_count": 9,
     "metadata": {},
     "output_type": "execute_result"
    }
   ],
   "source": [
    "def has_three_prime_termination(chrom, start, end, strand, bw, w=13):\n",
    "    win_start = start - w\n",
    "    win_end = end + w\n",
    "    three_prime_ends = bw.values(chrom, win_start, win_end, numpy=True)\n",
    "    three_prime_ends[np.isnan(three_prime_ends)] = 0\n",
    "    return three_prime_ends.sum()\n",
    "\n",
    "\n",
    "internal_priming_counts = defaultdict(list)\n",
    "\n",
    "\n",
    "with open('polya_cds.bed') as bed:\n",
    "    for record in bed:\n",
    "        for fwd_bw, rev_bw in zip(fwd_bws, rev_bws):\n",
    "            chrom, start, end, *_, strand = record.split()\n",
    "            start, end = int(start), int(end)\n",
    "            bw = fwd_bw if strand == '+' else rev_bw\n",
    "            ip = has_three_prime_termination(chrom, start, end, strand, bw)\n",
    "            internal_priming_counts[(chrom, start, end, strand)].append(ip)\n",
    "internal_priming_counts = pd.DataFrame(internal_priming_counts).T\n",
    "internal_priming_counts.columns = ['2916', '2917a', '2918', '2919', '2917b']\n",
    "internal_priming_counts['2917'] = internal_priming_counts.pop('2917a') + internal_priming_counts.pop('2917b')\n",
    "internal_priming_counts.head()"
   ]
  },
  {
   "cell_type": "code",
   "execution_count": 10,
   "metadata": {},
   "outputs": [
    {
     "data": {
      "text/plain": [
       "(10116, 4)"
      ]
     },
     "execution_count": 10,
     "metadata": {},
     "output_type": "execute_result"
    }
   ],
   "source": [
    "internal_priming_counts.shape"
   ]
  },
  {
   "cell_type": "code",
   "execution_count": 11,
   "metadata": {},
   "outputs": [
    {
     "data": {
      "text/html": [
       "<div>\n",
       "<style scoped>\n",
       "    .dataframe tbody tr th:only-of-type {\n",
       "        vertical-align: middle;\n",
       "    }\n",
       "\n",
       "    .dataframe tbody tr th {\n",
       "        vertical-align: top;\n",
       "    }\n",
       "\n",
       "    .dataframe thead th {\n",
       "        text-align: right;\n",
       "    }\n",
       "</style>\n",
       "<table border=\"1\" class=\"dataframe\">\n",
       "  <thead>\n",
       "    <tr style=\"text-align: right;\">\n",
       "      <th></th>\n",
       "      <th></th>\n",
       "      <th></th>\n",
       "      <th></th>\n",
       "      <th>2916</th>\n",
       "      <th>2918</th>\n",
       "      <th>2919</th>\n",
       "      <th>2917</th>\n",
       "      <th>last_exon</th>\n",
       "    </tr>\n",
       "  </thead>\n",
       "  <tbody>\n",
       "    <tr>\n",
       "      <th rowspan=\"5\" valign=\"top\">1</th>\n",
       "      <th>5035</th>\n",
       "      <th>5041</th>\n",
       "      <th>+</th>\n",
       "      <td>0.0</td>\n",
       "      <td>0.0</td>\n",
       "      <td>0.0</td>\n",
       "      <td>0.0</td>\n",
       "      <td>False</td>\n",
       "    </tr>\n",
       "    <tr>\n",
       "      <th>27813</th>\n",
       "      <th>27819</th>\n",
       "      <th>+</th>\n",
       "      <td>0.0</td>\n",
       "      <td>0.0</td>\n",
       "      <td>0.0</td>\n",
       "      <td>0.0</td>\n",
       "      <td>False</td>\n",
       "    </tr>\n",
       "    <tr>\n",
       "      <th>35743</th>\n",
       "      <th>35749</th>\n",
       "      <th>-</th>\n",
       "      <td>0.0</td>\n",
       "      <td>0.0</td>\n",
       "      <td>0.0</td>\n",
       "      <td>0.0</td>\n",
       "      <td>False</td>\n",
       "    </tr>\n",
       "    <tr>\n",
       "      <th>39233</th>\n",
       "      <th>39239</th>\n",
       "      <th>-</th>\n",
       "      <td>0.0</td>\n",
       "      <td>0.0</td>\n",
       "      <td>0.0</td>\n",
       "      <td>0.0</td>\n",
       "      <td>False</td>\n",
       "    </tr>\n",
       "    <tr>\n",
       "      <th>100812</th>\n",
       "      <th>100818</th>\n",
       "      <th>+</th>\n",
       "      <td>0.0</td>\n",
       "      <td>0.0</td>\n",
       "      <td>0.0</td>\n",
       "      <td>0.0</td>\n",
       "      <td>True</td>\n",
       "    </tr>\n",
       "  </tbody>\n",
       "</table>\n",
       "</div>"
      ],
      "text/plain": [
       "                   2916  2918  2919  2917  last_exon\n",
       "1 5035   5041   +   0.0   0.0   0.0   0.0      False\n",
       "  27813  27819  +   0.0   0.0   0.0   0.0      False\n",
       "  35743  35749  -   0.0   0.0   0.0   0.0      False\n",
       "  39233  39239  -   0.0   0.0   0.0   0.0      False\n",
       "  100812 100818 +   0.0   0.0   0.0   0.0       True"
      ]
     },
     "execution_count": 11,
     "metadata": {},
     "output_type": "execute_result"
    }
   ],
   "source": [
    "is_last_exon = []\n",
    "for chrom, start, end, strand in internal_priming_counts.index.to_frame().itertuples(index=False):\n",
    "    if len(last_exons.query(f'chrom == \"{chrom}\" & strand == \"{strand}\" & start <= {start} & end >= {end}')):\n",
    "        is_last_exon.append(True)\n",
    "    else:\n",
    "        is_last_exon.append(False)\n",
    "internal_priming_counts['last_exon'] = is_last_exon\n",
    "internal_priming_counts.head()"
   ]
  },
  {
   "cell_type": "code",
   "execution_count": 12,
   "metadata": {},
   "outputs": [
    {
     "data": {
      "text/plain": [
       "(10116, 5)"
      ]
     },
     "execution_count": 12,
     "metadata": {},
     "output_type": "execute_result"
    }
   ],
   "source": [
    "internal_priming_counts.shape"
   ]
  },
  {
   "cell_type": "code",
   "execution_count": 13,
   "metadata": {},
   "outputs": [
    {
     "data": {
      "text/plain": [
       "(160, 5)"
      ]
     },
     "execution_count": 13,
     "metadata": {},
     "output_type": "execute_result"
    }
   ],
   "source": [
    "internal_priming_counts[internal_priming_counts[['2916', '2917', '2918', '2919']].sum(1) > 0].shape"
   ]
  },
  {
   "cell_type": "code",
   "execution_count": 14,
   "metadata": {},
   "outputs": [
    {
     "data": {
      "text/plain": [
       "1.5816528272044286"
      ]
     },
     "execution_count": 14,
     "metadata": {},
     "output_type": "execute_result"
    }
   ],
   "source": [
    "len(internal_priming_counts[internal_priming_counts[['2916', '2917', '2918', '2919']].sum(1) > 0]) / len(internal_priming_counts) * 100"
   ]
  },
  {
   "cell_type": "code",
   "execution_count": 15,
   "metadata": {},
   "outputs": [
    {
     "data": {
      "text/plain": [
       "137"
      ]
     },
     "execution_count": 15,
     "metadata": {},
     "output_type": "execute_result"
    }
   ],
   "source": [
    "len(internal_priming_counts[internal_priming_counts[['2916', '2917', '2918', '2919']].astype(bool).sum(1) == 1])"
   ]
  },
  {
   "cell_type": "code",
   "execution_count": 16,
   "metadata": {},
   "outputs": [
    {
     "data": {
      "text/plain": [
       "1.3542902332937918"
      ]
     },
     "execution_count": 16,
     "metadata": {},
     "output_type": "execute_result"
    }
   ],
   "source": [
    "len(internal_priming_counts[internal_priming_counts[['2916', '2917', '2918', '2919']].astype(bool).sum(1) == 1]) / len(internal_priming_counts) * 100"
   ]
  },
  {
   "cell_type": "code",
   "execution_count": 17,
   "metadata": {},
   "outputs": [
    {
     "data": {
      "text/plain": [
       "(66, 5)"
      ]
     },
     "execution_count": 17,
     "metadata": {},
     "output_type": "execute_result"
    }
   ],
   "source": [
    "internal_priming_counts[(internal_priming_counts[['2916', '2917', '2918', '2919']].sum(1).astype(bool)) & internal_priming_counts.last_exon].shape"
   ]
  },
  {
   "cell_type": "code",
   "execution_count": 18,
   "metadata": {},
   "outputs": [],
   "source": [
    "internal_priming_counts['supported_in_all'] = internal_priming_counts[['2916', '2917', '2918', '2919']].astype(bool).sum(1) == 4 "
   ]
  },
  {
   "cell_type": "code",
   "execution_count": 19,
   "metadata": {},
   "outputs": [
    {
     "data": {
      "text/html": [
       "<div>\n",
       "<style scoped>\n",
       "    .dataframe tbody tr th:only-of-type {\n",
       "        vertical-align: middle;\n",
       "    }\n",
       "\n",
       "    .dataframe tbody tr th {\n",
       "        vertical-align: top;\n",
       "    }\n",
       "\n",
       "    .dataframe thead th {\n",
       "        text-align: right;\n",
       "    }\n",
       "</style>\n",
       "<table border=\"1\" class=\"dataframe\">\n",
       "  <thead>\n",
       "    <tr style=\"text-align: right;\">\n",
       "      <th></th>\n",
       "      <th></th>\n",
       "      <th></th>\n",
       "      <th></th>\n",
       "      <th>2916</th>\n",
       "      <th>2918</th>\n",
       "      <th>2919</th>\n",
       "      <th>2917</th>\n",
       "      <th>last_exon</th>\n",
       "      <th>supported_in_all</th>\n",
       "    </tr>\n",
       "  </thead>\n",
       "  <tbody>\n",
       "    <tr>\n",
       "      <th rowspan=\"2\" valign=\"top\">1</th>\n",
       "      <th>25263483</th>\n",
       "      <th>25263489</th>\n",
       "      <th>+</th>\n",
       "      <td>9.0</td>\n",
       "      <td>1.0</td>\n",
       "      <td>1.0</td>\n",
       "      <td>9.0</td>\n",
       "      <td>False</td>\n",
       "      <td>True</td>\n",
       "    </tr>\n",
       "    <tr>\n",
       "      <th>25834956</th>\n",
       "      <th>25834962</th>\n",
       "      <th>-</th>\n",
       "      <td>1.0</td>\n",
       "      <td>1.0</td>\n",
       "      <td>1.0</td>\n",
       "      <td>2.0</td>\n",
       "      <td>True</td>\n",
       "      <td>True</td>\n",
       "    </tr>\n",
       "    <tr>\n",
       "      <th>3</th>\n",
       "      <th>23133096</th>\n",
       "      <th>23133102</th>\n",
       "      <th>+</th>\n",
       "      <td>3.0</td>\n",
       "      <td>3.0</td>\n",
       "      <td>2.0</td>\n",
       "      <td>7.0</td>\n",
       "      <td>True</td>\n",
       "      <td>True</td>\n",
       "    </tr>\n",
       "    <tr>\n",
       "      <th>5</th>\n",
       "      <th>15473646</th>\n",
       "      <th>15473652</th>\n",
       "      <th>-</th>\n",
       "      <td>2.0</td>\n",
       "      <td>2.0</td>\n",
       "      <td>4.0</td>\n",
       "      <td>9.0</td>\n",
       "      <td>False</td>\n",
       "      <td>True</td>\n",
       "    </tr>\n",
       "  </tbody>\n",
       "</table>\n",
       "</div>"
      ],
      "text/plain": [
       "                       2916  2918  2919  2917  last_exon  supported_in_all\n",
       "1 25263483 25263489 +   9.0   1.0   1.0   9.0      False              True\n",
       "  25834956 25834962 -   1.0   1.0   1.0   2.0       True              True\n",
       "3 23133096 23133102 +   3.0   3.0   2.0   7.0       True              True\n",
       "5 15473646 15473652 -   2.0   2.0   4.0   9.0      False              True"
      ]
     },
     "execution_count": 19,
     "metadata": {},
     "output_type": "execute_result"
    }
   ],
   "source": [
    "internal_priming_counts[internal_priming_counts.supported_in_all]"
   ]
  },
  {
   "cell_type": "code",
   "execution_count": null,
   "metadata": {},
   "outputs": [],
   "source": []
  }
 ],
 "metadata": {
  "kernelspec": {
   "display_name": "Python [conda env:py3_sci]",
   "language": "python",
   "name": "conda-env-py3_sci-py"
  },
  "language_info": {
   "codemirror_mode": {
    "name": "ipython",
    "version": 3
   },
   "file_extension": ".py",
   "mimetype": "text/x-python",
   "name": "python",
   "nbconvert_exporter": "python",
   "pygments_lexer": "ipython3",
   "version": "3.6.7"
  }
 },
 "nbformat": 4,
 "nbformat_minor": 2
}
