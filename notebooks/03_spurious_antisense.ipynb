{
 "cells": [
  {
   "cell_type": "markdown",
   "metadata": {},
   "source": [
    "## Detecting Spurious Antisense:"
   ]
  },
  {
   "cell_type": "code",
   "execution_count": 1,
   "metadata": {},
   "outputs": [
    {
     "data": {
      "image/png": "[encoded data removed]",
      "text/plain": [
       "<Figure size 432x72 with 1 Axes>"
      ]
     },
     "metadata": {},
     "output_type": "display_data"
    }
   ],
   "source": [
    "import sys\n",
    "import os\n",
    "from glob import glob\n",
    "from collections import defaultdict, Counter, namedtuple\n",
    "import itertools as it\n",
    "import random\n",
    "\n",
    "import numpy as np\n",
    "import pandas as pd\n",
    "from scipy import stats\n",
    "import matplotlib.pyplot as plt\n",
    "from matplotlib.colors import ListedColormap\n",
    "from matplotlib import cm\n",
    "import seaborn as sns\n",
    "\n",
    "import pysam\n",
    "\n",
    "## Default plotting params\n",
    "\n",
    "%matplotlib inline\n",
    "sns.set(font='Arial')\n",
    "plt.rcParams['svg.fonttype'] = 'none'\n",
    "style = sns.axes_style('white')\n",
    "style.update(sns.axes_style('ticks'))\n",
    "style['xtick.major.size'] = 2\n",
    "style['ytick.major.size'] = 2\n",
    "sns.set(font_scale=2, style=style)\n",
    "pal = sns.color_palette(['#0072b2', '#d55e00', '#009e73', '#f0e442', '#cc79a7', '#88828c'])\n",
    "cmap = ListedColormap(pal.as_hex()[:2])\n",
    "sns.set_palette(pal)\n",
    "sns.palplot(pal)\n",
    "plt.show()"
   ]
  },
  {
   "cell_type": "markdown",
   "metadata": {},
   "source": [
    "#### ERCC antisense reads:\n",
    "\n",
    "We can simply count the number of reads that map antisense to the ERCC spikein controls to estimate antisense here"
   ]
  },
  {
   "cell_type": "code",
   "execution_count": 10,
   "metadata": {},
   "outputs": [],
   "source": [
    "ercc_bams = [\n",
    "    '/cluster/ggs_lab/mtparker/ONT_guppy_pipeline_runs/20180201_1617_20180201_FAH45730_WT_Col0_2916_regular_seq/aligned_data/ERCC92/201901_col0_2916.bam',\n",
    "    '/cluster/ggs_lab/mtparker/ONT_guppy_pipeline_runs/20180413_1558_20180413_FAH77434_mRNA_WT_Col0_2917/aligned_data/ERCC92/201901_col0_2917.bam',\n",
    "    '/cluster/ggs_lab/mtparker/ONT_guppy_pipeline_runs/20180416_1534_20180415_FAH83697_mRNA_WT_Col0_2918/aligned_data/ERCC92/201901_col0_2918.bam',\n",
    "    '/cluster/ggs_lab/mtparker/ONT_guppy_pipeline_runs/20180418_1428_20180418_FAH83552_mRNA_WT_Col0_2919/aligned_data/ERCC92/201901_col0_2919.bam',\n",
    "    '/cluster/ggs_lab/mtparker/ONT_guppy_pipeline_runs/20180405_FAH59362_WT_Col0_2917/aligned_data/ERCC92/201903_col0_2917_exp2.bam',    \n",
    "]"
   ]
  },
  {
   "cell_type": "code",
   "execution_count": 11,
   "metadata": {},
   "outputs": [
    {
     "name": "stdout",
     "output_type": "stream",
     "text": [
      "2 0.021175224986765485\n"
     ]
    }
   ],
   "source": [
    "def get_antisense(bam_fn):\n",
    "    antisense = 0\n",
    "    with pysam.AlignmentFile(bam_fn) as bam:\n",
    "        mapped = bam.mapped\n",
    "        for aln in bam.fetch():\n",
    "            if aln.is_reverse:\n",
    "                antisense += 1\n",
    "    return antisense, mapped\n",
    "\n",
    "total_mapped = 0\n",
    "total_antisense = 0\n",
    "for bam in ercc_bams:\n",
    "    a, t = get_antisense(bam)\n",
    "    total_mapped += t\n",
    "    total_antisense += a\n",
    "print(total_antisense, total_antisense / total_mapped * 100)"
   ]
  },
  {
   "cell_type": "markdown",
   "metadata": {},
   "source": [
    "## Antisense at RCA\n",
    "\n",
    "As an example of a highly expressed gene with no genuine antisense annotations, we use RCA."
   ]
  },
  {
   "cell_type": "code",
   "execution_count": 12,
   "metadata": {},
   "outputs": [],
   "source": [
    "rca_locus = ['2', 16_570_746, 16_573_692]"
   ]
  },
  {
   "cell_type": "code",
   "execution_count": 21,
   "metadata": {},
   "outputs": [],
   "source": [
    "def intersect(inv_a, inv_b):\n",
    "    a_start, a_end = inv_a\n",
    "    b_start, b_end = inv_b\n",
    "    if a_end < b_start or a_start > b_end:\n",
    "        return 0\n",
    "    else:\n",
    "        s = max(a_start, b_start)\n",
    "        e = min(a_end, b_end)\n",
    "        return e - s\n",
    "\n",
    "\n",
    "def intersect_spliced_invs(invs_a, invs_b):\n",
    "    score = 0\n",
    "    invs_a = iter(invs_a)\n",
    "    invs_b = iter(invs_b)\n",
    "    a_start, a_end = next(invs_a)\n",
    "    b_start, b_end = next(invs_b)\n",
    "    while True:\n",
    "        if a_end < b_start:\n",
    "            try:\n",
    "                a_start, a_end = next(invs_a)\n",
    "            except StopIteration:\n",
    "                break\n",
    "        elif a_start > b_end:\n",
    "            try:\n",
    "                b_start, b_end = next(invs_b)\n",
    "            except StopIteration:\n",
    "                break\n",
    "        else:\n",
    "            score += intersect([a_start, a_end], [b_start, b_end])\n",
    "            if a_end > b_end:\n",
    "                try:\n",
    "                    b_start, b_end = next(invs_b)\n",
    "                except StopIteration:\n",
    "                    break\n",
    "            else:\n",
    "                try:\n",
    "                    a_start, a_end = next(invs_a)\n",
    "                except StopIteration:\n",
    "                    break\n",
    "    return score\n",
    "\n",
    "\n",
    "def bam_cigar_to_invs(aln):\n",
    "    invs = []\n",
    "    start = aln.reference_start\n",
    "    end = aln.reference_end\n",
    "    strand = '-' if aln.is_reverse else '+'\n",
    "    left = start\n",
    "    right = left\n",
    "    for op, ln in aln.cigar:\n",
    "        if op in (1, 4, 5):\n",
    "            # does not consume reference\n",
    "            continue\n",
    "        elif op in (0, 2, 7, 8):\n",
    "            # consume reference but do not add to invs yet\n",
    "            right += ln\n",
    "        elif op == 3:\n",
    "            invs.append([left, right])\n",
    "            left = right + ln\n",
    "            right = left\n",
    "    if right > left:\n",
    "        invs.append([left, right])\n",
    "    assert invs[0][0] == start\n",
    "    assert invs[-1][1] == end\n",
    "    return start, end, strand, np.array(invs)\n",
    "\n",
    "\n",
    "PARSED_ALN = namedtuple('Aln', 'chrom start end read_id strand invs')\n",
    "\n",
    "def parse_pysam_aln(aln):\n",
    "    chrom = aln.reference_name\n",
    "    read_id = aln.query_name\n",
    "    start, end, strand, invs = bam_cigar_to_invs(\n",
    "        aln)\n",
    "    return PARSED_ALN(chrom, start, end, read_id, strand, invs)\n",
    "\n",
    "counts = Counter()\n",
    "\n",
    "with pysam.AlignmentFile('/cluster/ggs_lab/mtparker/analysis_notebooks/chimeric_transcripts/vir1_vs_col0/aligned_data/col0.merged.bam') as bam:\n",
    "    for aln in bam.fetch(*rca_locus):\n",
    "        aln = parse_pysam_aln(aln)\n",
    "        overlap = intersect_spliced_invs([rca_locus[1:]], aln.invs)\n",
    "        aln_len = sum([e - s for s, e in aln.invs])\n",
    "        if overlap / aln_len > 0.1:\n",
    "            counts[aln.strand] += 1\n"
   ]
  },
  {
   "cell_type": "code",
   "execution_count": 22,
   "metadata": {},
   "outputs": [
    {
     "data": {
      "text/plain": [
       "Counter({'-': 19665})"
      ]
     },
     "execution_count": 22,
     "metadata": {},
     "output_type": "execute_result"
    }
   ],
   "source": [
    "counts"
   ]
  },
  {
   "cell_type": "code",
   "execution_count": null,
   "metadata": {},
   "outputs": [],
   "source": []
  }
 ],
 "metadata": {
  "kernelspec": {
   "display_name": "Python [conda env:r35py36]",
   "language": "python",
   "name": "conda-env-r35py36-py"
  },
  "language_info": {
   "codemirror_mode": {
    "name": "ipython",
    "version": 3
   },
   "file_extension": ".py",
   "mimetype": "text/x-python",
   "name": "python",
   "nbconvert_exporter": "python",
   "pygments_lexer": "ipython3",
   "version": "3.6.7"
  }
 },
 "nbformat": 4,
 "nbformat_minor": 2
}
