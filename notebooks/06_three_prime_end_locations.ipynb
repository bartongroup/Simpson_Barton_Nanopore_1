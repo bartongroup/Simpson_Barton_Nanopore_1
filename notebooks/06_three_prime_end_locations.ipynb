{
 "cells": [
  {
   "cell_type": "markdown",
   "metadata": {},
   "source": [
    "# Three prime end positions:\n",
    "\n",
    "Estimating the genic features where nanopore alignment 3' ends fall"
   ]
  },
  {
   "cell_type": "code",
   "execution_count": 2,
   "metadata": {},
   "outputs": [
    {
     "data": {
      "image/png": "[encoded data removed]",
      "text/plain": [
       "<Figure size 360x72 with 1 Axes>"
      ]
     },
     "metadata": {},
     "output_type": "display_data"
    }
   ],
   "source": [
    "import sys\n",
    "import re\n",
    "import os\n",
    "from glob import glob\n",
    "from collections import Counter, namedtuple, defaultdict\n",
    "from operator import add\n",
    "from functools import reduce\n",
    "import itertools as it\n",
    "import heapq\n",
    "from operator import attrgetter\n",
    "import random\n",
    "\n",
    "import numpy as np\n",
    "import pandas as pd\n",
    "from scipy import stats, signal\n",
    "from statsmodels.stats.multitest import multipletests\n",
    "import matplotlib.pyplot as plt\n",
    "import matplotlib_venn as vn\n",
    "from matplotlib.colors import ListedColormap\n",
    "import seaborn as sns\n",
    "\n",
    "import pysam\n",
    "import pyBigWig as pybw\n",
    "import pybedtools as pybt\n",
    "\n",
    "## Default plotting params\n",
    "\n",
    "%matplotlib inline\n",
    "sns.set(font='Arial')\n",
    "plt.rcParams['svg.fonttype'] = 'none'\n",
    "style = sns.axes_style('white')\n",
    "style.update(sns.axes_style('ticks'))\n",
    "style['xtick.major.size'] = 2\n",
    "style['ytick.major.size'] = 2\n",
    "sns.set(font_scale=2, style=style)\n",
    "pal = sns.color_palette(['#0072b2', '#d55e00', '#009e73', '#f0e442', '#cc79a7'])\n",
    "cmap = ListedColormap(pal.as_hex())\n",
    "sns.set_palette(pal)\n",
    "sns.palplot(pal)\n",
    "plt.show()"
   ]
  },
  {
   "cell_type": "code",
   "execution_count": 2,
   "metadata": {},
   "outputs": [],
   "source": [
    "def parse_exons_introns_flank(record, flanksize=200):\n",
    "    start = int(record[1])\n",
    "    end = int(record[2])\n",
    "    exstarts = np.fromstring(record[11], sep=',') + start\n",
    "    exends = exstarts + np.fromstring(record[10], sep=',')\n",
    "    exons = np.dstack([exstarts, exends])[0]\n",
    "    left_flank = np.array([[max(0, start - flanksize), start]])\n",
    "    right_flank = np.array([[end, end + flanksize]])\n",
    "    if len(exons) > 1:\n",
    "        introns = np.dstack([exons[:-1, 1], exons[1:, 0]])[0]\n",
    "    else:\n",
    "        introns = np.array([])\n",
    "    return exons, introns, left_flank, right_flank\n",
    "\n",
    "\n",
    "def split_intervals(invs, pos, side='left'):\n",
    "    idx = np.searchsorted(invs.ravel(), pos)\n",
    "    split = np.insert(invs.ravel(), idx, [pos, pos]).reshape(-1, 2)\n",
    "    split_idx = (idx + 1) // 2\n",
    "    return split[:split_idx], split[split_idx:]\n",
    "\n",
    "\n",
    "def parse_cds_utr_introns_flank(record, flanksize):\n",
    "    exons, introns, left_flank, right_flank = parse_exons_introns_flank(record, flanksize)\n",
    "    cds_start = int(record[6])\n",
    "    cds_end = int(record[7])\n",
    "    if not cds_start == cds_end:\n",
    "        utr1, cds = split_intervals(exons, cds_start)\n",
    "        cds, utr2 = split_intervals(cds, cds_end)\n",
    "    else:\n",
    "        utr1 = np.array([])\n",
    "        cds = np.array([])\n",
    "        utr2 = np.array([])\n",
    "    return utr1, cds, utr2, introns, left_flank, right_flank, exons\n",
    "\n",
    "\n",
    "def parse_features(record, flanksize=500):\n",
    "    features = {}\n",
    "    invs = {}\n",
    "    features['chrom'] = record[0].replace('Chr', '')\n",
    "    features['strand'] = record[5]\n",
    "    features['gene_id'] = record[3]\n",
    "    utr1, invs['cds'], utr2, invs['introns'], left_flank, right_flank, invs['exons'] = parse_cds_utr_introns_flank(record, flanksize)\n",
    "    if features['strand'] == '+':\n",
    "        invs['5utr'] = utr1\n",
    "        invs['3utr'] = utr2\n",
    "        invs['upstream'] = left_flank\n",
    "        invs['downstream'] = right_flank\n",
    "    else:\n",
    "        invs['5utr'] = utr2\n",
    "        invs['3utr'] = utr1\n",
    "        invs['upstream'] = right_flank\n",
    "        invs['downstream'] = left_flank\n",
    "    features['invs'] = invs\n",
    "    return features\n",
    "\n",
    "\n",
    "def get_lengths_for_norm():\n",
    "    feat_lengths = Counter()\n",
    "    with open(genes_bed) as bed:\n",
    "        for record in bed:\n",
    "            record = parse_features(record.split())\n",
    "            if record['chrom'] in ['C', 'M']:\n",
    "                continue\n",
    "            for feat_type, invs in record['invs'].items():\n",
    "                for inv in invs:\n",
    "                    feat_lengths[feat_type] += (inv[1] - inv[0])\n",
    "    return pd.Series(feat_lengths) / 1000\n",
    "\n",
    "\n",
    "def intersect(inv_a, inv_b):\n",
    "    a_start, a_end = inv_a\n",
    "    b_start, b_end = inv_b\n",
    "    if a_end < b_start or a_start > b_end:\n",
    "        return 0\n",
    "    else:\n",
    "        s = max(a_start, b_start)\n",
    "        e = min(a_end, b_end)\n",
    "        return e - s\n",
    "\n",
    "\n",
    "def intersect_spliced_invs(invs_a, invs_b):\n",
    "    score = 0\n",
    "    invs_a = iter(invs_a)\n",
    "    invs_b = iter(invs_b)\n",
    "    a_start, a_end = next(invs_a)\n",
    "    b_start, b_end = next(invs_b)\n",
    "    while True:\n",
    "        if a_end < b_start:\n",
    "            try:\n",
    "                a_start, a_end = next(invs_a)\n",
    "            except StopIteration:\n",
    "                break\n",
    "        elif a_start > b_end:\n",
    "            try:\n",
    "                b_start, b_end = next(invs_b)\n",
    "            except StopIteration:\n",
    "                break\n",
    "        else:\n",
    "            score += intersect([a_start, a_end], [b_start, b_end])\n",
    "            if a_end > b_end:\n",
    "                try:\n",
    "                    b_start, b_end = next(invs_b)\n",
    "                except StopIteration:\n",
    "                    break\n",
    "            else:\n",
    "                try:\n",
    "                    a_start, a_end = next(invs_a)\n",
    "                except StopIteration:\n",
    "                    break\n",
    "    return score\n",
    "\n",
    "\n",
    "class MultiBam(object):\n",
    "\n",
    "    def __init__(self, bam_fns):\n",
    "        self.bam_handles = {bam_fn: pysam.AlignmentFile(bam_fn) for bam_fn in bam_fns}\n",
    "        self.closed = False\n",
    "\n",
    "    def fetch(self, *args, **kwargs):\n",
    "        queries = [bam.fetch(*args, **kwargs) for bam in self.bam_handles.values()]\n",
    "        yield from heapq.merge(*queries, key=attrgetter('reference_start'))\n",
    "\n",
    "    def close(self):\n",
    "        for bam in self.bam_handles.values():\n",
    "            bam.close()\n",
    "\n",
    "    def __enter__(self):\n",
    "        return self\n",
    "\n",
    "    def __exit__(self, *args):\n",
    "        self.close()\n",
    "\n",
    "\n",
    "\n",
    "def bam_cigar_to_invs(aln, max_allowed_insertion):\n",
    "    invs = []\n",
    "    start = aln.reference_start\n",
    "    end = aln.reference_end\n",
    "    strand = '-' if aln.is_reverse else '+'\n",
    "    left = start\n",
    "    right = left\n",
    "    has_ins = False\n",
    "    for op, ln in aln.cigar:\n",
    "        if op in (4, 5):\n",
    "            # does not consume reference\n",
    "            continue\n",
    "        elif op == 1 and ln > max_allowed_insertion:\n",
    "            has_ins = True\n",
    "        elif op in (0, 2, 7, 8):\n",
    "            # consume reference but do not add to invs yet\n",
    "            right += ln\n",
    "        elif op == 3:\n",
    "            invs.append([left, right])\n",
    "            left = right + ln\n",
    "            right = left\n",
    "    if right > left:\n",
    "        invs.append([left, right])\n",
    "    assert invs[0][0] == start\n",
    "    assert invs[-1][1] == end\n",
    "    return start, end, strand, np.array(invs), has_ins\n",
    "\n",
    "\n",
    "PARSED_ALN = namedtuple('Aln', 'chrom start end read_id strand invs')\n",
    "\n",
    "def parse_pysam_aln(aln, max_allowed_insertion):\n",
    "    chrom = aln.reference_name\n",
    "    read_id = aln.query_name\n",
    "    start, end, strand, invs, has_ins = bam_cigar_to_invs(\n",
    "        aln, max_allowed_insertion)\n",
    "    return PARSED_ALN(chrom, start, end, read_id, strand, invs), has_ins\n",
    "\n",
    "\n",
    "def assign_three_prime_to_feature(three_prime_end, bed_record):\n",
    "    if bed_record['strand'] == '+' and three_prime_end >= bed_record['invs']['exons'][-1][1]:\n",
    "        return 'downstream'\n",
    "    elif bed_record['strand'] == '-' and three_prime_end < bed_record['invs']['exons'][0][0]:\n",
    "        return 'downstream'\n",
    "    for feature_type in ['3utr', 'cds', 'introns', '5utr']:\n",
    "        invs = bed_record['invs'][feature_type]\n",
    "        for start, end in invs:\n",
    "            if start <= three_prime_end < end:\n",
    "                return feature_type\n",
    "    else:\n",
    "        assert False\n",
    "\n",
    "\n",
    "def count_three_prime_ends_in_features(annotation_bed_fn, bam_fns):\n",
    "    feature_pos_counts = defaultdict(Counter)\n",
    "    feature_read_counts = defaultdict(Counter)\n",
    "    with open(annotation_bed_fn) as bed, MultiBam(bam_fns) as bam:\n",
    "        for record in bed:\n",
    "            record = parse_features(record.split())\n",
    "            gene_tpe = Counter()\n",
    "            if not len(record['invs']['cds']):\n",
    "                # not protein coding, continue:\n",
    "                continue\n",
    "            record_span = (record['invs']['exons'][0][0], record['invs']['exons'][-1][1])\n",
    "            for aln in bam.fetch(record['chrom'], *record_span):\n",
    "                aln, has_ins = parse_pysam_aln(aln, 30)\n",
    "                if has_ins:\n",
    "                    continue\n",
    "                elif aln.strand != record['strand']:\n",
    "                    continue\n",
    "                aln_len = sum([e - s for s, e in aln.invs])\n",
    "                i = intersect_spliced_invs(aln.invs, record['invs']['exons'])\n",
    "                if i / aln_len > 0.2:\n",
    "                    tpe = aln.start if aln.strand == '-' else aln.end\n",
    "                    gene_tpe[tpe] += 1\n",
    "            for tpe, count in gene_tpe.items():\n",
    "                feat_type = assign_three_prime_to_feature(tpe, record)\n",
    "                feature_pos_counts[record['gene_id']][feat_type] += 1\n",
    "                feature_read_counts[record['gene_id']][feat_type] += count\n",
    "    feature_pos_counts = pd.DataFrame.from_dict(feature_pos_counts, orient='index').fillna(0)\n",
    "    feature_read_counts = pd.DataFrame.from_dict(feature_read_counts, orient='index').fillna(0)\n",
    "    return feature_pos_counts, feature_read_counts"
   ]
  },
  {
   "cell_type": "code",
   "execution_count": 184,
   "metadata": {},
   "outputs": [],
   "source": [
    "ARAPORT = '/cluster/ggs_lab/mtparker/Arabidopsis_annotations/Araport/v11/201606/Araport11_GFF3_genes_transposons.flat_genes.bed'\n",
    "\n",
    "three_prime_pos_counts, three_prime_read_counts = count_three_prime_ends_in_features(\n",
    "    ARAPORT,\n",
    "    glob('../chimeric_transcripts/vir1_vs_col0/aligned_data/201*_col0_*.bam') + \\\n",
    "    ['/cluster/ggs_lab/mtparker/ONT_guppy_pipeline_runs/20180411_1432_20180911_FAH84603_5adapterLIG_Col0_2916/aligned_data/TAIR10/201902_col0_2916_5adapter_exp2.bam',\n",
    "     '/cluster/ggs_lab/mtparker/ONT_guppy_pipeline_runs/20180508_1522_20180508_FAH82422_5adapt_lig_mRNA_2918/aligned_data/TAIR10/201902_col0_2918_5adapter.bam']\n",
    ")"
   ]
  },
  {
   "cell_type": "code",
   "execution_count": 185,
   "metadata": {},
   "outputs": [
    {
     "data": {
      "text/plain": [
       "3utr          4026196.0\n",
       "downstream     126604.0\n",
       "cds            108878.0\n",
       "introns         12554.0\n",
       "5utr            10646.0\n",
       "dtype: float64"
      ]
     },
     "execution_count": 185,
     "metadata": {},
     "output_type": "execute_result"
    }
   ],
   "source": [
    "three_prime_read_counts.sum(0)"
   ]
  },
  {
   "cell_type": "code",
   "execution_count": 196,
   "metadata": {},
   "outputs": [
    {
     "data": {
      "text/plain": [
       "3utr          594714.0\n",
       "downstream     44464.0\n",
       "cds            38055.0\n",
       "introns         7791.0\n",
       "5utr            1555.0\n",
       "dtype: float64"
      ]
     },
     "execution_count": 196,
     "metadata": {},
     "output_type": "execute_result"
    }
   ],
   "source": [
    "three_prime_pos_counts.sum(0)"
   ]
  },
  {
   "cell_type": "code",
   "execution_count": 198,
   "metadata": {},
   "outputs": [
    {
     "data": {
      "text/html": [
       "<div>\n",
       "<style scoped>\n",
       "    .dataframe tbody tr th:only-of-type {\n",
       "        vertical-align: middle;\n",
       "    }\n",
       "\n",
       "    .dataframe tbody tr th {\n",
       "        vertical-align: top;\n",
       "    }\n",
       "\n",
       "    .dataframe thead th {\n",
       "        text-align: right;\n",
       "    }\n",
       "</style>\n",
       "<table border=\"1\" class=\"dataframe\">\n",
       "  <thead>\n",
       "    <tr style=\"text-align: right;\">\n",
       "      <th></th>\n",
       "      <th>3utr</th>\n",
       "      <th>downstream</th>\n",
       "      <th>cds</th>\n",
       "      <th>introns</th>\n",
       "      <th>5utr</th>\n",
       "    </tr>\n",
       "  </thead>\n",
       "  <tbody>\n",
       "    <tr>\n",
       "      <th>AT1G01010</th>\n",
       "      <td>7.0</td>\n",
       "      <td>1.0</td>\n",
       "      <td>0.0</td>\n",
       "      <td>0.0</td>\n",
       "      <td>0.0</td>\n",
       "    </tr>\n",
       "    <tr>\n",
       "      <th>AT1G01020</th>\n",
       "      <td>52.0</td>\n",
       "      <td>2.0</td>\n",
       "      <td>10.0</td>\n",
       "      <td>1.0</td>\n",
       "      <td>0.0</td>\n",
       "    </tr>\n",
       "    <tr>\n",
       "      <th>AT1G01030</th>\n",
       "      <td>2.0</td>\n",
       "      <td>7.0</td>\n",
       "      <td>0.0</td>\n",
       "      <td>0.0</td>\n",
       "      <td>0.0</td>\n",
       "    </tr>\n",
       "    <tr>\n",
       "      <th>AT1G01040</th>\n",
       "      <td>29.0</td>\n",
       "      <td>2.0</td>\n",
       "      <td>2.0</td>\n",
       "      <td>0.0</td>\n",
       "      <td>0.0</td>\n",
       "    </tr>\n",
       "    <tr>\n",
       "      <th>AT1G01050</th>\n",
       "      <td>257.0</td>\n",
       "      <td>10.0</td>\n",
       "      <td>4.0</td>\n",
       "      <td>2.0</td>\n",
       "      <td>0.0</td>\n",
       "    </tr>\n",
       "  </tbody>\n",
       "</table>\n",
       "</div>"
      ],
      "text/plain": [
       "            3utr  downstream   cds  introns  5utr\n",
       "AT1G01010    7.0         1.0   0.0      0.0   0.0\n",
       "AT1G01020   52.0         2.0  10.0      1.0   0.0\n",
       "AT1G01030    2.0         7.0   0.0      0.0   0.0\n",
       "AT1G01040   29.0         2.0   2.0      0.0   0.0\n",
       "AT1G01050  257.0        10.0   4.0      2.0   0.0"
      ]
     },
     "execution_count": 198,
     "metadata": {},
     "output_type": "execute_result"
    }
   ],
   "source": [
    "three_prime_read_counts.head()"
   ]
  },
  {
   "cell_type": "code",
   "execution_count": 209,
   "metadata": {},
   "outputs": [
    {
     "data": {
      "text/plain": [
       "96.91757851682125"
      ]
     },
     "execution_count": 209,
     "metadata": {},
     "output_type": "execute_result"
    }
   ],
   "source": [
    "tot = three_prime_read_counts.sum(0)\n",
    "(tot['3utr'] + tot['downstream']) / tot.sum() * 100"
   ]
  },
  {
   "cell_type": "code",
   "execution_count": 210,
   "metadata": {},
   "outputs": [
    {
     "data": {
      "text/plain": [
       "4152800.0"
      ]
     },
     "execution_count": 210,
     "metadata": {},
     "output_type": "execute_result"
    }
   ],
   "source": [
    "tot['3utr'] + tot['downstream']"
   ]
  },
  {
   "cell_type": "code",
   "execution_count": 211,
   "metadata": {},
   "outputs": [
    {
     "data": {
      "text/plain": [
       "2.7894376455992447"
      ]
     },
     "execution_count": 211,
     "metadata": {},
     "output_type": "execute_result"
    }
   ],
   "source": [
    "(tot['cds'] + tot['5utr']) / tot.sum()  * 100"
   ]
  },
  {
   "cell_type": "code",
   "execution_count": 212,
   "metadata": {},
   "outputs": [
    {
     "data": {
      "text/plain": [
       "119524.0"
      ]
     },
     "execution_count": 212,
     "metadata": {},
     "output_type": "execute_result"
    }
   ],
   "source": [
    "(tot['cds'] + tot['5utr'])"
   ]
  },
  {
   "cell_type": "code",
   "execution_count": 213,
   "metadata": {},
   "outputs": [
    {
     "data": {
      "text/plain": [
       "0.29298383757950636"
      ]
     },
     "execution_count": 213,
     "metadata": {},
     "output_type": "execute_result"
    }
   ],
   "source": [
    "(tot['introns']) / tot.sum() * 100"
   ]
  },
  {
   "cell_type": "code",
   "execution_count": 214,
   "metadata": {},
   "outputs": [
    {
     "data": {
      "text/plain": [
       "93.09606032226444"
      ]
     },
     "execution_count": 214,
     "metadata": {},
     "output_type": "execute_result"
    }
   ],
   "source": [
    "tot = three_prime_pos_counts.sum(0)\n",
    "(tot['3utr'] + tot['downstream']) / tot.sum() * 100"
   ]
  },
  {
   "cell_type": "code",
   "execution_count": 215,
   "metadata": {},
   "outputs": [
    {
     "data": {
      "text/plain": [
       "639178.0"
      ]
     },
     "execution_count": 215,
     "metadata": {},
     "output_type": "execute_result"
    }
   ],
   "source": [
    "tot['3utr'] + tot['downstream']"
   ]
  },
  {
   "cell_type": "code",
   "execution_count": 216,
   "metadata": {},
   "outputs": [
    {
     "data": {
      "text/plain": [
       "5.769183152994776"
      ]
     },
     "execution_count": 216,
     "metadata": {},
     "output_type": "execute_result"
    }
   ],
   "source": [
    "(tot['cds'] + tot['5utr']) / tot.sum()  * 100"
   ]
  },
  {
   "cell_type": "code",
   "execution_count": 217,
   "metadata": {},
   "outputs": [
    {
     "data": {
      "text/plain": [
       "39610.0"
      ]
     },
     "execution_count": 217,
     "metadata": {},
     "output_type": "execute_result"
    }
   ],
   "source": [
    "(tot['cds'] + tot['5utr'])"
   ]
  },
  {
   "cell_type": "code",
   "execution_count": 218,
   "metadata": {},
   "outputs": [
    {
     "data": {
      "text/plain": [
       "1.13475652474078"
      ]
     },
     "execution_count": 218,
     "metadata": {},
     "output_type": "execute_result"
    }
   ],
   "source": [
    "(tot['introns']) / tot.sum() * 100"
   ]
  },
  {
   "cell_type": "code",
   "execution_count": 334,
   "metadata": {},
   "outputs": [
    {
     "data": {
      "text/plain": [
       "7791.0"
      ]
     },
     "execution_count": 334,
     "metadata": {},
     "output_type": "execute_result"
    }
   ],
   "source": [
    "tot['introns']"
   ]
  },
  {
   "cell_type": "code",
   "execution_count": 194,
   "metadata": {},
   "outputs": [
    {
     "data": {
      "text/html": [
       "<div>\n",
       "<style scoped>\n",
       "    .dataframe tbody tr th:only-of-type {\n",
       "        vertical-align: middle;\n",
       "    }\n",
       "\n",
       "    .dataframe tbody tr th {\n",
       "        vertical-align: top;\n",
       "    }\n",
       "\n",
       "    .dataframe thead th {\n",
       "        text-align: right;\n",
       "    }\n",
       "</style>\n",
       "<table border=\"1\" class=\"dataframe\">\n",
       "  <thead>\n",
       "    <tr style=\"text-align: right;\">\n",
       "      <th></th>\n",
       "      <th>downstream</th>\n",
       "      <th>3utr</th>\n",
       "      <th>cds</th>\n",
       "      <th>introns</th>\n",
       "      <th>5utr</th>\n",
       "      <th>total</th>\n",
       "      <th>downstream_or_3utr_percent</th>\n",
       "      <th>before_3utr_percent</th>\n",
       "      <th>utr5_percent</th>\n",
       "      <th>cds_percent</th>\n",
       "      <th>introns_percent</th>\n",
       "    </tr>\n",
       "  </thead>\n",
       "  <tbody>\n",
       "    <tr>\n",
       "      <th>AT1G01010</th>\n",
       "      <td>3.0</td>\n",
       "      <td>7.0</td>\n",
       "      <td>0.0</td>\n",
       "      <td>0.0</td>\n",
       "      <td>0.0</td>\n",
       "      <td>10.0</td>\n",
       "      <td>100.000000</td>\n",
       "      <td>0.000000</td>\n",
       "      <td>0.0</td>\n",
       "      <td>0.000000</td>\n",
       "      <td>0.000000</td>\n",
       "    </tr>\n",
       "    <tr>\n",
       "      <th>AT1G01020</th>\n",
       "      <td>2.0</td>\n",
       "      <td>85.0</td>\n",
       "      <td>8.0</td>\n",
       "      <td>1.0</td>\n",
       "      <td>0.0</td>\n",
       "      <td>96.0</td>\n",
       "      <td>90.625000</td>\n",
       "      <td>9.375000</td>\n",
       "      <td>0.0</td>\n",
       "      <td>8.333333</td>\n",
       "      <td>1.041667</td>\n",
       "    </tr>\n",
       "    <tr>\n",
       "      <th>AT1G01030</th>\n",
       "      <td>12.0</td>\n",
       "      <td>6.0</td>\n",
       "      <td>0.0</td>\n",
       "      <td>0.0</td>\n",
       "      <td>0.0</td>\n",
       "      <td>18.0</td>\n",
       "      <td>100.000000</td>\n",
       "      <td>0.000000</td>\n",
       "      <td>0.0</td>\n",
       "      <td>0.000000</td>\n",
       "      <td>0.000000</td>\n",
       "    </tr>\n",
       "    <tr>\n",
       "      <th>AT1G01040</th>\n",
       "      <td>4.0</td>\n",
       "      <td>42.0</td>\n",
       "      <td>2.0</td>\n",
       "      <td>0.0</td>\n",
       "      <td>0.0</td>\n",
       "      <td>48.0</td>\n",
       "      <td>95.833333</td>\n",
       "      <td>4.166667</td>\n",
       "      <td>0.0</td>\n",
       "      <td>4.166667</td>\n",
       "      <td>0.000000</td>\n",
       "    </tr>\n",
       "    <tr>\n",
       "      <th>AT1G01050</th>\n",
       "      <td>26.0</td>\n",
       "      <td>354.0</td>\n",
       "      <td>3.0</td>\n",
       "      <td>0.0</td>\n",
       "      <td>0.0</td>\n",
       "      <td>383.0</td>\n",
       "      <td>99.216710</td>\n",
       "      <td>0.783290</td>\n",
       "      <td>0.0</td>\n",
       "      <td>0.783290</td>\n",
       "      <td>0.000000</td>\n",
       "    </tr>\n",
       "  </tbody>\n",
       "</table>\n",
       "</div>"
      ],
      "text/plain": [
       "           downstream   3utr  cds  introns  5utr  total  \\\n",
       "AT1G01010         3.0    7.0  0.0      0.0   0.0   10.0   \n",
       "AT1G01020         2.0   85.0  8.0      1.0   0.0   96.0   \n",
       "AT1G01030        12.0    6.0  0.0      0.0   0.0   18.0   \n",
       "AT1G01040         4.0   42.0  2.0      0.0   0.0   48.0   \n",
       "AT1G01050        26.0  354.0  3.0      0.0   0.0  383.0   \n",
       "\n",
       "           downstream_or_3utr_percent  before_3utr_percent  utr5_percent  \\\n",
       "AT1G01010                  100.000000             0.000000           0.0   \n",
       "AT1G01020                   90.625000             9.375000           0.0   \n",
       "AT1G01030                  100.000000             0.000000           0.0   \n",
       "AT1G01040                   95.833333             4.166667           0.0   \n",
       "AT1G01050                   99.216710             0.783290           0.0   \n",
       "\n",
       "           cds_percent  introns_percent  \n",
       "AT1G01010     0.000000         0.000000  \n",
       "AT1G01020     8.333333         1.041667  \n",
       "AT1G01030     0.000000         0.000000  \n",
       "AT1G01040     4.166667         0.000000  \n",
       "AT1G01050     0.783290         0.000000  "
      ]
     },
     "execution_count": 194,
     "metadata": {},
     "output_type": "execute_result"
    }
   ],
   "source": [
    "three_prime_counts = three_prime_counts.assign(total=three_prime_counts[['downstream', '3utr', 'cds', 'introns', '5utr']].sum(1))\n",
    "three_prime_counts = three_prime_counts.assign(\n",
    "    downstream_or_3utr_percent=(three_prime_counts.downstream + three_prime_counts['3utr']) / three_prime_counts.total * 100,\n",
    "    before_3utr_percent=(three_prime_counts.cds + three_prime_counts.introns + three_prime_counts['5utr']) / three_prime_counts.total * 100,\n",
    "    utr5_percent=three_prime_counts['5utr'] / three_prime_counts.total * 100,\n",
    "    cds_percent=three_prime_counts['cds'] / three_prime_counts.total * 100,\n",
    "    introns_percent=three_prime_counts['introns'] / three_prime_counts.total * 100,\n",
    ")\n",
    "three_prime_counts.head()"
   ]
  },
  {
   "cell_type": "code",
   "execution_count": 254,
   "metadata": {},
   "outputs": [
    {
     "data": {
      "text/html": [
       "<div>\n",
       "<style scoped>\n",
       "    .dataframe tbody tr th:only-of-type {\n",
       "        vertical-align: middle;\n",
       "    }\n",
       "\n",
       "    .dataframe tbody tr th {\n",
       "        vertical-align: top;\n",
       "    }\n",
       "\n",
       "    .dataframe thead th {\n",
       "        text-align: right;\n",
       "    }\n",
       "</style>\n",
       "<table border=\"1\" class=\"dataframe\">\n",
       "  <thead>\n",
       "    <tr style=\"text-align: right;\">\n",
       "      <th></th>\n",
       "      <th>downstream</th>\n",
       "      <th>3utr</th>\n",
       "      <th>cds</th>\n",
       "      <th>introns</th>\n",
       "      <th>5utr</th>\n",
       "      <th>total</th>\n",
       "      <th>downstream_or_3utr_percent</th>\n",
       "      <th>before_3utr_percent</th>\n",
       "      <th>utr5_percent</th>\n",
       "      <th>cds_percent</th>\n",
       "      <th>introns_percent</th>\n",
       "    </tr>\n",
       "  </thead>\n",
       "  <tbody>\n",
       "    <tr>\n",
       "      <th>AT1G01010</th>\n",
       "      <td>3.0</td>\n",
       "      <td>7.0</td>\n",
       "      <td>0.0</td>\n",
       "      <td>0.0</td>\n",
       "      <td>0.0</td>\n",
       "      <td>10.0</td>\n",
       "      <td>100.000000</td>\n",
       "      <td>0.000000</td>\n",
       "      <td>0.0</td>\n",
       "      <td>0.000000</td>\n",
       "      <td>0.000000</td>\n",
       "    </tr>\n",
       "    <tr>\n",
       "      <th>AT1G01020</th>\n",
       "      <td>2.0</td>\n",
       "      <td>85.0</td>\n",
       "      <td>8.0</td>\n",
       "      <td>1.0</td>\n",
       "      <td>0.0</td>\n",
       "      <td>96.0</td>\n",
       "      <td>90.625000</td>\n",
       "      <td>9.375000</td>\n",
       "      <td>0.0</td>\n",
       "      <td>8.333333</td>\n",
       "      <td>1.041667</td>\n",
       "    </tr>\n",
       "    <tr>\n",
       "      <th>AT1G01030</th>\n",
       "      <td>12.0</td>\n",
       "      <td>6.0</td>\n",
       "      <td>0.0</td>\n",
       "      <td>0.0</td>\n",
       "      <td>0.0</td>\n",
       "      <td>18.0</td>\n",
       "      <td>100.000000</td>\n",
       "      <td>0.000000</td>\n",
       "      <td>0.0</td>\n",
       "      <td>0.000000</td>\n",
       "      <td>0.000000</td>\n",
       "    </tr>\n",
       "    <tr>\n",
       "      <th>AT1G01040</th>\n",
       "      <td>4.0</td>\n",
       "      <td>42.0</td>\n",
       "      <td>2.0</td>\n",
       "      <td>0.0</td>\n",
       "      <td>0.0</td>\n",
       "      <td>48.0</td>\n",
       "      <td>95.833333</td>\n",
       "      <td>4.166667</td>\n",
       "      <td>0.0</td>\n",
       "      <td>4.166667</td>\n",
       "      <td>0.000000</td>\n",
       "    </tr>\n",
       "    <tr>\n",
       "      <th>AT1G01050</th>\n",
       "      <td>26.0</td>\n",
       "      <td>354.0</td>\n",
       "      <td>3.0</td>\n",
       "      <td>0.0</td>\n",
       "      <td>0.0</td>\n",
       "      <td>383.0</td>\n",
       "      <td>99.216710</td>\n",
       "      <td>0.783290</td>\n",
       "      <td>0.0</td>\n",
       "      <td>0.783290</td>\n",
       "      <td>0.000000</td>\n",
       "    </tr>\n",
       "  </tbody>\n",
       "</table>\n",
       "</div>"
      ],
      "text/plain": [
       "           downstream   3utr  cds  introns  5utr  total  \\\n",
       "AT1G01010         3.0    7.0  0.0      0.0   0.0   10.0   \n",
       "AT1G01020         2.0   85.0  8.0      1.0   0.0   96.0   \n",
       "AT1G01030        12.0    6.0  0.0      0.0   0.0   18.0   \n",
       "AT1G01040         4.0   42.0  2.0      0.0   0.0   48.0   \n",
       "AT1G01050        26.0  354.0  3.0      0.0   0.0  383.0   \n",
       "\n",
       "           downstream_or_3utr_percent  before_3utr_percent  utr5_percent  \\\n",
       "AT1G01010                  100.000000             0.000000           0.0   \n",
       "AT1G01020                   90.625000             9.375000           0.0   \n",
       "AT1G01030                  100.000000             0.000000           0.0   \n",
       "AT1G01040                   95.833333             4.166667           0.0   \n",
       "AT1G01050                   99.216710             0.783290           0.0   \n",
       "\n",
       "           cds_percent  introns_percent  \n",
       "AT1G01010     0.000000         0.000000  \n",
       "AT1G01020     8.333333         1.041667  \n",
       "AT1G01030     0.000000         0.000000  \n",
       "AT1G01040     4.166667         0.000000  \n",
       "AT1G01050     0.783290         0.000000  "
      ]
     },
     "execution_count": 254,
     "metadata": {},
     "output_type": "execute_result"
    }
   ],
   "source": [
    "three_prime_counts.head()"
   ]
  },
  {
   "cell_type": "code",
   "execution_count": 255,
   "metadata": {},
   "outputs": [],
   "source": [
    "three_prime_counts.to_excel(\n",
    "    'nanopore_three_prime_end_position_counts.xlsx',\n",
    "    sheet_name='three_prime_end_positions'\n",
    ")"
   ]
  }
 ],
 "metadata": {
  "kernelspec": {
   "display_name": "Python [conda env:r35py36]",
   "language": "python",
   "name": "conda-env-r35py36-py"
  },
  "language_info": {
   "codemirror_mode": {
    "name": "ipython",
    "version": 3
   },
   "file_extension": ".py",
   "mimetype": "text/x-python",
   "name": "python",
   "nbconvert_exporter": "python",
   "pygments_lexer": "ipython3",
   "version": "3.6.7"
  }
 },
 "nbformat": 4,
 "nbformat_minor": 2
}
