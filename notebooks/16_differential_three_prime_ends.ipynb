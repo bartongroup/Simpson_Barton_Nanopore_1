{
 "cells": [
  {
   "cell_type": "markdown",
   "metadata": {},
   "source": [
    "# Three prime end positions:\n",
    "\n",
    "Estimating the genic features where nanopore alignment 3' ends fall, and how these change in the vir-1 mutant"
   ]
  },
  {
   "cell_type": "code",
   "execution_count": 1,
   "metadata": {},
   "outputs": [
    {
     "data": {
      "image/png": "[encoded data removed]",
      "text/plain": [
       "<Figure size 360x72 with 1 Axes>"
      ]
     },
     "metadata": {},
     "output_type": "display_data"
    }
   ],
   "source": [
    "import sys\n",
    "import re\n",
    "import os\n",
    "from glob import glob\n",
    "from collections import Counter, namedtuple, defaultdict\n",
    "from operator import add\n",
    "from functools import reduce\n",
    "import itertools as it\n",
    "import heapq\n",
    "from operator import attrgetter\n",
    "import random\n",
    "\n",
    "import numpy as np\n",
    "import pandas as pd\n",
    "from scipy import stats, signal\n",
    "from statsmodels.stats.multitest import multipletests\n",
    "import matplotlib.pyplot as plt\n",
    "import matplotlib_venn as vn\n",
    "from matplotlib.colors import ListedColormap\n",
    "import seaborn as sns\n",
    "\n",
    "import pysam\n",
    "import pyBigWig as pybw\n",
    "import pybedtools as pybt\n",
    "\n",
    "## Default plotting params\n",
    "\n",
    "%matplotlib inline\n",
    "sns.set(font='Arial')\n",
    "plt.rcParams['svg.fonttype'] = 'none'\n",
    "style = sns.axes_style('white')\n",
    "style.update(sns.axes_style('ticks'))\n",
    "style['xtick.major.size'] = 2\n",
    "style['ytick.major.size'] = 2\n",
    "sns.set(font_scale=2, style=style)\n",
    "pal = sns.color_palette(['#0072b2', '#d55e00', '#009e73', '#f0e442', '#cc79a7'])\n",
    "cmap = ListedColormap(pal.as_hex())\n",
    "sns.set_palette(pal)\n",
    "sns.palplot(pal)\n",
    "plt.show()"
   ]
  },
  {
   "cell_type": "code",
   "execution_count": 2,
   "metadata": {},
   "outputs": [],
   "source": [
    "def parse_exons_introns_flank(record, flanksize=200):\n",
    "    start = int(record[1])\n",
    "    end = int(record[2])\n",
    "    exstarts = np.fromstring(record[11], sep=',') + start\n",
    "    exends = exstarts + np.fromstring(record[10], sep=',')\n",
    "    exons = np.dstack([exstarts, exends])[0]\n",
    "    left_flank = np.array([[max(0, start - flanksize), start]])\n",
    "    right_flank = np.array([[end, end + flanksize]])\n",
    "    if len(exons) > 1:\n",
    "        introns = np.dstack([exons[:-1, 1], exons[1:, 0]])[0]\n",
    "    else:\n",
    "        introns = np.array([])\n",
    "    return exons, introns, left_flank, right_flank\n",
    "\n",
    "\n",
    "def split_intervals(invs, pos, side='left'):\n",
    "    idx = np.searchsorted(invs.ravel(), pos)\n",
    "    split = np.insert(invs.ravel(), idx, [pos, pos]).reshape(-1, 2)\n",
    "    split_idx = (idx + 1) // 2\n",
    "    return split[:split_idx], split[split_idx:]\n",
    "\n",
    "\n",
    "def parse_cds_utr_introns_flank(record, flanksize):\n",
    "    exons, introns, left_flank, right_flank = parse_exons_introns_flank(record, flanksize)\n",
    "    cds_start = int(record[6])\n",
    "    cds_end = int(record[7])\n",
    "    if not cds_start == cds_end:\n",
    "        utr1, cds = split_intervals(exons, cds_start)\n",
    "        cds, utr2 = split_intervals(cds, cds_end)\n",
    "    else:\n",
    "        utr1 = np.array([])\n",
    "        cds = np.array([])\n",
    "        utr2 = np.array([])\n",
    "    return utr1, cds, utr2, introns, left_flank, right_flank, exons\n",
    "\n",
    "\n",
    "def parse_features(record, flanksize=500):\n",
    "    features = {}\n",
    "    invs = {}\n",
    "    features['chrom'] = record[0].replace('Chr', '')\n",
    "    features['strand'] = record[5]\n",
    "    features['gene_id'] = record[3]\n",
    "    utr1, invs['cds'], utr2, invs['introns'], left_flank, right_flank, invs['exons'] = parse_cds_utr_introns_flank(record, flanksize)\n",
    "    if features['strand'] == '+':\n",
    "        invs['5utr'] = utr1\n",
    "        invs['3utr'] = utr2\n",
    "        invs['upstream'] = left_flank\n",
    "        invs['downstream'] = right_flank\n",
    "    else:\n",
    "        invs['5utr'] = utr2\n",
    "        invs['3utr'] = utr1\n",
    "        invs['upstream'] = right_flank\n",
    "        invs['downstream'] = left_flank\n",
    "    features['invs'] = invs\n",
    "    return features\n",
    "\n",
    "\n",
    "def get_lengths_for_norm():\n",
    "    feat_lengths = Counter()\n",
    "    with open(genes_bed) as bed:\n",
    "        for record in bed:\n",
    "            record = parse_features(record.split())\n",
    "            if record['chrom'] in ['C', 'M']:\n",
    "                continue\n",
    "            for feat_type, invs in record['invs'].items():\n",
    "                for inv in invs:\n",
    "                    feat_lengths[feat_type] += (inv[1] - inv[0])\n",
    "    return pd.Series(feat_lengths) / 1000\n",
    "\n",
    "\n",
    "def intersect(inv_a, inv_b):\n",
    "    a_start, a_end = inv_a\n",
    "    b_start, b_end = inv_b\n",
    "    if a_end < b_start or a_start > b_end:\n",
    "        return 0\n",
    "    else:\n",
    "        s = max(a_start, b_start)\n",
    "        e = min(a_end, b_end)\n",
    "        return e - s\n",
    "\n",
    "\n",
    "def intersect_spliced_invs(invs_a, invs_b):\n",
    "    score = 0\n",
    "    invs_a = iter(invs_a)\n",
    "    invs_b = iter(invs_b)\n",
    "    a_start, a_end = next(invs_a)\n",
    "    b_start, b_end = next(invs_b)\n",
    "    while True:\n",
    "        if a_end < b_start:\n",
    "            try:\n",
    "                a_start, a_end = next(invs_a)\n",
    "            except StopIteration:\n",
    "                break\n",
    "        elif a_start > b_end:\n",
    "            try:\n",
    "                b_start, b_end = next(invs_b)\n",
    "            except StopIteration:\n",
    "                break\n",
    "        else:\n",
    "            score += intersect([a_start, a_end], [b_start, b_end])\n",
    "            if a_end > b_end:\n",
    "                try:\n",
    "                    b_start, b_end = next(invs_b)\n",
    "                except StopIteration:\n",
    "                    break\n",
    "            else:\n",
    "                try:\n",
    "                    a_start, a_end = next(invs_a)\n",
    "                except StopIteration:\n",
    "                    break\n",
    "    return score\n",
    "\n",
    "\n",
    "class MultiBam(object):\n",
    "\n",
    "    def __init__(self, bam_fns):\n",
    "        self.bam_handles = {bam_fn: pysam.AlignmentFile(bam_fn) for bam_fn in bam_fns}\n",
    "        self.closed = False\n",
    "\n",
    "    def fetch(self, *args, **kwargs):\n",
    "        queries = [bam.fetch(*args, **kwargs) for bam in self.bam_handles.values()]\n",
    "        yield from heapq.merge(*queries, key=attrgetter('reference_start'))\n",
    "\n",
    "    def close(self):\n",
    "        for bam in self.bam_handles.values():\n",
    "            bam.close()\n",
    "\n",
    "    def __enter__(self):\n",
    "        return self\n",
    "\n",
    "    def __exit__(self, *args):\n",
    "        self.close()\n",
    "\n",
    "\n",
    "\n",
    "def bam_cigar_to_invs(aln, max_allowed_insertion):\n",
    "    invs = []\n",
    "    start = aln.reference_start\n",
    "    end = aln.reference_end\n",
    "    strand = '-' if aln.is_reverse else '+'\n",
    "    left = start\n",
    "    right = left\n",
    "    has_ins = False\n",
    "    for op, ln in aln.cigar:\n",
    "        if op in (4, 5):\n",
    "            # does not consume reference\n",
    "            continue\n",
    "        elif op == 1 and ln > max_allowed_insertion:\n",
    "            has_ins = True\n",
    "        elif op in (0, 2, 7, 8):\n",
    "            # consume reference but do not add to invs yet\n",
    "            right += ln\n",
    "        elif op == 3:\n",
    "            invs.append([left, right])\n",
    "            left = right + ln\n",
    "            right = left\n",
    "    if right > left:\n",
    "        invs.append([left, right])\n",
    "    assert invs[0][0] == start\n",
    "    assert invs[-1][1] == end\n",
    "    return start, end, strand, np.array(invs), has_ins\n",
    "\n",
    "\n",
    "PARSED_ALN = namedtuple('Aln', 'chrom start end read_id strand invs')\n",
    "\n",
    "def parse_pysam_aln(aln, max_allowed_insertion):\n",
    "    chrom = aln.reference_name\n",
    "    read_id = aln.query_name\n",
    "    start, end, strand, invs, has_ins = bam_cigar_to_invs(\n",
    "        aln, max_allowed_insertion)\n",
    "    return PARSED_ALN(chrom, start, end, read_id, strand, invs), has_ins\n",
    "\n",
    "\n",
    "def assign_three_prime_to_feature(three_prime_end, bed_record):\n",
    "    if bed_record['strand'] == '+' and three_prime_end >= bed_record['invs']['exons'][-1][1]:\n",
    "        return 'downstream'\n",
    "    elif bed_record['strand'] == '-' and three_prime_end < bed_record['invs']['exons'][0][0]:\n",
    "        return 'downstream'\n",
    "    for feature_type in ['3utr', 'cds', 'introns', '5utr']:\n",
    "        invs = bed_record['invs'][feature_type]\n",
    "        for start, end in invs:\n",
    "            if start <= three_prime_end < end:\n",
    "                return feature_type\n",
    "    else:\n",
    "        assert False\n",
    "\n",
    "\n",
    "def count_three_prime_ends_in_features(annotation_bed_fn, bam_fns):\n",
    "    feature_pos_counts = defaultdict(Counter)\n",
    "    feature_read_counts = defaultdict(Counter)\n",
    "    with open(annotation_bed_fn) as bed, MultiBam(bam_fns) as bam:\n",
    "        for record in bed:\n",
    "            record = parse_features(record.split())\n",
    "            gene_tpe = Counter()\n",
    "            if not len(record['invs']['cds']):\n",
    "                # not protein coding, continue:\n",
    "                continue\n",
    "            record_span = (record['invs']['exons'][0][0], record['invs']['exons'][-1][1])\n",
    "            for aln in bam.fetch(record['chrom'], *record_span):\n",
    "                aln, has_ins = parse_pysam_aln(aln, 30)\n",
    "                if has_ins:\n",
    "                    continue\n",
    "                elif aln.strand != record['strand']:\n",
    "                    continue\n",
    "                aln_len = sum([e - s for s, e in aln.invs])\n",
    "                i = intersect_spliced_invs(aln.invs, record['invs']['exons'])\n",
    "                if i / aln_len > 0.2:\n",
    "                    tpe = aln.start if aln.strand == '-' else aln.end\n",
    "                    gene_tpe[tpe] += 1\n",
    "            for tpe, count in gene_tpe.items():\n",
    "                feat_type = assign_three_prime_to_feature(tpe, record)\n",
    "                feature_pos_counts[record['gene_id']][feat_type] += 1\n",
    "                feature_read_counts[record['gene_id']][feat_type] += count\n",
    "    feature_pos_counts = pd.DataFrame.from_dict(feature_pos_counts, orient='index').fillna(0)\n",
    "    feature_read_counts = pd.DataFrame.from_dict(feature_read_counts, orient='index').fillna(0)\n",
    "    return feature_pos_counts, feature_read_counts"
   ]
  },
  {
   "cell_type": "code",
   "execution_count": 3,
   "metadata": {},
   "outputs": [],
   "source": [
    "def find_dist_from_histogram_peaks(arr1, arr2):\n",
    "    minlength = int(np.max(np.concatenate([arr1, arr2]))) + 1\n",
    "    hist1 = np.histogram(arr1, bins=minlength, range=(0, minlength), density=False)[0] / len(arr1)\n",
    "    hist2 = np.histogram(arr2, bins=minlength, range=(0, minlength), density=False)[0] / len(arr2)\n",
    "    hist_diff = hist2 - hist1\n",
    "    most_reduced_site = np.argmin(hist_diff)\n",
    "    most_increased_site = np.argmax(hist_diff)\n",
    "    prox_site, dist_site = sorted([most_reduced_site, most_increased_site])\n",
    "    lod = (np.log2(hist2[dist_site] / hist2[prox_site]) -\n",
    "           np.log2(hist1[dist_site] / hist1[prox_site]))\n",
    "    return most_increased_site, most_reduced_site, lod\n",
    "\n",
    "\n",
    "def assign_three_prime_to_feature(three_prime_end, bed_record, span):\n",
    "    if three_prime_end < span[0]:\n",
    "        return 'upstream' if bed_record['strand'] == '+' else 'downstream'\n",
    "    elif three_prime_end >= span[1]:\n",
    "        return 'downstream' if bed_record['strand'] == '+' else 'upstream'\n",
    "    else:\n",
    "        for feature_type in ['3utr', 'cds', 'introns', '5utr']:\n",
    "            invs = bed_record['invs'][feature_type]\n",
    "            for start, end in invs:\n",
    "                if start <= three_prime_end < end:\n",
    "                    return feature_type\n",
    "        else:\n",
    "            raise ValueError('wtf')\n",
    "\n",
    "\n",
    "def find_readthroughs(annotation_bed_fn, sample_a_bam_fns, sample_b_bam_fns, min_reads=10):\n",
    "    res = []\n",
    "    with open(annotation_bed_fn) as bed, MultiBam(sample_a_bam_fns) as bam_a, MultiBam(sample_b_bam_fns) as bam_b:\n",
    "        for record in bed:\n",
    "            record = parse_features(record.split())\n",
    "            if not len(record['invs']['cds']):\n",
    "                # not protein coding, continue:\n",
    "                continue\n",
    "            record_span = (record['invs']['exons'][0][0], record['invs']['exons'][-1][1])\n",
    "            three_prime_dists = [[], []]\n",
    "            for j, mbam in enumerate([bam_a, bam_b]):\n",
    "                for aln in mbam.fetch(record['chrom'], *record_span):\n",
    "                    aln, has_ins = parse_pysam_aln(aln, 30)\n",
    "                    if has_ins:\n",
    "                        continue\n",
    "                    if aln.strand != record['strand']:\n",
    "                        continue\n",
    "                    aln_len = sum([e - s for s, e in aln.invs])\n",
    "                    i = intersect_spliced_invs(aln.invs, record['invs']['exons'])\n",
    "                    if i / aln_len > 0.2:\n",
    "                        tpe = (aln.end - record_span[0]) if record['strand'] == '+' else (record_span[1] - aln.start)\n",
    "                        three_prime_dists[j].append(tpe)\n",
    "            if len(three_prime_dists[0]) > min_reads and len(three_prime_dists[1]) > min_reads:\n",
    "                ks, pval = stats.ks_2samp(*three_prime_dists)\n",
    "                mode_a = stats.mode(three_prime_dists[0])[0]\n",
    "                mode_b = stats.mode(three_prime_dists[1])[0]\n",
    "                # change in 3' usage is the minimum distance between modal vals\n",
    "                modal_tp_change = np.inf\n",
    "                for m_a, m_b in it.product(mode_a, mode_b):\n",
    "                    tp_c = m_b - m_a\n",
    "                    if tp_c < modal_tp_change:\n",
    "                        modal_tp_change = tp_c\n",
    "                most_increased_site, most_reduced_site, lod = find_dist_from_histogram_peaks(*three_prime_dists)\n",
    "                hist_dist = most_increased_site - most_reduced_site\n",
    "                if record['strand'] == '+':\n",
    "                    most_increased_site += record_span[0]\n",
    "                    most_reduced_site += record_span[0]\n",
    "                else:\n",
    "                    most_increased_site = record_span[1] - most_increased_site\n",
    "                    most_reduced_site = record_span[1] - most_reduced_site\n",
    "                most_increased_site_loc = assign_three_prime_to_feature(most_increased_site, record, record_span)\n",
    "                most_reduced_site_loc = assign_three_prime_to_feature(most_reduced_site, record, record_span)\n",
    "                res.append([record['gene_id'], *record_span, record['strand'], ks, pval, lod,\n",
    "                            modal_tp_change, most_increased_site, most_reduced_site,\n",
    "                            most_increased_site_loc, most_reduced_site_loc,\n",
    "                            hist_dist])\n",
    "    return pd.DataFrame(res, columns=[\n",
    "        'gene_id', 'start', 'end', 'strand', 'ks', 'pval', 'log_odds_ratio',\n",
    "        'change_in_modal_three_prime',\n",
    "        'most_increased_site', 'most_reduced_site',\n",
    "        'most_increased_site_feat_type',\n",
    "        'most_reduced_site_feat_type',\n",
    "        'dist_between_most_reduced_and_increased'])"
   ]
  },
  {
   "cell_type": "code",
   "execution_count": 4,
   "metadata": {},
   "outputs": [
    {
     "name": "stderr",
     "output_type": "stream",
     "text": [
      "/cluster/ggs_lab/mtparker/.conda/envs/r35py36/lib/python3.6/site-packages/ipykernel_launcher.py:10: RuntimeWarning: divide by zero encountered in double_scalars\n",
      "  # Remove the CWD from sys.path while we load stuff.\n",
      "/cluster/ggs_lab/mtparker/.conda/envs/r35py36/lib/python3.6/site-packages/ipykernel_launcher.py:10: RuntimeWarning: divide by zero encountered in log2\n",
      "  # Remove the CWD from sys.path while we load stuff.\n",
      "/cluster/ggs_lab/mtparker/.conda/envs/r35py36/lib/python3.6/site-packages/ipykernel_launcher.py:9: RuntimeWarning: divide by zero encountered in log2\n",
      "  if __name__ == '__main__':\n",
      "/cluster/ggs_lab/mtparker/.conda/envs/r35py36/lib/python3.6/site-packages/ipykernel_launcher.py:9: RuntimeWarning: divide by zero encountered in double_scalars\n",
      "  if __name__ == '__main__':\n"
     ]
    }
   ],
   "source": [
    "ARAPORT = '/cluster/ggs_lab/mtparker/Arabidopsis_annotations/Araport/v11/201606/Araport11_GFF3_genes_transposons.flat_genes.bed'\n",
    "\n",
    "\n",
    "readthroughs = find_readthroughs(\n",
    "    ARAPORT,\n",
    "    glob('../chimeric_transcripts/vir1_vs_VIRc/aligned_data/201*_VIRc_*.bam'),\n",
    "    glob('../chimeric_transcripts/vir1_vs_VIRc/aligned_data/201*_vir1_*.bam'),\n",
    ")"
   ]
  },
  {
   "cell_type": "code",
   "execution_count": 5,
   "metadata": {},
   "outputs": [
    {
     "data": {
      "text/html": [
       "<div>\n",
       "<style scoped>\n",
       "    .dataframe tbody tr th:only-of-type {\n",
       "        vertical-align: middle;\n",
       "    }\n",
       "\n",
       "    .dataframe tbody tr th {\n",
       "        vertical-align: top;\n",
       "    }\n",
       "\n",
       "    .dataframe thead th {\n",
       "        text-align: right;\n",
       "    }\n",
       "</style>\n",
       "<table border=\"1\" class=\"dataframe\">\n",
       "  <thead>\n",
       "    <tr style=\"text-align: right;\">\n",
       "      <th></th>\n",
       "      <th>gene_id</th>\n",
       "      <th>start</th>\n",
       "      <th>end</th>\n",
       "      <th>strand</th>\n",
       "      <th>ks</th>\n",
       "      <th>pval</th>\n",
       "      <th>log_odds_ratio</th>\n",
       "      <th>change_in_modal_three_prime</th>\n",
       "      <th>most_increased_site</th>\n",
       "      <th>most_reduced_site</th>\n",
       "      <th>most_increased_site_feat_type</th>\n",
       "      <th>most_reduced_site_feat_type</th>\n",
       "      <th>dist_between_most_reduced_and_increased</th>\n",
       "      <th>fdr</th>\n",
       "      <th>abs_dist</th>\n",
       "    </tr>\n",
       "  </thead>\n",
       "  <tbody>\n",
       "    <tr>\n",
       "      <th>1772</th>\n",
       "      <td>AT1G28420</td>\n",
       "      <td>9979477.0</td>\n",
       "      <td>9987737.0</td>\n",
       "      <td>+</td>\n",
       "      <td>0.366359</td>\n",
       "      <td>0.000031</td>\n",
       "      <td>-3.169925</td>\n",
       "      <td>-6172.0</td>\n",
       "      <td>9981537.0</td>\n",
       "      <td>9987709.0</td>\n",
       "      <td>introns</td>\n",
       "      <td>3utr</td>\n",
       "      <td>-6172</td>\n",
       "      <td>0.000296</td>\n",
       "      <td>6172</td>\n",
       "    </tr>\n",
       "    <tr>\n",
       "      <th>14528</th>\n",
       "      <td>AT5G47430</td>\n",
       "      <td>19235554.0</td>\n",
       "      <td>19241263.0</td>\n",
       "      <td>-</td>\n",
       "      <td>0.199336</td>\n",
       "      <td>0.000238</td>\n",
       "      <td>-4.548437</td>\n",
       "      <td>0.0</td>\n",
       "      <td>19240625.0</td>\n",
       "      <td>19235674.0</td>\n",
       "      <td>cds</td>\n",
       "      <td>3utr</td>\n",
       "      <td>-4951</td>\n",
       "      <td>0.001760</td>\n",
       "      <td>4951</td>\n",
       "    </tr>\n",
       "    <tr>\n",
       "      <th>15210</th>\n",
       "      <td>AT5G58040</td>\n",
       "      <td>23488744.0</td>\n",
       "      <td>23494259.0</td>\n",
       "      <td>+</td>\n",
       "      <td>0.314294</td>\n",
       "      <td>0.000003</td>\n",
       "      <td>-inf</td>\n",
       "      <td>-4285.0</td>\n",
       "      <td>23489790.0</td>\n",
       "      <td>23494118.0</td>\n",
       "      <td>introns</td>\n",
       "      <td>3utr</td>\n",
       "      <td>-4328</td>\n",
       "      <td>0.000041</td>\n",
       "      <td>4328</td>\n",
       "    </tr>\n",
       "    <tr>\n",
       "      <th>4478</th>\n",
       "      <td>AT2G14080</td>\n",
       "      <td>5925118.0</td>\n",
       "      <td>5929902.0</td>\n",
       "      <td>+</td>\n",
       "      <td>0.282959</td>\n",
       "      <td>0.000796</td>\n",
       "      <td>-3.196397</td>\n",
       "      <td>-2788.0</td>\n",
       "      <td>5927103.0</td>\n",
       "      <td>5929891.0</td>\n",
       "      <td>cds</td>\n",
       "      <td>3utr</td>\n",
       "      <td>-2788</td>\n",
       "      <td>0.004971</td>\n",
       "      <td>2788</td>\n",
       "    </tr>\n",
       "    <tr>\n",
       "      <th>6902</th>\n",
       "      <td>AT3G05430</td>\n",
       "      <td>1567623.0</td>\n",
       "      <td>1571218.0</td>\n",
       "      <td>+</td>\n",
       "      <td>0.556561</td>\n",
       "      <td>0.011957</td>\n",
       "      <td>-inf</td>\n",
       "      <td>-2196.0</td>\n",
       "      <td>1568931.0</td>\n",
       "      <td>1571127.0</td>\n",
       "      <td>introns</td>\n",
       "      <td>3utr</td>\n",
       "      <td>-2196</td>\n",
       "      <td>0.047785</td>\n",
       "      <td>2196</td>\n",
       "    </tr>\n",
       "  </tbody>\n",
       "</table>\n",
       "</div>"
      ],
      "text/plain": [
       "         gene_id       start         end strand        ks      pval  \\\n",
       "1772   AT1G28420   9979477.0   9987737.0      +  0.366359  0.000031   \n",
       "14528  AT5G47430  19235554.0  19241263.0      -  0.199336  0.000238   \n",
       "15210  AT5G58040  23488744.0  23494259.0      +  0.314294  0.000003   \n",
       "4478   AT2G14080   5925118.0   5929902.0      +  0.282959  0.000796   \n",
       "6902   AT3G05430   1567623.0   1571218.0      +  0.556561  0.011957   \n",
       "\n",
       "       log_odds_ratio  change_in_modal_three_prime  most_increased_site  \\\n",
       "1772        -3.169925                      -6172.0            9981537.0   \n",
       "14528       -4.548437                          0.0           19240625.0   \n",
       "15210            -inf                      -4285.0           23489790.0   \n",
       "4478        -3.196397                      -2788.0            5927103.0   \n",
       "6902             -inf                      -2196.0            1568931.0   \n",
       "\n",
       "       most_reduced_site most_increased_site_feat_type  \\\n",
       "1772           9987709.0                       introns   \n",
       "14528         19235674.0                           cds   \n",
       "15210         23494118.0                       introns   \n",
       "4478           5929891.0                           cds   \n",
       "6902           1571127.0                       introns   \n",
       "\n",
       "      most_reduced_site_feat_type  dist_between_most_reduced_and_increased  \\\n",
       "1772                         3utr                                    -6172   \n",
       "14528                        3utr                                    -4951   \n",
       "15210                        3utr                                    -4328   \n",
       "4478                         3utr                                    -2788   \n",
       "6902                         3utr                                    -2196   \n",
       "\n",
       "            fdr  abs_dist  \n",
       "1772   0.000296      6172  \n",
       "14528  0.001760      4951  \n",
       "15210  0.000041      4328  \n",
       "4478   0.004971      2788  \n",
       "6902   0.047785      2196  "
      ]
     },
     "execution_count": 5,
     "metadata": {},
     "output_type": "execute_result"
    }
   ],
   "source": [
    "_, readthroughs['fdr'], *_ = multipletests(readthroughs.pval, method='fdr_bh')\n",
    "readthroughs['abs_dist'] = np.abs(readthroughs.dist_between_most_reduced_and_increased)\n",
    "readthroughs.query('fdr < 0.05 & abs_dist > 13').sort_values('dist_between_most_reduced_and_increased').head()"
   ]
  },
  {
   "cell_type": "code",
   "execution_count": 6,
   "metadata": {},
   "outputs": [
    {
     "data": {
      "text/html": [
       "<div>\n",
       "<style scoped>\n",
       "    .dataframe tbody tr th:only-of-type {\n",
       "        vertical-align: middle;\n",
       "    }\n",
       "\n",
       "    .dataframe tbody tr th {\n",
       "        vertical-align: top;\n",
       "    }\n",
       "\n",
       "    .dataframe thead th {\n",
       "        text-align: right;\n",
       "    }\n",
       "</style>\n",
       "<table border=\"1\" class=\"dataframe\">\n",
       "  <thead>\n",
       "    <tr style=\"text-align: right;\">\n",
       "      <th></th>\n",
       "      <th>gene_id</th>\n",
       "      <th>start</th>\n",
       "      <th>end</th>\n",
       "      <th>strand</th>\n",
       "      <th>ks</th>\n",
       "      <th>pval</th>\n",
       "      <th>log_odds_ratio</th>\n",
       "      <th>change_in_modal_three_prime</th>\n",
       "      <th>most_increased_site</th>\n",
       "      <th>most_reduced_site</th>\n",
       "      <th>most_increased_site_feat_type</th>\n",
       "      <th>most_reduced_site_feat_type</th>\n",
       "      <th>dist_between_most_reduced_and_increased</th>\n",
       "      <th>fdr</th>\n",
       "      <th>abs_dist</th>\n",
       "    </tr>\n",
       "  </thead>\n",
       "  <tbody>\n",
       "    <tr>\n",
       "      <th>9839</th>\n",
       "      <td>AT4G01150</td>\n",
       "      <td>493545.0</td>\n",
       "      <td>494885.0</td>\n",
       "      <td>+</td>\n",
       "      <td>0.299973</td>\n",
       "      <td>4.401016e-224</td>\n",
       "      <td>-2.447580</td>\n",
       "      <td>-38.0</td>\n",
       "      <td>494752.0</td>\n",
       "      <td>494790.0</td>\n",
       "      <td>3utr</td>\n",
       "      <td>3utr</td>\n",
       "      <td>-38</td>\n",
       "      <td>2.331658e-220</td>\n",
       "      <td>38</td>\n",
       "    </tr>\n",
       "    <tr>\n",
       "      <th>286</th>\n",
       "      <td>AT1G05190</td>\n",
       "      <td>1502250.0</td>\n",
       "      <td>1503853.0</td>\n",
       "      <td>-</td>\n",
       "      <td>0.530021</td>\n",
       "      <td>4.539223e-221</td>\n",
       "      <td>-5.113524</td>\n",
       "      <td>-35.0</td>\n",
       "      <td>1502413.0</td>\n",
       "      <td>1502378.0</td>\n",
       "      <td>3utr</td>\n",
       "      <td>3utr</td>\n",
       "      <td>-35</td>\n",
       "      <td>1.803660e-217</td>\n",
       "      <td>35</td>\n",
       "    </tr>\n",
       "    <tr>\n",
       "      <th>381</th>\n",
       "      <td>AT1G06680</td>\n",
       "      <td>2047633.0</td>\n",
       "      <td>2049439.0</td>\n",
       "      <td>+</td>\n",
       "      <td>0.130371</td>\n",
       "      <td>5.984247e-186</td>\n",
       "      <td>-1.388346</td>\n",
       "      <td>-62.0</td>\n",
       "      <td>2049277.0</td>\n",
       "      <td>2049368.0</td>\n",
       "      <td>3utr</td>\n",
       "      <td>3utr</td>\n",
       "      <td>-91</td>\n",
       "      <td>1.358766e-182</td>\n",
       "      <td>91</td>\n",
       "    </tr>\n",
       "    <tr>\n",
       "      <th>13019</th>\n",
       "      <td>AT5G14320</td>\n",
       "      <td>4617217.0</td>\n",
       "      <td>4618981.0</td>\n",
       "      <td>-</td>\n",
       "      <td>0.350950</td>\n",
       "      <td>2.294103e-127</td>\n",
       "      <td>-3.031050</td>\n",
       "      <td>-23.0</td>\n",
       "      <td>4617722.0</td>\n",
       "      <td>4617699.0</td>\n",
       "      <td>3utr</td>\n",
       "      <td>3utr</td>\n",
       "      <td>-23</td>\n",
       "      <td>2.804806e-124</td>\n",
       "      <td>23</td>\n",
       "    </tr>\n",
       "    <tr>\n",
       "      <th>7650</th>\n",
       "      <td>AT3G16140</td>\n",
       "      <td>5467986.0</td>\n",
       "      <td>5469594.0</td>\n",
       "      <td>-</td>\n",
       "      <td>0.196889</td>\n",
       "      <td>6.227430e-110</td>\n",
       "      <td>-2.134068</td>\n",
       "      <td>-23.0</td>\n",
       "      <td>5468537.0</td>\n",
       "      <td>5468514.0</td>\n",
       "      <td>3utr</td>\n",
       "      <td>3utr</td>\n",
       "      <td>-23</td>\n",
       "      <td>7.069913e-107</td>\n",
       "      <td>23</td>\n",
       "    </tr>\n",
       "    <tr>\n",
       "      <th>1793</th>\n",
       "      <td>AT1G29070</td>\n",
       "      <td>10149790.0</td>\n",
       "      <td>10151407.0</td>\n",
       "      <td>+</td>\n",
       "      <td>0.323988</td>\n",
       "      <td>5.722892e-100</td>\n",
       "      <td>-2.937773</td>\n",
       "      <td>-60.0</td>\n",
       "      <td>10151247.0</td>\n",
       "      <td>10151306.0</td>\n",
       "      <td>3utr</td>\n",
       "      <td>3utr</td>\n",
       "      <td>-59</td>\n",
       "      <td>5.350567e-97</td>\n",
       "      <td>59</td>\n",
       "    </tr>\n",
       "    <tr>\n",
       "      <th>7831</th>\n",
       "      <td>AT3G18780</td>\n",
       "      <td>6474709.0</td>\n",
       "      <td>6477204.0</td>\n",
       "      <td>+</td>\n",
       "      <td>0.262051</td>\n",
       "      <td>3.702983e-88</td>\n",
       "      <td>-2.733213</td>\n",
       "      <td>-168.0</td>\n",
       "      <td>6477035.0</td>\n",
       "      <td>6477179.0</td>\n",
       "      <td>3utr</td>\n",
       "      <td>3utr</td>\n",
       "      <td>-144</td>\n",
       "      <td>2.942761e-85</td>\n",
       "      <td>144</td>\n",
       "    </tr>\n",
       "    <tr>\n",
       "      <th>7175</th>\n",
       "      <td>AT3G09500</td>\n",
       "      <td>2916921.0</td>\n",
       "      <td>2918247.0</td>\n",
       "      <td>+</td>\n",
       "      <td>0.266983</td>\n",
       "      <td>1.156974e-82</td>\n",
       "      <td>-2.312232</td>\n",
       "      <td>-20.0</td>\n",
       "      <td>2918005.0</td>\n",
       "      <td>2918025.0</td>\n",
       "      <td>3utr</td>\n",
       "      <td>3utr</td>\n",
       "      <td>-20</td>\n",
       "      <td>7.995191e-80</td>\n",
       "      <td>20</td>\n",
       "    </tr>\n",
       "    <tr>\n",
       "      <th>14254</th>\n",
       "      <td>AT5G42980</td>\n",
       "      <td>17242606.0</td>\n",
       "      <td>17244231.0</td>\n",
       "      <td>+</td>\n",
       "      <td>0.253716</td>\n",
       "      <td>9.032578e-78</td>\n",
       "      <td>-1.648166</td>\n",
       "      <td>-41.0</td>\n",
       "      <td>17243843.0</td>\n",
       "      <td>17243884.0</td>\n",
       "      <td>3utr</td>\n",
       "      <td>3utr</td>\n",
       "      <td>-41</td>\n",
       "      <td>5.742552e-75</td>\n",
       "      <td>41</td>\n",
       "    </tr>\n",
       "    <tr>\n",
       "      <th>13254</th>\n",
       "      <td>AT5G17870</td>\n",
       "      <td>5907588.0</td>\n",
       "      <td>5908464.0</td>\n",
       "      <td>+</td>\n",
       "      <td>0.265526</td>\n",
       "      <td>5.002669e-67</td>\n",
       "      <td>-2.169279</td>\n",
       "      <td>-19.0</td>\n",
       "      <td>5908277.0</td>\n",
       "      <td>5908296.0</td>\n",
       "      <td>3utr</td>\n",
       "      <td>3utr</td>\n",
       "      <td>-19</td>\n",
       "      <td>2.839729e-64</td>\n",
       "      <td>19</td>\n",
       "    </tr>\n",
       "  </tbody>\n",
       "</table>\n",
       "</div>"
      ],
      "text/plain": [
       "         gene_id       start         end strand        ks           pval  \\\n",
       "9839   AT4G01150    493545.0    494885.0      +  0.299973  4.401016e-224   \n",
       "286    AT1G05190   1502250.0   1503853.0      -  0.530021  4.539223e-221   \n",
       "381    AT1G06680   2047633.0   2049439.0      +  0.130371  5.984247e-186   \n",
       "13019  AT5G14320   4617217.0   4618981.0      -  0.350950  2.294103e-127   \n",
       "7650   AT3G16140   5467986.0   5469594.0      -  0.196889  6.227430e-110   \n",
       "1793   AT1G29070  10149790.0  10151407.0      +  0.323988  5.722892e-100   \n",
       "7831   AT3G18780   6474709.0   6477204.0      +  0.262051   3.702983e-88   \n",
       "7175   AT3G09500   2916921.0   2918247.0      +  0.266983   1.156974e-82   \n",
       "14254  AT5G42980  17242606.0  17244231.0      +  0.253716   9.032578e-78   \n",
       "13254  AT5G17870   5907588.0   5908464.0      +  0.265526   5.002669e-67   \n",
       "\n",
       "       log_odds_ratio  change_in_modal_three_prime  most_increased_site  \\\n",
       "9839        -2.447580                        -38.0             494752.0   \n",
       "286         -5.113524                        -35.0            1502413.0   \n",
       "381         -1.388346                        -62.0            2049277.0   \n",
       "13019       -3.031050                        -23.0            4617722.0   \n",
       "7650        -2.134068                        -23.0            5468537.0   \n",
       "1793        -2.937773                        -60.0           10151247.0   \n",
       "7831        -2.733213                       -168.0            6477035.0   \n",
       "7175        -2.312232                        -20.0            2918005.0   \n",
       "14254       -1.648166                        -41.0           17243843.0   \n",
       "13254       -2.169279                        -19.0            5908277.0   \n",
       "\n",
       "       most_reduced_site most_increased_site_feat_type  \\\n",
       "9839            494790.0                          3utr   \n",
       "286            1502378.0                          3utr   \n",
       "381            2049368.0                          3utr   \n",
       "13019          4617699.0                          3utr   \n",
       "7650           5468514.0                          3utr   \n",
       "1793          10151306.0                          3utr   \n",
       "7831           6477179.0                          3utr   \n",
       "7175           2918025.0                          3utr   \n",
       "14254         17243884.0                          3utr   \n",
       "13254          5908296.0                          3utr   \n",
       "\n",
       "      most_reduced_site_feat_type  dist_between_most_reduced_and_increased  \\\n",
       "9839                         3utr                                      -38   \n",
       "286                          3utr                                      -35   \n",
       "381                          3utr                                      -91   \n",
       "13019                        3utr                                      -23   \n",
       "7650                         3utr                                      -23   \n",
       "1793                         3utr                                      -59   \n",
       "7831                         3utr                                     -144   \n",
       "7175                         3utr                                      -20   \n",
       "14254                        3utr                                      -41   \n",
       "13254                        3utr                                      -19   \n",
       "\n",
       "                 fdr  abs_dist  \n",
       "9839   2.331658e-220        38  \n",
       "286    1.803660e-217        35  \n",
       "381    1.358766e-182        91  \n",
       "13019  2.804806e-124        23  \n",
       "7650   7.069913e-107        23  \n",
       "1793    5.350567e-97        59  \n",
       "7831    2.942761e-85       144  \n",
       "7175    7.995191e-80        20  \n",
       "14254   5.742552e-75        41  \n",
       "13254   2.839729e-64        19  "
      ]
     },
     "execution_count": 6,
     "metadata": {},
     "output_type": "execute_result"
    }
   ],
   "source": [
    "readthroughs.query('fdr < 0.05 & change_in_modal_three_prime < -13').sort_values('fdr').head(n=10)"
   ]
  },
  {
   "cell_type": "code",
   "execution_count": 7,
   "metadata": {},
   "outputs": [],
   "source": [
    "readthroughs[['gene_id', 'start', 'end', 'strand', 'ks', 'pval', 'fdr',\n",
    "              'most_reduced_site', 'most_increased_site',\n",
    "              'dist_between_most_reduced_and_increased']].to_excel('vir1_vs_VIRc_differential_polya_site.xlsx')"
   ]
  },
  {
   "cell_type": "code",
   "execution_count": 8,
   "metadata": {},
   "outputs": [],
   "source": [
    "readthroughs = pd.read_excel('vir1_vs_VIRc_differential_polya_site.xlsx')\n",
    "readthroughs['abs_dist'] = np.abs(readthroughs.dist_between_most_reduced_and_increased)"
   ]
  },
  {
   "cell_type": "code",
   "execution_count": 9,
   "metadata": {},
   "outputs": [
    {
     "data": {
      "text/plain": [
       "(3579, 11)"
      ]
     },
     "execution_count": 9,
     "metadata": {},
     "output_type": "execute_result"
    }
   ],
   "source": [
    "readthroughs.query('fdr < 0.05 & abs_dist > 13').shape"
   ]
  },
  {
   "cell_type": "code",
   "execution_count": 10,
   "metadata": {},
   "outputs": [
    {
     "data": {
      "text/plain": [
       "(571, 11)"
      ]
     },
     "execution_count": 10,
     "metadata": {},
     "output_type": "execute_result"
    }
   ],
   "source": [
    "readthroughs.query('fdr < 0.05 & dist_between_most_reduced_and_increased > 13').shape"
   ]
  },
  {
   "cell_type": "code",
   "execution_count": 11,
   "metadata": {},
   "outputs": [
    {
     "data": {
      "text/plain": [
       "(3008, 11)"
      ]
     },
     "execution_count": 11,
     "metadata": {},
     "output_type": "execute_result"
    }
   ],
   "source": [
    "readthroughs.query('fdr < 0.05 & dist_between_most_reduced_and_increased < -13').shape"
   ]
  },
  {
   "cell_type": "code",
   "execution_count": 12,
   "metadata": {},
   "outputs": [
    {
     "data": {
      "image/png": "[encoded data removed]",
      "text/plain": [
       "<Figure size 576x360 with 1 Axes>"
      ]
     },
     "metadata": {
      "needs_background": "light"
     },
     "output_type": "display_data"
    }
   ],
   "source": [
    "fig, ax = plt.subplots(figsize=(8, 5))\n",
    "r_sig = readthroughs.query('fdr < 0.05')\n",
    "ax.hist(\n",
    "    r_sig.dist_between_most_reduced_and_increased,\n",
    "    bins=np.linspace(-260, 260, 41)\n",
    ")\n",
    "ax.axvline(-13, ls='--', color='#555555', lw=3)\n",
    "ax.axvline(13, ls='--', color='#555555', lw=3)\n",
    "ax.axvspan(-13, -250, color=pal[1], alpha=0.25, zorder=-1)\n",
    "ax.axvspan(13, 250, color=pal[2], alpha=0.25, zorder=-1)\n",
    "ax.annotate(s=f'n={sum(r_sig.dist_between_most_reduced_and_increased < -13)}',\n",
    "            xy=(-240, 520), color=pal[1])\n",
    "ax.annotate(s=f'n={sum(r_sig.dist_between_most_reduced_and_increased > 13)}',\n",
    "            xy=(240, 520), color=pal[2], ha='right')\n",
    "ax.set_xlim(-250, 250)\n",
    "ax.set_xlabel('Shift in 3\\' position (nt)')\n",
    "ax.set_ylabel('Genes (Frequency)')\n",
    "plt.tight_layout()\n",
    "plt.savefig('three_prime_position_change.svg')\n",
    "plt.show()"
   ]
  },
  {
   "cell_type": "code",
   "execution_count": 13,
   "metadata": {},
   "outputs": [
    {
     "data": {
      "text/plain": [
       "17491"
      ]
     },
     "execution_count": 13,
     "metadata": {},
     "output_type": "execute_result"
    }
   ],
   "source": [
    "vir1_VIRc = pybt.BedTool('/cluster/ggs_lab/mtparker/DER_m6a_pipeline_runs/vir1_VIRc_guppy/der_analysis/der_sites_thresholded.bed')\n",
    "miclip = pybt.BedTool('/cluster/ggs_lab/mtparker/miCLIP_pipeline/peaks/idr/miCLIP_expt1.CLIP_1_vs_miCLIP_expt2.CLIP_2.peaks.bed')\n",
    "len(vir1_VIRc)"
   ]
  },
  {
   "cell_type": "code",
   "execution_count": 14,
   "metadata": {},
   "outputs": [],
   "source": [
    "%%bash\n",
    "grep \"protein_coding\" /cluster/ggs_lab/mtparker/Arabidopsis_annotations/Araport/v11/201606/Araport11_GFF3_genes_transposons.201606.gff |\n",
    "awk \\\n",
    "  -v FS=\"[\\t;]\" -v OFS=\"\\t\" \\\n",
    "  '$3 == \"gene\" {print $1, $4 - 1, $5, $9, \".\", $7}' | \\\n",
    "  sed -e 's/[\";]//g' -e 's/^Chr//' -e 's/ID=//' \\\n",
    "> araport_genes.bed"
   ]
  },
  {
   "cell_type": "code",
   "execution_count": 15,
   "metadata": {},
   "outputs": [],
   "source": [
    "genes = pybt.BedTool('araport_genes.bed')"
   ]
  },
  {
   "cell_type": "code",
   "execution_count": 16,
   "metadata": {},
   "outputs": [],
   "source": [
    "m6a_der_genes = set(genes.intersect(vir1_VIRc, u=True, s=True).to_dataframe().name)\n",
    "m6a_miclip_genes = set(genes.intersect(miclip, u=True, s=True).to_dataframe().name)"
   ]
  },
  {
   "cell_type": "code",
   "execution_count": 17,
   "metadata": {},
   "outputs": [
    {
     "data": {
      "text/plain": [
       "(5097, 5540)"
      ]
     },
     "execution_count": 17,
     "metadata": {},
     "output_type": "execute_result"
    }
   ],
   "source": [
    "len(m6a_der_genes), len(m6a_miclip_genes)"
   ]
  },
  {
   "cell_type": "code",
   "execution_count": 18,
   "metadata": {},
   "outputs": [
    {
     "data": {
      "image/png": "[encoded data removed]",
      "text/plain": [
       "<Figure size 432x288 with 1 Axes>"
      ]
     },
     "metadata": {},
     "output_type": "display_data"
    }
   ],
   "source": [
    "vn.venn2(\n",
    "    subsets=[set(readthroughs.query('fdr < 0.05 & abs_dist > 13').gene_id),\n",
    "             m6a_der_genes],\n",
    "    set_labels=['Genes with\\naltered\\n3\\' ends', 'Genes\\nwith m6A'],\n",
    "    set_colors=pal[:2]\n",
    ")\n",
    "plt.show()"
   ]
  },
  {
   "cell_type": "code",
   "execution_count": 19,
   "metadata": {},
   "outputs": [
    {
     "data": {
      "text/plain": [
       "(3579, 11)"
      ]
     },
     "execution_count": 19,
     "metadata": {},
     "output_type": "execute_result"
    }
   ],
   "source": [
    "readthroughs.query('fdr < 0.05 & abs_dist > 13').shape"
   ]
  },
  {
   "cell_type": "code",
   "execution_count": 20,
   "metadata": {},
   "outputs": [
    {
     "data": {
      "text/plain": [
       "(3008, 11)"
      ]
     },
     "execution_count": 20,
     "metadata": {},
     "output_type": "execute_result"
    }
   ],
   "source": [
    "readthroughs.query('fdr < 0.05 & abs_dist > 13').query('dist_between_most_reduced_and_increased < 0').shape"
   ]
  },
  {
   "cell_type": "code",
   "execution_count": 21,
   "metadata": {},
   "outputs": [
    {
     "data": {
      "text/plain": [
       "(571, 11)"
      ]
     },
     "execution_count": 21,
     "metadata": {},
     "output_type": "execute_result"
    }
   ],
   "source": [
    "readthroughs.query('fdr < 0.05 & abs_dist > 13').query('dist_between_most_reduced_and_increased > 0').shape"
   ]
  },
  {
   "cell_type": "code",
   "execution_count": 22,
   "metadata": {},
   "outputs": [
    {
     "data": {
      "image/png": "[encoded data removed]",
      "text/plain": [
       "<Figure size 432x288 with 1 Axes>"
      ]
     },
     "metadata": {},
     "output_type": "display_data"
    }
   ],
   "source": [
    "d_to_p_apa = set(readthroughs.query('fdr < 0.05 & abs_dist > 13').query('dist_between_most_reduced_and_increased < 0').gene_id)\n",
    "vn.venn2(\n",
    "    subsets=[d_to_p_apa, m6a_der_genes],\n",
    "    set_labels=('Distal to\\nproximal\\n3\\' ends', 'm6A genes'),\n",
    "    set_colors=pal[:2]\n",
    ")\n",
    "plt.show()"
   ]
  },
  {
   "cell_type": "code",
   "execution_count": 23,
   "metadata": {},
   "outputs": [
    {
     "data": {
      "text/plain": [
       "0.3206870517176293"
      ]
     },
     "execution_count": 23,
     "metadata": {},
     "output_type": "execute_result"
    }
   ],
   "source": [
    "len(m6a_der_genes) / len(readthroughs)"
   ]
  },
  {
   "cell_type": "code",
   "execution_count": 24,
   "metadata": {},
   "outputs": [
    {
     "data": {
      "text/plain": [
       "0.34855920473134516"
      ]
     },
     "execution_count": 24,
     "metadata": {},
     "output_type": "execute_result"
    }
   ],
   "source": [
    "len(m6a_miclip_genes) / len(readthroughs)"
   ]
  },
  {
   "cell_type": "code",
   "execution_count": 25,
   "metadata": {},
   "outputs": [
    {
     "data": {
      "text/plain": [
       "0.5940824468085106"
      ]
     },
     "execution_count": 25,
     "metadata": {},
     "output_type": "execute_result"
    }
   ],
   "source": [
    "len(d_to_p_apa.intersection(m6a_der_genes)) / len(d_to_p_apa)"
   ]
  },
  {
   "cell_type": "code",
   "execution_count": 26,
   "metadata": {},
   "outputs": [
    {
     "data": {
      "text/plain": [
       "0.350598391210516"
      ]
     },
     "execution_count": 26,
     "metadata": {},
     "output_type": "execute_result"
    }
   ],
   "source": [
    "len(m6a_der_genes.intersection(d_to_p_apa)) / len(m6a_der_genes)"
   ]
  },
  {
   "cell_type": "code",
   "execution_count": 27,
   "metadata": {},
   "outputs": [
    {
     "data": {
      "text/plain": [
       "0.614029255319149"
      ]
     },
     "execution_count": 27,
     "metadata": {},
     "output_type": "execute_result"
    }
   ],
   "source": [
    "len(d_to_p_apa.intersection(m6a_miclip_genes)) / len(d_to_p_apa)"
   ]
  },
  {
   "cell_type": "code",
   "execution_count": 28,
   "metadata": {},
   "outputs": [
    {
     "data": {
      "text/plain": [
       "3.0399973435260597e-262"
      ]
     },
     "execution_count": 28,
     "metadata": {},
     "output_type": "execute_result"
    }
   ],
   "source": [
    "p_val = stats.hypergeom.sf(\n",
    "    len(d_to_p_apa.intersection(m6a_der_genes)) - 1,\n",
    "    len(readthroughs),\n",
    "    len(d_to_p_apa),\n",
    "    len(m6a_der_genes)\n",
    ")\n",
    "p_val"
   ]
  },
  {
   "cell_type": "code",
   "execution_count": 29,
   "metadata": {},
   "outputs": [
    {
     "data": {
      "text/plain": [
       "1.7998769348030376e-241"
      ]
     },
     "execution_count": 29,
     "metadata": {},
     "output_type": "execute_result"
    }
   ],
   "source": [
    "p_val = stats.hypergeom.sf(\n",
    "    len(d_to_p_apa.intersection(m6a_miclip_genes)) - 1,\n",
    "    len(readthroughs),\n",
    "    len(d_to_p_apa),\n",
    "    len(m6a_miclip_genes)\n",
    ")\n",
    "p_val"
   ]
  },
  {
   "cell_type": "code",
   "execution_count": 30,
   "metadata": {},
   "outputs": [
    {
     "data": {
      "image/png": "[encoded data removed]",
      "text/plain": [
       "<Figure size 432x288 with 1 Axes>"
      ]
     },
     "metadata": {},
     "output_type": "display_data"
    }
   ],
   "source": [
    "p_to_d_apa = set(readthroughs.query('fdr < 0.05 & abs_dist > 13').query('dist_between_most_reduced_and_increased > 0').gene_id)\n",
    "vn.venn2(\n",
    "    subsets=[p_to_d_apa, m6a_der_genes],\n",
    "    set_labels=('Proximal\\nto distal\\n3\\' ends', 'm6A genes'),\n",
    "    set_colors=pal[:2]\n",
    ")\n",
    "plt.show()"
   ]
  },
  {
   "cell_type": "code",
   "execution_count": 31,
   "metadata": {},
   "outputs": [
    {
     "data": {
      "text/plain": [
       "3.018015176006611e-88"
      ]
     },
     "execution_count": 31,
     "metadata": {},
     "output_type": "execute_result"
    }
   ],
   "source": [
    "p_val = stats.hypergeom.sf(\n",
    "    len(p_to_d_apa.intersection(m6a_der_genes)),\n",
    "    len(readthroughs),\n",
    "    len(p_to_d_apa),\n",
    "    len(m6a_der_genes)\n",
    ")\n",
    "p_val"
   ]
  },
  {
   "cell_type": "code",
   "execution_count": 32,
   "metadata": {},
   "outputs": [
    {
     "data": {
      "text/plain": [
       "1.6609687197947349e-71"
      ]
     },
     "execution_count": 32,
     "metadata": {},
     "output_type": "execute_result"
    }
   ],
   "source": [
    "p_val = stats.hypergeom.sf(\n",
    "    len(p_to_d_apa.intersection(m6a_miclip_genes)),\n",
    "    len(readthroughs),\n",
    "    len(p_to_d_apa),\n",
    "    len(m6a_miclip_genes)\n",
    ")\n",
    "p_val"
   ]
  },
  {
   "cell_type": "code",
   "execution_count": 33,
   "metadata": {},
   "outputs": [
    {
     "data": {
      "text/plain": [
       "0.7180385288966725"
      ]
     },
     "execution_count": 33,
     "metadata": {},
     "output_type": "execute_result"
    }
   ],
   "source": [
    "len(p_to_d_apa.intersection(m6a_der_genes)) / len(p_to_d_apa)"
   ]
  },
  {
   "cell_type": "code",
   "execution_count": 34,
   "metadata": {},
   "outputs": [
    {
     "data": {
      "text/plain": [
       "0.7075306479859895"
      ]
     },
     "execution_count": 34,
     "metadata": {},
     "output_type": "execute_result"
    }
   ],
   "source": [
    "len(p_to_d_apa.intersection(m6a_miclip_genes)) / len(p_to_d_apa)"
   ]
  }
 ],
 "metadata": {
  "kernelspec": {
   "display_name": "Python [conda env:r35py36]",
   "language": "python",
   "name": "conda-env-r35py36-py"
  },
  "language_info": {
   "codemirror_mode": {
    "name": "ipython",
    "version": 3
   },
   "file_extension": ".py",
   "mimetype": "text/x-python",
   "name": "python",
   "nbconvert_exporter": "python",
   "pygments_lexer": "ipython3",
   "version": "3.6.7"
  }
 },
 "nbformat": 4,
 "nbformat_minor": 2
}
