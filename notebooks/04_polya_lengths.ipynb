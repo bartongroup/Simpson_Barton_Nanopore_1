{
 "cells": [
  {
   "cell_type": "markdown",
   "metadata": {},
   "source": [
    "# Estimating poly(A) tail length with Nanopolish polyA\n",
    "\n",
    "Code for producing Figures 2 and S2 on poly(A) tail length in Arabidopsis and ERCC reads"
   ]
  },
  {
   "cell_type": "code",
   "execution_count": 3,
   "metadata": {},
   "outputs": [
    {
     "data": {
      "image/png": "[encoded data removed]",
      "text/plain": [
       "<Figure size 360x72 with 1 Axes>"
      ]
     },
     "metadata": {},
     "output_type": "display_data"
    }
   ],
   "source": [
    "import sys\n",
    "import os\n",
    "from glob import glob\n",
    "import random\n",
    "from collections import Counter\n",
    "\n",
    "import numpy as np\n",
    "import pandas as pd\n",
    "from scipy import stats\n",
    "import matplotlib.pyplot as plt\n",
    "import matplotlib_venn as vn\n",
    "from matplotlib.colors import ListedColormap\n",
    "import seaborn as sns\n",
    "\n",
    "import pysam\n",
    "\n",
    "## Default plotting params\n",
    "\n",
    "%matplotlib inline\n",
    "sns.set(font='Arial')\n",
    "plt.rcParams['svg.fonttype'] = 'none'\n",
    "style = sns.axes_style('white')\n",
    "style.update(sns.axes_style('ticks'))\n",
    "style['xtick.major.size'] = 2\n",
    "style['ytick.major.size'] = 2\n",
    "sns.set(font_scale=1.5, style=style)\n",
    "pal = sns.color_palette(['#0072b2', '#d55e00', '#009e73', '#f0e442', '#cc79a7'])\n",
    "cmap = ListedColormap(pal.as_hex())\n",
    "sns.set_palette(pal)\n",
    "sns.palplot(pal)\n",
    "plt.show()"
   ]
  },
  {
   "cell_type": "code",
   "execution_count": 77,
   "metadata": {},
   "outputs": [
    {
     "data": {
      "text/html": [
       "<div>\n",
       "<style scoped>\n",
       "    .dataframe tbody tr th:only-of-type {\n",
       "        vertical-align: middle;\n",
       "    }\n",
       "\n",
       "    .dataframe tbody tr th {\n",
       "        vertical-align: top;\n",
       "    }\n",
       "\n",
       "    .dataframe thead th {\n",
       "        text-align: right;\n",
       "    }\n",
       "</style>\n",
       "<table border=\"1\" class=\"dataframe\">\n",
       "  <thead>\n",
       "    <tr style=\"text-align: right;\">\n",
       "      <th></th>\n",
       "      <th></th>\n",
       "      <th>contig</th>\n",
       "      <th>position</th>\n",
       "      <th>polya_length</th>\n",
       "      <th>qc_tag</th>\n",
       "    </tr>\n",
       "    <tr>\n",
       "      <th></th>\n",
       "      <th>readname</th>\n",
       "      <th></th>\n",
       "      <th></th>\n",
       "      <th></th>\n",
       "      <th></th>\n",
       "    </tr>\n",
       "  </thead>\n",
       "  <tbody>\n",
       "    <tr>\n",
       "      <th rowspan=\"5\" valign=\"top\">201901_col0_2916</th>\n",
       "      <th>838eac53-279a-4687-b4f8-e60824bb349f</th>\n",
       "      <td>1</td>\n",
       "      <td>30710</td>\n",
       "      <td>NaN</td>\n",
       "      <td>READ_FAILED_LOAD</td>\n",
       "    </tr>\n",
       "    <tr>\n",
       "      <th>b15e3bf9-4848-4977-9372-c4fdb848b3ec</th>\n",
       "      <td>1</td>\n",
       "      <td>30255</td>\n",
       "      <td>198.31</td>\n",
       "      <td>ADAPTER</td>\n",
       "    </tr>\n",
       "    <tr>\n",
       "      <th>84ba92fc-e607-46f3-a020-10114a13273b</th>\n",
       "      <td>1</td>\n",
       "      <td>6874</td>\n",
       "      <td>148.81</td>\n",
       "      <td>PASS</td>\n",
       "    </tr>\n",
       "    <tr>\n",
       "      <th>e80d07de-8ac4-4793-b0e4-5ffb4f3071f2</th>\n",
       "      <td>1</td>\n",
       "      <td>6758</td>\n",
       "      <td>162.24</td>\n",
       "      <td>ADAPTER</td>\n",
       "    </tr>\n",
       "    <tr>\n",
       "      <th>0aea8df7-e207-44f8-bcc9-45ca998a8273</th>\n",
       "      <td>1</td>\n",
       "      <td>6877</td>\n",
       "      <td>93.84</td>\n",
       "      <td>PASS</td>\n",
       "    </tr>\n",
       "  </tbody>\n",
       "</table>\n",
       "</div>"
      ],
      "text/plain": [
       "                                                      contig  position  \\\n",
       "                 readname                                                \n",
       "201901_col0_2916 838eac53-279a-4687-b4f8-e60824bb349f      1     30710   \n",
       "                 b15e3bf9-4848-4977-9372-c4fdb848b3ec      1     30255   \n",
       "                 84ba92fc-e607-46f3-a020-10114a13273b      1      6874   \n",
       "                 e80d07de-8ac4-4793-b0e4-5ffb4f3071f2      1      6758   \n",
       "                 0aea8df7-e207-44f8-bcc9-45ca998a8273      1      6877   \n",
       "\n",
       "                                                       polya_length  \\\n",
       "                 readname                                             \n",
       "201901_col0_2916 838eac53-279a-4687-b4f8-e60824bb349f           NaN   \n",
       "                 b15e3bf9-4848-4977-9372-c4fdb848b3ec        198.31   \n",
       "                 84ba92fc-e607-46f3-a020-10114a13273b        148.81   \n",
       "                 e80d07de-8ac4-4793-b0e4-5ffb4f3071f2        162.24   \n",
       "                 0aea8df7-e207-44f8-bcc9-45ca998a8273         93.84   \n",
       "\n",
       "                                                                 qc_tag  \n",
       "                 readname                                                \n",
       "201901_col0_2916 838eac53-279a-4687-b4f8-e60824bb349f  READ_FAILED_LOAD  \n",
       "                 b15e3bf9-4848-4977-9372-c4fdb848b3ec           ADAPTER  \n",
       "                 84ba92fc-e607-46f3-a020-10114a13273b              PASS  \n",
       "                 e80d07de-8ac4-4793-b0e4-5ffb4f3071f2           ADAPTER  \n",
       "                 0aea8df7-e207-44f8-bcc9-45ca998a8273              PASS  "
      ]
     },
     "execution_count": 77,
     "metadata": {},
     "output_type": "execute_result"
    }
   ],
   "source": [
    "polya_lengths = {}\n",
    "\n",
    "for fn in [x for x in glob('../*Col0*/polya_tails/*_col0_*_polya_lengths.tsv.gz') if 'ERCC' not in x]:\n",
    "    sample = os.path.split(fn)[1].split('_polya_')[0]\n",
    "    p = pd.read_table(\n",
    "        fn, sep='\\t',\n",
    "        usecols=['readname', 'contig', 'position', 'polya_length', 'qc_tag'],\n",
    "        na_values=['-1'],\n",
    "        dtype={'readname': str, 'contig': str, 'position': int, 'polya_length': float, 'qc_tag': 'category'},\n",
    "        index_col='readname'\n",
    "    )\n",
    "    #p = p[p['qc_tag'] == 'PASS']\n",
    "    polya_lengths[sample] = p\n",
    "polya_lengths = pd.concat(polya_lengths, axis=0)\n",
    "polya_lengths.head()"
   ]
  },
  {
   "cell_type": "code",
   "execution_count": 78,
   "metadata": {},
   "outputs": [
    {
     "data": {
      "text/plain": [
       "PASS                2353207\n",
       "ADAPTER              896884\n",
       "READ_FAILED_LOAD     178375\n",
       "SUFFCLIP              18121\n",
       "NOREGION               9529\n",
       "Name: qc_tag, dtype: int64"
      ]
     },
     "execution_count": 78,
     "metadata": {},
     "output_type": "execute_result"
    }
   ],
   "source": [
    "polya_lengths.qc_tag.value_counts()"
   ]
  },
  {
   "cell_type": "code",
   "execution_count": 79,
   "metadata": {},
   "outputs": [
    {
     "data": {
      "text/plain": [
       "0.6808819495641929"
      ]
     },
     "execution_count": 79,
     "metadata": {},
     "output_type": "execute_result"
    }
   ],
   "source": [
    "sum(polya_lengths.qc_tag == 'PASS') / len(polya_lengths)"
   ]
  },
  {
   "cell_type": "code",
   "execution_count": 86,
   "metadata": {},
   "outputs": [],
   "source": [
    "polya_lengths = polya_lengths[polya_lengths['qc_tag'] == 'PASS']"
   ]
  },
  {
   "cell_type": "code",
   "execution_count": 87,
   "metadata": {},
   "outputs": [
    {
     "data": {
      "image/png": "[encoded data removed]",
      "text/plain": [
       "<Figure size 396x396 with 1 Axes>"
      ]
     },
     "metadata": {
      "needs_background": "light"
     },
     "output_type": "display_data"
    }
   ],
   "source": [
    "fig, ax = plt.subplots(figsize=(5.5, 5.5))\n",
    "mt = polya_lengths[polya_lengths.contig == 'Mt']\n",
    "pt = polya_lengths[polya_lengths.contig == 'Pt']\n",
    "nc = polya_lengths[~polya_lengths.contig.isin(['Mt', 'Pt'])]\n",
    "sns.distplot(pt.dropna().polya_length,\n",
    "             hist=True, kde=False,\n",
    "             bins=np.linspace(0, 200, 50),\n",
    "             hist_kws={'density': True},\n",
    "             color=pal[2],\n",
    "             label='Chloroplast')\n",
    "sns.distplot(mt.dropna().polya_length,\n",
    "             hist=True, kde=False,\n",
    "             bins=np.linspace(0, 200, 50),\n",
    "             hist_kws={'density': True},\n",
    "             color=pal[1],\n",
    "             label='Mitochondrial')\n",
    "sns.distplot(nc.dropna().polya_length,\n",
    "             hist=True, kde=False,\n",
    "             bins=np.linspace(0, 200, 50),\n",
    "             hist_kws={'density': True},\n",
    "             color=pal[0],\n",
    "             label='Nuclear')\n",
    "ax.set_xlabel('Poly(A) tail length')\n",
    "ax.set_ylabel('Reads (Frequency Density)')\n",
    "#ax.set_xticks([0, 1, 2, 3])\n",
    "#ax.set_xticklabels([1, 10, 100, 1000])\n",
    "#ax.set_xlim(-1, 2.75)\n",
    "ax.legend(fontsize=14)\n",
    "plt.tight_layout()\n",
    "plt.savefig('polya_tail_length_dist.svg', transparent=True)\n",
    "plt.show()"
   ]
  },
  {
   "cell_type": "code",
   "execution_count": 88,
   "metadata": {},
   "outputs": [
    {
     "data": {
      "text/plain": [
       "count    2.348869e+06\n",
       "mean     7.740739e+01\n",
       "std      5.153365e+01\n",
       "min      0.000000e+00\n",
       "2.5%     1.379000e+01\n",
       "25%      3.983000e+01\n",
       "50%      6.786000e+01\n",
       "75%      1.028500e+02\n",
       "97.5%    2.002900e+02\n",
       "max      2.150330e+03\n",
       "Name: polya_length, dtype: float64"
      ]
     },
     "execution_count": 88,
     "metadata": {},
     "output_type": "execute_result"
    }
   ],
   "source": [
    "nc.polya_length.describe(percentiles=(0.025, 0.25, 0.50, 0.75, 0.975))"
   ]
  },
  {
   "cell_type": "code",
   "execution_count": 84,
   "metadata": {},
   "outputs": [
    {
     "data": {
      "text/plain": [
       "count    1848.000000\n",
       "mean       17.023723\n",
       "std        18.776165\n",
       "min         0.200000\n",
       "2.5%        3.087000\n",
       "25%         8.520000\n",
       "50%        12.760000\n",
       "75%        19.465000\n",
       "97.5%      56.469250\n",
       "max       252.730000\n",
       "Name: polya_length, dtype: float64"
      ]
     },
     "execution_count": 84,
     "metadata": {},
     "output_type": "execute_result"
    }
   ],
   "source": [
    "pt.polya_length.describe(percentiles=(0.025, 0.25, 0.50, 0.75, 0.975))"
   ]
  },
  {
   "cell_type": "code",
   "execution_count": 85,
   "metadata": {},
   "outputs": [
    {
     "data": {
      "text/plain": [
       "count    2490.000000\n",
       "mean       24.281570\n",
       "std        24.979565\n",
       "min         0.970000\n",
       "2.5%        4.139000\n",
       "25%        12.592500\n",
       "50%        19.920000\n",
       "75%        29.267500\n",
       "97.5%      72.638000\n",
       "max       674.550000\n",
       "Name: polya_length, dtype: float64"
      ]
     },
     "execution_count": 85,
     "metadata": {},
     "output_type": "execute_result"
    }
   ],
   "source": [
    "mt.polya_length.describe(percentiles=(0.025, 0.25, 0.50, 0.75, 0.975))"
   ]
  },
  {
   "cell_type": "code",
   "execution_count": 62,
   "metadata": {},
   "outputs": [
    {
     "data": {
      "text/html": [
       "<div>\n",
       "<style scoped>\n",
       "    .dataframe tbody tr th:only-of-type {\n",
       "        vertical-align: middle;\n",
       "    }\n",
       "\n",
       "    .dataframe tbody tr th {\n",
       "        vertical-align: top;\n",
       "    }\n",
       "\n",
       "    .dataframe thead th {\n",
       "        text-align: right;\n",
       "    }\n",
       "</style>\n",
       "<table border=\"1\" class=\"dataframe\">\n",
       "  <thead>\n",
       "    <tr style=\"text-align: right;\">\n",
       "      <th></th>\n",
       "      <th></th>\n",
       "      <th>contig</th>\n",
       "      <th>position</th>\n",
       "      <th>polya_length</th>\n",
       "      <th>qc_tag</th>\n",
       "    </tr>\n",
       "    <tr>\n",
       "      <th></th>\n",
       "      <th>readname</th>\n",
       "      <th></th>\n",
       "      <th></th>\n",
       "      <th></th>\n",
       "      <th></th>\n",
       "    </tr>\n",
       "  </thead>\n",
       "  <tbody>\n",
       "    <tr>\n",
       "      <th rowspan=\"5\" valign=\"top\">201901_col0_2916</th>\n",
       "      <th>e4d53ebe-cecf-4f52-bd73-6f3651902424</th>\n",
       "      <td>ERCC-00002</td>\n",
       "      <td>1</td>\n",
       "      <td>NaN</td>\n",
       "      <td>READ_FAILED_LOAD</td>\n",
       "    </tr>\n",
       "    <tr>\n",
       "      <th>e661ae3c-ce2d-40aa-9eb1-581920818886</th>\n",
       "      <td>ERCC-00002</td>\n",
       "      <td>2</td>\n",
       "      <td>4.23</td>\n",
       "      <td>ADAPTER</td>\n",
       "    </tr>\n",
       "    <tr>\n",
       "      <th>ca7ee264-3ba3-4040-93b7-2eaaf72c9f7d</th>\n",
       "      <td>ERCC-00002</td>\n",
       "      <td>0</td>\n",
       "      <td>NaN</td>\n",
       "      <td>READ_FAILED_LOAD</td>\n",
       "    </tr>\n",
       "    <tr>\n",
       "      <th>e46af28b-7f25-4ae4-b078-b233eb539b5b</th>\n",
       "      <td>ERCC-00002</td>\n",
       "      <td>2</td>\n",
       "      <td>0.07</td>\n",
       "      <td>NOREGION</td>\n",
       "    </tr>\n",
       "    <tr>\n",
       "      <th>d95a83bf-83f3-4c93-abaa-2710b8365187</th>\n",
       "      <td>ERCC-00002</td>\n",
       "      <td>2</td>\n",
       "      <td>27.74</td>\n",
       "      <td>PASS</td>\n",
       "    </tr>\n",
       "  </tbody>\n",
       "</table>\n",
       "</div>"
      ],
      "text/plain": [
       "                                                           contig  position  \\\n",
       "                 readname                                                     \n",
       "201901_col0_2916 e4d53ebe-cecf-4f52-bd73-6f3651902424  ERCC-00002         1   \n",
       "                 e661ae3c-ce2d-40aa-9eb1-581920818886  ERCC-00002         2   \n",
       "                 ca7ee264-3ba3-4040-93b7-2eaaf72c9f7d  ERCC-00002         0   \n",
       "                 e46af28b-7f25-4ae4-b078-b233eb539b5b  ERCC-00002         2   \n",
       "                 d95a83bf-83f3-4c93-abaa-2710b8365187  ERCC-00002         2   \n",
       "\n",
       "                                                       polya_length  \\\n",
       "                 readname                                             \n",
       "201901_col0_2916 e4d53ebe-cecf-4f52-bd73-6f3651902424           NaN   \n",
       "                 e661ae3c-ce2d-40aa-9eb1-581920818886          4.23   \n",
       "                 ca7ee264-3ba3-4040-93b7-2eaaf72c9f7d           NaN   \n",
       "                 e46af28b-7f25-4ae4-b078-b233eb539b5b          0.07   \n",
       "                 d95a83bf-83f3-4c93-abaa-2710b8365187         27.74   \n",
       "\n",
       "                                                                 qc_tag  \n",
       "                 readname                                                \n",
       "201901_col0_2916 e4d53ebe-cecf-4f52-bd73-6f3651902424  READ_FAILED_LOAD  \n",
       "                 e661ae3c-ce2d-40aa-9eb1-581920818886           ADAPTER  \n",
       "                 ca7ee264-3ba3-4040-93b7-2eaaf72c9f7d  READ_FAILED_LOAD  \n",
       "                 e46af28b-7f25-4ae4-b078-b233eb539b5b          NOREGION  \n",
       "                 d95a83bf-83f3-4c93-abaa-2710b8365187              PASS  "
      ]
     },
     "execution_count": 62,
     "metadata": {},
     "output_type": "execute_result"
    }
   ],
   "source": [
    "ercc_polya_lengths = {}\n",
    "\n",
    "for fn in glob('../*Col0*_ERCC/polya_tails/*_col0_*_polya_lengths.tsv.gz'):\n",
    "    sample = os.path.split(fn)[1].split('_polya_')[0]\n",
    "    p = pd.read_table(\n",
    "        fn, sep='\\t',\n",
    "        usecols=['readname', 'contig', 'position', 'polya_length', 'qc_tag'],\n",
    "        na_values=['-1'],\n",
    "        dtype={'readname': str, 'contig': str, 'position': int, 'polya_length': float, 'qc_tag': 'category'},\n",
    "        index_col='readname'\n",
    "    )\n",
    "    #p = p[p['qc_tag'] == 'PASS']\n",
    "    ercc_polya_lengths[sample] = p\n",
    "ercc_polya_lengths = pd.concat(ercc_polya_lengths, axis=0)\n",
    "ercc_polya_lengths.head()"
   ]
  },
  {
   "cell_type": "code",
   "execution_count": 63,
   "metadata": {},
   "outputs": [
    {
     "data": {
      "text/plain": [
       "PASS                5474\n",
       "ADAPTER             2241\n",
       "READ_FAILED_LOAD     941\n",
       "NOREGION             185\n",
       "SUFFCLIP              48\n",
       "Name: qc_tag, dtype: int64"
      ]
     },
     "execution_count": 63,
     "metadata": {},
     "output_type": "execute_result"
    }
   ],
   "source": [
    "ercc_polya_lengths.qc_tag.value_counts()"
   ]
  },
  {
   "cell_type": "code",
   "execution_count": 64,
   "metadata": {},
   "outputs": [
    {
     "data": {
      "text/plain": [
       "0.6158173022837214"
      ]
     },
     "execution_count": 64,
     "metadata": {},
     "output_type": "execute_result"
    }
   ],
   "source": [
    "sum(ercc_polya_lengths.qc_tag == 'PASS') / len(ercc_polya_lengths)"
   ]
  },
  {
   "cell_type": "code",
   "execution_count": 65,
   "metadata": {},
   "outputs": [],
   "source": [
    "ercc_polya_lengths = ercc_polya_lengths[ercc_polya_lengths['qc_tag'] == 'PASS']"
   ]
  },
  {
   "cell_type": "code",
   "execution_count": 3,
   "metadata": {},
   "outputs": [
    {
     "name": "stderr",
     "output_type": "stream",
     "text": [
      "--2019-10-21 13:11:06--  https://assets.thermofisher.com/TFS-Assets/LSG/manuals/cms_095047.txt\n",
      "Resolving assets.thermofisher.com... 104.127.43.132\n",
      "Connecting to assets.thermofisher.com|104.127.43.132|:443... connected.\n",
      "HTTP request sent, awaiting response... 200 OK\n",
      "Length: 87408 (85K) [text/plain]\n",
      "Saving to: ‘cms_095047.txt.1’\n",
      "\n",
      "     0K .......... .......... .......... .......... .......... 58%  690K 0s\n",
      "    50K .......... .......... .......... .....                100% 6.93M=0.08s\n",
      "\n",
      "2019-10-21 13:11:07 (1.08 MB/s) - ‘cms_095047.txt.1’ saved [87408/87408]\n",
      "\n"
     ]
    }
   ],
   "source": [
    "%%bash\n",
    "wget https://assets.thermofisher.com/TFS-Assets/LSG/manuals/cms_095047.txt"
   ]
  },
  {
   "cell_type": "code",
   "execution_count": 66,
   "metadata": {},
   "outputs": [
    {
     "data": {
      "text/html": [
       "<div>\n",
       "<style scoped>\n",
       "    .dataframe tbody tr th:only-of-type {\n",
       "        vertical-align: middle;\n",
       "    }\n",
       "\n",
       "    .dataframe tbody tr th {\n",
       "        vertical-align: top;\n",
       "    }\n",
       "\n",
       "    .dataframe thead th {\n",
       "        text-align: right;\n",
       "    }\n",
       "</style>\n",
       "<table border=\"1\" class=\"dataframe\">\n",
       "  <thead>\n",
       "    <tr style=\"text-align: right;\">\n",
       "      <th></th>\n",
       "      <th>GenBank</th>\n",
       "      <th>5prime_assay</th>\n",
       "      <th>3prime_assay</th>\n",
       "      <th>Sequence</th>\n",
       "      <th>polya</th>\n",
       "      <th>polya_length</th>\n",
       "    </tr>\n",
       "    <tr>\n",
       "      <th>ERCC_ID</th>\n",
       "      <th></th>\n",
       "      <th></th>\n",
       "      <th></th>\n",
       "      <th></th>\n",
       "      <th></th>\n",
       "      <th></th>\n",
       "    </tr>\n",
       "  </thead>\n",
       "  <tbody>\n",
       "    <tr>\n",
       "      <th>ERCC-00002</th>\n",
       "      <td>DQ459430</td>\n",
       "      <td>Ac03459872_a1</td>\n",
       "      <td>Ac03459968_a1</td>\n",
       "      <td>TCCAGATTACTTCCATTTCCGCCCAAGCTGCTCACAGTATACGGGC...</td>\n",
       "      <td>AAAAAAAAAAAAAAAAAAAAAAAA</td>\n",
       "      <td>24.0</td>\n",
       "    </tr>\n",
       "    <tr>\n",
       "      <th>ERCC-00003</th>\n",
       "      <td>DQ516784</td>\n",
       "      <td>Ac03459873_a1</td>\n",
       "      <td>Ac03459969_a1</td>\n",
       "      <td>CAGCAGCGATTAAGGCAGAGGCGTTTGTATCTGCCATTATAAAGAA...</td>\n",
       "      <td>AAAAAAAAAAAAAAAAAAAAAAAA</td>\n",
       "      <td>24.0</td>\n",
       "    </tr>\n",
       "    <tr>\n",
       "      <th>ERCC-00004</th>\n",
       "      <td>DQ516752</td>\n",
       "      <td>Ac03459874_a1</td>\n",
       "      <td>Ac03459970_a1</td>\n",
       "      <td>TCTTGCTTCAACAATAACGTCTCTTTCAGAAGGCATTGGTATCTTT...</td>\n",
       "      <td>AAAAAAAAAAAAAAAAAAAAAAAA</td>\n",
       "      <td>24.0</td>\n",
       "    </tr>\n",
       "    <tr>\n",
       "      <th>ERCC-00009</th>\n",
       "      <td>DQ668364</td>\n",
       "      <td>Ac03459876_a1</td>\n",
       "      <td>Ac03459972_a1</td>\n",
       "      <td>CAATGATAGGCTAGTCTCGCGCAGTACATGGTAGTTCAGCCAATAG...</td>\n",
       "      <td>AAAAAAAAAAAAAAAAAAAAAAAA</td>\n",
       "      <td>24.0</td>\n",
       "    </tr>\n",
       "    <tr>\n",
       "      <th>ERCC-00012</th>\n",
       "      <td>DQ883670</td>\n",
       "      <td>Ac03459877_a1</td>\n",
       "      <td>Ac03459973_a1</td>\n",
       "      <td>CGAGAGATGTTTGTAGGTGCGGAATGTGTGCGGTCTACCTTAGCTG...</td>\n",
       "      <td>AAAAAAAAAAAAAAAAAAAAAAAA</td>\n",
       "      <td>24.0</td>\n",
       "    </tr>\n",
       "  </tbody>\n",
       "</table>\n",
       "</div>"
      ],
      "text/plain": [
       "             GenBank   5prime_assay   3prime_assay  \\\n",
       "ERCC_ID                                              \n",
       "ERCC-00002  DQ459430  Ac03459872_a1  Ac03459968_a1   \n",
       "ERCC-00003  DQ516784  Ac03459873_a1  Ac03459969_a1   \n",
       "ERCC-00004  DQ516752  Ac03459874_a1  Ac03459970_a1   \n",
       "ERCC-00009  DQ668364  Ac03459876_a1  Ac03459972_a1   \n",
       "ERCC-00012  DQ883670  Ac03459877_a1  Ac03459973_a1   \n",
       "\n",
       "                                                     Sequence  \\\n",
       "ERCC_ID                                                         \n",
       "ERCC-00002  TCCAGATTACTTCCATTTCCGCCCAAGCTGCTCACAGTATACGGGC...   \n",
       "ERCC-00003  CAGCAGCGATTAAGGCAGAGGCGTTTGTATCTGCCATTATAAAGAA...   \n",
       "ERCC-00004  TCTTGCTTCAACAATAACGTCTCTTTCAGAAGGCATTGGTATCTTT...   \n",
       "ERCC-00009  CAATGATAGGCTAGTCTCGCGCAGTACATGGTAGTTCAGCCAATAG...   \n",
       "ERCC-00012  CGAGAGATGTTTGTAGGTGCGGAATGTGTGCGGTCTACCTTAGCTG...   \n",
       "\n",
       "                               polya  polya_length  \n",
       "ERCC_ID                                             \n",
       "ERCC-00002  AAAAAAAAAAAAAAAAAAAAAAAA          24.0  \n",
       "ERCC-00003  AAAAAAAAAAAAAAAAAAAAAAAA          24.0  \n",
       "ERCC-00004  AAAAAAAAAAAAAAAAAAAAAAAA          24.0  \n",
       "ERCC-00009  AAAAAAAAAAAAAAAAAAAAAAAA          24.0  \n",
       "ERCC-00012  AAAAAAAAAAAAAAAAAAAAAAAA          24.0  "
      ]
     },
     "execution_count": 66,
     "metadata": {},
     "output_type": "execute_result"
    }
   ],
   "source": [
    "ercc_seqs = pd.read_csv('cms_095047.txt', sep='\\t', index_col=0)\n",
    "ercc_seqs['polya'] = ercc_seqs.Sequence.str.extract('(A+)$')\n",
    "ercc_seqs['polya_length'] = ercc_seqs['polya'].str.len()\n",
    "ercc_seqs.head()"
   ]
  },
  {
   "cell_type": "code",
   "execution_count": 67,
   "metadata": {},
   "outputs": [
    {
     "data": {
      "text/plain": [
       "count    5474.000000\n",
       "mean       35.628551\n",
       "std        34.781596\n",
       "min         0.350000\n",
       "2.5%        7.538250\n",
       "25%        20.770000\n",
       "50%        26.240000\n",
       "75%        36.917500\n",
       "97.5%     122.350000\n",
       "max       556.290000\n",
       "Name: polya_length, dtype: float64"
      ]
     },
     "execution_count": 67,
     "metadata": {},
     "output_type": "execute_result"
    }
   ],
   "source": [
    "ercc_polya_lengths.polya_length.describe(percentiles=(0.025, 0.25, 0.50, 0.75, 0.975))"
   ]
  },
  {
   "cell_type": "code",
   "execution_count": 59,
   "metadata": {},
   "outputs": [
    {
     "data": {
      "image/png": "[encoded data removed]",
      "text/plain": [
       "<Figure size 576x360 with 1 Axes>"
      ]
     },
     "metadata": {
      "needs_background": "light"
     },
     "output_type": "display_data"
    }
   ],
   "source": [
    "reads_per_contig = ercc_polya_lengths.contig.value_counts()\n",
    "order = reads_per_contig[reads_per_contig >= 100].index\n",
    "\n",
    "fig, ax = plt.subplots(figsize=(8, 5))\n",
    "sns.boxplot(\n",
    "    x='contig',\n",
    "    y='polya_length',\n",
    "    data=ercc_polya_lengths,\n",
    "    order=order,\n",
    "    fliersize=0,\n",
    "    color=pal[0],\n",
    ")\n",
    "sns.pointplot(\n",
    "    x='ERCC_ID',\n",
    "    y='polya_length',\n",
    "    data=ercc_seqs.reset_index(),\n",
    "    order=order,\n",
    "    join=False, ci=None,\n",
    "    estimator=lambda x: x[0] if len(x) == 1 else np.nan,\n",
    "    color=pal[1]\n",
    ")\n",
    "ax.set_ylim(0, 80)\n",
    "xticklabels = [f'{x.get_text()}\\nn={reads_per_contig[x.get_text()]}' for x in ax.get_xticklabels()]\n",
    "ax.set_xticklabels(xticklabels, rotation=30, ha='right', va='top', fontsize=14)\n",
    "ax.set_xlabel('')\n",
    "ax.set_ylabel('Poly(A) length estimate')\n",
    "plt.tight_layout()\n",
    "plt.savefig('ERCC_polya_length_boxplot.svg')\n",
    "plt.savefig('ERCC_polya_length_boxplot.png')\n",
    "plt.show()"
   ]
  },
  {
   "cell_type": "code",
   "execution_count": 91,
   "metadata": {},
   "outputs": [
    {
     "data": {
      "image/png": "[encoded data removed]",
      "text/plain": [
       "<Figure size 396x396 with 1 Axes>"
      ]
     },
     "metadata": {
      "needs_background": "light"
     },
     "output_type": "display_data"
    }
   ],
   "source": [
    "fig, ax = plt.subplots(figsize=(5.5, 5.5))\n",
    "sns.distplot(ercc_polya_lengths.dropna().polya_length,\n",
    "             hist=True, kde=False,\n",
    "             bins=np.linspace(0, 100, 50),\n",
    "             hist_kws={'density': True},\n",
    "             color=pal[0])\n",
    "ax.set_xlabel('Poly(A) tail length')\n",
    "ax.set_ylabel('Reads (Frequency Density)')\n",
    "#ax.set_xticks([0, 1, 2, 3])\n",
    "#ax.set_xticklabels([1, 10, 100, 1000])\n",
    "#ax.set_xlim(-1, 2.75)\n",
    "plt.tight_layout()\n",
    "plt.savefig('ERCC_polya_length.svg')\n",
    "plt.savefig('ERCC_polya_length.png')\n",
    "plt.show()"
   ]
  },
  {
   "cell_type": "code",
   "execution_count": 9,
   "metadata": {},
   "outputs": [
    {
     "data": {
      "text/html": [
       "<div>\n",
       "<style scoped>\n",
       "    .dataframe tbody tr th:only-of-type {\n",
       "        vertical-align: middle;\n",
       "    }\n",
       "\n",
       "    .dataframe tbody tr th {\n",
       "        vertical-align: top;\n",
       "    }\n",
       "\n",
       "    .dataframe thead th {\n",
       "        text-align: right;\n",
       "    }\n",
       "</style>\n",
       "<table border=\"1\" class=\"dataframe\">\n",
       "  <thead>\n",
       "    <tr style=\"text-align: right;\">\n",
       "      <th></th>\n",
       "      <th>chrom</th>\n",
       "      <th>start</th>\n",
       "      <th>end</th>\n",
       "      <th>gene_id</th>\n",
       "      <th>score</th>\n",
       "      <th>strand</th>\n",
       "      <th>nreads_col0</th>\n",
       "      <th>nreads_vir1</th>\n",
       "      <th>median_col0</th>\n",
       "      <th>ci_lower_col0</th>\n",
       "      <th>...</th>\n",
       "      <th>ci_upper_vir1</th>\n",
       "      <th>ks</th>\n",
       "      <th>ks_p_val</th>\n",
       "      <th>ks_fdr</th>\n",
       "      <th>mwu</th>\n",
       "      <th>mwu_p_val</th>\n",
       "      <th>mwu_fdr</th>\n",
       "      <th>cpm_col0</th>\n",
       "      <th>cpm_vir1</th>\n",
       "      <th>med_change</th>\n",
       "    </tr>\n",
       "  </thead>\n",
       "  <tbody>\n",
       "    <tr>\n",
       "      <th>0</th>\n",
       "      <td>1</td>\n",
       "      <td>31169</td>\n",
       "      <td>33171</td>\n",
       "      <td>AT1G01050</td>\n",
       "      <td>0.238514</td>\n",
       "      <td>-</td>\n",
       "      <td>45</td>\n",
       "      <td>47</td>\n",
       "      <td>68.169998</td>\n",
       "      <td>15.035000</td>\n",
       "      <td>...</td>\n",
       "      <td>241.488496</td>\n",
       "      <td>0.157920</td>\n",
       "      <td>0.577412</td>\n",
       "      <td>0.961353</td>\n",
       "      <td>898.5</td>\n",
       "      <td>0.107856</td>\n",
       "      <td>0.389911</td>\n",
       "      <td>96.062300</td>\n",
       "      <td>62.509892</td>\n",
       "      <td>14.120003</td>\n",
       "    </tr>\n",
       "    <tr>\n",
       "      <th>1</th>\n",
       "      <td>1</td>\n",
       "      <td>33364</td>\n",
       "      <td>37871</td>\n",
       "      <td>AT1G01060</td>\n",
       "      <td>0.128895</td>\n",
       "      <td>-</td>\n",
       "      <td>12</td>\n",
       "      <td>32</td>\n",
       "      <td>68.945000</td>\n",
       "      <td>25.178000</td>\n",
       "      <td>...</td>\n",
       "      <td>186.448251</td>\n",
       "      <td>0.218750</td>\n",
       "      <td>0.743199</td>\n",
       "      <td>0.996127</td>\n",
       "      <td>182.0</td>\n",
       "      <td>0.401156</td>\n",
       "      <td>0.490438</td>\n",
       "      <td>25.616613</td>\n",
       "      <td>42.559926</td>\n",
       "      <td>12.420002</td>\n",
       "    </tr>\n",
       "    <tr>\n",
       "      <th>2</th>\n",
       "      <td>1</td>\n",
       "      <td>44969</td>\n",
       "      <td>47059</td>\n",
       "      <td>AT1G01080</td>\n",
       "      <td>0.021193</td>\n",
       "      <td>-</td>\n",
       "      <td>24</td>\n",
       "      <td>61</td>\n",
       "      <td>103.040001</td>\n",
       "      <td>17.694249</td>\n",
       "      <td>...</td>\n",
       "      <td>205.600006</td>\n",
       "      <td>0.120219</td>\n",
       "      <td>0.952374</td>\n",
       "      <td>1.000000</td>\n",
       "      <td>685.0</td>\n",
       "      <td>0.324926</td>\n",
       "      <td>0.476891</td>\n",
       "      <td>51.233226</td>\n",
       "      <td>81.129860</td>\n",
       "      <td>-2.629997</td>\n",
       "    </tr>\n",
       "    <tr>\n",
       "      <th>3</th>\n",
       "      <td>1</td>\n",
       "      <td>47233</td>\n",
       "      <td>49304</td>\n",
       "      <td>AT1G01090</td>\n",
       "      <td>0.156813</td>\n",
       "      <td>-</td>\n",
       "      <td>72</td>\n",
       "      <td>78</td>\n",
       "      <td>83.704998</td>\n",
       "      <td>34.993001</td>\n",
       "      <td>...</td>\n",
       "      <td>151.514257</td>\n",
       "      <td>0.113248</td>\n",
       "      <td>0.696927</td>\n",
       "      <td>0.994525</td>\n",
       "      <td>2721.0</td>\n",
       "      <td>0.372443</td>\n",
       "      <td>0.486337</td>\n",
       "      <td>153.699679</td>\n",
       "      <td>103.739821</td>\n",
       "      <td>2.430004</td>\n",
       "    </tr>\n",
       "    <tr>\n",
       "      <th>4</th>\n",
       "      <td>1</td>\n",
       "      <td>49908</td>\n",
       "      <td>51210</td>\n",
       "      <td>AT1G01100</td>\n",
       "      <td>1.955502</td>\n",
       "      <td>-</td>\n",
       "      <td>415</td>\n",
       "      <td>357</td>\n",
       "      <td>58.169998</td>\n",
       "      <td>14.009000</td>\n",
       "      <td>...</td>\n",
       "      <td>145.250006</td>\n",
       "      <td>0.115285</td>\n",
       "      <td>0.011079</td>\n",
       "      <td>0.308539</td>\n",
       "      <td>64624.0</td>\n",
       "      <td>0.001107</td>\n",
       "      <td>0.073091</td>\n",
       "      <td>885.907874</td>\n",
       "      <td>474.809179</td>\n",
       "      <td>-10.369999</td>\n",
       "    </tr>\n",
       "  </tbody>\n",
       "</table>\n",
       "<p>5 rows × 23 columns</p>\n",
       "</div>"
      ],
      "text/plain": [
       "  chrom  start    end    gene_id     score strand  nreads_col0  nreads_vir1  \\\n",
       "0     1  31169  33171  AT1G01050  0.238514      -           45           47   \n",
       "1     1  33364  37871  AT1G01060  0.128895      -           12           32   \n",
       "2     1  44969  47059  AT1G01080  0.021193      -           24           61   \n",
       "3     1  47233  49304  AT1G01090  0.156813      -           72           78   \n",
       "4     1  49908  51210  AT1G01100  1.955502      -          415          357   \n",
       "\n",
       "   median_col0  ci_lower_col0     ...      ci_upper_vir1        ks  ks_p_val  \\\n",
       "0    68.169998      15.035000     ...         241.488496  0.157920  0.577412   \n",
       "1    68.945000      25.178000     ...         186.448251  0.218750  0.743199   \n",
       "2   103.040001      17.694249     ...         205.600006  0.120219  0.952374   \n",
       "3    83.704998      34.993001     ...         151.514257  0.113248  0.696927   \n",
       "4    58.169998      14.009000     ...         145.250006  0.115285  0.011079   \n",
       "\n",
       "     ks_fdr      mwu  mwu_p_val   mwu_fdr    cpm_col0    cpm_vir1  med_change  \n",
       "0  0.961353    898.5   0.107856  0.389911   96.062300   62.509892   14.120003  \n",
       "1  0.996127    182.0   0.401156  0.490438   25.616613   42.559926   12.420002  \n",
       "2  1.000000    685.0   0.324926  0.476891   51.233226   81.129860   -2.629997  \n",
       "3  0.994525   2721.0   0.372443  0.486337  153.699679  103.739821    2.430004  \n",
       "4  0.308539  64624.0   0.001107  0.073091  885.907874  474.809179  -10.369999  \n",
       "\n",
       "[5 rows x 23 columns]"
      ]
     },
     "execution_count": 9,
     "metadata": {},
     "output_type": "execute_result"
    }
   ],
   "source": [
    "vir1_pa_dists = pd.read_csv(\n",
    "    'data/vir1_vs_col0_polya.tsv',\n",
    "    sep='\\t',\n",
    "    names=['chrom', 'start', 'end', 'gene_id',\n",
    "           'score', 'strand', 'nreads_col0', 'nreads_vir1',\n",
    "           'median_col0', 'ci_lower_col0', 'ci_upper_col0',\n",
    "           'median_vir1', 'ci_lower_vir1', 'ci_upper_vir1',\n",
    "           'ks', 'ks_p_val', 'ks_fdr',\n",
    "           'mwu', 'mwu_p_val', 'mwu_fdr']\n",
    ")\n",
    "\n",
    "vir1_pa_dists['cpm_col0'] = vir1_pa_dists['nreads_col0'] / vir1_pa_dists['nreads_col0'].sum(0) * 1_000_000\n",
    "vir1_pa_dists['cpm_vir1'] = vir1_pa_dists['nreads_vir1'] / vir1_pa_dists['nreads_vir1'].sum(0) * 1_000_000\n",
    "vir1_pa_dists['med_change'] = vir1_pa_dists['median_vir1'] - vir1_pa_dists['median_col0']\n",
    "vir1_pa_dists.head()"
   ]
  },
  {
   "cell_type": "code",
   "execution_count": 13,
   "metadata": {},
   "outputs": [
    {
     "data": {
      "image/png": "[encoded data removed]",
      "text/plain": [
       "<Figure size 374.4x360 with 1 Axes>"
      ]
     },
     "metadata": {
      "needs_background": "light"
     },
     "output_type": "display_data"
    }
   ],
   "source": [
    "fig, ax = plt.subplots(figsize=(5.2, 5))\n",
    "plt.tight_layout()\n",
    "nuclear_only = vir1_pa_dists[vir1_pa_dists.chrom.isin(list('12345'))]\n",
    "\n",
    "sns.regplot(\n",
    "    x=np.log2(nuclear_only.cpm_col0),\n",
    "    y=nuclear_only.median_col0,\n",
    "    scatter_kws={'alpha': 0.05, 'rasterized': True},\n",
    "    line_kws={'color': '#252525'},\n",
    "    lowess=False, ax=ax\n",
    ")\n",
    "\n",
    "ax.set_xlabel('Expression (logCPM)')\n",
    "ax.set_ylabel('Median poly(A) tail length')\n",
    "\n",
    "rho, p = stats.spearmanr(nuclear_only.cpm_col0, nuclear_only.median_col0)\n",
    "\n",
    "ax.annotate(xy=(0.67, 0.9), s=f'ρ={rho:.2f}', xycoords='axes fraction')\n",
    "\n",
    "plt.tight_layout()\n",
    "plt.savefig('polya_length_vs_expression.svg')\n",
    "plt.show()"
   ]
  },
  {
   "cell_type": "code",
   "execution_count": 30,
   "metadata": {},
   "outputs": [
    {
     "name": "stdout",
     "output_type": "stream",
     "text": [
      "-0.3001785030864042 2.04240659038743e-133\n"
     ]
    }
   ],
   "source": [
    "print(rho, p)"
   ]
  },
  {
   "cell_type": "code",
   "execution_count": 15,
   "metadata": {},
   "outputs": [],
   "source": [
    "boot_res = []\n",
    "\n",
    "s = nuclear_only.loc[:, ['cpm_col0', 'median_col0']]\n",
    "n = len(s)\n",
    "\n",
    "for _ in range(10_000):\n",
    "    samp = s.sample(n=n, replace=True)\n",
    "    boot_res.append(stats.spearmanr(samp['cpm_col0'], samp['median_col0'])[0])"
   ]
  },
  {
   "cell_type": "code",
   "execution_count": 16,
   "metadata": {},
   "outputs": [
    {
     "data": {
      "image/png": "[encoded data removed]",
      "text/plain": [
       "<Figure size 432x288 with 1 Axes>"
      ]
     },
     "metadata": {
      "needs_background": "light"
     },
     "output_type": "display_data"
    }
   ],
   "source": [
    "plt.hist(boot_res)\n",
    "plt.show()"
   ]
  },
  {
   "cell_type": "code",
   "execution_count": 17,
   "metadata": {},
   "outputs": [
    {
     "data": {
      "text/plain": [
       "array([-0.32254137, -0.27702489])"
      ]
     },
     "execution_count": 17,
     "metadata": {},
     "output_type": "execute_result"
    }
   ],
   "source": [
    "np.percentile(boot_res, (2.5, 97.5))"
   ]
  }
 ],
 "metadata": {
  "kernelspec": {
   "display_name": "Python [conda env:py3_sci]",
   "language": "python",
   "name": "conda-env-py3_sci-py"
  },
  "language_info": {
   "codemirror_mode": {
    "name": "ipython",
    "version": 3
   },
   "file_extension": ".py",
   "mimetype": "text/x-python",
   "name": "python",
   "nbconvert_exporter": "python",
   "pygments_lexer": "ipython3",
   "version": "3.6.7"
  }
 },
 "nbformat": 4,
 "nbformat_minor": 2
}
