{
 "cells": [
  {
   "cell_type": "markdown",
   "metadata": {},
   "source": [
    "# Novel NMD targets?\n",
    "\n",
    "Here we look for potentially novel NMD targets by identifying reads with frameshifts of annotated open reading frames"
   ]
  },
  {
   "cell_type": "code",
   "execution_count": 200,
   "metadata": {},
   "outputs": [
    {
     "data": {
      "image/png": "[encoded data removed]",
      "text/plain": [
       "<Figure size 360x72 with 1 Axes>"
      ]
     },
     "metadata": {},
     "output_type": "display_data"
    }
   ],
   "source": [
    "import sys\n",
    "import os\n",
    "from glob import glob\n",
    "import random\n",
    "from collections import defaultdict\n",
    "import itertools as it\n",
    "\n",
    "import numpy as np\n",
    "import pandas as pd\n",
    "from scipy import stats\n",
    "import matplotlib.pyplot as plt\n",
    "from matplotlib.colors import ListedColormap\n",
    "import seaborn as sns\n",
    "\n",
    "import pysam\n",
    "from joblib import Parallel, delayed\n",
    "\n",
    "\n",
    "## Default plotting params\n",
    "\n",
    "%matplotlib inline\n",
    "sns.set(font='Arial')\n",
    "plt.rcParams['svg.fonttype'] = 'none'\n",
    "style = sns.axes_style('white')\n",
    "style.update(sns.axes_style('ticks'))\n",
    "style['xtick.major.size'] = 2\n",
    "style['ytick.major.size'] = 2\n",
    "sns.set(font_scale=2, style=style)\n",
    "pal = sns.color_palette(['#0072b2', '#d55e00', '#009e73', '#f0e442', '#cc79a7'])\n",
    "cmap = ListedColormap(pal.as_hex())\n",
    "sns.set_palette(pal)\n",
    "sns.palplot(pal)\n",
    "plt.show()"
   ]
  },
  {
   "cell_type": "code",
   "execution_count": 160,
   "metadata": {},
   "outputs": [],
   "source": [
    "%%bash\n",
    "awk -v OFS='\\t' '{print $1, $7, $8, $4, $5, $6}' /cluster/ggs_lab/mtparker/Arabidopsis_annotations/Araport/v11/201606/Araport11_protein_coding.201606.bed \\\n",
    "| sed -e 's/^Chr//' | sort -k1,1 -k2,2n > coding_regions.bed"
   ]
  },
  {
   "cell_type": "code",
   "execution_count": 158,
   "metadata": {},
   "outputs": [],
   "source": [
    "%%bash\n",
    "bedtools bamtobed -bed12 \\\n",
    "  -i /cluster/ggs_lab/mtparker/analysis_notebooks/chimeric_transcripts/vir1_vs_col0_ec/aligned_data/col0.merged.bam > \\\n",
    "nanopore_alns.bed"
   ]
  },
  {
   "cell_type": "code",
   "execution_count": 214,
   "metadata": {},
   "outputs": [],
   "source": [
    "%%bash\n",
    "bedtools intersect -sorted -wa -wb -F 1 -s \\\n",
    "  -a nanopore_alns.bed \\\n",
    "  -b coding_regions.bed |\n",
    "awk -v OFS='\\t' '{print $1, $2, $3, $16 \"_\" $4, $5, $6, $14, $15, $9, $10, $11, $12}' \\\n",
    " > nanopore_alns_with_cds.bed"
   ]
  },
  {
   "cell_type": "code",
   "execution_count": 206,
   "metadata": {},
   "outputs": [],
   "source": [
    "def is_fwd(aln):\n",
    "    if aln.is_reverse:\n",
    "        if aln.is_read1:\n",
    "            return True\n",
    "        else:\n",
    "            return False\n",
    "    else:\n",
    "        if aln.is_read1:\n",
    "            return False\n",
    "        else:\n",
    "            return True\n",
    "\n",
    "\n",
    "def get_bam_introns(bam_fn):\n",
    "    splices = defaultdict(set)\n",
    "    with pysam.AlignmentFile(bam_fn) as bam:\n",
    "        for chrom, strand in it.product(bam.references, ['+', '-']):\n",
    "            if strand == '+':\n",
    "                introns = bam.find_introns(\n",
    "                    aln for aln in bam.fetch(chrom) if is_fwd(aln)\n",
    "                )\n",
    "            else:\n",
    "                introns = bam.find_introns(\n",
    "                    aln for aln in bam.fetch(chrom) if not is_fwd(aln)\n",
    "                )\n",
    "            for inv in introns:\n",
    "                splices[(chrom, strand)].add(inv)\n",
    "    return splices\n",
    "\n",
    "\n",
    "def get_multibam_introns(bam_fns):\n",
    "    n_proc = min(len(bam_fns), 12)\n",
    "    introns = Parallel(n_jobs=n_proc)(\n",
    "        delayed(get_bam_introns)(bam_fn) for bam_fn in bam_fns\n",
    "    )\n",
    "    all_introns = defaultdict(set)\n",
    "    for i in introns:\n",
    "        for contig, ci in i.items():\n",
    "            all_introns[contig].update(ci)\n",
    "    return all_introns"
   ]
  },
  {
   "cell_type": "code",
   "execution_count": 207,
   "metadata": {},
   "outputs": [],
   "source": [
    "illumina_data = glob(\n",
    "    '/cluster/ggs_lab/mtparker/illumina_rnaseq_pipelines/vir_fpa_35SFPA_rnaseq/aligned_data/col0_*/Aligned.sorted.bam'\n",
    ")\n",
    "\n",
    "all_introns = get_multibam_introns(illumina_data)"
   ]
  },
  {
   "cell_type": "code",
   "execution_count": 269,
   "metadata": {},
   "outputs": [],
   "source": [
    "def get_gtf_introns(gtf_fn):\n",
    "    splices = defaultdict(set)\n",
    "    with open(gtf_fn) as gtf:\n",
    "        for record in gtf:\n",
    "            record = record.split()\n",
    "            chrom = re.sub('^Chr', '', record[0])\n",
    "            chrom = re.sub('C', 'Pt', chrom)\n",
    "            chrom = re.sub('M$', 'Mt', chrom)\n",
    "            start = int(record[3]) - 1\n",
    "            end = int(record[4])\n",
    "            strand = record[6]\n",
    "            splices[(chrom, strand)].add((start, end))\n",
    "    return splices"
   ]
  },
  {
   "cell_type": "code",
   "execution_count": 270,
   "metadata": {},
   "outputs": [],
   "source": [
    "annotated_introns = get_gtf_introns('/cluster/ggs_lab/mtparker/analysis_notebooks/splice_junc_counts/atrtd2_introns.gtf')"
   ]
  },
  {
   "cell_type": "code",
   "execution_count": 272,
   "metadata": {},
   "outputs": [],
   "source": [
    "def parse_exons(record):\n",
    "    start = int(record[1])\n",
    "    exstarts = np.fromstring(record[11], sep=',', dtype=np.int) + start\n",
    "    exlengths = np.fromstring(record[10], sep=',', dtype=np.int)\n",
    "    exends = exstarts + exlengths\n",
    "    return exstarts, exends\n",
    "\n",
    "\n",
    "def get_cds(start, end, exstarts, exends):\n",
    "    if len(exstarts) == 1:\n",
    "        if not ((exstarts[0] <= start < exends[0]) & (exstarts[0] < end <= exends[0])):\n",
    "            raise ValueError()\n",
    "        else:\n",
    "            return np.array([start]), np.array([end])\n",
    "    inv_iter = zip(exstarts, exends)\n",
    "    cds = []\n",
    "    while True:\n",
    "        ex_start, ex_end = next(inv_iter)\n",
    "        if start > ex_end:\n",
    "            continue\n",
    "        elif ex_start <= start < ex_end:\n",
    "            if end <= ex_end:\n",
    "                return np.array([start]), np.array([end])\n",
    "            else:\n",
    "                cds.append([start, ex_end])\n",
    "            break\n",
    "        else:\n",
    "            raise ValueError()\n",
    "\n",
    "    while True:\n",
    "        ex_start, ex_end = next(inv_iter)\n",
    "        if ex_start < end <= ex_end:\n",
    "            cds.append([ex_start, end])\n",
    "            break\n",
    "        elif end > ex_end:\n",
    "            cds.append([ex_start, ex_end])\n",
    "        else:\n",
    "            raise ValueError()\n",
    "    cds_starts, cds_ends = zip(*cds)\n",
    "    cds_starts = np.array(cds_starts)\n",
    "    cds_ends = np.array(cds_ends)\n",
    "    return cds_starts, cds_ends\n",
    "\n",
    "\n",
    "def alignment_introns_supported(exstarts, exends, chrom, strand, intron_set):\n",
    "    exons = set()\n",
    "    for s, e in zip(exstarts[1:], exends[:-1]):\n",
    "        exons.add((e, s))\n",
    "    return exons.issubset(intron_set[(chrom, strand)])\n",
    "\n",
    "\n",
    "def find_frameshifts(bed12_fn, out_bed_fn):\n",
    "    with open(bed12_fn) as bed, open(out_bed_fn, 'w') as obed:\n",
    "        for line in bed:\n",
    "            record = line.split()\n",
    "            cds_start = int(record[6])\n",
    "            cds_end = int(record[7])\n",
    "            exstarts, exends = parse_exons(record)\n",
    "            if alignment_introns_supported(exstarts, exends, record[0], record[5], all_introns):\n",
    "                if not alignment_introns_supported(exstarts, exends, record[0], record[5], annotated_introns):\n",
    "                    try:\n",
    "                        cds_starts, cds_ends = get_cds(cds_start, cds_end, exstarts, exends)\n",
    "                    except ValueError:\n",
    "                        continue\n",
    "                    cds_len = sum(cds_ends - cds_starts)\n",
    "                    aa, f = divmod(cds_len, 3)\n",
    "                    if f != 0:\n",
    "                        obed.write(line)"
   ]
  },
  {
   "cell_type": "code",
   "execution_count": 273,
   "metadata": {},
   "outputs": [],
   "source": [
    "find_frameshifts('nanopore_alns_with_cds.bed', 'nanopore_frameshifts.bed')"
   ]
  },
  {
   "cell_type": "code",
   "execution_count": 274,
   "metadata": {},
   "outputs": [
    {
     "name": "stdout",
     "output_type": "stream",
     "text": [
      "8515 nanopore_frameshifts.bed\n"
     ]
    }
   ],
   "source": [
    "%%bash\n",
    "wc -l nanopore_frameshifts.bed"
   ]
  },
  {
   "cell_type": "code",
   "execution_count": null,
   "metadata": {},
   "outputs": [],
   "source": []
  }
 ],
 "metadata": {
  "kernelspec": {
   "display_name": "Python [conda env:r35py36]",
   "language": "python",
   "name": "conda-env-r35py36-py"
  },
  "language_info": {
   "codemirror_mode": {
    "name": "ipython",
    "version": 3
   },
   "file_extension": ".py",
   "mimetype": "text/x-python",
   "name": "python",
   "nbconvert_exporter": "python",
   "pygments_lexer": "ipython3",
   "version": "3.6.7"
  }
 },
 "nbformat": 4,
 "nbformat_minor": 2
}
