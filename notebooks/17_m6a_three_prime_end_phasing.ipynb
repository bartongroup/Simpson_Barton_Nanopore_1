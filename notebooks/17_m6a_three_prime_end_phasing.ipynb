{
 "cells": [
  {
   "cell_type": "markdown",
   "metadata": {},
   "source": [
    "# Error site and 3' end phasing\n",
    "\n",
    "In this notebook we are going to take the differential error sites which are found at methylated positions, and identify whether there is a correlation between the VIRc basecalls at these sites and the positions of the 3' ends of the read. In this way we can try to \"phase\" the methylation with 3' site choice."
   ]
  },
  {
   "cell_type": "code",
   "execution_count": 3,
   "metadata": {},
   "outputs": [
    {
     "data": {
      "image/png": "[encoded data removed]",
      "text/plain": [
       "<Figure size 360x72 with 1 Axes>"
      ]
     },
     "metadata": {},
     "output_type": "display_data"
    }
   ],
   "source": [
    "import sys\n",
    "import os\n",
    "from glob import glob\n",
    "import random\n",
    "from bisect import bisect_left\n",
    "from collections import defaultdict\n",
    "\n",
    "import numpy as np\n",
    "import pandas as pd\n",
    "from scipy import stats\n",
    "import matplotlib.pyplot as plt\n",
    "from matplotlib.colors import ListedColormap\n",
    "import matplotlib_venn as vn\n",
    "import seaborn as sns\n",
    "\n",
    "from statsmodels.stats.multitest import multipletests\n",
    "from scipy.ndimage.filters import gaussian_filter1d\n",
    "import pysam\n",
    "\n",
    "## Default plotting params\n",
    "\n",
    "%matplotlib inline\n",
    "sns.set(font='Arial')\n",
    "plt.rcParams['svg.fonttype'] = 'none'\n",
    "style = sns.axes_style('white')\n",
    "style.update(sns.axes_style('ticks'))\n",
    "style['xtick.major.size'] = 2\n",
    "style['ytick.major.size'] = 2\n",
    "sns.set(font_scale=2, style=style)\n",
    "pal = sns.color_palette(['#0072b2', '#d55e00', '#009e73', '#f0e442', '#cc79a7'])\n",
    "cmap = ListedColormap(pal.as_hex())\n",
    "sns.set_palette(pal)\n",
    "sns.palplot(pal)\n",
    "plt.show()"
   ]
  },
  {
   "cell_type": "code",
   "execution_count": 4,
   "metadata": {},
   "outputs": [],
   "source": [
    "def argrelmin_left_on_flat(arr, order):\n",
    "    idx = []\n",
    "    for i in range(order, len(arr) - order):\n",
    "        if np.all(arr[i] < arr[i - order: i]) and np.all(arr[i] <= arr[i + 1: i + 1 + order]):\n",
    "            idx.append(i)\n",
    "    return np.array(idx)\n",
    "\n",
    "\n",
    "def cluster_by_endpoint(endpoints, *, sigma):\n",
    "    offset = endpoints.min() - sigma * 3\n",
    "    endpoints_scaled = endpoints - offset\n",
    "    endpoints_max = endpoints_scaled.max()\n",
    "    endpoints_dist = np.bincount(\n",
    "        endpoints_scaled,\n",
    "        minlength=endpoints_max + sigma * 3\n",
    "    ).astype('f')\n",
    "    endpoints_dist = gaussian_filter1d(\n",
    "        endpoints_dist, sigma=sigma, mode='constant', cval=0\n",
    "    )\n",
    "\n",
    "    # find local minima in three prime positions\n",
    "    cut_idx = argrelmin_left_on_flat(endpoints_dist, order=sigma)\n",
    "    cut_idx = cut_idx + offset\n",
    "\n",
    "    # classify alignments in relation to local minima\n",
    "    cluster_idx = []\n",
    "    clusters = defaultdict(list)\n",
    "    for pos in endpoints:\n",
    "        i = bisect_left(cut_idx, pos)\n",
    "        cluster_idx.append(i)\n",
    "        clusters[i].append(pos)\n",
    "\n",
    "    cluster_labels = {}\n",
    "    for idx, positions in clusters.items():\n",
    "        cluster_labels[idx] = f'{min(positions)}-{max(positions)}'\n",
    "    return np.array(cluster_idx), cluster_labels\n",
    "\n",
    "\n",
    "def iter_der_bed(der_sites_fn):\n",
    "    with open(der_sites_fn) as bed:\n",
    "        for record in bed:\n",
    "            chrom, start, end, _, _, strand, *_ = record.split('\\t')\n",
    "            start = int(start)\n",
    "            end = int(end)\n",
    "            yield chrom, start, end, strand\n",
    "\n",
    "\n",
    "def get_single_query_seq(pileupread):\n",
    "    '''\n",
    "    Get the query sequence for a pysam PileUpRead\n",
    "    '''\n",
    "    pos = pileupread.query_position\n",
    "    if pos is None:\n",
    "        return ''\n",
    "    else:\n",
    "        seq = pileupread.alignment.query_sequence[pos]\n",
    "        if len(seq) > 1:\n",
    "            return ''\n",
    "        else:\n",
    "            return seq\n",
    "\n",
    "\n",
    "def get_query_seqs(pileupcol):\n",
    "    # Use pysam to get the query sequences, or if this fails fall\n",
    "    # back on slower but more stable method of fetching one at a time\n",
    "    try:\n",
    "        query_seqs = pileupcol.get_query_sequences()\n",
    "    except AssertionError:\n",
    "        query_seqs = [get_single_query_seq(read) for read in pileupcol.pileups]\n",
    "    query_seqs = [s.upper() if s else 'indel' for s in query_seqs]\n",
    "    return query_seqs\n",
    "\n",
    "\n",
    "\n",
    "def iter_pileupreads(pileupcol):\n",
    "    query_seqs = get_query_seqs(pileupcol)\n",
    "    for read, seq in zip(pileupcol.pileups, query_seqs):\n",
    "        aln = read.alignment\n",
    "        if not read.is_refskip:\n",
    "            three_prime, strand = (aln.reference_start, '-') if aln.is_reverse \\\n",
    "                                   else (aln.reference_end, '+')\n",
    "            yield seq, strand, three_prime\n",
    "\n",
    "\n",
    "def calculate_mismatch_odds_ratio(ref_base, kd_counts, cntrl_counts):\n",
    "    '''\n",
    "    Calculate the log2 odds ratio with haldane correction\n",
    "    (0.5 pseudocount)\n",
    "    '''\n",
    "    try:\n",
    "        kd_m = float(kd_counts[ref_base])\n",
    "    except KeyError:\n",
    "        kd_m = 0.0\n",
    "    kd_mm = float(kd_counts.sum() - kd_m)\n",
    "\n",
    "    try:\n",
    "        cntrl_m = float(cntrl_counts[ref_base])\n",
    "    except KeyError:\n",
    "        cntrl_m = 0.0\n",
    "    cntrl_mm = float(cntrl_counts.sum() - cntrl_m)\n",
    "    odds_ratio = np.log2(((kd_mm + 0.5) / (kd_m + 0.5)) / \n",
    "                         ((cntrl_mm + 0.5) / (cntrl_m + 0.5)))\n",
    "    return odds_ratio, [ref_base, kd_mm, kd_m, cntrl_mm, cntrl_m]\n",
    "\n",
    "\n",
    "def get_pa_site_wise_res(counts, fasta, chrom, start, end, strand):\n",
    "    ref_base = fasta.fetch(chrom, start, end)\n",
    "    p = counts.index.to_series().str.split('-', expand=True)[0].astype('i')\n",
    "    orders = np.argsort(p)\n",
    "    if strand == '-':\n",
    "        orders = orders.max() - orders\n",
    "    for pa_site, order in zip(counts.index, orders):\n",
    "        one_vs_rest = [counts.loc[pa_site], counts[counts.index != pa_site].sum()]\n",
    "        log_odds, _ = calculate_mismatch_odds_ratio(ref_base, *one_vs_rest)\n",
    "        g_stat, p_val, *_ = stats.chi2_contingency(one_vs_rest, lambda_='log-likelihood')\n",
    "        yield pa_site, g_stat, p_val, log_odds, order\n",
    "\n",
    "\n",
    "def phase_three_prime_ends(bam_fn, fasta_fn, der_sites_fn, sigma, min_reads_per_three_prime_cluster):\n",
    "    derwise_res = []\n",
    "    pawise_res = []\n",
    "    count_data = {}\n",
    "    with pysam.AlignmentFile(bam_fn) as bam, pysam.FastaFile(fasta_fn) as fasta:\n",
    "        for chrom, start, end, der_strand in iter_der_bed(der_sites_fn):\n",
    "            # for each read alignment overlapping this error site, identify the basecall at\n",
    "            # this position and the position of the three prime end.\n",
    "            seqs = []\n",
    "            three_prime_positions = []\n",
    "            for col in bam.pileup(chrom, start, end, truncate=True,\n",
    "                                  max_depth=10_000_000, min_base_quality=0):\n",
    "                for seq, aln_strand, three_prime in iter_pileupreads(col):\n",
    "                    if aln_strand == der_strand:\n",
    "                        seqs.append(seq)\n",
    "                        three_prime_positions.append(three_prime)\n",
    "            three_prime_positions = np.array(three_prime_positions)\n",
    "            # cluster the read endpoints using KDE minima splitting\n",
    "            three_prime_codebook, codebook_labels = cluster_by_endpoint(three_prime_positions, sigma=sigma)\n",
    "            tpe_counts = np.bincount(three_prime_codebook)\n",
    "            # filter out any small clusters of endpoints\n",
    "            small_cluster_mask = tpe_counts[three_prime_codebook] >= min_reads_per_three_prime_cluster\n",
    "            three_prime_positions = three_prime_positions[small_cluster_mask]\n",
    "            three_prime_codebook = three_prime_codebook[small_cluster_mask]\n",
    "            three_prime_codebook = [codebook_labels[idx] for idx in three_prime_codebook]\n",
    "            seqs = [s for m, s in zip(small_cluster_mask, seqs) if m]\n",
    "            n_clusters = len(set(three_prime_codebook))\n",
    "            if n_clusters > 1:\n",
    "                # generate a counts matrix of basecalls for each cluster\n",
    "                counts = pd.crosstab(pd.Series(three_prime_codebook), pd.Series(seqs))\n",
    "                # identify if there are differences in basecalls for the different clusters\n",
    "                g_stat, p_val, *_ = stats.chi2_contingency(counts, lambda_='log-likelihood')\n",
    "                derwise_res.append([chrom, start, end, der_strand, n_clusters, g_stat, p_val])\n",
    "                for pa_site, g_stat, p_val, log_odds, order in get_pa_site_wise_res(counts, fasta, chrom, start, end, der_strand):\n",
    "                    pawise_res.append([pa_site, chrom, start, end, der_strand, order, n_clusters, log_odds, g_stat, p_val])\n",
    "                count_data[(chrom, start, end, der_strand)] = counts\n",
    "    derwise_res = pd.DataFrame(derwise_res, columns=['chrom', 'start', 'end', 'strand', 'n_three_prime_clusters', 'g_stat', 'p_val'])\n",
    "    _, derwise_res['fdr'], *_ = multipletests(derwise_res.p_val, method='fdr_bh')\n",
    "    pawise_res = pd.DataFrame(pawise_res, columns=['pa_site', 'chrom', 'start', 'end', 'strand',\n",
    "                                                   'three_prime_order', 'n_three_prime_clusters',\n",
    "                                                   'log_odds', 'g_stat', 'p_val'])\n",
    "    _, pawise_res['fdr'], *_ = multipletests(pawise_res.p_val, method='fdr_bh')\n",
    "    return derwise_res, pawise_res, count_data"
   ]
  },
  {
   "cell_type": "code",
   "execution_count": 5,
   "metadata": {},
   "outputs": [],
   "source": [
    "der_phasing_res, pasite_phasing_res, count_data = phase_three_prime_ends(\n",
    "    '/cluster/ggs_lab/mtparker/analysis_notebooks/chimeric_transcripts/vir1_vs_VIRc/aligned_data/VIRc.merged.bam',\n",
    "    '/cluster/ggs_lab/mtparker/Arabidopsis_annotations/TAIR10/ensembl/release_35/Arabidopsis_thaliana.TAIR10.dna.toplevel.fa',\n",
    "    '/cluster/ggs_lab/mtparker/DER_m6a_pipeline_runs/vir1_VIRc_guppy/der_analysis/der_sites_thresholded.bed',\n",
    "    sigma=13,\n",
    "    min_reads_per_three_prime_cluster=10\n",
    ")"
   ]
  },
  {
   "cell_type": "code",
   "execution_count": null,
   "metadata": {},
   "outputs": [],
   "source": [
    "directionality = (\n",
    "    pasite_phasing_res\n",
    "    .groupby(['chrom', 'start', 'end', 'strand'])\n",
    "    .apply(lambda df: stats.spearmanr(df.three_prime_order, df.log_odds)[0])\n",
    "    .rename('directionality')\n",
    "    .fillna(0) # nans result from flat log odds\n",
    "    .reset_index()\n",
    ")\n",
    "directionality.head()"
   ]
  },
  {
   "cell_type": "code",
   "execution_count": null,
   "metadata": {},
   "outputs": [],
   "source": [
    "der_phasing_res_dir = der_phasing_res.merge(\n",
    "    directionality, on=['chrom', 'start', 'end', 'strand'], how='left')\n",
    "der_phasing_res_dir.head()"
   ]
  },
  {
   "cell_type": "code",
   "execution_count": null,
   "metadata": {},
   "outputs": [],
   "source": [
    "plt.hist(der_phasing_res_dir.p_val, bins=50)\n",
    "plt.show()"
   ]
  },
  {
   "cell_type": "code",
   "execution_count": null,
   "metadata": {},
   "outputs": [],
   "source": [
    "plt.hist(pasite_phasing_res.p_val, bins=50)\n",
    "plt.show()"
   ]
  },
  {
   "cell_type": "code",
   "execution_count": null,
   "metadata": {},
   "outputs": [],
   "source": [
    "%%bash\n",
    "bedtools intersect -u -s \\\n",
    "  -a DER_sites_phased.bed \\\n",
    "  -b /cluster/ggs_lab/mtparker/DER_m6a_pipeline_runs/vir1_VIRc_guppy/motif_detection/der_motifs.gtf > \\\n",
    "DER_motifs_phased_at_m6a_motifs.bed"
   ]
  },
  {
   "cell_type": "code",
   "execution_count": null,
   "metadata": {},
   "outputs": [],
   "source": [
    "phasing_m6a = pd.read_csv(\n",
    "    'DER_motifs_phased_at_m6a_motifs.bed',\n",
    "    sep='\\t', header=None,\n",
    "    names=['chrom', 'start', 'end', 'name', 'g_stat', 'strand',\n",
    "           'n_three_prime_clusters', 'p_val', 'fdr', 'directionality']\n",
    ")\n",
    "phasing_m6a.head()"
   ]
  },
  {
   "cell_type": "code",
   "execution_count": null,
   "metadata": {},
   "outputs": [],
   "source": [
    "len(phasing_m6a)"
   ]
  },
  {
   "cell_type": "code",
   "execution_count": 476,
   "metadata": {},
   "outputs": [],
   "source": [
    "%%bash\n",
    "bedtools intersect -wa -wb -s \\\n",
    "  -a /cluster/ggs_lab/mtparker/DER_m6a_pipeline_runs/notebooks/araport_genes.bed \\\n",
    "  -b DER_motifs_phased_at_m6a_motifs.bed > genes_with_three_prime_phased_error_sites.bed"
   ]
  },
  {
   "cell_type": "code",
   "execution_count": 482,
   "metadata": {},
   "outputs": [
    {
     "data": {
      "text/html": [
       "<div>\n",
       "<style scoped>\n",
       "    .dataframe tbody tr th:only-of-type {\n",
       "        vertical-align: middle;\n",
       "    }\n",
       "\n",
       "    .dataframe tbody tr th {\n",
       "        vertical-align: top;\n",
       "    }\n",
       "\n",
       "    .dataframe thead th {\n",
       "        text-align: right;\n",
       "    }\n",
       "</style>\n",
       "<table border=\"1\" class=\"dataframe\">\n",
       "  <thead>\n",
       "    <tr style=\"text-align: right;\">\n",
       "      <th>col_0</th>\n",
       "      <th>A</th>\n",
       "      <th>C</th>\n",
       "      <th>G</th>\n",
       "      <th>indel</th>\n",
       "    </tr>\n",
       "    <tr>\n",
       "      <th>row_0</th>\n",
       "      <th></th>\n",
       "      <th></th>\n",
       "      <th></th>\n",
       "      <th></th>\n",
       "    </tr>\n",
       "  </thead>\n",
       "  <tbody>\n",
       "    <tr>\n",
       "      <th>6402710-6402750</th>\n",
       "      <td>14</td>\n",
       "      <td>0</td>\n",
       "      <td>13</td>\n",
       "      <td>0</td>\n",
       "    </tr>\n",
       "    <tr>\n",
       "      <th>6402763-6402824</th>\n",
       "      <td>14</td>\n",
       "      <td>3</td>\n",
       "      <td>51</td>\n",
       "      <td>4</td>\n",
       "    </tr>\n",
       "  </tbody>\n",
       "</table>\n",
       "</div>"
      ],
      "text/plain": [
       "col_0             A  C   G  indel\n",
       "row_0                            \n",
       "6402710-6402750  14  0  13      0\n",
       "6402763-6402824  14  3  51      4"
      ]
     },
     "execution_count": 482,
     "metadata": {},
     "output_type": "execute_result"
    }
   ],
   "source": [
    "count_data[('1', 6402702, 6402703, '+')]"
   ]
  },
  {
   "cell_type": "code",
   "execution_count": 491,
   "metadata": {},
   "outputs": [
    {
     "name": "stderr",
     "output_type": "stream",
     "text": [
      "/cluster/ggs_lab/mtparker/.conda/envs/r35py36/lib/python3.6/site-packages/pandas/io/parsers.py:678: UserWarning: Duplicate names specified. This will raise an error in the future.\n",
      "  return _read(filepath_or_buffer, kwds)\n"
     ]
    }
   ],
   "source": [
    "genes_with_phased_error_sites = pd.read_csv(\n",
    "    'genes_with_three_prime_phased_error_sites.bed',\n",
    "    sep='\\t',\n",
    "    names=['chrom', 'start', 'end', 'gene_id', 'score', 'strand',\n",
    "           'chrom', 'start', 'end', 'name', 'g_stat', 'strand',\n",
    "           'n_three_prime_clusters', 'p_val', 'fdr', 'directionality']\n",
    ").groupby('gene_id', as_index=False).first()"
   ]
  },
  {
   "cell_type": "code",
   "execution_count": 492,
   "metadata": {},
   "outputs": [
    {
     "data": {
      "text/plain": [
       "207"
      ]
     },
     "execution_count": 492,
     "metadata": {},
     "output_type": "execute_result"
    }
   ],
   "source": [
    "len(genes_with_phased_error_sites)"
   ]
  },
  {
   "cell_type": "code",
   "execution_count": 494,
   "metadata": {},
   "outputs": [
    {
     "data": {
      "text/html": [
       "<div>\n",
       "<style scoped>\n",
       "    .dataframe tbody tr th:only-of-type {\n",
       "        vertical-align: middle;\n",
       "    }\n",
       "\n",
       "    .dataframe tbody tr th {\n",
       "        vertical-align: top;\n",
       "    }\n",
       "\n",
       "    .dataframe thead th {\n",
       "        text-align: right;\n",
       "    }\n",
       "</style>\n",
       "<table border=\"1\" class=\"dataframe\">\n",
       "  <thead>\n",
       "    <tr style=\"text-align: right;\">\n",
       "      <th></th>\n",
       "      <th>gene_id</th>\n",
       "      <th>start</th>\n",
       "      <th>end</th>\n",
       "      <th>strand</th>\n",
       "      <th>ks</th>\n",
       "      <th>pval</th>\n",
       "      <th>fdr</th>\n",
       "      <th>most_reduced_site</th>\n",
       "      <th>most_increased_site</th>\n",
       "      <th>dist_between_most_reduced_and_increased</th>\n",
       "      <th>abs_dist</th>\n",
       "    </tr>\n",
       "  </thead>\n",
       "  <tbody>\n",
       "    <tr>\n",
       "      <th>8</th>\n",
       "      <td>AT1G01090</td>\n",
       "      <td>47233</td>\n",
       "      <td>49304</td>\n",
       "      <td>-</td>\n",
       "      <td>0.280613</td>\n",
       "      <td>2.159062e-27</td>\n",
       "      <td>2.257641e-25</td>\n",
       "      <td>47529</td>\n",
       "      <td>47612</td>\n",
       "      <td>-83</td>\n",
       "      <td>83</td>\n",
       "    </tr>\n",
       "    <tr>\n",
       "      <th>9</th>\n",
       "      <td>AT1G01100</td>\n",
       "      <td>49908</td>\n",
       "      <td>51210</td>\n",
       "      <td>-</td>\n",
       "      <td>0.048021</td>\n",
       "      <td>5.361359e-03</td>\n",
       "      <td>2.474354e-02</td>\n",
       "      <td>50097</td>\n",
       "      <td>50175</td>\n",
       "      <td>-78</td>\n",
       "      <td>78</td>\n",
       "    </tr>\n",
       "    <tr>\n",
       "      <th>13</th>\n",
       "      <td>AT1G01140</td>\n",
       "      <td>64165</td>\n",
       "      <td>67774</td>\n",
       "      <td>-</td>\n",
       "      <td>0.198144</td>\n",
       "      <td>3.189174e-03</td>\n",
       "      <td>1.619448e-02</td>\n",
       "      <td>64160</td>\n",
       "      <td>64314</td>\n",
       "      <td>-154</td>\n",
       "      <td>154</td>\n",
       "    </tr>\n",
       "    <tr>\n",
       "      <th>15</th>\n",
       "      <td>AT1G01170</td>\n",
       "      <td>73930</td>\n",
       "      <td>74737</td>\n",
       "      <td>-</td>\n",
       "      <td>0.107933</td>\n",
       "      <td>4.687481e-03</td>\n",
       "      <td>2.214051e-02</td>\n",
       "      <td>73996</td>\n",
       "      <td>74046</td>\n",
       "      <td>-50</td>\n",
       "      <td>50</td>\n",
       "    </tr>\n",
       "    <tr>\n",
       "      <th>23</th>\n",
       "      <td>AT1G01260</td>\n",
       "      <td>108945</td>\n",
       "      <td>111699</td>\n",
       "      <td>+</td>\n",
       "      <td>0.202360</td>\n",
       "      <td>3.295483e-03</td>\n",
       "      <td>1.664392e-02</td>\n",
       "      <td>111589</td>\n",
       "      <td>111539</td>\n",
       "      <td>-50</td>\n",
       "      <td>50</td>\n",
       "    </tr>\n",
       "  </tbody>\n",
       "</table>\n",
       "</div>"
      ],
      "text/plain": [
       "      gene_id   start     end strand        ks          pval           fdr  \\\n",
       "8   AT1G01090   47233   49304      -  0.280613  2.159062e-27  2.257641e-25   \n",
       "9   AT1G01100   49908   51210      -  0.048021  5.361359e-03  2.474354e-02   \n",
       "13  AT1G01140   64165   67774      -  0.198144  3.189174e-03  1.619448e-02   \n",
       "15  AT1G01170   73930   74737      -  0.107933  4.687481e-03  2.214051e-02   \n",
       "23  AT1G01260  108945  111699      +  0.202360  3.295483e-03  1.664392e-02   \n",
       "\n",
       "    most_reduced_site  most_increased_site  \\\n",
       "8               47529                47612   \n",
       "9               50097                50175   \n",
       "13              64160                64314   \n",
       "15              73996                74046   \n",
       "23             111589               111539   \n",
       "\n",
       "    dist_between_most_reduced_and_increased  abs_dist  \n",
       "8                                       -83        83  \n",
       "9                                       -78        78  \n",
       "13                                     -154       154  \n",
       "15                                      -50        50  \n",
       "23                                      -50        50  "
      ]
     },
     "execution_count": 494,
     "metadata": {},
     "output_type": "execute_result"
    }
   ],
   "source": [
    "vir_vs_VIRc_differential_tpe = (pd.read_excel(\n",
    "    '../three_prime_ends_in_cds_exons/vir1_vs_VIRc_differential_polya_site.xlsx'\n",
    ").assign(abs_dist=lambda df: np.abs(df.dist_between_most_reduced_and_increased))\n",
    " .query('fdr < 0.05 & abs_dist >= 13'))\n",
    "vir_vs_VIRc_differential_tpe.head()"
   ]
  },
  {
   "cell_type": "code",
   "execution_count": 495,
   "metadata": {},
   "outputs": [
    {
     "data": {
      "text/plain": [
       "<matplotlib_venn._common.VennDiagram at 0x2ae4de76b780>"
      ]
     },
     "execution_count": 495,
     "metadata": {},
     "output_type": "execute_result"
    },
    {
     "data": {
      "image/png": "[encoded data removed]",
      "text/plain": [
       "<Figure size 576x576 with 1 Axes>"
      ]
     },
     "metadata": {},
     "output_type": "display_data"
    }
   ],
   "source": [
    "fig, ax = plt.subplots(figsize=(8, 8))\n",
    "vn.venn2(\n",
    "    [set(vir_vs_VIRc_differential_tpe.gene_id),\n",
    "     set(genes_with_phased_error_sites.gene_id)],\n",
    "    set_labels=['vir-1 vs VIRc\\nthree prime end shift',\n",
    "                'Error sites phased\\nwith three prime end'],\n",
    "    set_colors=pal[:2]\n",
    ")"
   ]
  },
  {
   "cell_type": "code",
   "execution_count": 505,
   "metadata": {},
   "outputs": [
    {
     "data": {
      "text/plain": [
       "SpearmanrResult(correlation=0.38329459012911943, pvalue=1.40091009996134e-06)"
      ]
     },
     "execution_count": 505,
     "metadata": {},
     "output_type": "execute_result"
    }
   ],
   "source": [
    "m = genes_with_phased_error_sites.merge(vir_vs_VIRc_differential_tpe, on='gene_id')\n",
    "stats.spearmanr(\n",
    "    m.directionality,\n",
    "    m.dist_between_most_reduced_and_increased.map(lambda x: -1 if x > 0 else 1)\n",
    ")"
   ]
  },
  {
   "cell_type": "code",
   "execution_count": 475,
   "metadata": {},
   "outputs": [],
   "source": [
    "def bam_cigar_to_invs(aln):\n",
    "    invs = []\n",
    "    start = aln.reference_start\n",
    "    end = aln.reference_end\n",
    "    strand = '-' if aln.is_reverse else '+'\n",
    "    left = start\n",
    "    right = left\n",
    "    for op, ln in aln.cigar:\n",
    "        if op in (4, 5):\n",
    "            # does not consume reference\n",
    "            continue\n",
    "        elif op in (0, 2, 7, 8):\n",
    "            # consume reference but do not add to invs yet\n",
    "            right += ln\n",
    "        elif op == 3:\n",
    "            invs.append([left, right])\n",
    "            left = right + ln\n",
    "            right = left\n",
    "    if right > left:\n",
    "        invs.append([left, right])\n",
    "    assert invs[0][0] == start\n",
    "    assert invs[-1][1] == end\n",
    "    return np.array(invs)\n",
    "\n",
    "\n",
    "def iter_pileupreads(pileupcol):\n",
    "    query_seqs = get_query_seqs(pileupcol)\n",
    "    for read, seq in zip(pileupcol.pileups, query_seqs):\n",
    "        aln = read.alignment\n",
    "        if not read.is_refskip:\n",
    "            strand = '-' if aln.is_reverse else '+'\n",
    "            invs = bam_cigar_to_invs(aln)\n",
    "            yield seq, strand, invs\n",
    "\n",
    "\n",
    "def phase_upstream_acceptor(bam_fn, der_sites_fn, sigma, min_reads_per_acceptor_cluster):\n",
    "    res = []\n",
    "    count_data = {}\n",
    "    with pysam.AlignmentFile(bam_fn) as bam:\n",
    "        for chrom, start, end, der_strand in iter_der_bed(der_sites_fn):\n",
    "            # for each read alignment overlapping this error site, identify the basecall at\n",
    "            # this position and the position of the three prime end.\n",
    "            seqs = []\n",
    "            acceptor_positions = []\n",
    "            for col in bam.pileup(chrom, start, end, truncate=True,\n",
    "                                  max_depth=10_000_000, min_base_quality=0):\n",
    "                for seq, aln_strand, invs in iter_pileupreads(col):\n",
    "                    if aln_strand == der_strand and len(invs) > 1:\n",
    "                        if aln_strand == '+':\n",
    "                            idx = np.searchsorted(invs[:, 0], col.reference_pos, side='right') - 1\n",
    "                            acc_pos = invs[idx, 0]\n",
    "                        else:\n",
    "                            idx = np.searchsorted(invs[:, 1], col.reference_pos, side='left')\n",
    "                            acc_pos = invs[idx, 1]\n",
    "                        seqs.append(seq)\n",
    "                        acceptor_positions.append(acc_pos)\n",
    "            acceptor_positions = np.array(acceptor_positions)\n",
    "            _, acceptor_codebook = np.unique(acceptor_positions, return_inverse=True)\n",
    "            acc_counts = np.bincount(acceptor_codebook)\n",
    "            # filter out any small clusters of acceptors\n",
    "            small_cluster_mask = acc_counts[acceptor_codebook] >= min_reads_per_acceptor_cluster\n",
    "            acceptor_positions = acceptor_positions[small_cluster_mask]\n",
    "            seqs = [s for m, s in zip(small_cluster_mask, seqs) if m]\n",
    "            n_clusters = len(set(acceptor_positions))\n",
    "            if n_clusters > 1:\n",
    "                # generate a counts matrix of basecalls for each cluster\n",
    "                counts = pd.crosstab(pd.Series(acceptor_positions), pd.Series(seqs))\n",
    "                # identify if there are differences in basecalls for the different clusters\n",
    "                g_stat, p_val, *_ = stats.chi2_contingency(counts, lambda_='log-likelihood')\n",
    "                res.append([chrom, start, end, der_strand, n_clusters, g_stat, p_val])\n",
    "                count_data[(chrom, start, end, der_strand)] = counts\n",
    "    res = pd.DataFrame(res, columns=['chrom', 'start', 'end', 'strand', 'n_acceptor_clusters', 'g_stat', 'p_val'])\n",
    "    _, res['fdr'], *_ = multipletests(res.p_val, method='fdr_bh')\n",
    "    return res, count_data"
   ]
  },
  {
   "cell_type": "code",
   "execution_count": 162,
   "metadata": {},
   "outputs": [],
   "source": [
    "phasing_acceptor, acc_counts = phase_upstream_acceptor(\n",
    "    '/cluster/ggs_lab/mtparker/analysis_notebooks/chimeric_transcripts/vir1_vs_VIRc/aligned_data/VIRc.merged.bam',\n",
    "    '/cluster/ggs_lab/mtparker/DER_m6a_pipeline_runs/vir1_VIRc_guppy/der_analysis/der_sites_thresholded.bed',\n",
    "    sigma=15,\n",
    "    min_reads_per_acceptor_cluster=10\n",
    ")"
   ]
  },
  {
   "cell_type": "code",
   "execution_count": 167,
   "metadata": {},
   "outputs": [
    {
     "data": {
      "image/png": "[encoded data removed]",
      "text/plain": [
       "<Figure size 432x288 with 1 Axes>"
      ]
     },
     "metadata": {},
     "output_type": "display_data"
    }
   ],
   "source": [
    "plt.hist(phasing_acceptor.p_val, bins=50)\n",
    "plt.show()"
   ]
  }
 ],
 "metadata": {
  "kernelspec": {
   "display_name": "Python [conda env:r35py36]",
   "language": "python",
   "name": "conda-env-r35py36-py"
  },
  "language_info": {
   "codemirror_mode": {
    "name": "ipython",
    "version": 3
   },
   "file_extension": ".py",
   "mimetype": "text/x-python",
   "name": "python",
   "nbconvert_exporter": "python",
   "pygments_lexer": "ipython3",
   "version": "3.6.7"
  }
 },
 "nbformat": 4,
 "nbformat_minor": 2
}
