{
 "cells": [
  {
   "cell_type": "markdown",
   "metadata": {},
   "source": [
    "# BLAST tables for supp table 3\n"
   ]
  },
  {
   "cell_type": "code",
   "execution_count": 40,
   "metadata": {},
   "outputs": [
    {
     "data": {
      "image/png": "[encoded data removed]",
      "text/plain": [
       "<Figure size 360x72 with 1 Axes>"
      ]
     },
     "metadata": {},
     "output_type": "display_data"
    }
   ],
   "source": [
    "import sys\n",
    "import os\n",
    "from glob import glob\n",
    "import random\n",
    "from operator import and_\n",
    "from functools import \n",
    "from collections import defaultdict\n",
    "\n",
    "import numpy as np\n",
    "import pandas as pd\n",
    "from scipy import stats\n",
    "import matplotlib.pyplot as plt\n",
    "from matplotlib.colors import ListedColormap\n",
    "import seaborn as sns\n",
    "\n",
    "\n",
    "## Default plotting params\n",
    "\n",
    "%matplotlib inline\n",
    "sns.set(font='Arial')\n",
    "plt.rcParams['svg.fonttype'] = 'none'\n",
    "style = sns.axes_style('white')\n",
    "style.update(sns.axes_style('ticks'))\n",
    "style['xtick.major.size'] = 2\n",
    "style['ytick.major.size'] = 2\n",
    "sns.set(font_scale=2, style=style)\n",
    "pal = sns.color_palette(['#0072b2', '#d55e00', '#009e73', '#f0e442', '#cc79a7'])\n",
    "cmap = ListedColormap(pal.as_hex())\n",
    "sns.set_palette(pal)\n",
    "sns.palplot(pal)\n",
    "plt.show()"
   ]
  },
  {
   "cell_type": "code",
   "execution_count": 44,
   "metadata": {},
   "outputs": [],
   "source": [
    "BLAST_COLNAMES = [\n",
    "    'adapter_name', 'read_id', 'pident', 'length', 'mismatch', 'gapopen',\n",
    "    'qstart', 'qend', 'sstart', 'send', 'evalue', 'bitscore'\n",
    "]\n",
    "CONVERTERS = {'evalue': lambda x: np.log10(float(x))}\n",
    "\n",
    "THRESHOLDS = {\n",
    "    'Match length > 10 nt': 'length > 10',\n",
    "    'Log10 E Value < 2': 'evalue < 2',\n",
    "    'Adapter matches directly after alignment': '(sstart == 1 | send == 1)'    \n",
    "}\n",
    "\n",
    "PASS_MAP = {True: 'Passes', False: 'Fails'}\n",
    "\n",
    "def read_blast_data(blast_tsv_fn):\n",
    "    blast_data = pd.read_csv(\n",
    "        blast_tsv_fn, sep='\\t',\n",
    "        names=BLAST_COLNAMES,\n",
    "        converters=CONVERTERS\n",
    "    )\n",
    "    for i, name in enumerate(THRESHOLDS):\n",
    "        statement = ' & '.join([t for t in list(THRESHOLDS.values())[:i + 1]])\n",
    "        agg_thresh = blast_data.eval(statement)\n",
    "        blast_data[name] = agg_thresh.map(PASS_MAP)\n",
    "    return blast_data\n",
    "\n",
    "\n",
    "\n",
    "datasets = {\n",
    "    'Col-0 2916_Adapter': '/cluster/ggs_lab/mtparker/ONT_guppy_pipeline_runs/20180411_1432_20180911_FAH84603_5adapterLIG_Col0_2916/adapter_blast/TAIR10/201902_col0_2916_5adapter_exp2_five-prime_softclipped_blast_hits.tsv',\n",
    "    'Col-0 2916_No Adapter': '/cluster/ggs_lab/mtparker/ONT_guppy_pipeline_runs/20180201_1617_20180201_FAH45730_WT_Col0_2916_regular_seq/adapter_blast/TAIR10/201901_col0_2916_five-prime_softclipped_blast_hits.tsv',\n",
    "    'Col-0 2918_Adapter': '/cluster/ggs_lab/mtparker/ONT_guppy_pipeline_runs/20180508_1522_20180508_FAH82422_5adapt_lig_mRNA_2918/adapter_blast/TAIR10/201902_col0_2918_5adapter_five-prime_softclipped_blast_hits.tsv',\n",
    "    'Col-0 2918_No Adapter': '/cluster/ggs_lab/mtparker/ONT_guppy_pipeline_runs/20180416_1534_20180415_FAH83697_mRNA_WT_Col0_2918/adapter_blast/TAIR10/201901_col0_2918_five-prime_softclipped_blast_hits.tsv'\n",
    "}\n",
    "\n",
    "datasets = {sn: read_blast_data(bh) for sn, bh in datasets.items()}\n"
   ]
  },
  {
   "cell_type": "code",
   "execution_count": 48,
   "metadata": {},
   "outputs": [],
   "source": [
    "dataset_filter_counts = defaultdict(dict)\n",
    "thresh_cols = list(THRESHOLDS.keys())\n",
    "\n",
    "for sn, df in datasets.items():\n",
    "    sn, has_adapter = sn.split('_')\n",
    "    agg = df[thresh_cols].apply(pd.value_counts)\n",
    "    dataset_filter_counts[sn][has_adapter] = agg.T\n",
    "\n",
    "for sn, df in dataset_filter_counts.items():\n",
    "    df = pd.concat(df, axis=1)\n",
    "    df['Signal to Noise'] = ((df[('Adapter', 'Passes')] / df[('Adapter', 'Fails')]) /\n",
    "                             (df[('No Adapter', 'Passes')] / df[('No Adapter', 'Fails')]))\n",
    "    dataset_filter_counts[sn] = df\n",
    "\n",
    "dataset_filter_counts = pd.concat(dataset_filter_counts, axis=1)"
   ]
  },
  {
   "cell_type": "code",
   "execution_count": 49,
   "metadata": {},
   "outputs": [
    {
     "data": {
      "text/html": [
       "<div>\n",
       "<style scoped>\n",
       "    .dataframe tbody tr th:only-of-type {\n",
       "        vertical-align: middle;\n",
       "    }\n",
       "\n",
       "    .dataframe tbody tr th {\n",
       "        vertical-align: top;\n",
       "    }\n",
       "\n",
       "    .dataframe thead tr th {\n",
       "        text-align: left;\n",
       "    }\n",
       "</style>\n",
       "<table border=\"1\" class=\"dataframe\">\n",
       "  <thead>\n",
       "    <tr>\n",
       "      <th></th>\n",
       "      <th colspan=\"2\" halign=\"left\">Adapter</th>\n",
       "      <th colspan=\"2\" halign=\"left\">No Adapter</th>\n",
       "      <th>Signal to Noise</th>\n",
       "    </tr>\n",
       "    <tr>\n",
       "      <th></th>\n",
       "      <th>Fails</th>\n",
       "      <th>Passes</th>\n",
       "      <th>Fails</th>\n",
       "      <th>Passes</th>\n",
       "      <th></th>\n",
       "    </tr>\n",
       "  </thead>\n",
       "  <tbody>\n",
       "    <tr>\n",
       "      <th>Match length &gt; 10 nt</th>\n",
       "      <td>58078</td>\n",
       "      <td>211786</td>\n",
       "      <td>47548</td>\n",
       "      <td>11427</td>\n",
       "      <td>15.173495</td>\n",
       "    </tr>\n",
       "    <tr>\n",
       "      <th>Log10 E Value &lt; 2</th>\n",
       "      <td>76926</td>\n",
       "      <td>192938</td>\n",
       "      <td>57874</td>\n",
       "      <td>1101</td>\n",
       "      <td>131.838060</td>\n",
       "    </tr>\n",
       "    <tr>\n",
       "      <th>Adapter matches directly after alignment</th>\n",
       "      <td>198296</td>\n",
       "      <td>71568</td>\n",
       "      <td>58936</td>\n",
       "      <td>39</td>\n",
       "      <td>545.407338</td>\n",
       "    </tr>\n",
       "  </tbody>\n",
       "</table>\n",
       "</div>"
      ],
      "text/plain": [
       "                                         Adapter         No Adapter         \\\n",
       "                                           Fails  Passes      Fails Passes   \n",
       "Match length > 10 nt                       58078  211786      47548  11427   \n",
       "Log10 E Value < 2                          76926  192938      57874   1101   \n",
       "Adapter matches directly after alignment  198296   71568      58936     39   \n",
       "\n",
       "                                         Signal to Noise  \n",
       "                                                          \n",
       "Match length > 10 nt                           15.173495  \n",
       "Log10 E Value < 2                             131.838060  \n",
       "Adapter matches directly after alignment      545.407338  "
      ]
     },
     "execution_count": 49,
     "metadata": {},
     "output_type": "execute_result"
    }
   ],
   "source": [
    "dataset_filter_counts['Col-0 2916']"
   ]
  },
  {
   "cell_type": "code",
   "execution_count": 50,
   "metadata": {},
   "outputs": [
    {
     "data": {
      "text/html": [
       "<div>\n",
       "<style scoped>\n",
       "    .dataframe tbody tr th:only-of-type {\n",
       "        vertical-align: middle;\n",
       "    }\n",
       "\n",
       "    .dataframe tbody tr th {\n",
       "        vertical-align: top;\n",
       "    }\n",
       "\n",
       "    .dataframe thead tr th {\n",
       "        text-align: left;\n",
       "    }\n",
       "</style>\n",
       "<table border=\"1\" class=\"dataframe\">\n",
       "  <thead>\n",
       "    <tr>\n",
       "      <th></th>\n",
       "      <th colspan=\"2\" halign=\"left\">Adapter</th>\n",
       "      <th colspan=\"2\" halign=\"left\">No Adapter</th>\n",
       "      <th>Signal to Noise</th>\n",
       "    </tr>\n",
       "    <tr>\n",
       "      <th></th>\n",
       "      <th>Fails</th>\n",
       "      <th>Passes</th>\n",
       "      <th>Fails</th>\n",
       "      <th>Passes</th>\n",
       "      <th></th>\n",
       "    </tr>\n",
       "  </thead>\n",
       "  <tbody>\n",
       "    <tr>\n",
       "      <th>Match length &gt; 10 nt</th>\n",
       "      <td>37631</td>\n",
       "      <td>342158</td>\n",
       "      <td>100791</td>\n",
       "      <td>12653</td>\n",
       "      <td>72.428449</td>\n",
       "    </tr>\n",
       "    <tr>\n",
       "      <th>Log10 E Value &lt; 2</th>\n",
       "      <td>60605</td>\n",
       "      <td>319184</td>\n",
       "      <td>112781</td>\n",
       "      <td>663</td>\n",
       "      <td>895.890786</td>\n",
       "    </tr>\n",
       "    <tr>\n",
       "      <th>Adapter matches directly after alignment</th>\n",
       "      <td>266812</td>\n",
       "      <td>112977</td>\n",
       "      <td>113429</td>\n",
       "      <td>15</td>\n",
       "      <td>3201.971959</td>\n",
       "    </tr>\n",
       "  </tbody>\n",
       "</table>\n",
       "</div>"
      ],
      "text/plain": [
       "                                         Adapter         No Adapter         \\\n",
       "                                           Fails  Passes      Fails Passes   \n",
       "Match length > 10 nt                       37631  342158     100791  12653   \n",
       "Log10 E Value < 2                          60605  319184     112781    663   \n",
       "Adapter matches directly after alignment  266812  112977     113429     15   \n",
       "\n",
       "                                         Signal to Noise  \n",
       "                                                          \n",
       "Match length > 10 nt                           72.428449  \n",
       "Log10 E Value < 2                             895.890786  \n",
       "Adapter matches directly after alignment     3201.971959  "
      ]
     },
     "execution_count": 50,
     "metadata": {},
     "output_type": "execute_result"
    }
   ],
   "source": [
    "dataset_filter_counts['Col-0 2918']"
   ]
  },
  {
   "cell_type": "code",
   "execution_count": 52,
   "metadata": {},
   "outputs": [],
   "source": [
    "with pd.ExcelWriter('adapter_filtering_res.xlsx') as xlw:\n",
    "    dataset_filter_counts['Col-0 2916'].to_excel(xlw, sheet_name='Col0 2916')\n",
    "    dataset_filter_counts['Col-0 2918'].to_excel(xlw, sheet_name='Col0 2918')"
   ]
  },
  {
   "cell_type": "code",
   "execution_count": null,
   "metadata": {},
   "outputs": [],
   "source": []
  }
 ],
 "metadata": {
  "kernelspec": {
   "display_name": "Python [conda env:r35py36]",
   "language": "python",
   "name": "conda-env-r35py36-py"
  },
  "language_info": {
   "codemirror_mode": {
    "name": "ipython",
    "version": 3
   },
   "file_extension": ".py",
   "mimetype": "text/x-python",
   "name": "python",
   "nbconvert_exporter": "python",
   "pygments_lexer": "ipython3",
   "version": "3.6.7"
  }
 },
 "nbformat": 4,
 "nbformat_minor": 2
}
