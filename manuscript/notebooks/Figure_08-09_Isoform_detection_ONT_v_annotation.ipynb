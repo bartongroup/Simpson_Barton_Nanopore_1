{
 "cells": [
  {
   "cell_type": "markdown",
   "metadata": {},
   "source": [
    "# Figure 8 & 9. The overlap between splice isoforms identified in the 5'-adapter captured ONT sequencing and the reference annotations.\n",
    "\n",
    "Code for making Figures 8 & 9 in the Nanopore DRS paper *Native long-read RNA sequencing of the Arabidopsis thaliana transcriptome*. For this figure we're focussing on the full-length splice isoforms identified from the two WT col-0 tissue datasets that were sequenced using the 5' adapter ONT Direct RNA Sequencing protocol, and comparing this with the annotation.\n",
    "\n",
    "Here we're just focussing on splicing isoforms, so full-length molecules with different 5' and 3' end sites, and different poly-A tail lengths, are treated as the same isoform as long as their splicing pattern is the same.\n",
    "\n",
    "*Note: pyupset requires a specific install of python, so make sure this notebook is running in the right conda env*"
   ]
  },
  {
   "cell_type": "code",
   "execution_count": 34,
   "metadata": {},
   "outputs": [
    {
     "data": {
      "text/plain": [
       "'2.0.2'"
      ]
     },
     "execution_count": 34,
     "metadata": {},
     "output_type": "execute_result"
    }
   ],
   "source": [
    "import re, os, sys, pysam, json, matplotlib, numpy, time\n",
    "%matplotlib inline\n",
    "import matplotlib.pyplot as plt\n",
    "from snakemake.io import expand\n",
    "from Bio import SeqIO\n",
    "import pyupset as pyu\n",
    "import pandas as pd\n",
    "matplotlib.__version__"
   ]
  },
  {
   "cell_type": "code",
   "execution_count": 35,
   "metadata": {},
   "outputs": [],
   "source": [
    "# Datasets\n",
    "import os, re\n",
    "json_files = {\"col0_5padapter_rep1\":{\"jsonfile\":\"201902_col0_2916_5adapter_exp2.passes.splice_stats.json\",\n",
    "                                     \"path\":\"../../datasets/ONT_DRS/01_5p_WT_Col0_2916/splicing/\"},\n",
    "              \"col0_5padapter_rep2\":{\"jsonfile\":\"201902_col0_2918_5adapter.passes.splice_stats.json\",\n",
    "                                     \"path\":\"../../datasets/ONT_DRS/03_5p_WT_Col0_2918/splicing/\"}}\n",
    "\n",
    "minION_datasets=[]\n",
    "for keystr in json_files.keys():\n",
    "    fullpath = os.path.join(json_files[keystr][\"path\"],\n",
    "                            json_files[keystr][\"jsonfile\"])\n",
    "    minION_datasets.append(fullpath)\n",
    "\n",
    "json_files = {\"col0_5padapter_rep1\":{\"jsonfile\":\"201902_col0_2916_5adapter_exp2.error_corrected.passes.splice_stats.json\",\n",
    "                                     \"path\":\"../../datasets/Error_Corrected_ONT_DRS/01_5p_WT_Col0_2916/splicing/\"},\n",
    "              \"col0_5padapter_rep2\":{\"jsonfile\":\"201902_col0_2918_5adapter.error_corrected.passes.splice_stats.json\",\n",
    "                                     \"path\":\"../../datasets/Error_Corrected_ONT_DRS/03_5p_WT_Col0_2918/splicing/\"}}\n",
    "\n",
    "ec_minION_datasets=[]\n",
    "for keystr in json_files.keys():\n",
    "    fullpath = os.path.join(json_files[keystr][\"path\"],\n",
    "                            json_files[keystr][\"jsonfile\"])\n",
    "    ec_minION_datasets.append(fullpath)"
   ]
  },
  {
   "cell_type": "code",
   "execution_count": 36,
   "metadata": {},
   "outputs": [],
   "source": [
    "def refactorToLinkedSplices(jsondatasets, collapse_splicesets=False, nrep=10000):\n",
    "\n",
    "    read_dic={}\n",
    "    for splicejson in jsondatasets:\n",
    "        print(\"Processing read-level splicing details from {}...\".format(splicejson))\n",
    "        i=0\n",
    "        nc=1\n",
    "        t0=time.time()\n",
    "        read_dic={}\n",
    "        these_splices = json.load(open(splicejson,\"r\"))\n",
    "        for splice in these_splices.keys():\n",
    "            for read in these_splices[splice]['reads']:\n",
    "                try:\n",
    "                    read_dic[read].append(splice)\n",
    "                except KeyError:\n",
    "                    read_dic[read] = [splice]\n",
    "            if i==nrep:\n",
    "                print(\"\\tprocessed {} splices in {:.2f}s\".format(nc*nrep, time.time()-t0))\n",
    "                i=0\n",
    "                nc+=1\n",
    "                t0=time.time()\n",
    "            i+=1\n",
    "    \n",
    "    print(\"Parsing unique splicing patterns from read-level information...\")\n",
    "    i=0\n",
    "    nc=1\n",
    "    t0=time.time()\n",
    "    linkedsplice_dict = {}\n",
    "    for read in read_dic.keys():\n",
    "        try:\n",
    "            linkedsplice_dict[tuple(read_dic[read])][\"reads\"].append(read)\n",
    "        except KeyError:\n",
    "            linkedsplice_dict[tuple(read_dic[read])]={\"reads\":[read],\n",
    "                                                      \"splices\":{}}\n",
    "            for splice in read_dic[read]:\n",
    "                linkedsplice_dict[tuple(read_dic[read])][\"splices\"][splice] = these_splices[splice]\n",
    "        if i==nrep:\n",
    "            print(\"processed {} reads in {:.2f}s\".format(nc*nrep, time.time()-t0))\n",
    "            i=0\n",
    "            nc+=1\n",
    "            t0=time.time()\n",
    "        i+=1\n",
    "    \n",
    "    if collapse_splicesets:\n",
    "        print(\"Collapsing perfect linked-splicing subsets...\")\n",
    "        ssplices = numpy.array(sorted(linkedsplice_dict.keys(), key=len))\n",
    "        pc=0\n",
    "        nc=1\n",
    "        t0=time.time()\n",
    "        i=0\n",
    "        delsplices=[]\n",
    "        while i<len(ssplices):\n",
    "            thisspliceset = ssplices[i]\n",
    "            subset_comp = [set(thisspliceset).issubset(set(x)) for x in ssplices[i+1:]]\n",
    "            subsets = numpy.where(subset_comp)[0]\n",
    "            subset_splices = ssplices[i+1:][subsets]\n",
    "            if len(subset_splices)>0:\n",
    "                thissplicereads = linkedsplice_dict[thisspliceset]['reads']\n",
    "                #print(\"qsplice reads: \", len(thissplicereads))\n",
    "                for splice in subset_splices:\n",
    "                    #print(\"tsplice reads before: \", len(linkedsplice_dict[ssplices[entry]]['reads']))\n",
    "                    linkedsplice_dict[splice]['reads'] = list(set(linkedsplice_dict[splice]['reads']+thissplicereads))\n",
    "                    #print(\"tsplice reads after: \", len(linkedsplice_dict[ssplices[entry]]['reads']))\n",
    "                delsplices.append(thisspliceset)\n",
    "                del linkedsplice_dict[thisspliceset]\n",
    "            if pc==nrep:\n",
    "                print(\"processed {} linked splice sets in {:.2f}s\".format(nc*nrep, time.time()-t0))\n",
    "                pc=0\n",
    "                nc+=1\n",
    "                t0=time.time()\n",
    "            pc+=1\n",
    "            i+=1\n",
    "    \n",
    "    return(linkedsplice_dict)"
   ]
  },
  {
   "cell_type": "code",
   "execution_count": 37,
   "metadata": {},
   "outputs": [
    {
     "name": "stdout",
     "output_type": "stream",
     "text": [
      "Processing read-level splicing details from ../../datasets/ONT_DRS/01_5p_WT_Col0_2916/splicing/201902_col0_2916_5adapter_exp2.passes.splice_stats.json...\n",
      "\tprocessed 10000 splices in 0.98s\n",
      "\tprocessed 20000 splices in 0.03s\n",
      "\tprocessed 30000 splices in 0.03s\n",
      "\tprocessed 40000 splices in 0.03s\n",
      "\tprocessed 50000 splices in 0.03s\n",
      "Parsing unique splicing patterns from read-level information...\n",
      "processed 10000 reads in 0.01s\n",
      "processed 20000 reads in 0.01s\n",
      "processed 30000 reads in 0.01s\n",
      "processed 40000 reads in 0.01s\n",
      "processed 50000 reads in 0.01s\n",
      "processed 60000 reads in 0.01s\n",
      "processed 70000 reads in 0.01s\n",
      "processed 80000 reads in 0.01s\n",
      "processed 90000 reads in 0.01s\n",
      "processed 100000 reads in 0.01s\n",
      "processed 110000 reads in 0.01s\n",
      "processed 120000 reads in 0.01s\n",
      "processed 130000 reads in 0.01s\n",
      "processed 140000 reads in 0.01s\n",
      "Processing read-level splicing details from ../../datasets/ONT_DRS/03_5p_WT_Col0_2918/splicing/201902_col0_2918_5adapter.passes.splice_stats.json...\n",
      "\tprocessed 10000 splices in 4.13s\n",
      "\tprocessed 20000 splices in 0.03s\n",
      "\tprocessed 30000 splices in 0.04s\n",
      "\tprocessed 40000 splices in 0.04s\n",
      "\tprocessed 50000 splices in 0.04s\n",
      "\tprocessed 60000 splices in 0.04s\n",
      "\tprocessed 70000 splices in 0.03s\n",
      "Parsing unique splicing patterns from read-level information...\n",
      "processed 10000 reads in 0.01s\n",
      "processed 20000 reads in 0.01s\n",
      "processed 30000 reads in 0.01s\n",
      "processed 40000 reads in 0.01s\n",
      "processed 50000 reads in 0.01s\n",
      "processed 60000 reads in 0.01s\n",
      "processed 70000 reads in 0.01s\n",
      "processed 80000 reads in 0.01s\n",
      "processed 90000 reads in 0.01s\n",
      "processed 100000 reads in 0.01s\n",
      "processed 110000 reads in 0.01s\n",
      "processed 120000 reads in 0.01s\n",
      "processed 130000 reads in 0.01s\n",
      "processed 140000 reads in 0.01s\n",
      "processed 150000 reads in 0.01s\n",
      "processed 160000 reads in 0.01s\n",
      "processed 170000 reads in 0.01s\n",
      "processed 180000 reads in 0.01s\n",
      "processed 190000 reads in 0.01s\n",
      "processed 200000 reads in 0.01s\n",
      "processed 210000 reads in 0.01s\n",
      "processed 220000 reads in 0.01s\n",
      "processed 230000 reads in 0.01s\n",
      "Processing read-level splicing details from ../../datasets/ONT_DRS/01_5p_WT_Col0_2916/splicing/201902_col0_2916_5adapter_exp2.passes.splice_stats.json...\n",
      "\tprocessed 10000 splices in 0.87s\n",
      "\tprocessed 20000 splices in 0.03s\n",
      "\tprocessed 30000 splices in 0.03s\n",
      "\tprocessed 40000 splices in 0.03s\n",
      "\tprocessed 50000 splices in 0.03s\n",
      "Processing read-level splicing details from ../../datasets/ONT_DRS/03_5p_WT_Col0_2918/splicing/201902_col0_2918_5adapter.passes.splice_stats.json...\n",
      "\tprocessed 10000 splices in 4.62s\n",
      "\tprocessed 20000 splices in 0.03s\n",
      "\tprocessed 30000 splices in 0.04s\n",
      "\tprocessed 40000 splices in 0.04s\n",
      "\tprocessed 50000 splices in 0.04s\n",
      "\tprocessed 60000 splices in 0.04s\n",
      "\tprocessed 70000 splices in 0.03s\n",
      "Parsing unique splicing patterns from read-level information...\n",
      "processed 10000 reads in 0.01s\n",
      "processed 20000 reads in 0.01s\n",
      "processed 30000 reads in 0.01s\n",
      "processed 40000 reads in 0.01s\n",
      "processed 50000 reads in 0.01s\n",
      "processed 60000 reads in 0.01s\n",
      "processed 70000 reads in 0.01s\n",
      "processed 80000 reads in 0.01s\n",
      "processed 90000 reads in 0.01s\n",
      "processed 100000 reads in 0.01s\n",
      "processed 110000 reads in 0.01s\n",
      "processed 120000 reads in 0.01s\n",
      "processed 130000 reads in 0.01s\n",
      "processed 140000 reads in 0.01s\n",
      "processed 150000 reads in 0.01s\n",
      "processed 160000 reads in 0.01s\n",
      "processed 170000 reads in 0.01s\n",
      "processed 180000 reads in 0.01s\n",
      "processed 190000 reads in 0.01s\n",
      "processed 200000 reads in 0.01s\n",
      "processed 210000 reads in 0.01s\n",
      "processed 220000 reads in 0.01s\n",
      "processed 230000 reads in 0.01s\n"
     ]
    }
   ],
   "source": [
    "drsds_unique_spliceiso={}\n",
    "for dataset in minION_datasets:\n",
    "    drsds_unique_spliceiso[dataset] = refactorToLinkedSplices([dataset])\n",
    "\n",
    "drs_unique_spliceiso = refactorToLinkedSplices(minION_datasets)"
   ]
  },
  {
   "cell_type": "code",
   "execution_count": 38,
   "metadata": {},
   "outputs": [
    {
     "name": "stdout",
     "output_type": "stream",
     "text": [
      "Processing read-level splicing details from ../../datasets/Error_Corrected_ONT_DRS/01_5p_WT_Col0_2916/splicing/201902_col0_2916_5adapter_exp2.error_corrected.passes.splice_stats.json...\n",
      "\tprocessed 10000 splices in 0.82s\n",
      "\tprocessed 20000 splices in 0.03s\n",
      "\tprocessed 30000 splices in 0.04s\n",
      "\tprocessed 40000 splices in 0.04s\n",
      "Parsing unique splicing patterns from read-level information...\n",
      "processed 10000 reads in 0.01s\n",
      "processed 20000 reads in 0.01s\n",
      "processed 30000 reads in 0.01s\n",
      "processed 40000 reads in 0.01s\n",
      "processed 50000 reads in 0.01s\n",
      "processed 60000 reads in 0.01s\n",
      "processed 70000 reads in 0.01s\n",
      "processed 80000 reads in 0.01s\n",
      "processed 90000 reads in 0.01s\n",
      "processed 100000 reads in 0.01s\n",
      "processed 110000 reads in 0.01s\n",
      "processed 120000 reads in 0.01s\n",
      "processed 130000 reads in 0.01s\n",
      "processed 140000 reads in 0.01s\n",
      "processed 150000 reads in 0.01s\n",
      "processed 160000 reads in 0.01s\n",
      "Processing read-level splicing details from ../../datasets/Error_Corrected_ONT_DRS/03_5p_WT_Col0_2918/splicing/201902_col0_2918_5adapter.error_corrected.passes.splice_stats.json...\n",
      "\tprocessed 10000 splices in 0.93s\n",
      "\tprocessed 20000 splices in 0.04s\n",
      "\tprocessed 30000 splices in 0.05s\n",
      "\tprocessed 40000 splices in 0.05s\n",
      "\tprocessed 50000 splices in 0.05s\n",
      "Parsing unique splicing patterns from read-level information...\n",
      "processed 10000 reads in 0.01s\n",
      "processed 20000 reads in 0.01s\n",
      "processed 30000 reads in 0.01s\n",
      "processed 40000 reads in 0.01s\n",
      "processed 50000 reads in 0.01s\n",
      "processed 60000 reads in 0.01s\n",
      "processed 70000 reads in 0.01s\n",
      "processed 80000 reads in 0.01s\n",
      "processed 90000 reads in 0.01s\n",
      "processed 100000 reads in 0.01s\n",
      "processed 110000 reads in 0.01s\n",
      "processed 120000 reads in 0.01s\n",
      "processed 130000 reads in 0.01s\n",
      "processed 140000 reads in 0.01s\n",
      "processed 150000 reads in 0.01s\n",
      "processed 160000 reads in 0.01s\n",
      "processed 170000 reads in 0.01s\n",
      "processed 180000 reads in 0.01s\n",
      "processed 190000 reads in 0.01s\n",
      "processed 200000 reads in 0.01s\n",
      "processed 210000 reads in 0.01s\n",
      "processed 220000 reads in 0.01s\n",
      "processed 230000 reads in 0.01s\n",
      "processed 240000 reads in 0.01s\n",
      "processed 250000 reads in 0.01s\n",
      "processed 260000 reads in 0.01s\n",
      "Processing read-level splicing details from ../../datasets/Error_Corrected_ONT_DRS/01_5p_WT_Col0_2916/splicing/201902_col0_2916_5adapter_exp2.error_corrected.passes.splice_stats.json...\n",
      "\tprocessed 10000 splices in 4.30s\n",
      "\tprocessed 20000 splices in 0.03s\n",
      "\tprocessed 30000 splices in 0.04s\n",
      "\tprocessed 40000 splices in 0.04s\n",
      "Processing read-level splicing details from ../../datasets/Error_Corrected_ONT_DRS/03_5p_WT_Col0_2918/splicing/201902_col0_2918_5adapter.error_corrected.passes.splice_stats.json...\n",
      "\tprocessed 10000 splices in 0.97s\n",
      "\tprocessed 20000 splices in 0.04s\n",
      "\tprocessed 30000 splices in 0.05s\n",
      "\tprocessed 40000 splices in 0.05s\n",
      "\tprocessed 50000 splices in 0.05s\n",
      "Parsing unique splicing patterns from read-level information...\n",
      "processed 10000 reads in 0.01s\n",
      "processed 20000 reads in 0.01s\n",
      "processed 30000 reads in 0.01s\n",
      "processed 40000 reads in 0.01s\n",
      "processed 50000 reads in 0.01s\n",
      "processed 60000 reads in 0.01s\n",
      "processed 70000 reads in 0.01s\n",
      "processed 80000 reads in 0.01s\n",
      "processed 90000 reads in 0.01s\n",
      "processed 100000 reads in 0.01s\n",
      "processed 110000 reads in 0.01s\n",
      "processed 120000 reads in 0.01s\n",
      "processed 130000 reads in 0.01s\n",
      "processed 140000 reads in 0.01s\n",
      "processed 150000 reads in 0.01s\n",
      "processed 160000 reads in 0.01s\n",
      "processed 170000 reads in 0.01s\n",
      "processed 180000 reads in 0.01s\n",
      "processed 190000 reads in 0.01s\n",
      "processed 200000 reads in 0.01s\n",
      "processed 210000 reads in 0.01s\n",
      "processed 220000 reads in 0.01s\n",
      "processed 230000 reads in 0.01s\n",
      "processed 240000 reads in 0.01s\n",
      "processed 250000 reads in 0.01s\n",
      "processed 260000 reads in 0.01s\n"
     ]
    }
   ],
   "source": [
    "ec_drsds_unique_spliceiso={}\n",
    "for dataset in ec_minION_datasets:\n",
    "    ec_drsds_unique_spliceiso[dataset] = refactorToLinkedSplices([dataset])\n",
    "\n",
    "ec_drs_unique_splicesiso = refactorToLinkedSplices(ec_minION_datasets)"
   ]
  },
  {
   "cell_type": "markdown",
   "metadata": {},
   "source": [
    "OK so I want to compare these sets of unique splicing patters with each other and with the splicing patters from both the araport 11 and AtRTD2 annotation. So now I need to load the annotation, parse out the splicing patterns..."
   ]
  },
  {
   "cell_type": "code",
   "execution_count": 39,
   "metadata": {},
   "outputs": [],
   "source": [
    "# load the genome\n",
    "genome = {}\n",
    "for seq_record in SeqIO.parse(\"../../supporting_datasets/TAIR10_genome/Arabidopsis_thaliana.TAIR10.dna.toplevel.fa\", \"fasta\"):\n",
    "    genome[seq_record.name] = seq_record"
   ]
  },
  {
   "cell_type": "code",
   "execution_count": 40,
   "metadata": {},
   "outputs": [],
   "source": [
    "from parsing_routines.gff_gtf_tools import annotation\n",
    "from parsing_routines.general_classes_and_functions import computeIntrons\n",
    "\n",
    "def getAnnotationLinkedIntrons(annot, genome, chr_synonym_dic={}, parent_key=\"parent\",\n",
    "                         LOG_EVERY_N=10000):\n",
    "    \n",
    "    \"\"\" return a dictionary with all the introns in a given annotation \"\"\"\n",
    "    \n",
    "    annot.clear_all()\n",
    "    annot.set_feature(\"exons\")\n",
    "    exons = annot.get_selection()\n",
    "    tx_exons={}\n",
    "    for exon in exons:\n",
    "        if type(exon.desc[parent_key]) is list:\n",
    "            for parent in exon.desc[parent_key]:\n",
    "                try:\n",
    "                    tx_exons[parent].append(exon)\n",
    "                except KeyError:\n",
    "                    tx_exons[parent]=[exon]\n",
    "        else:\n",
    "            try:\n",
    "                tx_exons[exon.desc[parent_key]].append(exon)\n",
    "            except KeyError:\n",
    "                tx_exons[exon.desc[parent_key]]=[exon]\n",
    "    \n",
    "    splice_details={}\n",
    "    nlogs=1\n",
    "    counter=0\n",
    "    for transcript in tx_exons.keys():\n",
    "        keystr = []\n",
    "        these_introns = computeIntrons(tx_exons[transcript], parent_key=parent_key, logger=None)\n",
    "        if len(these_introns)>0:\n",
    "            for intron in these_introns:\n",
    "                keystr.append(\"{}:{}-{}\".format(intron.chrid,intron.start-1,intron.stop))\n",
    "\n",
    "            keystr=tuple(keystr)\n",
    "            if keystr in splice_details.keys():\n",
    "                splice_details[keystr][\"transcripts\"].append(transcript)\n",
    "            else:\n",
    "                sites=[]\n",
    "                is_canonical=[]\n",
    "                for intron in these_introns:\n",
    "                    donor_splice_site=None\n",
    "                    acceptor_splice_site=None\n",
    "\n",
    "                    this_chrid = intron.chrid\n",
    "                    if intron.chrid not in genome.keys():\n",
    "                        if intron.chrid in chr_synonym_dic.keys() and chr_synonym_dic[intron.chrid] in genome.keys():\n",
    "                            this_chrid = chr_synonym_dic[intron.chrid]\n",
    "                        else:\n",
    "                            msg = \"There is a mismatch between the annotation and \" \\\n",
    "                                  \"genome chromosome IDs that is not accounted for \" \\\n",
    "                                  \"in the provided chromosome synonyms list. Details: \" \\\n",
    "                                  \"Annotation ID: {}, genome IDs: {}, synonyms: {} \" \\\n",
    "                                  \"\".format(intron.chrid, genome.keys(), chr_synonym_dic)\n",
    "                            raise ValueError(msg)\n",
    "\n",
    "                    if intron.strand==\"-\":\n",
    "                        donor_splice_site = genome[this_chrid][intron.stop-2:intron.stop].reverse_complement()\n",
    "                        acceptor_splice_site = genome[this_chrid][intron.start-1:intron.start+1].reverse_complement()\n",
    "                    else:\n",
    "                        acceptor_splice_site = genome[this_chrid][intron.stop-2:intron.stop]\n",
    "                        donor_splice_site = genome[this_chrid][intron.start-1:intron.start+1]\n",
    "                    sites.append((str(donor_splice_site.seq), str(acceptor_splice_site.seq)))\n",
    "                    if donor_splice_site.seq!=\"GT\" or acceptor_splice_site.seq!=\"AG\":\n",
    "                        is_canonical.append(False)\n",
    "                    else:\n",
    "                        is_canonical.append(True)\n",
    "\n",
    "                splice_details[keystr]={\"transcripts\":[transcript],\n",
    "                                        \"sites\":sites,\n",
    "                                        \"is_canonical\":is_canonical}\n",
    "        \n",
    "        counter+=1\n",
    "        if (counter % LOG_EVERY_N)==0:\n",
    "            msg=\"processed {these} transcripts...\".format(these=(nlogs*LOG_EVERY_N))\n",
    "            print(msg)\n",
    "            nlogs+=1\n",
    "    \n",
    "    return(splice_details)"
   ]
  },
  {
   "cell_type": "code",
   "execution_count": 10,
   "metadata": {},
   "outputs": [
    {
     "name": "stdout",
     "output_type": "stream",
     "text": [
      "processed 10000 transcripts...\n",
      "processed 20000 transcripts...\n",
      "processed 30000 transcripts...\n",
      "processed 40000 transcripts...\n",
      "processed 50000 transcripts...\n"
     ]
    }
   ],
   "source": [
    "a11_path = \"../../annotations/Araport/Araport11_GFF3_genes_transposons.201606.gtf\"\n",
    "# load the Araport 11 annotation\n",
    "a11 = annotation(a11_path, filetype=\"gtf\", stripChr=True)\n",
    "chr_synonym_dic = {\"C\":\"Pt\",\"M\":\"Mt\"}\n",
    "a11_introns = getAnnotationLinkedIntrons(a11, genome, chr_synonym_dic, 'transcript_id')"
   ]
  },
  {
   "cell_type": "code",
   "execution_count": 11,
   "metadata": {},
   "outputs": [
    {
     "name": "stdout",
     "output_type": "stream",
     "text": [
      "('1:3913-3995', '1:4276-4485', '1:4605-4705', '1:5095-5173', '1:5326-5438') 1\n",
      "('1:83671-83883',) 2\n",
      "('1:472507-472667',) 3\n",
      "('1:10328285-10328884',) 4\n",
      "('5:15562514-15562606',) 5\n",
      "78 5\n"
     ]
    }
   ],
   "source": [
    "maxsplices = 0\n",
    "maxtx=0\n",
    "maxtxkey=None\n",
    "for key in a11_introns.keys():\n",
    "    if len(key)>maxsplices:\n",
    "        maxsplices=len(key)\n",
    "    if len(a11_introns[key][\"transcripts\"])>maxtx:\n",
    "        maxtx=len(a11_introns[key][\"transcripts\"])\n",
    "        maxtxkey=key\n",
    "        print(key, len(a11_introns[key][\"transcripts\"]))\n",
    "print(maxsplices, maxtx)"
   ]
  },
  {
   "cell_type": "code",
   "execution_count": 12,
   "metadata": {},
   "outputs": [
    {
     "name": "stdout",
     "output_type": "stream",
     "text": [
      "('5:15562514-15562606',) AT5G38865.1, AT5G38865.2, AT5G38865.3, AT5G38865.4, AT5G38865.5\n"
     ]
    }
   ],
   "source": [
    "print(maxtxkey, \", \".join(a11_introns[maxtxkey][\"transcripts\"]))"
   ]
  },
  {
   "cell_type": "code",
   "execution_count": 13,
   "metadata": {},
   "outputs": [
    {
     "name": "stdout",
     "output_type": "stream",
     "text": [
      "processed 10000 transcripts...\n",
      "processed 20000 transcripts...\n",
      "processed 30000 transcripts...\n",
      "processed 40000 transcripts...\n",
      "processed 50000 transcripts...\n",
      "processed 60000 transcripts...\n",
      "processed 70000 transcripts...\n",
      "processed 80000 transcripts...\n"
     ]
    }
   ],
   "source": [
    "# load the AtRTD2 annotation\n",
    "atrtd2 = annotation(\"../../annotations/AtRTD/AtRTD2_19April2016.gtf\", filetype=\"gtf\", stripChr=True)\n",
    "atrtd2_introns = getAnnotationLinkedIntrons(atrtd2, genome, chr_synonym_dic, \"transcript_id\")"
   ]
  },
  {
   "cell_type": "code",
   "execution_count": 14,
   "metadata": {},
   "outputs": [
    {
     "name": "stdout",
     "output_type": "stream",
     "text": [
      "('1:3913-3995', '1:4276-4485', '1:4605-4705', '1:5095-5173', '1:5326-5438') 1\n",
      "('1:10135988-10136184',) 2\n",
      "78 2\n"
     ]
    }
   ],
   "source": [
    "maxsplices = 0\n",
    "maxtx=0\n",
    "maxtxkey=None\n",
    "for key in atrtd2_introns.keys():\n",
    "    if len(key)>maxsplices:\n",
    "        maxsplices=len(key)\n",
    "    if len(atrtd2_introns[key][\"transcripts\"])>maxtx:\n",
    "        maxtx=len(atrtd2_introns[key][\"transcripts\"])\n",
    "        maxtxkey=key\n",
    "        print(key, len(atrtd2_introns[key][\"transcripts\"]))\n",
    "print(maxsplices, maxtx)"
   ]
  },
  {
   "cell_type": "code",
   "execution_count": 15,
   "metadata": {},
   "outputs": [
    {
     "name": "stdout",
     "output_type": "stream",
     "text": [
      "('1:10135988-10136184',) AT1G29041.1, AT1G29041_P1\n"
     ]
    }
   ],
   "source": [
    "print(maxtxkey, \", \".join(atrtd2_introns[maxtxkey][\"transcripts\"]))"
   ]
  },
  {
   "cell_type": "markdown",
   "metadata": {},
   "source": [
    "# Plotting the data\n",
    "\n",
    "OK, lets plot some of the unique splicing data, starting with how many unique splices are present in each dataset and/or annotation..."
   ]
  },
  {
   "cell_type": "code",
   "execution_count": 76,
   "metadata": {},
   "outputs": [
    {
     "name": "stdout",
     "output_type": "stream",
     "text": [
      "\n",
      "ONT DRS 5' adapter dataset unique splice counts:\n",
      "\tDRS col0 01 5p:   22366\n",
      "\tDRS col0 03 5p:   32353\n",
      "\n",
      "Annotation unique splice counts:\n",
      "\tAraport 11:   43681\n",
      "\tAtRTD2:   70202\n",
      "\n",
      "ONT DRS 5' adapter dataset unique splice counts:\n",
      "\tEC DRS col0 01 5p:   13014\n",
      "\tEC DRS col0 03 5p:   17848\n",
      "\n",
      "Annotation unique splice counts:\n",
      "\tAraport 11:   43681\n",
      "\tAtRTD2:   70202\n"
     ]
    },
    {
     "data": {
      "image/png": "[encoded data removed]",
      "text/plain": [
       "<matplotlib.figure.Figure at 0x2b13ed507a90>"
      ]
     },
     "metadata": {
      "needs_background": "light"
     },
     "output_type": "display_data"
    }
   ],
   "source": [
    "# plot the total splicing complement in each annotation and data file\n",
    "def addOrig5pDRS(plotarrays, col=\"blue\"):\n",
    "    print(\"\\nONT DRS 5' adapter dataset unique splice counts:\")\n",
    "    dsordering=drsds_unique_spliceiso.keys()\n",
    "    for dataset in dsordering:\n",
    "        datasetname = \"DRS col0 {:02d} 5p\".format(int(re.match(\".+col0_([0-9]+)_.+\", dataset).group(1))-2915)\n",
    "        print(\"\\t{:>5}:{:>8d}\".format(datasetname, len(drsds_unique_spliceiso[dataset])))\n",
    "        plotarrays[0].append(datasetname)\n",
    "        plotarrays[1].append(len(drsds_unique_spliceiso[dataset]))\n",
    "        plotarrays[2].append(col)\n",
    "    return(plotarrays)\n",
    "\n",
    "def addEC5pDRS(plotarrays, col=\"lightblue\"):\n",
    "    print(\"\\nONT DRS 5' adapter dataset unique splice counts:\")\n",
    "    dsordering=ec_drsds_unique_spliceiso.keys()\n",
    "    for dataset in dsordering:\n",
    "        datasetname = \"EC DRS col0 {:02d} 5p\".format(int(re.match(\".+col0_([0-9]+)_.+\", dataset).group(1))-2915)\n",
    "        print(\"\\t{:>5}:{:>8d}\".format(datasetname, len(ec_drsds_unique_spliceiso[dataset])))\n",
    "        plotarrays[0].append(datasetname)\n",
    "        plotarrays[1].append(len(ec_drsds_unique_spliceiso[dataset]))\n",
    "        plotarrays[2].append(col)\n",
    "    return(plotarrays)\n",
    "\n",
    "def addAnnotations(plotarrays, cols=(\"deeppink\",\"purple\")):\n",
    "    print(\"\\nAnnotation unique splice counts:\")\n",
    "    print(\"\\t{:>5}:{:>8d}\".format(\"Araport 11\", len(a11_introns)))\n",
    "    print(\"\\t{:>5}:{:>8d}\".format(\"AtRTD2\", len(atrtd2_introns)))\n",
    "    plotarrays[0].append(\"Araport 11\")\n",
    "    plotarrays[1].append(len(a11_introns))\n",
    "    plotarrays[2].append(cols[0])\n",
    "\n",
    "    plotarrays[0].append(\"AtRTD2\")\n",
    "    plotarrays[1].append(len(atrtd2_introns))\n",
    "    plotarrays[2].append(cols[1])\n",
    "    return(plotarrays)\n",
    "\n",
    "fig=plt.figure(figsize=(6,4), dpi=150)\n",
    "\n",
    "plotnames, plotvalues, plotcol = addAnnotations(addOrig5pDRS(([], [], [])))\n",
    "plotvalues = numpy.array(plotvalues)/1000\n",
    "plt.bar(numpy.arange(len(plotvalues)), plotvalues, color=plotcol)\n",
    "plotnames2, plotvalues, plotcol = addAnnotations(addEC5pDRS(([], [], [])))\n",
    "plotvalues = numpy.array(plotvalues)/1000\n",
    "plt.bar(numpy.arange(len(plotvalues)), plotvalues, color=plotcol)\n",
    "\n",
    "ax=plt.gca()\n",
    "plt.setp(ax.get_xticklabels(), visible=False)\n",
    "ax.xaxis.set_tick_params(size=0)\n",
    "ax.spines['top'].set_visible(False)\n",
    "ax.spines['right'].set_visible(False)\n",
    "ax.spines['bottom'].set_visible(False)\n",
    "id=0\n",
    "for name in plotnames:\n",
    "    plt.text(id, -5, name, color=\"black\", rotation=0, horizontalalignment='center', verticalalignment='bottom', weight='bold', fontsize=6)\n",
    "    id+=1\n",
    "plt.ylabel(\"Number of unique splices (thousands)\")\n",
    "plt.ylim((0, 80))\n",
    "\n",
    "plt.savefig(\"../figures/Figure_08.png\", dpi=300, transparent=True, format='png')\n",
    "plt.savefig(\"../figures/Figure_08.svg\", format=\"svg\")"
   ]
  },
  {
   "cell_type": "markdown",
   "metadata": {},
   "source": [
    "## Set Comparisons:\n",
    "\n",
    "OK, now lets compare the sets of observed splices across the different datasets, starting with the uncorrected DRS data, then using the corrected data and finally using both alongside the annotation data. We're going to use upset plots for this.\n",
    "\n",
    "On the three-set comparisons we're going to highlight the sets where the DRS data overlap with all the other datasets, the set where just the DRs and illumina overlap (robust new things), the sets where the DRS and the annotations overlap (things missed by illumina)."
   ]
  },
  {
   "cell_type": "code",
   "execution_count": 42,
   "metadata": {},
   "outputs": [
    {
     "data": {
      "image/png": "[encoded data removed]",
      "text/plain": [
       "<matplotlib.figure.Figure at 0x2b13e2004978>"
      ]
     },
     "metadata": {
      "needs_background": "light"
     },
     "output_type": "display_data"
    }
   ],
   "source": [
    "comp = {\"ONT DRS\":pd.DataFrame(list(drs_unique_spliceiso.keys())),\n",
    "        \"Araport 11\":pd.DataFrame(list(a11_introns.keys())),\n",
    "        \"AtRTD2\":pd.DataFrame(list(atrtd2_introns.keys()))}\n",
    "\n",
    "upset = pyu.plot(comp, sort_by='size')\n",
    "#                           query = [('ONT DRS', 'Illumina'),\n",
    "#                                    ('ONT DRS', 'Araport 11'),\n",
    "#                                    ('ONT DRS', 'AtRTD2'),\n",
    "#                                    ('ONT DRS', 'Araport 11', 'AtRTD2'),\n",
    "#                                    ('ONT DRS', 'Illumina', 'Araport 11', 'AtRTD2')])"
   ]
  },
  {
   "cell_type": "code",
   "execution_count": 43,
   "metadata": {},
   "outputs": [
    {
     "name": "stdout",
     "output_type": "stream",
     "text": [
      "         AtRTD2:  70202\n",
      "     Araport 11:  43681\n",
      "        ONT DRS:  32353\n",
      "                                        Araport 11 + ONT DRS:    279\n",
      "                                            AtRTD2 + ONT DRS:    872\n",
      "                                                  Araport 11:   3815\n",
      "                               AtRTD2 + Araport 11 + ONT DRS:   9573\n",
      "                                                     ONT DRS:  21629\n",
      "                                                      AtRTD2:  29730\n",
      "                                         AtRTD2 + Araport 11:  30014\n"
     ]
    }
   ],
   "source": [
    "# great, now lets get the exact numbers for these sets...\n",
    "def extractColumnData(comparison):\n",
    "    \n",
    "    common_columns = []\n",
    "    for i, k in enumerate(comparison.keys()):\n",
    "        if i == 0:\n",
    "            common_columns = comparison[k].columns\n",
    "        else:\n",
    "            common_columns = common_columns.intersection(comparison[k].columns)\n",
    "            \n",
    "    x = pyu.visualisation.DataExtractor(comparison, common_columns)   \n",
    "    return(x)\n",
    "\n",
    "def getSetCounts(comparison):\n",
    "    \n",
    "    x = extractColumnData(comparison)\n",
    "    \n",
    "    i=0\n",
    "    while i<len(x.ordered_dfs):\n",
    "        print(\"{:>15}: {:>6d}\".format(x.ordered_df_names[i], len(x.ordered_dfs[i])))\n",
    "        i+=1\n",
    "    \n",
    "    keypairs={}\n",
    "    for key in x.inters_df_dict.keys():\n",
    "        keypairs[len(x.inters_df_dict[key])] = \" + \".join(key)\n",
    "    \n",
    "    for keypair in sorted(list(keypairs.keys())):\n",
    "        print(\"{:>60}: {:>6d}\".format(keypairs[keypair], keypair))\n",
    "\n",
    "getSetCounts(comp)"
   ]
  },
  {
   "cell_type": "code",
   "execution_count": 44,
   "metadata": {},
   "outputs": [
    {
     "data": {
      "image/png": "[encoded data removed]",
      "text/plain": [
       "<matplotlib.figure.Figure at 0x2b13e2004550>"
      ]
     },
     "metadata": {
      "needs_background": "light"
     },
     "output_type": "display_data"
    }
   ],
   "source": [
    "# now for the error corrected data\n",
    "comp = {\"EC ONT DRS\":pd.DataFrame(list(ec_drs_unique_splicesiso.keys())),\n",
    "        \"Araport 11\":pd.DataFrame(list(a11_introns.keys())),\n",
    "        \"AtRTD2\":pd.DataFrame(list(atrtd2_introns.keys()))}\n",
    "\n",
    "upset = pyu.plot(comp, sort_by='size')"
   ]
  },
  {
   "cell_type": "code",
   "execution_count": 45,
   "metadata": {},
   "outputs": [
    {
     "name": "stdout",
     "output_type": "stream",
     "text": [
      "         AtRTD2:  70202\n",
      "     Araport 11:  43681\n",
      "     EC ONT DRS:  17848\n",
      "                                     Araport 11 + EC ONT DRS:    281\n",
      "                                         AtRTD2 + EC ONT DRS:    537\n",
      "                                                  Araport 11:   3816\n",
      "                                                  EC ONT DRS:   6576\n",
      "                            AtRTD2 + EC ONT DRS + Araport 11:  10454\n",
      "                                         AtRTD2 + Araport 11:  29130\n",
      "                                                      AtRTD2:  30072\n"
     ]
    }
   ],
   "source": [
    "getSetCounts(comp)"
   ]
  },
  {
   "cell_type": "markdown",
   "metadata": {},
   "source": [
    "OK, now lets do the four-set comparison. Here we are going to highlight sets where the uncorrected DRS data has support, sets where the error-corrected data has support, and sets where the uncorrected and corrected datasets agree. This is to try and visualize the glocal pattern changes caused by the error correction."
   ]
  },
  {
   "cell_type": "code",
   "execution_count": 75,
   "metadata": {},
   "outputs": [
    {
     "data": {
      "image/png": "[encoded data removed]",
      "text/plain": [
       "<matplotlib.figure.Figure at 0x2b13e1e446a0>"
      ]
     },
     "metadata": {
      "needs_background": "light"
     },
     "output_type": "display_data"
    }
   ],
   "source": [
    "# now for the error corrected data\n",
    "comp = {\"ONT DRS\":pd.DataFrame(list(drs_unique_spliceiso.keys())),\n",
    "        \"EC ONT DRS\":pd.DataFrame(list(ec_drs_unique_splicesiso.keys())),\n",
    "        \"Araport 11\":pd.DataFrame(list(a11_introns.keys())),\n",
    "        \"AtRTD2\":pd.DataFrame(list(atrtd2_introns.keys()))}\n",
    "\n",
    "upset = pyu.plot(comp, sort_by='size',\n",
    "                query = [('ONT DRS', 'EC ONT DRS', 'Araport 11',  'AtRTD2'),\n",
    "                         ('ONT DRS', 'EC ONT DRS',  'AtRTD2'),\n",
    "                         ('ONT DRS', 'EC ONT DRS', 'Araport 11'),\n",
    "                         ('ONT DRS', 'Araport 11',  'AtRTD2'),\n",
    "                         ('ONT DRS', 'AtRTD2'),\n",
    "                         ('ONT DRS', 'Araport 11'),\n",
    "                         ('EC ONT DRS', 'Araport 11',  'AtRTD2'),\n",
    "                         ('EC ONT DRS',  'AtRTD2'),\n",
    "                         ('EC ONT DRS', 'Araport 11'),\n",
    "                         ('ONT DRS', 'EC ONT DRS')])\n",
    "\n",
    "plt.savefig(\"../figures/Figure_09.png\", dpi=300, transparent=True, format='png')\n",
    "plt.savefig(\"../figures/Figure_09.svg\", format=\"svg\")"
   ]
  },
  {
   "cell_type": "code",
   "execution_count": 48,
   "metadata": {},
   "outputs": [
    {
     "name": "stdout",
     "output_type": "stream",
     "text": [
      "         AtRTD2:  70202\n",
      "     Araport 11:  43681\n",
      "        ONT DRS:  32353\n",
      "     EC ONT DRS:  17848\n",
      "                                        Araport 11 + ONT DRS:     43\n",
      "                                     Araport 11 + EC ONT DRS:     45\n",
      "                                         AtRTD2 + EC ONT DRS:    173\n",
      "                           Araport 11 + EC ONT DRS + ONT DRS:    236\n",
      "                               AtRTD2 + EC ONT DRS + ONT DRS:    364\n",
      "                                            AtRTD2 + ONT DRS:    508\n",
      "                               AtRTD2 + Araport 11 + ONT DRS:    530\n",
      "                            AtRTD2 + EC ONT DRS + Araport 11:   1411\n",
      "                                        EC ONT DRS + ONT DRS:   2610\n",
      "                                                  Araport 11:   3770\n",
      "                                                  EC ONT DRS:   3966\n",
      "                  AtRTD2 + EC ONT DRS + Araport 11 + ONT DRS:   9043\n",
      "                                                     ONT DRS:  19019\n",
      "                                         AtRTD2 + Araport 11:  28603\n",
      "                                                      AtRTD2:  29557\n"
     ]
    }
   ],
   "source": [
    "getSetCounts(comp)"
   ]
  },
  {
   "cell_type": "markdown",
   "metadata": {},
   "source": [
    "# Calculating some set numbers for the paper...\n",
    "\n",
    "Lets start by calculating the number of unique splices in the ONT DRS data that are also in either annotation..."
   ]
  },
  {
   "cell_type": "code",
   "execution_count": 54,
   "metadata": {},
   "outputs": [
    {
     "name": "stdout",
     "output_type": "stream",
     "text": [
      "Unique splices in ONT DRS and in Araport 11: 9852 (22.55%)\n"
     ]
    }
   ],
   "source": [
    "def getOrigCountMatchingKey(keyName, comparison):\n",
    "\n",
    "    vals = extractColumnData(comparison)\n",
    "    count=0\n",
    "    for key in vals.inters_df_dict.keys():\n",
    "        if 'ONT DRS' in key and keyName in key:\n",
    "            count+=len(vals.inters_df_dict[key])\n",
    "    \n",
    "    acount = len(vals.ordered_dfs[numpy.where(vals.ordered_df_names==keyName)[0][0]])\n",
    "    print(\"Unique splices in ONT DRS and in {}: {} ({:.2f}%)\".format(keyName, count, 100*float(count)/acount))\n",
    "\n",
    "getOrigCountMatchingKey('Araport 11', comp)"
   ]
  },
  {
   "cell_type": "code",
   "execution_count": 55,
   "metadata": {},
   "outputs": [
    {
     "name": "stdout",
     "output_type": "stream",
     "text": [
      "Unique splices in ONT DRS and in AtRTD2: 10445 (14.88%)\n"
     ]
    }
   ],
   "source": [
    "getOrigCountMatchingKey('AtRTD2', comp)"
   ]
  },
  {
   "cell_type": "code",
   "execution_count": 71,
   "metadata": {},
   "outputs": [
    {
     "name": "stdout",
     "output_type": "stream",
     "text": [
      "Unique splices in ONT DRS and either annotation: 10724 (33.15% of 32353)\n"
     ]
    }
   ],
   "source": [
    "def getMatchAnnot(comparison, datasetname):\n",
    "    count=0\n",
    "    vals = extractColumnData(comparison)\n",
    "    for key in vals.inters_df_dict.keys():\n",
    "        if datasetname in key and ('Araport 11' in key or 'AtRTD2' in key):\n",
    "            count+=len(vals.inters_df_dict[key])\n",
    "\n",
    "    totdrs=len(vals.ordered_dfs[int(numpy.where(numpy.array(vals.ordered_df_names)==datasetname)[0])])\n",
    "    print(\"Unique splices in {} and either annotation: {} ({:.2f}% of {})\".format(datasetname,\n",
    "                                                                                  count,\n",
    "                                                                                  100*float(count)/totdrs,\n",
    "                                                                                  totdrs))\n",
    "getMatchAnnot(comp, \"ONT DRS\")"
   ]
  },
  {
   "cell_type": "code",
   "execution_count": 72,
   "metadata": {},
   "outputs": [
    {
     "name": "stdout",
     "output_type": "stream",
     "text": [
      "Unique splices in EC ONT DRS and either annotation: 11272 (63.16% of 17848)\n"
     ]
    }
   ],
   "source": [
    "getMatchAnnot(comp, \"EC ONT DRS\")"
   ]
  },
  {
   "cell_type": "code",
   "execution_count": 78,
   "metadata": {},
   "outputs": [
    {
     "name": "stdout",
     "output_type": "stream",
     "text": [
      "Novel DRS splices that aren't impacted by error-correction: 2610 (8.07% of 32353) (14.62% of 17848)\n"
     ]
    }
   ],
   "source": [
    "count = 2610\n",
    "totdrs = 32353\n",
    "totecdrs = 17848\n",
    "print(\"Novel DRS splices that aren't impacted by error-correction: {} ({:.2f}% of {}) ({:.2f}% of {})\" \\\n",
    "      \"\".format(count,100*float(count)/totdrs,totdrs,100*float(count)/totecdrs,totecdrs))"
   ]
  },
  {
   "cell_type": "code",
   "execution_count": 79,
   "metadata": {},
   "outputs": [
    {
     "data": {
      "text/plain": [
       "0.5516644515191791"
      ]
     },
     "execution_count": 79,
     "metadata": {},
     "output_type": "execute_result"
    }
   ],
   "source": [
    "float(17848)/32353"
   ]
  },
  {
   "cell_type": "code",
   "execution_count": 80,
   "metadata": {},
   "outputs": [
    {
     "data": {
      "text/plain": [
       "77.78"
      ]
     },
     "execution_count": 80,
     "metadata": {},
     "output_type": "execute_result"
    }
   ],
   "source": [
    "63.16+14.62"
   ]
  },
  {
   "cell_type": "code",
   "execution_count": null,
   "metadata": {},
   "outputs": [],
   "source": []
  }
 ],
 "metadata": {
  "kernelspec": {
   "display_name": "Python 3",
   "language": "python",
   "name": "python3"
  },
  "language_info": {
   "codemirror_mode": {
    "name": "ipython",
    "version": 3
   },
   "file_extension": ".py",
   "mimetype": "text/x-python",
   "name": "python",
   "nbconvert_exporter": "python",
   "pygments_lexer": "ipython3",
   "version": "3.6.7"
  }
 },
 "nbformat": 4,
 "nbformat_minor": 2
}
