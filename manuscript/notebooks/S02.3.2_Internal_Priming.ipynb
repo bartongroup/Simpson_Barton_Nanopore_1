{
 "cells": [
  {
   "cell_type": "markdown",
   "metadata": {},
   "source": [
    "# Internal Priming"
   ]
  },
  {
   "cell_type": "markdown",
   "metadata": {},
   "source": [
    "Despite the chemistry of the system clearly preventing internal priming, we wants to show definitively that there is no internal priming with ONT DRS data. So thats what we'll do. First we find all homopolymer A runs in the Arabidopsis genome, and then we'll count the number of reads that end within a window of these sequences."
   ]
  },
  {
   "cell_type": "code",
   "execution_count": 1,
   "metadata": {},
   "outputs": [],
   "source": [
    "import os, sys, glob, re, pysam, json, matplotlib\n",
    "%matplotlib inline\n",
    "import matplotlib.pyplot as plt"
   ]
  },
  {
   "cell_type": "code",
   "execution_count": 2,
   "metadata": {},
   "outputs": [],
   "source": [
    "# load the sequences of all Arabidopsis coding sequences in Ensembl 35\n",
    "from Bio import SeqIO\n",
    "from Bio.Alphabet import IUPAC\n",
    "TAIR10_cds_fasta = \"../../annotations/Araport/Araport11_genes.201606.cds.fasta\"\n",
    "cds_seqrecords = list(SeqIO.parse(TAIR10_cds_fasta, \"fasta\", IUPAC.unambiguous_dna))"
   ]
  },
  {
   "cell_type": "code",
   "execution_count": 3,
   "metadata": {},
   "outputs": [],
   "source": [
    "# find all the polyA positions with length 6+\n",
    "polyAstarts = {}\n",
    "seq_records = {}\n",
    "for seq_record in cds_seqrecords:\n",
    "    seq_records[seq_record.id] = seq_record\n",
    "    polyAs = [(m.start(0), m.end(0)) for m in re.finditer('A{6,}', str(seq_record.seq))]\n",
    "    for polyA in polyAs:\n",
    "        try:\n",
    "            polyAstarts[seq_record.id][\"polyApos\"].append(polyA)\n",
    "        except KeyError:\n",
    "            polyAstarts[seq_record.id] = {\"polyApos\":[polyA]}"
   ]
  },
  {
   "cell_type": "code",
   "execution_count": 4,
   "metadata": {},
   "outputs": [],
   "source": [
    "# load the annotaion\n",
    "from parsing_routines.gff_gtf_tools import annotation\n",
    "annot = annotation(\"../../annotations/Araport/Araport11_GFF3_genes_transposons.201606.gtf\",\n",
    "                   filetype=\"gtf\", stripChr=True)"
   ]
  },
  {
   "cell_type": "code",
   "execution_count": 5,
   "metadata": {},
   "outputs": [],
   "source": [
    "# get the coding sequence information from the nnotation. We do this outside the function because its relatively slow\n",
    "# so its a good ide ato to it just once.\n",
    "annot.clear_all()\n",
    "annot.set_feature(\"CDSs\")\n",
    "CDSs = annot.get_selection()\n",
    "lens = annot.get_selection_lengths()\n",
    "\n",
    "def annotateGenomicPositions(thisid, CDSs, lens, polyAstarts_dic, seq_records):\n",
    "    \n",
    "    \"\"\"Add the genomic coordinates of each polyA position for the dictionary.\"\"\"\n",
    "    \n",
    "    def locateGenomicPosition(PASpos, theselens, theseCDSs):\n",
    "        # locate start\n",
    "        i = 0\n",
    "        while PASpos>0:\n",
    "            PASpos = PASpos - theselens[i]\n",
    "            i+=1\n",
    "        thisexon = theseCDSs[i-1]\n",
    "        \n",
    "        # note if it is a terminal exon\n",
    "        terminalExon=False\n",
    "        if i==len(theseCDSs):\n",
    "            terminalExon=True\n",
    "        \n",
    "        # generate genomic position\n",
    "        if thisexon.strand != \"+\":\n",
    "            thispos = thisexon.start+abs(PASpos)-1\n",
    "        else:\n",
    "            thispos = thisexon.stop-abs(PASpos)\n",
    "        \n",
    "        return(thispos, terminalExon)\n",
    "    \n",
    "    theseCDSs=[]\n",
    "    theselens=[]\n",
    "    i=0\n",
    "    while i<len(CDSs):\n",
    "        CDS = CDSs[i]\n",
    "        if CDS.desc['transcript_id']==thisid:\n",
    "            theseCDSs.append(CDSs[i])\n",
    "            theselens.append(lens[i])\n",
    "        i+=1\n",
    "            \n",
    "    if theseCDSs[0].strand != \"+\":\n",
    "        theseCDSs = theseCDSs[::-1]\n",
    "        theselens = theselens[::-1]\n",
    "    \n",
    "    polyAstarts[thisid]['chrid']=theseCDSs[0].chrid\n",
    "\n",
    "    for PASpos in polyAstarts[thisid][\"polyApos\"]:\n",
    "        # locate start\n",
    "        startpos, stexon = locateGenomicPosition(PASpos[0], theselens, theseCDSs)\n",
    "        endpos, etexon = locateGenomicPosition(PASpos[1], theselens, theseCDSs)\n",
    "        \n",
    "        try:\n",
    "            polyAstarts[thisid][\"polyAgenpos\"].append((startpos, endpos))\n",
    "            polyAstarts[thisid][\"is_inTerminalExon\"].append((stexon, etexon))\n",
    "        except KeyError:\n",
    "            polyAstarts[thisid][\"polyAgenpos\"] = [(startpos, endpos)]\n",
    "            polyAstarts[thisid][\"is_inTerminalExon\"] = [(stexon, etexon)]\n",
    "    \n",
    "    return(polyAstarts_dic)\n"
   ]
  },
  {
   "cell_type": "code",
   "execution_count": 6,
   "metadata": {},
   "outputs": [
    {
     "name": "stdout",
     "output_type": "stream",
     "text": [
      "Processed 500 CDSs in 102.80s...\n",
      "Processed 1000 CDSs in 93.12s...\n",
      "Processed 1500 CDSs in 93.12s...\n",
      "Processed 2000 CDSs in 93.15s...\n",
      "Processed 2500 CDSs in 93.13s...\n",
      "Processed 3000 CDSs in 93.21s...\n",
      "Processed 3500 CDSs in 93.15s...\n",
      "Processed 4000 CDSs in 93.10s...\n",
      "Processed 4500 CDSs in 93.10s...\n",
      "Processed 5000 CDSs in 93.15s...\n",
      "Processed 5500 CDSs in 93.18s...\n",
      "Processed 6000 CDSs in 93.18s...\n",
      "Processed 6500 CDSs in 93.17s...\n",
      "Processed 7000 CDSs in 93.12s...\n",
      "Processed 7500 CDSs in 93.10s...\n",
      "Processed 8000 CDSs in 93.15s...\n",
      "Processed 8500 CDSs in 93.16s...\n",
      "Processed 9000 CDSs in 93.15s...\n",
      "Processed 9500 CDSs in 93.16s...\n",
      "Processed 10000 CDSs in 93.15s...\n",
      "Processed 10500 CDSs in 93.13s...\n",
      "Processed 11000 CDSs in 93.23s...\n",
      "Processed 11500 CDSs in 93.19s...\n",
      "Processed 12000 CDSs in 92.95s...\n",
      "Processed 12500 CDSs in 91.65s...\n",
      "Processed 13000 CDSs in 90.54s...\n",
      "Processed 13500 CDSs in 89.60s...\n"
     ]
    }
   ],
   "source": [
    "# add the genomic coordinates for all the sites\n",
    "import time\n",
    "report_every = 500\n",
    "Nrep=0\n",
    "i=0\n",
    "tstart=time.time()\n",
    "for thisid in polyAstarts.keys():\n",
    "    polyAstarts = annotateGenomicPositions(thisid, CDSs, lens, polyAstarts, seq_records)\n",
    "    i+=1\n",
    "    if i==report_every:\n",
    "        Nrep+=1\n",
    "        print(\"Processed {} CDSs in {:.2f}s...\".format(Nrep*report_every, time.time()-tstart))\n",
    "        i=0\n",
    "        tstart=time.time()\n",
    "    "
   ]
  },
  {
   "cell_type": "markdown",
   "metadata": {},
   "source": [
    "## Refactoring the data to better represent what we want\n",
    "\n",
    "This dictionary is kind-of complicated now and would benefit from being refactored to be keyed on genomic position of each poly-A internal run, I think. So lets do that."
   ]
  },
  {
   "cell_type": "code",
   "execution_count": 7,
   "metadata": {},
   "outputs": [],
   "source": [
    "new_polyAstarts={}\n",
    "for thisid in polyAstarts.keys():\n",
    "    posind=0\n",
    "    for polyarun in polyAstarts[thisid]['polyAgenpos']:\n",
    "        chrom = polyAstarts[thisid]['chrid']\n",
    "        start = polyarun[0]\n",
    "        end = polyarun[1]\n",
    "        strand = \"+\"\n",
    "        if start>end:\n",
    "            start = polyarun[1]\n",
    "            end = polyarun[0]\n",
    "            strand = \"-\"\n",
    "        region = (chrom, int(start), int(end), strand)\n",
    "        if region not in new_polyAstarts.keys():\n",
    "            new_polyAstarts[region] = {'is_inTerminalExon':[polyAstarts[thisid]['is_inTerminalExon'][posind]],\n",
    "                                       'tx_id':[thisid],\n",
    "                                       'polyApos':[polyAstarts[thisid][\"polyApos\"][posind]],\n",
    "                                       'genomic_length':end-start,\n",
    "                                       'length':[polyAstarts[thisid][\"polyApos\"][posind][1]-polyAstarts[thisid][\"polyApos\"][posind][0]]}\n",
    "        else:\n",
    "            new_polyAstarts[region]['is_inTerminalExon'].append(polyAstarts[thisid]['is_inTerminalExon'][posind])\n",
    "            new_polyAstarts[region]['polyApos'].append(polyAstarts[thisid]['polyApos'][posind])\n",
    "            new_polyAstarts[region]['tx_id'].append(thisid)\n",
    "        posind+=1"
   ]
  },
  {
   "cell_type": "code",
   "execution_count": 8,
   "metadata": {},
   "outputs": [
    {
     "name": "stdout",
     "output_type": "stream",
     "text": [
      "Located 10844 pA6 runs.\n"
     ]
    }
   ],
   "source": [
    "# print a quick count of the number ol detected poly-A runs\n",
    "print(\"Located {:d} pA6 runs.\".format(len(new_polyAstarts.keys())))"
   ]
  },
  {
   "cell_type": "markdown",
   "metadata": {},
   "source": [
    "## Cross-referencing with the ONT DRS reads\n",
    "\n",
    "OK, with the poly-A run infor dissected its time to load the reads and cross reference. Although this is somewhat parallelized in the code below it still takes ~4ks (~1hrs) to run."
   ]
  },
  {
   "cell_type": "code",
   "execution_count": 9,
   "metadata": {},
   "outputs": [],
   "source": [
    "# Datasets\n",
    "bam_files = {\"col0_rep1\":{\"bamfile\":\"201901_col0_2916.bam\",\n",
    "                          \"path\":\"../../datasets/20180201_1617_20180201_FAH45730_WT_Col0_2916_regular_seq\"},\n",
    "             \"col0_rep2a\":{\"bamfile\":\"201903_col0_2917_exp2.bam\",\n",
    "                          \"path\":\"../../datasets/20180405_FAH59362_WT_Col0_2917\"},\n",
    "             \"col0_rep2b\":{\"bamfile\":\"201901_col0_2917.bam\",\n",
    "                          \"path\":\"../../datasets/20180413_1558_20180413_FAH77434_mRNA_WT_Col0_2917\"},\n",
    "             \"col0_rep3\":{\"bamfile\":\"201901_col0_2918.bam\",\n",
    "                          \"path\":\"../../datasets/20180416_1534_20180415_FAH83697_mRNA_WT_Col0_2918\"},\n",
    "             \"col0_rep4\":{\"bamfile\":\"201901_col0_2919.bam\",\n",
    "                          \"path\":\"../../datasets/20180418_1428_20180418_FAH83552_mRNA_WT_Col0_2919\"},\n",
    "             \"col0_5padapter_rep1\":{\"bamfile\":\"201902_col0_2916_5adapter_exp2.bam\",\n",
    "                                    \"path\":\"../../datasets/20180411_1432_20180911_FAH84603_5adapterLIG_Col0_2916\"},\n",
    "             \"col0_5padapter_rep2\":{\"bamfile\":\"201902_col0_2918_5adapter.bam\",\n",
    "                                    \"path\":\"../../datasets/20180508_1522_20180508_FAH82422_5adapt_lig_mRNA_2918\"}}\n",
    "\n",
    "bamfiles=[]\n",
    "for keystr in bam_files.keys():\n",
    "    fullpath = os.path.join(bam_files[keystr][\"path\"], \"aligned_data/TAIR10/\",\n",
    "                            bam_files[keystr][\"bamfile\"])\n",
    "    bamfiles.append(fullpath)"
   ]
  },
  {
   "cell_type": "code",
   "execution_count": 10,
   "metadata": {},
   "outputs": [],
   "source": [
    "def findInternalPrimingReads(jobid, bamfile, PAS, padding=int(20)):\n",
    "    \n",
    "    \"\"\" find reads in a set of bamfiles that have end positions matching the polyA runs in CDSs\"\"\"\n",
    "    \n",
    "    # setup temp data store\n",
    "    import pickle, time, re\n",
    "    tfilename = 'polyAstarts_{}.pkl'.format(jobid)\n",
    "    output = open(tfilename, 'wb')\n",
    "    \n",
    "    t0=time.time()\n",
    "    print(\"Processing {}...\".format(bamfile))\n",
    "    thisbam = pysam.AlignmentFile(bamfile,\"rb\")\n",
    "    matchedreads=0\n",
    "    filereads=0\n",
    "    posmatches=0\n",
    "    this_results={}\n",
    "    for read in thisbam.fetch():\n",
    "        filereads+=1\n",
    "        if read.is_reverse:\n",
    "            read_end = read.reference_start\n",
    "            read_strand = \"-\"\n",
    "        else:\n",
    "            read_end = read.reference_end\n",
    "            read_strand = \"+\"\n",
    "        for chrom, start, end, strand in PAS.keys():\n",
    "            if chrom == read.reference_name and read_end > start-padding and read_end < end+padding and read_strand == strand:\n",
    "                matchedreads+=1\n",
    "                if (chrom, start, end, strand) not in this_results.keys():\n",
    "                    this_results[(chrom, start, end, strand)]={}\n",
    "                try:\n",
    "                    this_results[(chrom, start, end, strand)][\"read_matches\"].append((bamfile, read.query_name))\n",
    "                except KeyError:\n",
    "                    this_results[(chrom, start, end, strand)][\"read_matches\"] = [(bamfile, read.query_name)]\n",
    "                    posmatches+=1\n",
    "    \n",
    "    print(\"\\twriting {} temp pickle...\".format(tfilename))\n",
    "    pickle.dump(this_results, output, -1)\n",
    "    print(\"\\tprocessing took {:.2f}s and found...\".format(time.time()-t0))\n",
    "    print(\"\\t\\t{} matches from {} reads ({:.4f}%)\".format(matchedreads,\n",
    "                                                          filereads,\n",
    "                                                          100*matchedreads/filereads))\n",
    "    print(\"\\t\\t{} positions with reads of {} total positions ({:.4f}%)\".format(posmatches, \n",
    "                                                                               len(PAS.keys()),\n",
    "                                                                               100*posmatches/len(PAS.keys())))\n",
    "    output.close()\n",
    "    return(this_results, filereads)"
   ]
  },
  {
   "cell_type": "code",
   "execution_count": 13,
   "metadata": {},
   "outputs": [
    {
     "name": "stdout",
     "output_type": "stream",
     "text": [
      "Processing ../../datasets/20180201_1617_20180201_FAH45730_WT_Col0_2916_regular_seq/aligned_data/TAIR10/201901_col0_2916.bam...\n",
      "Processing ../../datasets/20180405_FAH59362_WT_Col0_2917/aligned_data/TAIR10/201903_col0_2917_exp2.bam...\n",
      "Processing ../../datasets/20180413_1558_20180413_FAH77434_mRNA_WT_Col0_2917/aligned_data/TAIR10/201901_col0_2917.bam...\n",
      "Processing ../../datasets/20180416_1534_20180415_FAH83697_mRNA_WT_Col0_2918/aligned_data/TAIR10/201901_col0_2918.bam...\n",
      "Processing ../../datasets/20180418_1428_20180418_FAH83552_mRNA_WT_Col0_2919/aligned_data/TAIR10/201901_col0_2919.bam...\n",
      "Processing ../../datasets/20180411_1432_20180911_FAH84603_5adapterLIG_Col0_2916/aligned_data/TAIR10/201902_col0_2916_5adapter_exp2.bam...\n",
      "Processing ../../datasets/20180508_1522_20180508_FAH82422_5adapt_lig_mRNA_2918/aligned_data/TAIR10/201902_col0_2918_5adapter.bam...\n",
      "\twriting polyAstarts_6.pkl temp pickle...\n",
      "\tprocessing took 1201.14s and found...\n",
      "\t\t77 matches from 345799 reads (0.0223%)\n",
      "\t\t43 positions with reads of 10844 total positions (0.3965%)\n",
      "\twriting polyAstarts_7.pkl temp pickle...\n",
      "\tprocessing took 1911.98s and found...\n",
      "\t\t124 matches from 557949 reads (0.0222%)\n",
      "\t\t67 positions with reads of 10844 total positions (0.6179%)\n",
      "\twriting polyAstarts_4.pkl temp pickle...\n",
      "\tprocessing took 2526.55s and found...\n",
      "\t\t154 matches from 757028 reads (0.0203%)\n",
      "\t\t63 positions with reads of 10844 total positions (0.5810%)\n",
      "\twriting polyAstarts_2.pkl temp pickle...\n",
      "\tprocessing took 2625.92s and found...\n",
      "\t\t145 matches from 743684 reads (0.0195%)\n",
      "\t\t61 positions with reads of 10844 total positions (0.5625%)\n",
      "\twriting polyAstarts_5.pkl temp pickle...\n",
      "\tprocessing took 2671.91s and found...\n",
      "\t\t144 matches from 765322 reads (0.0188%)\n",
      "\t\t65 positions with reads of 10844 total positions (0.5994%)\n",
      "\twriting polyAstarts_3.pkl temp pickle...\n",
      "\tprocessing took 3251.63s and found...\n",
      "\t\t153 matches from 930629 reads (0.0164%)\n",
      "\t\t68 positions with reads of 10844 total positions (0.6271%)\n",
      "\twriting polyAstarts_1.pkl temp pickle...\n",
      "\tprocessing took 3315.90s and found...\n",
      "\t\t239 matches from 1003137 reads (0.0238%)\n",
      "\t\t85 positions with reads of 10844 total positions (0.7838%)\n"
     ]
    }
   ],
   "source": [
    "# parallel processing of the bam files.\n",
    "from multiprocessing import Pool\n",
    "pool = Pool()\n",
    "jcounter=1\n",
    "jobs=[]\n",
    "for bamfile in bamfiles:\n",
    "    jobs.append(pool.apply_async(findInternalPrimingReads, [jcounter, bamfile, new_polyAstarts]))\n",
    "    jcounter+=1"
   ]
  },
  {
   "cell_type": "code",
   "execution_count": 14,
   "metadata": {},
   "outputs": [],
   "source": [
    "results=[]\n",
    "i=0\n",
    "for job in jobs[1:len(jobs)]:\n",
    "    results.append(job.get(timeout=12000))"
   ]
  },
  {
   "cell_type": "code",
   "execution_count": 15,
   "metadata": {},
   "outputs": [],
   "source": [
    "totalreads=0\n",
    "for result in results:\n",
    "    totalreads+=result[1]\n",
    "    for thisregion in result[0]:\n",
    "        if \"read_matches\" in new_polyAstarts[thisregion].keys():\n",
    "            for match in result[0][thisregion][\"read_matches\"]:\n",
    "                new_polyAstarts[thisregion][\"read_matches\"].append(match)\n",
    "        else:\n",
    "            new_polyAstarts[thisregion][\"read_matches\"] = result[0][thisregion][\"read_matches\"]"
   ]
  },
  {
   "cell_type": "markdown",
   "metadata": {},
   "source": [
    "We can save the 4ks that the above section of code takes to run by loading from our saved files from a previous run..."
   ]
  },
  {
   "cell_type": "code",
   "execution_count": 13,
   "metadata": {},
   "outputs": [],
   "source": [
    "#import pickle\n",
    "#totalreads=8043956\n",
    "#pklfiles = glob.glob(\"*.pkl\")\n",
    "#results=[]\n",
    "#for filename in pklfiles:\n",
    "#    fh = open(filename, \"rb\")\n",
    "#    results.append(pickle.load(fh))"
   ]
  },
  {
   "cell_type": "code",
   "execution_count": 14,
   "metadata": {},
   "outputs": [],
   "source": [
    "#dup=1\n",
    "#for result in results:\n",
    "#    #totalreads+=result[1]\n",
    "#    for key in result:\n",
    "#        try:\n",
    "#            for genpos in result[key][\"read_matches\"].keys():\n",
    "#                if genpos not in polyAstarts[key][\"read_matches\"].keys():\n",
    "#                    polyAstarts[key][\"read_matches\"][genpos] = result[key][\"read_matches\"][genpos]\n",
    "#                else:\n",
    "#                    #print(\"duplicate endpoint detected!\")\n",
    "#                    polyAstarts[key][\"read_matches\"][\"{}_{}\".format(genpos, dup)] = result[key][\"read_matches\"][genpos]\n",
    "#                    dup+=1\n",
    "#        except KeyError:\n",
    "#            polyAstarts[key][\"read_matches\"] = result[key][\"read_matches\"]"
   ]
  },
  {
   "cell_type": "markdown",
   "metadata": {},
   "source": [
    "OK lets collate and print out a few numbers..."
   ]
  },
  {
   "cell_type": "code",
   "execution_count": 20,
   "metadata": {},
   "outputs": [
    {
     "name": "stdout",
     "output_type": "stream",
     "text": [
      "Detected 248 matches for 10844 CDS poly-A runs (2.29%)\n",
      "152 of the 248 CDS poly-A runs in terminal exons are found in terminal exons (61.29%)\n",
      "197 of the 248 CDS poly-A runs are supported by only 1 of the 6 datasets (79.44%)\n",
      "20 of the 248 CDS poly-A runs are supported by 4 of the 6 datasets (8.06%)\n",
      "matches are supported by 772 unique reads out of 4100411 (0.0194%)\n"
     ]
    }
   ],
   "source": [
    "import numpy\n",
    "\n",
    "withmatches = []\n",
    "withoutmatches = 0\n",
    "nterminalexons=0\n",
    "nmatchreads=[]\n",
    "ndatasets=[]\n",
    "matchreads=[]\n",
    "for key in new_polyAstarts.keys():\n",
    "    if \"read_matches\" in new_polyAstarts[key].keys():\n",
    "        withmatches.append(key)\n",
    "        if numpy.any(numpy.array(new_polyAstarts[key]['is_inTerminalExon'])):\n",
    "            nterminalexons+=1\n",
    "        datasets=[]\n",
    "        thesematchreads=[]\n",
    "        for match in new_polyAstarts[key][\"read_matches\"]:\n",
    "            datasets.append(match[0])\n",
    "            matchreads.append(match[1])\n",
    "            thesematchreads.append(match[1])\n",
    "        ndatasets.append(len(set(datasets)))\n",
    "        nmatchreads.append(len(set(thesematchreads)))\n",
    "    else:\n",
    "        withoutmatches+=1\n",
    "\n",
    "ndatasets = numpy.array(ndatasets)\n",
    "nmatchreads = numpy.array(nmatchreads)\n",
    "matchreads = set(matchreads)\n",
    "\n",
    "print(\"Detected {} matches for {} CDS poly-A runs ({:.2f}%)\".format(len(withmatches),\n",
    "                                                              len(withmatches)+withoutmatches,\n",
    "                                                              100*len(withmatches)/(len(withmatches)+withoutmatches)))\n",
    "print(\"{} of the {} CDS poly-A runs in terminal exons are found in terminal exons ({:.2f}%)\".format(nterminalexons, len(withmatches), 100*nterminalexons/len(withmatches)))\n",
    "print(\"{} of the {} CDS poly-A runs are supported by only 1 of the 6 datasets ({:.2f}%)\".format(len(ndatasets[ndatasets==1]), len(withmatches), 100*len(ndatasets[ndatasets==1])/len(withmatches)))\n",
    "print(\"{} of the {} CDS poly-A runs are supported by 4 of the 6 datasets ({:.2f}%)\".format(len(ndatasets[ndatasets>3]), len(withmatches), 100*len(ndatasets[ndatasets>3])/len(withmatches)))\n",
    "print(\"matches are supported by {} unique reads out of {} ({:.4f}%)\".format(len(matchreads), totalreads, 100*sum(nmatchreads)/totalreads))"
   ]
  },
  {
   "cell_type": "code",
   "execution_count": 19,
   "metadata": {},
   "outputs": [
    {
     "data": {
      "text/plain": [
       "Text(0.5, 0, 'Number of datasets the endpoint is supported by')"
      ]
     },
     "execution_count": 19,
     "metadata": {},
     "output_type": "execute_result"
    },
    {
     "data": {
      "image/png": "[encoded data removed]",
      "text/plain": [
       "<Figure size 720x432 with 1 Axes>"
      ]
     },
     "metadata": {},
     "output_type": "display_data"
    }
   ],
   "source": [
    "fig = plt.figure(figsize=(10,6))\n",
    "hist = plt.hist(ndatasets, bins=16)\n",
    "plt.ylabel(\"CDS counts\")\n",
    "plt.xlabel(\"Number of datasets the endpoint is supported by\")"
   ]
  },
  {
   "cell_type": "code",
   "execution_count": 21,
   "metadata": {},
   "outputs": [
    {
     "data": {
      "text/plain": [
       "Text(0.5, 0, 'Number of reads the endpoint is supported by')"
      ]
     },
     "execution_count": 21,
     "metadata": {},
     "output_type": "execute_result"
    },
    {
     "data": {
      "image/png": "[encoded data removed]",
      "text/plain": [
       "<Figure size 720x432 with 1 Axes>"
      ]
     },
     "metadata": {},
     "output_type": "display_data"
    }
   ],
   "source": [
    "fig = plt.figure(figsize=(10,6))\n",
    "hist = plt.hist(nmatchreads, bins=max(nmatchreads))\n",
    "plt.ylabel(\"counts\")\n",
    "plt.xlabel(\"Number of reads the endpoint is supported by\")"
   ]
  },
  {
   "cell_type": "markdown",
   "metadata": {},
   "source": [
    "OK lets take a quick look to see which of these ends have helicos DRS support"
   ]
  },
  {
   "cell_type": "code",
   "execution_count": 22,
   "metadata": {},
   "outputs": [],
   "source": [
    "from parsing_routines.wig_tools import wigData\n",
    "DRS_fwd = wigData(\"../../supporting_datasets/Sherstnev2012_Helicos_Bio/fwd_wt1_HQ2.wig.gz\")\n",
    "DRS_rev = wigData(\"../../supporting_datasets/Sherstnev2012_Helicos_Bio/rev_wt1_HQ2.wig.gz\")"
   ]
  },
  {
   "cell_type": "code",
   "execution_count": 23,
   "metadata": {},
   "outputs": [
    {
     "name": "stdout",
     "output_type": "stream",
     "text": [
      "Done 2000 ids in 5.75s\n",
      "Done 4000 ids in 4.16s\n",
      "Done 6000 ids in 3.77s\n",
      "Done 8000 ids in 3.37s\n",
      "Done 10000 ids in 4.58s\n"
     ]
    }
   ],
   "source": [
    "nmatchpos=0\n",
    "nrep=2000\n",
    "ncount=0\n",
    "counter=0\n",
    "t0=time.time()\n",
    "DRSpad=5\n",
    "for thisregion in new_polyAstarts.keys():\n",
    "    if \"helicos_support\" not in new_polyAstarts[thisregion].keys():\n",
    "        new_polyAstarts[thisregion][\"helicos_support\"]=False\n",
    "    \n",
    "    if thisregion[3]==\"-\":\n",
    "        DRS_data = DRS_rev\n",
    "    else:\n",
    "        DRS_data = DRS_fwd\n",
    "    \n",
    "    try:\n",
    "        DRS_data.set_region(\"Chr{}\".format(thisregion[0]), start=thisregion[1]-DRSpad,\n",
    "                            stop=thisregion[2]+DRSpad)\n",
    "        thisdata = DRS_data.get_region_data()\n",
    "        if len(thisdata[1])>0:\n",
    "            if numpy.any(thisdata[1]>3):\n",
    "                new_polyAstarts[thisregion][\"helicos_support\"]=True\n",
    "                nmatchpos+=1\n",
    "    except ValueError:\n",
    "        pass\n",
    "    \n",
    "    counter+=1\n",
    "    if counter==nrep:\n",
    "        ncount+=1\n",
    "        print(\"Done {} ids in {:.2f}s\".format(ncount*nrep, time.time()-t0))\n",
    "        counter=0\n",
    "        t0=time.time()"
   ]
  },
  {
   "cell_type": "markdown",
   "metadata": {},
   "source": [
    "Print out a few details..."
   ]
  },
  {
   "cell_type": "code",
   "execution_count": 24,
   "metadata": {},
   "outputs": [
    {
     "name": "stdout",
     "output_type": "stream",
     "text": [
      "15 of the 10623 regions in the core genome have Helicos DRS support\n"
     ]
    }
   ],
   "source": [
    "ncorereg = 0\n",
    "DRSsupport = []\n",
    "for thisregion in new_polyAstarts.keys():\n",
    "    if thisregion[0] in ['1','2','3','4','5']:\n",
    "        ncorereg+=1\n",
    "    if new_polyAstarts[thisregion][\"helicos_support\"]:\n",
    "        DRSsupport.append(thisregion)\n",
    "\n",
    "print(\"{} of the {} regions in the core genome have Helicos DRS support\".format(len(DRSsupport), ncorereg))"
   ]
  },
  {
   "cell_type": "code",
   "execution_count": 25,
   "metadata": {},
   "outputs": [
    {
     "name": "stdout",
     "output_type": "stream",
     "text": [
      "('1', 7920500, 7920835, '+') ['AT1G22430.2'] [(False, False)] 6 335 22 4\n",
      "('1', 24058472, 24058600, '+') ['AT1G64770.3'] [(False, False)] 12 128 7 4\n",
      "('2', 1823271, 1823277, '-') ['AT2G05100.2'] [(True, True)] 6 6 183 6\n",
      "('2', 5907887, 5908228, '+') ['AT2G14045.3'] [(False, True)] 12 341 31 5\n",
      "('2', 16464489, 16464855, '-') ['AT2G39435.2'] [(False, True)] 6 366 6 4\n",
      "('3', 3051386, 3051393, '+') ['AT3G09922.1'] [(True, True)] 7 7 0 0\n",
      "('4', 8694288, 8694517, '+') ['AT4G15233.2'] [(False, True)] 20 229 2 1\n",
      "('4', 12820673, 12820691, '-') ['AT4G24920.2'] [(False, False)] 18 18 0 0\n",
      "('5', 6355264, 6356354, '-') ['AT5G19025.1'] [(False, True)] 6 1090 1 1\n",
      "('5', 6740609, 6740714, '+') ['AT5G19940.2'] [(False, True)] 7 105 39 6\n",
      "('5', 7177256, 7177645, '+') ['AT5G21105.3'] [(False, True)] 6 389 54 6\n",
      "('5', 7198835, 7199202, '-') ['AT5G21160.2'] [(False, True)] 11 367 17 5\n",
      "('5', 7198835, 7198844, '-') ['AT5G21160.3'] [(True, True)] 9 9 5 3\n",
      "('5', 21244907, 21245134, '-') ['AT5G52320.2'] [(False, True)] 6 227 11 5\n",
      "('5', 22126284, 22126291, '+') ['AT5G54500.2'] [(True, True)] 7 7 6 3\n"
     ]
    }
   ],
   "source": [
    "for thisregion in DRSsupport:\n",
    "    thisdata = new_polyAstarts[thisregion]\n",
    "    nreads = 0\n",
    "    ndatasets = 0\n",
    "    if \"read_matches\" in thisdata.keys():\n",
    "        nreads = len(thisdata[\"read_matches\"])\n",
    "        ndatasets = len(numpy.unique(numpy.array(new_polyAstarts[thisregion]['read_matches'])[:,0]))\n",
    "    print(thisregion, thisdata[\"tx_id\"], thisdata[\"is_inTerminalExon\"], thisdata[\"length\"][0],\n",
    "          thisdata['genomic_length'], nreads, ndatasets)"
   ]
  }
 ],
 "metadata": {
  "kernelspec": {
   "display_name": "Python 3",
   "language": "python",
   "name": "python3"
  },
  "language_info": {
   "codemirror_mode": {
    "name": "ipython",
    "version": 3
   },
   "file_extension": ".py",
   "mimetype": "text/x-python",
   "name": "python",
   "nbconvert_exporter": "python",
   "pygments_lexer": "ipython3",
   "version": "3.6.7"
  }
 },
 "nbformat": 4,
 "nbformat_minor": 2
}
